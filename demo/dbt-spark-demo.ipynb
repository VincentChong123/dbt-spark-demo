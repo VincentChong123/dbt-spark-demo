{
 "cells": [
  {
   "cell_type": "raw",
   "id": "b257ecab",
   "metadata": {
    "papermill": {
     "duration": 0.016095,
     "end_time": "2025-06-30T22:43:41.108020",
     "exception": false,
     "start_time": "2025-06-30T22:43:41.091925",
     "status": "completed"
    },
    "tags": [],
    "vscode": {
     "languageId": "raw"
    }
   },
   "source": [
    "---\n",
    "title: \"Demo of testing ETL pipeline using DBT and spark\"\n",
    "date: last-modified\n",
    "format:\n",
    "  html:\n",
    "    toc: true\n",
    "    toc-depth: 4\n",
    "    toc-location: left    \n",
    "    code-fold: true\n",
    "    css: styles.css  \n",
    "    number-sections: true       \n",
    "    other-links:\n",
    "      - text: github.com project repo\n",
    "        href: https://github.com/VincentChong123/dbt-spark-demo.git\n",
    "---"
   ]
  },
  {
   "cell_type": "markdown",
   "id": "5888a439",
   "metadata": {
    "papermill": {
     "duration": 0.014077,
     "end_time": "2025-06-30T22:43:41.137542",
     "exception": false,
     "start_time": "2025-06-30T22:43:41.123465",
     "status": "completed"
    },
    "tags": [],
    "vscode": {
     "languageId": "raw"
    }
   },
   "source": [
    "# Introduction\n",
    "This is a demo of dbt work flow using an data ingestion as an example. In finance data ETL (Extract, Transform, Load)\n",
    "important to have sanitity check of input data, to avoid the ingesting invalid data...."
   ]
  },
  {
   "cell_type": "code",
   "execution_count": 1,
   "id": "e897f7e7",
   "metadata": {
    "execution": {
     "iopub.execute_input": "2025-06-30T22:43:41.168907Z",
     "iopub.status.busy": "2025-06-30T22:43:41.168112Z",
     "iopub.status.idle": "2025-06-30T22:43:41.175217Z",
     "shell.execute_reply": "2025-06-30T22:43:41.173650Z"
    },
    "papermill": {
     "duration": 0.026904,
     "end_time": "2025-06-30T22:43:41.177444",
     "exception": false,
     "start_time": "2025-06-30T22:43:41.150540",
     "status": "completed"
    },
    "tags": [
     "skip"
    ]
   },
   "outputs": [],
   "source": [
    "# ```{mermaid}\n",
    "# flowchart LR\n",
    "#    empty[\".\"] --> DBT[\"Container: dbt-core \n",
    "#        plugin: dbt-\n",
    "#   DBT-pyspark[Hive]\"] --> |Generate SQL with 'dbt seed', 'dbt compile'| T(Container: Spark-Thrift)\n",
    "#   T -->|Query using the generated SQL| Storage[(Container: Postgre Hive metadata store)]\n",
    "\n",
    "# ```"
   ]
  },
  {
   "cell_type": "code",
   "execution_count": 2,
   "id": "ae9c7095",
   "metadata": {
    "execution": {
     "iopub.execute_input": "2025-06-30T22:43:41.209299Z",
     "iopub.status.busy": "2025-06-30T22:43:41.208276Z",
     "iopub.status.idle": "2025-06-30T22:43:44.140592Z",
     "shell.execute_reply": "2025-06-30T22:43:44.138109Z"
    },
    "papermill": {
     "duration": 2.951222,
     "end_time": "2025-06-30T22:43:44.144039",
     "exception": false,
     "start_time": "2025-06-30T22:43:41.192817",
     "status": "completed"
    },
    "tags": []
   },
   "outputs": [
    {
     "data": {
      "text/html": [
       "<div>\n",
       "<style scoped>\n",
       "    .dataframe tbody tr th:only-of-type {\n",
       "        vertical-align: middle;\n",
       "    }\n",
       "\n",
       "    .dataframe tbody tr th {\n",
       "        vertical-align: top;\n",
       "    }\n",
       "\n",
       "    .dataframe thead th {\n",
       "        text-align: right;\n",
       "    }\n",
       "</style>\n",
       "<table border=\"1\" class=\"dataframe\">\n",
       "  <thead>\n",
       "    <tr style=\"text-align: right;\">\n",
       "      <th></th>\n",
       "      <th>id</th>\n",
       "      <th>amount</th>\n",
       "      <th>currency</th>\n",
       "      <th>status</th>\n",
       "    </tr>\n",
       "  </thead>\n",
       "  <tbody>\n",
       "    <tr>\n",
       "      <th>0</th>\n",
       "      <td>1</td>\n",
       "      <td>100</td>\n",
       "      <td>USD</td>\n",
       "      <td>ACTIVE</td>\n",
       "    </tr>\n",
       "    <tr>\n",
       "      <th>1</th>\n",
       "      <td>2</td>\n",
       "      <td>200</td>\n",
       "      <td>SGD</td>\n",
       "      <td>ACTIVE</td>\n",
       "    </tr>\n",
       "    <tr>\n",
       "      <th>2</th>\n",
       "      <td>3</td>\n",
       "      <td>150</td>\n",
       "      <td>EUR</td>\n",
       "      <td>ACTIVE</td>\n",
       "    </tr>\n",
       "    <tr>\n",
       "      <th>3</th>\n",
       "      <td>4</td>\n",
       "      <td>120</td>\n",
       "      <td>USD</td>\n",
       "      <td>INACTIVE</td>\n",
       "    </tr>\n",
       "    <tr>\n",
       "      <th>4</th>\n",
       "      <td>5</td>\n",
       "      <td>180</td>\n",
       "      <td>SGD</td>\n",
       "      <td>INACTIVE</td>\n",
       "    </tr>\n",
       "    <tr>\n",
       "      <th>5</th>\n",
       "      <td>6</td>\n",
       "      <td>300</td>\n",
       "      <td>JPY</td>\n",
       "      <td>ACTIVE</td>\n",
       "    </tr>\n",
       "  </tbody>\n",
       "</table>\n",
       "</div>"
      ],
      "text/plain": [
       "   id  amount currency    status\n",
       "0   1     100      USD    ACTIVE\n",
       "1   2     200      SGD    ACTIVE\n",
       "2   3     150      EUR    ACTIVE\n",
       "3   4     120      USD  INACTIVE\n",
       "4   5     180      SGD  INACTIVE\n",
       "5   6     300      JPY    ACTIVE"
      ]
     },
     "execution_count": 2,
     "metadata": {},
     "output_type": "execute_result"
    }
   ],
   "source": [
    "import pandas as pd\n",
    "pd.read_csv(\"/usr/app/demo/dbt_spark_demo_prj/seeds/transactions/raw__transactions.csv\")\n"
   ]
  },
  {
   "cell_type": "markdown",
   "id": "d8640c45",
   "metadata": {
    "papermill": {
     "duration": 0.021497,
     "end_time": "2025-06-30T22:43:44.187106",
     "exception": false,
     "start_time": "2025-06-30T22:43:44.165609",
     "status": "completed"
    },
    "tags": [],
    "vscode": {
     "languageId": "raw"
    }
   },
   "source": [
    "## Project file structure"
   ]
  },
  {
   "cell_type": "code",
   "execution_count": 3,
   "id": "b28d4077",
   "metadata": {
    "execution": {
     "iopub.execute_input": "2025-06-30T22:43:44.231572Z",
     "iopub.status.busy": "2025-06-30T22:43:44.230815Z",
     "iopub.status.idle": "2025-06-30T22:43:45.129202Z",
     "shell.execute_reply": "2025-06-30T22:43:45.125959Z"
    },
    "papermill": {
     "duration": 0.926543,
     "end_time": "2025-06-30T22:43:45.134271",
     "exception": false,
     "start_time": "2025-06-30T22:43:44.207728",
     "status": "completed"
    },
    "tags": []
   },
   "outputs": [
    {
     "name": "stdout",
     "output_type": "stream",
     "text": [
      "\u001b[01;34m/usr/app\u001b[00m\r\n",
      "├── \u001b[01;34mdbt\u001b[00m\r\n",
      "│   ├── dbt.Dockerfile\r\n",
      "│   ├── \u001b[01;34mdbt_spark_demo_prj\u001b[00m\r\n",
      "│   ├── docker-compose.yml\r\n",
      "│   └── requirements.txt\r\n",
      "├── \u001b[01;34mdbt-spark\u001b[00m\r\n",
      "│   ├── \u001b[01;34mdagger\u001b[00m\r\n",
      "│   ├── \u001b[01;34mdbt\u001b[00m\r\n",
      "│   ├── \u001b[01;34mdocker\u001b[00m\r\n",
      "│   ├── docker-compose.yml\r\n",
      "│   ├── \u001b[01;34mscripts\u001b[00m\r\n",
      "│   ├── test.env.example\r\n",
      "│   └── \u001b[01;34mtests\u001b[00m\r\n",
      "├── \u001b[01;34mdemo\u001b[00m\r\n",
      "│   ├── dbt-spark-demo.html\r\n",
      "│   ├── dbt-spark-demo.ipynb\r\n",
      "│   ├── \u001b[01;34mdbt-spark-demo_files\u001b[00m\r\n",
      "│   ├── \u001b[01;34mdbt_spark_demo_prj\u001b[00m\r\n",
      "│   ├── generate-documentation.sh\r\n",
      "│   ├── profiles.yml\r\n",
      "│   └── \u001b[01;34mresults\u001b[00m\r\n",
      "├── \u001b[01;34mdocs\u001b[00m\r\n",
      "│   └── index.html\r\n",
      "├── index.html\r\n",
      "└── run-demo.sh\r\n",
      "\r\n"
     ]
    }
   ],
   "source": [
    "!tree -L 2 --sort=\"name\" /usr/app | grep -v \".*\\.toml$\" | grep -v \".*\\.md$\" | grep -v \".*files$\""
   ]
  },
  {
   "cell_type": "markdown",
   "id": "be13bae7",
   "metadata": {
    "papermill": {
     "duration": 0.030335,
     "end_time": "2025-06-30T22:43:45.198795",
     "exception": false,
     "start_time": "2025-06-30T22:43:45.168460",
     "status": "completed"
    },
    "tags": []
   },
   "source": [
    "# Environment setup"
   ]
  },
  {
   "cell_type": "markdown",
   "id": "c0152385",
   "metadata": {
    "papermill": {
     "duration": 0.032501,
     "end_time": "2025-06-30T22:43:45.256009",
     "exception": false,
     "start_time": "2025-06-30T22:43:45.223508",
     "status": "completed"
    },
    "tags": [],
    "vscode": {
     "languageId": "raw"
    }
   },
   "source": [
    "## Docker\n",
    "### Shared network for docker containers\n",
    "```bash\n",
    "source ./docker-common.sh\n",
    "```"
   ]
  },
  {
   "cell_type": "markdown",
   "id": "0de346d1",
   "metadata": {
    "papermill": {
     "duration": 0.022741,
     "end_time": "2025-06-30T22:43:45.311538",
     "exception": false,
     "start_time": "2025-06-30T22:43:45.288797",
     "status": "completed"
    },
    "tags": [],
    "vscode": {
     "languageId": "raw"
    }
   },
   "source": [
    "## Install jupyter notebook for running this demo in notebook \n",
    "This notebook is executed using jupyer-notebook kernel (http://127.0.0.1:8888) of the loaded custom-dbt container. The container is loaded using command below\n",
    "```bash\n",
    "jupyter notebook --NotebookApp.token='' --NotebookApp.password='' --NotebookApp.disable_check_xsrf=True --allow-root --ip=0.0.0.0 --port=8888 --no-browser\n",
    "```\n",
    "use allow-root for demo purpose only, not for production due to cyber security\n"
   ]
  },
  {
   "cell_type": "code",
   "execution_count": 4,
   "id": "8a58c3eb",
   "metadata": {
    "execution": {
     "iopub.execute_input": "2025-06-30T22:43:45.365189Z",
     "iopub.status.busy": "2025-06-30T22:43:45.363815Z",
     "iopub.status.idle": "2025-06-30T22:43:45.403887Z",
     "shell.execute_reply": "2025-06-30T22:43:45.401414Z"
    },
    "papermill": {
     "duration": 0.069979,
     "end_time": "2025-06-30T22:43:45.407664",
     "exception": false,
     "start_time": "2025-06-30T22:43:45.337685",
     "status": "completed"
    },
    "tags": []
   },
   "outputs": [
    {
     "name": "stdout",
     "output_type": "stream",
     "text": [
      "Tue Jul  1 06:43:45 +08 2025\n"
     ]
    },
    {
     "name": "stdout",
     "output_type": "stream",
     "text": [
      "/usr/local/bin/python\n"
     ]
    },
    {
     "name": "stdout",
     "output_type": "stream",
     "text": [
      "/usr/app/dbt\n"
     ]
    }
   ],
   "source": [
    "%%bash\n",
    "export TZ='Asia/Singapore'\n",
    "date\n",
    "which python\n",
    "pwd"
   ]
  },
  {
   "cell_type": "markdown",
   "id": "b1e7c606",
   "metadata": {
    "papermill": {
     "duration": 0.026287,
     "end_time": "2025-06-30T22:43:45.460223",
     "exception": false,
     "start_time": "2025-06-30T22:43:45.433936",
     "status": "completed"
    },
    "tags": []
   },
   "source": [
    "### Connection to read table in Hive meta-data store"
   ]
  },
  {
   "cell_type": "markdown",
   "id": "d6b175ae",
   "metadata": {
    "papermill": {
     "duration": 0.021001,
     "end_time": "2025-06-30T22:43:45.501396",
     "exception": false,
     "start_time": "2025-06-30T22:43:45.480395",
     "status": "completed"
    },
    "tags": []
   },
   "source": [
    "## Variables"
   ]
  },
  {
   "cell_type": "code",
   "execution_count": 5,
   "id": "f86badf3",
   "metadata": {
    "execution": {
     "iopub.execute_input": "2025-06-30T22:43:45.566122Z",
     "iopub.status.busy": "2025-06-30T22:43:45.564850Z",
     "iopub.status.idle": "2025-06-30T22:43:47.539390Z",
     "shell.execute_reply": "2025-06-30T22:43:47.537455Z"
    },
    "papermill": {
     "duration": 2.005467,
     "end_time": "2025-06-30T22:43:47.541394",
     "exception": false,
     "start_time": "2025-06-30T22:43:45.535927",
     "status": "completed"
    },
    "tags": []
   },
   "outputs": [
    {
     "name": "stdout",
     "output_type": "stream",
     "text": [
      "/usr/app/dbt\r\n"
     ]
    },
    {
     "name": "stdout",
     "output_type": "stream",
     "text": [
      "/usr/app/dbt\r\n"
     ]
    },
    {
     "name": "stdout",
     "output_type": "stream",
     "text": [
      "dbt-spark3-thrift\n",
      "/usr/app/dbt/dbt_spark_demo_prj\n",
      "dbt_spark_demo_prj\n"
     ]
    }
   ],
   "source": [
    "from dotenv import load_dotenv\n",
    "import os\n",
    "!pwd\n",
    "\n",
    "!cd ../\n",
    "!pwd\n",
    "\n",
    "load_dotenv()\n",
    "spark_thrift_service_name=os.getenv('SPARK_CONTAINER_SERVICE_NAME')\n",
    "dbt_project_dir=os.getenv('DBT_PROJECT_DIR')\n",
    "dbt_project_name=os.getenv('DBT_PROJECT_NAME')\n",
    "print(spark_thrift_service_name)\n",
    "print(dbt_project_dir)\n",
    "print(dbt_project_name)"
   ]
  },
  {
   "cell_type": "markdown",
   "id": "aec4f6d3",
   "metadata": {
    "papermill": {
     "duration": 0.014061,
     "end_time": "2025-06-30T22:43:47.569492",
     "exception": false,
     "start_time": "2025-06-30T22:43:47.555431",
     "status": "completed"
    },
    "tags": []
   },
   "source": [
    "# Start demo"
   ]
  },
  {
   "cell_type": "code",
   "execution_count": 6,
   "id": "34c662e5",
   "metadata": {
    "execution": {
     "iopub.execute_input": "2025-06-30T22:43:47.600169Z",
     "iopub.status.busy": "2025-06-30T22:43:47.599248Z",
     "iopub.status.idle": "2025-06-30T22:43:48.881208Z",
     "shell.execute_reply": "2025-06-30T22:43:48.879512Z"
    },
    "papermill": {
     "duration": 1.300019,
     "end_time": "2025-06-30T22:43:48.883637",
     "exception": false,
     "start_time": "2025-06-30T22:43:47.583618",
     "status": "completed"
    },
    "tags": []
   },
   "outputs": [],
   "source": [
    "filepath=\"/usr/app/demo/results/test_start.txt\"\n",
    "!echo start test at > $filepath \n",
    "!export TZ='Asia/Singapore'; date >> $filepath"
   ]
  },
  {
   "cell_type": "markdown",
   "id": "e7f0f26b",
   "metadata": {
    "papermill": {
     "duration": 0.013723,
     "end_time": "2025-06-30T22:43:48.912654",
     "exception": false,
     "start_time": "2025-06-30T22:43:48.898931",
     "status": "completed"
    },
    "tags": []
   },
   "source": [
    "## Helper codes"
   ]
  },
  {
   "cell_type": "code",
   "execution_count": 7,
   "id": "b9f4df75",
   "metadata": {
    "execution": {
     "iopub.execute_input": "2025-06-30T22:43:48.942688Z",
     "iopub.status.busy": "2025-06-30T22:43:48.941820Z",
     "iopub.status.idle": "2025-06-30T22:43:59.569487Z",
     "shell.execute_reply": "2025-06-30T22:43:59.568032Z"
    },
    "papermill": {
     "duration": 10.645046,
     "end_time": "2025-06-30T22:43:59.571327",
     "exception": false,
     "start_time": "2025-06-30T22:43:48.926281",
     "status": "completed"
    },
    "tags": []
   },
   "outputs": [
    {
     "name": "stdout",
     "output_type": "stream",
     "text": [
      "\n"
     ]
    },
    {
     "data": {
      "text/html": [
       "<div>\n",
       "<style scoped>\n",
       "    .dataframe tbody tr th:only-of-type {\n",
       "        vertical-align: middle;\n",
       "    }\n",
       "\n",
       "    .dataframe tbody tr th {\n",
       "        vertical-align: top;\n",
       "    }\n",
       "\n",
       "    .dataframe thead th {\n",
       "        text-align: right;\n",
       "    }\n",
       "</style>\n",
       "<table border=\"1\" class=\"dataframe\">\n",
       "  <thead>\n",
       "    <tr style=\"text-align: right;\">\n",
       "      <th></th>\n",
       "      <th>namespace</th>\n",
       "      <th>tableName</th>\n",
       "      <th>isTemporary</th>\n",
       "    </tr>\n",
       "  </thead>\n",
       "  <tbody>\n",
       "    <tr>\n",
       "      <th>0</th>\n",
       "      <td>default</td>\n",
       "      <td>raw__transactions</td>\n",
       "      <td>False</td>\n",
       "    </tr>\n",
       "    <tr>\n",
       "      <th>1</th>\n",
       "      <td>default</td>\n",
       "      <td>transactions</td>\n",
       "      <td>False</td>\n",
       "    </tr>\n",
       "  </tbody>\n",
       "</table>\n",
       "</div>"
      ],
      "text/plain": [
       "  namespace          tableName  isTemporary\n",
       "0   default  raw__transactions        False\n",
       "1   default       transactions        False"
      ]
     },
     "metadata": {},
     "output_type": "display_data"
    },
    {
     "name": "stdout",
     "output_type": "stream",
     "text": [
      "------------\n"
     ]
    }
   ],
   "source": [
    "from pyhive import hive\n",
    "import pandas as pd\n",
    "from sqlalchemy.engine import create_engine\n",
    "\n",
    "def check_table(host=spark_thrift_service_name, message_to_be_printed=\"\"):\n",
    "    # with hive.Connection(host=spark_thrift_service_name, port=10000, \n",
    "    #                     #    username='', \n",
    "    #                     database='default') as conn:\n",
    "\n",
    "    #     # Query all tables in the default database\n",
    "    #     df = pd.read_sql(\"SHOW TABLES\", conn)\n",
    "\n",
    "    #     # Display tables\n",
    "    #     display(df)\n",
    "    print(message_to_be_printed)\n",
    "    engine = create_engine(f'hive://{spark_thrift_service_name}:10000/default')\n",
    "    df = pd.read_sql(\"SHOW TABLES;\", engine)\n",
    "    # display(df)\n",
    "    display(df)\n",
    "\n",
    "def show_table_details(table_name, database_name='default',\n",
    "                        # host=spark_thrift_service_name,\n",
    "                        port=10000):\n",
    "    # sqlAlchemy api fail here due to \"sqlAlchemy relection\": TODO investigate root cause\n",
    "    # engine = create_engine(f'hive://{spark_thrift_service_name}:10000/default')\n",
    "    # df = pd.read_sql(f\"select * from {table_name} limit 10\", engine)\n",
    "\n",
    "    with hive.Connection(host=spark_thrift_service_name, port=port, database=database_name) as conn:\n",
    "        df = pd.read_sql(f\"select * from {database_name}.{table_name}\", conn)\n",
    "\n",
    "        display(df)\n",
    "\n",
    "    \n",
    "check_table()\n",
    "print(\"------------\")\n",
    "# show_table_details(\"transactions\")\n"
   ]
  },
  {
   "cell_type": "markdown",
   "id": "04ca1b42",
   "metadata": {
    "papermill": {
     "duration": 0.014391,
     "end_time": "2025-06-30T22:43:59.600738",
     "exception": false,
     "start_time": "2025-06-30T22:43:59.586347",
     "status": "completed"
    },
    "tags": []
   },
   "source": [
    "## DBT "
   ]
  },
  {
   "cell_type": "code",
   "execution_count": 8,
   "id": "fdf3c236",
   "metadata": {
    "execution": {
     "iopub.execute_input": "2025-06-30T22:43:59.632871Z",
     "iopub.status.busy": "2025-06-30T22:43:59.631560Z",
     "iopub.status.idle": "2025-06-30T22:44:03.497825Z",
     "shell.execute_reply": "2025-06-30T22:44:03.493981Z"
    },
    "papermill": {
     "duration": 3.887372,
     "end_time": "2025-06-30T22:44:03.502814",
     "exception": false,
     "start_time": "2025-06-30T22:43:59.615442",
     "status": "completed"
    },
    "tags": []
   },
   "outputs": [
    {
     "name": "stdout",
     "output_type": "stream",
     "text": [
      "Core:\r\n",
      "  - installed: 1.10.2\r\n",
      "  - latest:    1.10.2 - \u001b[32mUp to date!\u001b[0m\r\n",
      "\r\n",
      "Plugins:\r\n",
      "  - spark: 1.9.2 - \u001b[32mUp to date!\u001b[0m\r\n",
      "\r\n",
      "\r\n"
     ]
    }
   ],
   "source": [
    "!dbt --version"
   ]
  },
  {
   "cell_type": "markdown",
   "id": "bfe04595",
   "metadata": {
    "papermill": {
     "duration": 0.016321,
     "end_time": "2025-06-30T22:44:03.539750",
     "exception": false,
     "start_time": "2025-06-30T22:44:03.523429",
     "status": "completed"
    },
    "tags": []
   },
   "source": [
    "## Verify DBT setup"
   ]
  },
  {
   "cell_type": "markdown",
   "id": "ee90d22f",
   "metadata": {
    "papermill": {
     "duration": 0.014128,
     "end_time": "2025-06-30T22:44:03.568038",
     "exception": false,
     "start_time": "2025-06-30T22:44:03.553910",
     "status": "completed"
    },
    "tags": []
   },
   "source": [
    "### profiles.yml\n",
    "```yml\n",
    "formal_verification_prj_name:\n",
    "  outputs:\n",
    "    spark:\n",
    "      type: spark\n",
    "      method: thrift\n",
    "      host: dbt-spark3-thrift\n",
    "      schema: default\n",
    "      connect_timeout: 30\n",
    "      authentication: NONE\n",
    "  target: spark\n",
    "\n",
    "```"
   ]
  },
  {
   "cell_type": "code",
   "execution_count": 9,
   "id": "70bfe66e",
   "metadata": {
    "execution": {
     "iopub.execute_input": "2025-06-30T22:44:03.601086Z",
     "iopub.status.busy": "2025-06-30T22:44:03.599892Z",
     "iopub.status.idle": "2025-06-30T22:44:04.230963Z",
     "shell.execute_reply": "2025-06-30T22:44:04.229009Z"
    },
    "papermill": {
     "duration": 0.65178,
     "end_time": "2025-06-30T22:44:04.233935",
     "exception": false,
     "start_time": "2025-06-30T22:44:03.582155",
     "status": "completed"
    },
    "tags": []
   },
   "outputs": [
    {
     "name": "stdout",
     "output_type": "stream",
     "text": [
      "send_anonymous_usage_stats: false\r\n",
      "\r\n",
      "dbt_spark_demo_prj:\r\n",
      "  outputs:\r\n",
      "    spark:\r\n",
      "      type: spark\r\n",
      "      method: thrift\r\n",
      "      host: dbt-spark3-thrift\r\n",
      "      port: 10000\r\n",
      "      schema: default\r\n",
      "      connect_timeout: 30\r\n",
      "      authentication: NONE\r\n",
      "  target: spark\r\n"
     ]
    }
   ],
   "source": [
    "!cat ~/.dbt/profiles.yml"
   ]
  },
  {
   "cell_type": "markdown",
   "id": "b7c21787",
   "metadata": {
    "papermill": {
     "duration": 0.01566,
     "end_time": "2025-06-30T22:44:04.266382",
     "exception": false,
     "start_time": "2025-06-30T22:44:04.250722",
     "status": "completed"
    },
    "tags": []
   },
   "source": [
    "### dbt_project.yml\n",
    "```yml\n",
    "name: 'formal_verification_prj_name'\n",
    "version: '1.0.0'\n",
    "\n",
    "# This setting configures which \"profile\" dbt uses for this project.\n",
    "profile: 'formal_verification_prj_name'\n",
    "\n",
    "# These configurations specify where dbt should look for different types of files.\n",
    "# The `model-paths` config, for example, states that models in this project can be\n",
    "# found in the \"models/\" directory. You probably won't need to change these!\n",
    "model-paths: [\"models\"]\n",
    "analysis-paths: [\"analyses\"]\n",
    "test-paths: [\"tests\"]\n",
    "seed-paths: [\"seeds\"]\n",
    "macro-paths: [\"macros\"]\n",
    "snapshot-paths: [\"snapshots\"]\n",
    "\n",
    "clean-targets:         # directories to be removed by `dbt clean`\n",
    "  - \"target\"\n",
    "  - \"dbt_packages\"\n",
    "\n",
    "models:\n",
    "  formal_verification_prj_name:\n",
    "    # +write_json: false\n",
    "    +materialized: incremental\n",
    "    +file_format: parquet    \n",
    "\n",
    "```"
   ]
  },
  {
   "cell_type": "code",
   "execution_count": 10,
   "id": "089c0b95",
   "metadata": {
    "execution": {
     "iopub.execute_input": "2025-06-30T22:44:04.308315Z",
     "iopub.status.busy": "2025-06-30T22:44:04.307472Z",
     "iopub.status.idle": "2025-06-30T22:44:04.926605Z",
     "shell.execute_reply": "2025-06-30T22:44:04.924801Z"
    },
    "papermill": {
     "duration": 0.640573,
     "end_time": "2025-06-30T22:44:04.929506",
     "exception": false,
     "start_time": "2025-06-30T22:44:04.288933",
     "status": "completed"
    },
    "tags": []
   },
   "outputs": [
    {
     "name": "stdout",
     "output_type": "stream",
     "text": [
      "\r\n",
      "# Name your project! Project names should contain only lowercase characters\r\n",
      "# and underscores. A good package name should reflect your organization's\r\n",
      "# name or the intended use of these models\r\n",
      "name: 'dbt_spark_demo_prj'\r\n",
      "version: '1.0.0'\r\n",
      "\r\n",
      "# This setting configures which \"profile\" dbt uses for this project.\r\n",
      "profile: 'dbt_spark_demo_prj'\r\n",
      "\r\n",
      "# These configurations specify where dbt should look for different types of files.\r\n",
      "# The `model-paths` config, for example, states that models in this project can be\r\n",
      "# found in the \"models/\" directory. You probably won't need to change these!\r\n",
      "model-paths: [\"models\"]\r\n",
      "analysis-paths: [\"analyses\"]\r\n",
      "test-paths: [\"tests\"]\r\n",
      "seed-paths: [\"seeds\"]\r\n",
      "macro-paths: [\"macros\"]\r\n",
      "snapshot-paths: [\"snapshots\"]\r\n",
      "\r\n",
      "clean-targets:         # directories to be removed by `dbt clean`\r\n",
      "  - \"target\"\r\n",
      "  - \"dbt_packages\"\r\n",
      "\r\n",
      "\r\n",
      "# Configuring models\r\n",
      "# Full documentation: https://docs.getdbt.com/docs/configuring-models\r\n",
      "\r\n",
      "# In this example config, we tell dbt to build all models in the example/\r\n",
      "# directory as views. These settings can be overridden in the individual model\r\n",
      "# files using the `{{ config(...) }}` macro.\r\n",
      "models:\r\n",
      "  dbt_spark_demo_prj:\r\n",
      "    +materialized: incremental\r\n",
      "    +file_format: parquet\r\n",
      "  # example:\r\n",
      "  #   +enabled: false\r\n",
      "    \r\n"
     ]
    }
   ],
   "source": [
    "!cat /usr/app/dbt/dbt_spark_demo_prj/dbt_project.yml"
   ]
  },
  {
   "cell_type": "markdown",
   "id": "5fa3d336",
   "metadata": {
    "papermill": {
     "duration": 0.026014,
     "end_time": "2025-06-30T22:44:04.987129",
     "exception": false,
     "start_time": "2025-06-30T22:44:04.961115",
     "status": "completed"
    },
    "tags": []
   },
   "source": [
    "### dbt debug"
   ]
  },
  {
   "cell_type": "code",
   "execution_count": 11,
   "id": "463ce0e5",
   "metadata": {
    "execution": {
     "iopub.execute_input": "2025-06-30T22:44:05.020126Z",
     "iopub.status.busy": "2025-06-30T22:44:05.019185Z",
     "iopub.status.idle": "2025-06-30T22:44:12.532743Z",
     "shell.execute_reply": "2025-06-30T22:44:12.531080Z"
    },
    "papermill": {
     "duration": 7.532921,
     "end_time": "2025-06-30T22:44:12.535261",
     "exception": false,
     "start_time": "2025-06-30T22:44:05.002340",
     "status": "completed"
    },
    "tags": []
   },
   "outputs": [
    {
     "name": "stdout",
     "output_type": "stream",
     "text": [
      "\u001b[0m22:44:08  Running with dbt=1.10.2\r\n"
     ]
    },
    {
     "name": "stdout",
     "output_type": "stream",
     "text": [
      "\u001b[0m22:44:08  dbt version: 1.10.2\r\n",
      "\u001b[0m22:44:08  python version: 3.11.2\r\n",
      "\u001b[0m22:44:08  python path: /usr/local/bin/python3\r\n",
      "\u001b[0m22:44:08  os info: Linux-5.15.167.4-microsoft-standard-WSL2-x86_64-with-glibc2.31\r\n"
     ]
    },
    {
     "name": "stdout",
     "output_type": "stream",
     "text": [
      "\u001b[0m22:44:08  Using profiles dir at /root/.dbt\r\n",
      "\u001b[0m22:44:08  Using profiles.yml file at /root/.dbt/profiles.yml\r\n",
      "\u001b[0m22:44:08  Using dbt_project.yml file at /usr/app/dbt/dbt_spark_demo_prj/dbt_project.yml\r\n",
      "\u001b[0m22:44:08  adapter type: spark\r\n",
      "\u001b[0m22:44:08  adapter version: 1.9.2\r\n"
     ]
    },
    {
     "name": "stdout",
     "output_type": "stream",
     "text": [
      "\u001b[0m22:44:08  Configuration:\r\n",
      "\u001b[0m22:44:08    profiles.yml file [\u001b[32mOK found and valid\u001b[0m]\r\n",
      "\u001b[0m22:44:08    dbt_project.yml file [\u001b[32mOK found and valid\u001b[0m]\r\n",
      "\u001b[0m22:44:08  Required dependencies:\r\n",
      "\u001b[0m22:44:08   - git [\u001b[32mOK found\u001b[0m]\r\n",
      "\r\n",
      "\u001b[0m22:44:08  Connection:\r\n",
      "\u001b[0m22:44:08    host: dbt-spark3-thrift\r\n",
      "\u001b[0m22:44:08    port: 10000\r\n",
      "\u001b[0m22:44:08    cluster: None\r\n",
      "\u001b[0m22:44:08    endpoint: None\r\n",
      "\u001b[0m22:44:08    schema: default\r\n",
      "\u001b[0m22:44:08    organization: 0\r\n",
      "\u001b[0m22:44:08  Registered adapter: spark=1.9.2\r\n"
     ]
    },
    {
     "name": "stdout",
     "output_type": "stream",
     "text": [
      "\u001b[0m22:44:10    Connection test: [\u001b[32mOK connection ok\u001b[0m]\r\n",
      "\r\n",
      "\u001b[0m22:44:10  \u001b[32mAll checks passed!\u001b[0m\r\n"
     ]
    }
   ],
   "source": [
    "!dbt debug --project-dir /usr/app/dbt/dbt_spark_demo_prj\n",
    "\n",
    "#to print detailed messages for debugging \n",
    "#!dbt debug --debug --project-dir /usr/app/dbt/dbt_spark_demo_prj"
   ]
  },
  {
   "cell_type": "markdown",
   "id": "6788bb54",
   "metadata": {
    "papermill": {
     "duration": 0.015477,
     "end_time": "2025-06-30T22:44:12.566416",
     "exception": false,
     "start_time": "2025-06-30T22:44:12.550939",
     "status": "completed"
    },
    "tags": []
   },
   "source": [
    "## dbt command comparisons\n",
    "| Command           | Purpose                                  | What it does                                                             | Output                                    |\n",
    "| ----------------- | ---------------------------------------- | ------------------------------------------------------------------------ | ----------------------------------------- |\n",
    "| **`dbt compile`** | Prepares SQL code for execution          | Converts Jinja + macros into raw SQL; writes compiled files to `target/` | Compiled SQL files (no warehouse changes) |\n",
    "| **`dbt run`**     | Builds models (tables/views)             | Executes compiled SQL to materialize models in the data warehouse        | Tables/views in the warehouse             |\n",
    "| **`dbt test`**    | Validates data quality assumptions       | Runs data tests (e.g., `not_null`, `unique`, custom) on warehouse data   | Test pass/fail results                    |\n",
    "| **`dbt seed`**    | Loads static CSV data into the warehouse | Uploads CSV files from the `seeds/` directory into tables                 | Tables containing seed data               |\n"
   ]
  },
  {
   "cell_type": "markdown",
   "id": "46c7b25b",
   "metadata": {
    "papermill": {
     "duration": 0.015058,
     "end_time": "2025-06-30T22:44:12.596477",
     "exception": false,
     "start_time": "2025-06-30T22:44:12.581419",
     "status": "completed"
    },
    "tags": []
   },
   "source": [
    "# Prepare SQL"
   ]
  },
  {
   "cell_type": "markdown",
   "id": "328b5522",
   "metadata": {
    "papermill": {
     "duration": 0.014979,
     "end_time": "2025-06-30T22:44:12.626600",
     "exception": false,
     "start_time": "2025-06-30T22:44:12.611621",
     "status": "completed"
    },
    "tags": []
   },
   "source": [
    "## Read dbt input csv \n",
    "\n",
    "* read seeds/transactions.csv, \n",
    "* dbt generate raw__transaction.csv\n",
    "* dbt create table default.raw_transaction at the database "
   ]
  },
  {
   "cell_type": "markdown",
   "id": "331b109e",
   "metadata": {
    "papermill": {
     "duration": 0.014931,
     "end_time": "2025-06-30T22:44:12.656601",
     "exception": false,
     "start_time": "2025-06-30T22:44:12.641670",
     "status": "completed"
    },
    "tags": []
   },
   "source": [
    "### Verify database before the operation"
   ]
  },
  {
   "cell_type": "code",
   "execution_count": 12,
   "id": "6c4e3091",
   "metadata": {
    "execution": {
     "iopub.execute_input": "2025-06-30T22:44:12.691252Z",
     "iopub.status.busy": "2025-06-30T22:44:12.690462Z",
     "iopub.status.idle": "2025-06-30T22:44:26.140654Z",
     "shell.execute_reply": "2025-06-30T22:44:26.138968Z"
    },
    "papermill": {
     "duration": 13.469663,
     "end_time": "2025-06-30T22:44:26.142920",
     "exception": false,
     "start_time": "2025-06-30T22:44:12.673257",
     "status": "completed"
    },
    "tags": []
   },
   "outputs": [
    {
     "name": "stdout",
     "output_type": "stream",
     "text": [
      "\u001b[0m22:44:15  Running with dbt=1.10.2\r\n"
     ]
    },
    {
     "name": "stdout",
     "output_type": "stream",
     "text": [
      "\u001b[0m22:44:16  Registered adapter: spark=1.9.2\r\n"
     ]
    },
    {
     "name": "stdout",
     "output_type": "stream",
     "text": [
      "\u001b[0m22:44:16  Found 1 model, 1 test, 1 seed, 476 macros, 3 unit tests\r\n"
     ]
    },
    {
     "name": "stdout",
     "output_type": "stream",
     "text": [
      "\u001b[0m22:44:22  Running with dbt=1.10.2\r\n"
     ]
    },
    {
     "name": "stdout",
     "output_type": "stream",
     "text": [
      "\u001b[0m22:44:23  Registered adapter: spark=1.9.2\r\n"
     ]
    },
    {
     "name": "stdout",
     "output_type": "stream",
     "text": [
      "\u001b[0m22:44:23  Found 1 model, 1 test, 1 seed, 476 macros, 3 unit tests\r\n"
     ]
    }
   ],
   "source": [
    "!dbt run-operation drop_table --args '{\"table_name\": \"default.raw__transactions\"}'  \n",
    "!dbt run-operation drop_table --args '{\"table_name\": \"default.transactions\"}' "
   ]
  },
  {
   "cell_type": "code",
   "execution_count": 13,
   "id": "ff9ca4df",
   "metadata": {
    "execution": {
     "iopub.execute_input": "2025-06-30T22:44:26.177304Z",
     "iopub.status.busy": "2025-06-30T22:44:26.176454Z",
     "iopub.status.idle": "2025-06-30T22:44:36.712508Z",
     "shell.execute_reply": "2025-06-30T22:44:36.710928Z"
    },
    "papermill": {
     "duration": 10.555356,
     "end_time": "2025-06-30T22:44:36.714646",
     "exception": false,
     "start_time": "2025-06-30T22:44:26.159290",
     "status": "completed"
    },
    "tags": []
   },
   "outputs": [
    {
     "name": "stdout",
     "output_type": "stream",
     "text": [
      "Database table before the operation\n"
     ]
    },
    {
     "data": {
      "text/html": [
       "<div>\n",
       "<style scoped>\n",
       "    .dataframe tbody tr th:only-of-type {\n",
       "        vertical-align: middle;\n",
       "    }\n",
       "\n",
       "    .dataframe tbody tr th {\n",
       "        vertical-align: top;\n",
       "    }\n",
       "\n",
       "    .dataframe thead th {\n",
       "        text-align: right;\n",
       "    }\n",
       "</style>\n",
       "<table border=\"1\" class=\"dataframe\">\n",
       "  <thead>\n",
       "    <tr style=\"text-align: right;\">\n",
       "      <th></th>\n",
       "      <th>namespace</th>\n",
       "      <th>tableName</th>\n",
       "      <th>isTemporary</th>\n",
       "    </tr>\n",
       "  </thead>\n",
       "  <tbody>\n",
       "  </tbody>\n",
       "</table>\n",
       "</div>"
      ],
      "text/plain": [
       "Empty DataFrame\n",
       "Columns: [namespace, tableName, isTemporary]\n",
       "Index: []"
      ]
     },
     "metadata": {},
     "output_type": "display_data"
    },
    {
     "name": "stdout",
     "output_type": "stream",
     "text": [
      "\u001b[0m22:44:29  Running with dbt=1.10.2\r\n"
     ]
    },
    {
     "name": "stdout",
     "output_type": "stream",
     "text": [
      "\u001b[0m22:44:30  Registered adapter: spark=1.9.2\r\n"
     ]
    },
    {
     "name": "stdout",
     "output_type": "stream",
     "text": [
      "\u001b[0m22:44:30  Found 1 model, 1 test, 1 seed, 476 macros, 3 unit tests\r\n",
      "\u001b[0m22:44:30  \r\n",
      "\u001b[0m22:44:30  Concurrency: 1 threads (target='spark')\r\n",
      "\u001b[0m22:44:30  \r\n"
     ]
    },
    {
     "name": "stdout",
     "output_type": "stream",
     "text": [
      "\u001b[0m22:44:31  1 of 1 START seed file default.raw__transactions ............................... [RUN]\r\n"
     ]
    },
    {
     "name": "stdout",
     "output_type": "stream",
     "text": [
      "\u001b[0m22:44:34  1 of 1 OK loaded seed file default.raw__transactions ........................... [\u001b[32mINSERT 6\u001b[0m in 3.40s]\r\n"
     ]
    },
    {
     "name": "stdout",
     "output_type": "stream",
     "text": [
      "\u001b[0m22:44:34  \r\n",
      "\u001b[0m22:44:34  Finished running 1 seed in 0 hours 0 minutes and 4.01 seconds (4.01s).\r\n"
     ]
    },
    {
     "name": "stdout",
     "output_type": "stream",
     "text": [
      "\u001b[0m22:44:34  \r\n"
     ]
    },
    {
     "name": "stdout",
     "output_type": "stream",
     "text": [
      "\u001b[0m22:44:34  \u001b[32mCompleted successfully\u001b[0m\r\n",
      "\u001b[0m22:44:34  \r\n",
      "\u001b[0m22:44:34  Done. PASS=1 WARN=0 ERROR=0 SKIP=0 NO-OP=0 TOTAL=1\r\n"
     ]
    },
    {
     "name": "stdout",
     "output_type": "stream",
     "text": [
      "\n",
      "Database table after the operation\n"
     ]
    },
    {
     "data": {
      "text/html": [
       "<div>\n",
       "<style scoped>\n",
       "    .dataframe tbody tr th:only-of-type {\n",
       "        vertical-align: middle;\n",
       "    }\n",
       "\n",
       "    .dataframe tbody tr th {\n",
       "        vertical-align: top;\n",
       "    }\n",
       "\n",
       "    .dataframe thead th {\n",
       "        text-align: right;\n",
       "    }\n",
       "</style>\n",
       "<table border=\"1\" class=\"dataframe\">\n",
       "  <thead>\n",
       "    <tr style=\"text-align: right;\">\n",
       "      <th></th>\n",
       "      <th>namespace</th>\n",
       "      <th>tableName</th>\n",
       "      <th>isTemporary</th>\n",
       "    </tr>\n",
       "  </thead>\n",
       "  <tbody>\n",
       "    <tr>\n",
       "      <th>0</th>\n",
       "      <td>default</td>\n",
       "      <td>raw__transactions</td>\n",
       "      <td>False</td>\n",
       "    </tr>\n",
       "  </tbody>\n",
       "</table>\n",
       "</div>"
      ],
      "text/plain": [
       "  namespace          tableName  isTemporary\n",
       "0   default  raw__transactions        False"
      ]
     },
     "metadata": {},
     "output_type": "display_data"
    }
   ],
   "source": [
    "check_table(message_to_be_printed=\"Database table before the operation\")\n",
    "!dbt seed --log-level info --project-dir $dbt_project_dir\n",
    "check_table(message_to_be_printed=\"\\nDatabase table after the operation\")"
   ]
  },
  {
   "cell_type": "markdown",
   "id": "99518976",
   "metadata": {
    "papermill": {
     "duration": 0.016815,
     "end_time": "2025-06-30T22:44:36.748802",
     "exception": false,
     "start_time": "2025-06-30T22:44:36.731987",
     "status": "completed"
    },
    "tags": []
   },
   "source": [
    "## dbt compile"
   ]
  },
  {
   "cell_type": "markdown",
   "id": "299472eb",
   "metadata": {
    "papermill": {
     "duration": 0.016937,
     "end_time": "2025-06-30T22:44:36.782433",
     "exception": false,
     "start_time": "2025-06-30T22:44:36.765496",
     "status": "completed"
    },
    "tags": []
   },
   "source": [
    "#### removed target/compiled/"
   ]
  },
  {
   "cell_type": "code",
   "execution_count": 14,
   "id": "be2451a9",
   "metadata": {
    "execution": {
     "iopub.execute_input": "2025-06-30T22:44:36.818840Z",
     "iopub.status.busy": "2025-06-30T22:44:36.818004Z",
     "iopub.status.idle": "2025-06-30T22:44:38.059745Z",
     "shell.execute_reply": "2025-06-30T22:44:38.057297Z"
    },
    "papermill": {
     "duration": 1.263448,
     "end_time": "2025-06-30T22:44:38.062940",
     "exception": false,
     "start_time": "2025-06-30T22:44:36.799492",
     "status": "completed"
    },
    "tags": []
   },
   "outputs": [
    {
     "name": "stdout",
     "output_type": "stream",
     "text": [
      "ls: cannot access 'dbt_spark_demo_prj/target/compile': No such file or directory\r\n"
     ]
    }
   ],
   "source": [
    "!rm -rf dbt_spark_demo_prj/target/compiled/\n",
    "!ls dbt_spark_demo_prj/target/compile"
   ]
  },
  {
   "cell_type": "code",
   "execution_count": 15,
   "id": "e6d17db8",
   "metadata": {
    "execution": {
     "iopub.execute_input": "2025-06-30T22:44:38.113635Z",
     "iopub.status.busy": "2025-06-30T22:44:38.112781Z",
     "iopub.status.idle": "2025-06-30T22:44:38.725815Z",
     "shell.execute_reply": "2025-06-30T22:44:38.723817Z"
    },
    "papermill": {
     "duration": 0.63853,
     "end_time": "2025-06-30T22:44:38.728166",
     "exception": false,
     "start_time": "2025-06-30T22:44:38.089636",
     "status": "completed"
    },
    "tags": []
   },
   "outputs": [
    {
     "name": "stdout",
     "output_type": "stream",
     "text": [
      "dbt_project.yml  logs  macros  models  seeds  target  tests\r\n"
     ]
    }
   ],
   "source": [
    "!ls $dbt_project_dir"
   ]
  },
  {
   "cell_type": "code",
   "execution_count": 16,
   "id": "7789867d",
   "metadata": {
    "execution": {
     "iopub.execute_input": "2025-06-30T22:44:38.770488Z",
     "iopub.status.busy": "2025-06-30T22:44:38.769629Z",
     "iopub.status.idle": "2025-06-30T22:44:45.313971Z",
     "shell.execute_reply": "2025-06-30T22:44:45.311938Z"
    },
    "papermill": {
     "duration": 6.567953,
     "end_time": "2025-06-30T22:44:45.316230",
     "exception": false,
     "start_time": "2025-06-30T22:44:38.748277",
     "status": "completed"
    },
    "tags": []
   },
   "outputs": [
    {
     "name": "stdout",
     "output_type": "stream",
     "text": [
      "\u001b[0m22:44:42  Running with dbt=1.10.2\r\n"
     ]
    },
    {
     "name": "stdout",
     "output_type": "stream",
     "text": [
      "\u001b[0m22:44:42  Registered adapter: spark=1.9.2\r\n"
     ]
    },
    {
     "name": "stdout",
     "output_type": "stream",
     "text": [
      "\u001b[0m22:44:43  Found 1 model, 1 test, 1 seed, 476 macros, 3 unit tests\r\n",
      "\u001b[0m22:44:43  \r\n",
      "\u001b[0m22:44:43  Concurrency: 1 threads (target='spark')\r\n",
      "\u001b[0m22:44:43  \r\n"
     ]
    }
   ],
   "source": [
    "!dbt compile --log-level info --project-dir $dbt_project_dir"
   ]
  },
  {
   "cell_type": "code",
   "execution_count": 17,
   "id": "2075b987",
   "metadata": {
    "execution": {
     "iopub.execute_input": "2025-06-30T22:44:45.355758Z",
     "iopub.status.busy": "2025-06-30T22:44:45.354864Z",
     "iopub.status.idle": "2025-06-30T22:44:45.963154Z",
     "shell.execute_reply": "2025-06-30T22:44:45.961457Z"
    },
    "papermill": {
     "duration": 0.63174,
     "end_time": "2025-06-30T22:44:45.965941",
     "exception": false,
     "start_time": "2025-06-30T22:44:45.334201",
     "status": "completed"
    },
    "tags": []
   },
   "outputs": [
    {
     "name": "stdout",
     "output_type": "stream",
     "text": [
      "models\ttests\r\n"
     ]
    }
   ],
   "source": [
    "!ls /usr/app/dbt/dbt_spark_demo_prj/target/compiled/dbt_spark_demo_prj"
   ]
  },
  {
   "cell_type": "markdown",
   "id": "285c8f3a",
   "metadata": {
    "papermill": {
     "duration": 0.018864,
     "end_time": "2025-06-30T22:44:46.002926",
     "exception": false,
     "start_time": "2025-06-30T22:44:45.984062",
     "status": "completed"
    },
    "tags": []
   },
   "source": [
    "## Build your models (dbt run)"
   ]
  },
  {
   "cell_type": "markdown",
   "id": "82e5d338",
   "metadata": {
    "papermill": {
     "duration": 0.020038,
     "end_time": "2025-06-30T22:44:46.042588",
     "exception": false,
     "start_time": "2025-06-30T22:44:46.022550",
     "status": "completed"
    },
    "tags": []
   },
   "source": [
    "## Delete database table prior dbt run that will create the table"
   ]
  },
  {
   "cell_type": "code",
   "execution_count": 18,
   "id": "49dad449",
   "metadata": {
    "execution": {
     "iopub.execute_input": "2025-06-30T22:44:46.083823Z",
     "iopub.status.busy": "2025-06-30T22:44:46.082927Z",
     "iopub.status.idle": "2025-06-30T22:44:52.360211Z",
     "shell.execute_reply": "2025-06-30T22:44:52.358711Z"
    },
    "papermill": {
     "duration": 6.300995,
     "end_time": "2025-06-30T22:44:52.362423",
     "exception": false,
     "start_time": "2025-06-30T22:44:46.061428",
     "status": "completed"
    },
    "tags": []
   },
   "outputs": [
    {
     "name": "stdout",
     "output_type": "stream",
     "text": [
      "before\n"
     ]
    },
    {
     "data": {
      "text/html": [
       "<div>\n",
       "<style scoped>\n",
       "    .dataframe tbody tr th:only-of-type {\n",
       "        vertical-align: middle;\n",
       "    }\n",
       "\n",
       "    .dataframe tbody tr th {\n",
       "        vertical-align: top;\n",
       "    }\n",
       "\n",
       "    .dataframe thead th {\n",
       "        text-align: right;\n",
       "    }\n",
       "</style>\n",
       "<table border=\"1\" class=\"dataframe\">\n",
       "  <thead>\n",
       "    <tr style=\"text-align: right;\">\n",
       "      <th></th>\n",
       "      <th>namespace</th>\n",
       "      <th>tableName</th>\n",
       "      <th>isTemporary</th>\n",
       "    </tr>\n",
       "  </thead>\n",
       "  <tbody>\n",
       "    <tr>\n",
       "      <th>0</th>\n",
       "      <td>default</td>\n",
       "      <td>raw__transactions</td>\n",
       "      <td>False</td>\n",
       "    </tr>\n",
       "  </tbody>\n",
       "</table>\n",
       "</div>"
      ],
      "text/plain": [
       "  namespace          tableName  isTemporary\n",
       "0   default  raw__transactions        False"
      ]
     },
     "metadata": {},
     "output_type": "display_data"
    },
    {
     "name": "stdout",
     "output_type": "stream",
     "text": [
      "\u001b[0m22:44:49  Running with dbt=1.10.2\r\n"
     ]
    },
    {
     "name": "stdout",
     "output_type": "stream",
     "text": [
      "\u001b[0m22:44:49  Registered adapter: spark=1.9.2\r\n"
     ]
    },
    {
     "name": "stdout",
     "output_type": "stream",
     "text": [
      "\u001b[0m22:44:50  Found 1 model, 1 test, 1 seed, 476 macros, 3 unit tests\r\n"
     ]
    },
    {
     "name": "stdout",
     "output_type": "stream",
     "text": [
      "\n",
      "after\n"
     ]
    },
    {
     "data": {
      "text/html": [
       "<div>\n",
       "<style scoped>\n",
       "    .dataframe tbody tr th:only-of-type {\n",
       "        vertical-align: middle;\n",
       "    }\n",
       "\n",
       "    .dataframe tbody tr th {\n",
       "        vertical-align: top;\n",
       "    }\n",
       "\n",
       "    .dataframe thead th {\n",
       "        text-align: right;\n",
       "    }\n",
       "</style>\n",
       "<table border=\"1\" class=\"dataframe\">\n",
       "  <thead>\n",
       "    <tr style=\"text-align: right;\">\n",
       "      <th></th>\n",
       "      <th>namespace</th>\n",
       "      <th>tableName</th>\n",
       "      <th>isTemporary</th>\n",
       "    </tr>\n",
       "  </thead>\n",
       "  <tbody>\n",
       "    <tr>\n",
       "      <th>0</th>\n",
       "      <td>default</td>\n",
       "      <td>raw__transactions</td>\n",
       "      <td>False</td>\n",
       "    </tr>\n",
       "  </tbody>\n",
       "</table>\n",
       "</div>"
      ],
      "text/plain": [
       "  namespace          tableName  isTemporary\n",
       "0   default  raw__transactions        False"
      ]
     },
     "metadata": {},
     "output_type": "display_data"
    }
   ],
   "source": [
    "check_table(message_to_be_printed=\"before\")\n",
    "!dbt run-operation drop_table --args '{\"table_name\": \"default.transactions\"}'\n",
    "check_table(message_to_be_printed=\"\\nafter\")"
   ]
  },
  {
   "cell_type": "code",
   "execution_count": 19,
   "id": "bdf648b1",
   "metadata": {
    "execution": {
     "iopub.execute_input": "2025-06-30T22:44:52.401330Z",
     "iopub.status.busy": "2025-06-30T22:44:52.400744Z",
     "iopub.status.idle": "2025-06-30T22:45:08.525305Z",
     "shell.execute_reply": "2025-06-30T22:45:08.523632Z"
    },
    "papermill": {
     "duration": 16.146557,
     "end_time": "2025-06-30T22:45:08.527647",
     "exception": false,
     "start_time": "2025-06-30T22:44:52.381090",
     "status": "completed"
    },
    "tags": []
   },
   "outputs": [
    {
     "name": "stdout",
     "output_type": "stream",
     "text": [
      "\u001b[0m22:44:56  Running with dbt=1.10.2\r\n"
     ]
    },
    {
     "name": "stdout",
     "output_type": "stream",
     "text": [
      "\u001b[0m22:44:56  Registered adapter: spark=1.9.2\r\n"
     ]
    },
    {
     "name": "stdout",
     "output_type": "stream",
     "text": [
      "\u001b[0m22:44:57  Found 1 model, 1 test, 1 seed, 476 macros, 3 unit tests\r\n"
     ]
    },
    {
     "name": "stdout",
     "output_type": "stream",
     "text": [
      "before\n"
     ]
    },
    {
     "data": {
      "text/html": [
       "<div>\n",
       "<style scoped>\n",
       "    .dataframe tbody tr th:only-of-type {\n",
       "        vertical-align: middle;\n",
       "    }\n",
       "\n",
       "    .dataframe tbody tr th {\n",
       "        vertical-align: top;\n",
       "    }\n",
       "\n",
       "    .dataframe thead th {\n",
       "        text-align: right;\n",
       "    }\n",
       "</style>\n",
       "<table border=\"1\" class=\"dataframe\">\n",
       "  <thead>\n",
       "    <tr style=\"text-align: right;\">\n",
       "      <th></th>\n",
       "      <th>namespace</th>\n",
       "      <th>tableName</th>\n",
       "      <th>isTemporary</th>\n",
       "    </tr>\n",
       "  </thead>\n",
       "  <tbody>\n",
       "    <tr>\n",
       "      <th>0</th>\n",
       "      <td>default</td>\n",
       "      <td>raw__transactions</td>\n",
       "      <td>False</td>\n",
       "    </tr>\n",
       "  </tbody>\n",
       "</table>\n",
       "</div>"
      ],
      "text/plain": [
       "  namespace          tableName  isTemporary\n",
       "0   default  raw__transactions        False"
      ]
     },
     "metadata": {},
     "output_type": "display_data"
    },
    {
     "name": "stdout",
     "output_type": "stream",
     "text": [
      "\u001b[0m22:45:02  Running with dbt=1.10.2\r\n"
     ]
    },
    {
     "name": "stdout",
     "output_type": "stream",
     "text": [
      "\u001b[0m22:45:02  Registered adapter: spark=1.9.2\r\n"
     ]
    },
    {
     "name": "stdout",
     "output_type": "stream",
     "text": [
      "\u001b[0m22:45:03  Found 1 model, 1 test, 1 seed, 476 macros, 3 unit tests\r\n",
      "\u001b[0m22:45:03  \r\n",
      "\u001b[0m22:45:03  Concurrency: 1 threads (target='spark')\r\n",
      "\u001b[0m22:45:03  \r\n"
     ]
    },
    {
     "name": "stdout",
     "output_type": "stream",
     "text": [
      "\u001b[0m22:45:03  1 of 1 START sql table model default.transactions .............................. [RUN]\r\n"
     ]
    },
    {
     "name": "stdout",
     "output_type": "stream",
     "text": [
      "\u001b[0m22:45:06  1 of 1 OK created sql table model default.transactions ......................... [\u001b[32mOK\u001b[0m in 2.34s]\r\n"
     ]
    },
    {
     "name": "stdout",
     "output_type": "stream",
     "text": [
      "\u001b[0m22:45:06  \r\n",
      "\u001b[0m22:45:06  Finished running 1 table model in 0 hours 0 minutes and 2.77 seconds (2.77s).\r\n"
     ]
    },
    {
     "name": "stdout",
     "output_type": "stream",
     "text": [
      "\u001b[0m22:45:06  \r\n",
      "\u001b[0m22:45:06  \u001b[32mCompleted successfully\u001b[0m\r\n",
      "\u001b[0m22:45:06  \r\n",
      "\u001b[0m22:45:06  Done. PASS=1 WARN=0 ERROR=0 SKIP=0 NO-OP=0 TOTAL=1\r\n"
     ]
    },
    {
     "name": "stdout",
     "output_type": "stream",
     "text": [
      "\n",
      "After\n"
     ]
    },
    {
     "name": "stdout",
     "output_type": "stream",
     "text": [
      "\u001b[01;34m/usr/app/dbt/dbt_spark_demo_prj/target/run\u001b[00m\r\n",
      "└── \u001b[01;34mdbt_spark_demo_prj\u001b[00m\r\n",
      "    └── \u001b[01;34mmodels\u001b[00m\r\n",
      "        └── \u001b[01;34mtransactions\u001b[00m\r\n",
      "            └── transactions.sql\r\n",
      "\r\n",
      "3 directories, 1 file\r\n"
     ]
    },
    {
     "name": "stdout",
     "output_type": "stream",
     "text": [
      "after\n"
     ]
    },
    {
     "data": {
      "text/html": [
       "<div>\n",
       "<style scoped>\n",
       "    .dataframe tbody tr th:only-of-type {\n",
       "        vertical-align: middle;\n",
       "    }\n",
       "\n",
       "    .dataframe tbody tr th {\n",
       "        vertical-align: top;\n",
       "    }\n",
       "\n",
       "    .dataframe thead th {\n",
       "        text-align: right;\n",
       "    }\n",
       "</style>\n",
       "<table border=\"1\" class=\"dataframe\">\n",
       "  <thead>\n",
       "    <tr style=\"text-align: right;\">\n",
       "      <th></th>\n",
       "      <th>namespace</th>\n",
       "      <th>tableName</th>\n",
       "      <th>isTemporary</th>\n",
       "    </tr>\n",
       "  </thead>\n",
       "  <tbody>\n",
       "    <tr>\n",
       "      <th>0</th>\n",
       "      <td>default</td>\n",
       "      <td>raw__transactions</td>\n",
       "      <td>False</td>\n",
       "    </tr>\n",
       "    <tr>\n",
       "      <th>1</th>\n",
       "      <td>default</td>\n",
       "      <td>transactions</td>\n",
       "      <td>False</td>\n",
       "    </tr>\n",
       "  </tbody>\n",
       "</table>\n",
       "</div>"
      ],
      "text/plain": [
       "  namespace          tableName  isTemporary\n",
       "0   default  raw__transactions        False\n",
       "1   default       transactions        False"
      ]
     },
     "metadata": {},
     "output_type": "display_data"
    }
   ],
   "source": [
    "!rm -r $dbt_project_dir/target/run\n",
    "!dbt run-operation drop_table --args '{\"table_name\": \"default.transactions\"}' \n",
    "check_table(message_to_be_printed=\"before\")\n",
    "\n",
    "!dbt run --log-level info --project-dir $dbt_project_dir\n",
    "\n",
    "print(\"\\nAfter\")\n",
    "!tree $dbt_project_dir/target/run\n",
    "check_table(message_to_be_printed=\"after\")"
   ]
  },
  {
   "cell_type": "markdown",
   "id": "b5cf4b24",
   "metadata": {
    "papermill": {
     "duration": 0.019581,
     "end_time": "2025-06-30T22:45:08.567662",
     "exception": false,
     "start_time": "2025-06-30T22:45:08.548081",
     "status": "completed"
    },
    "tags": []
   },
   "source": [
    "## test model using dbt"
   ]
  },
  {
   "cell_type": "markdown",
   "id": "ebc3baeb",
   "metadata": {
    "papermill": {
     "duration": 0.019557,
     "end_time": "2025-06-30T22:45:08.606675",
     "exception": false,
     "start_time": "2025-06-30T22:45:08.587118",
     "status": "completed"
    },
    "tags": []
   },
   "source": [
    "#### test name and its test vectors"
   ]
  },
  {
   "cell_type": "code",
   "execution_count": 20,
   "id": "06dfaae6",
   "metadata": {
    "execution": {
     "iopub.execute_input": "2025-06-30T22:45:08.648777Z",
     "iopub.status.busy": "2025-06-30T22:45:08.647964Z",
     "iopub.status.idle": "2025-06-30T22:45:09.324702Z",
     "shell.execute_reply": "2025-06-30T22:45:09.322859Z"
    },
    "papermill": {
     "duration": 0.701036,
     "end_time": "2025-06-30T22:45:09.327140",
     "exception": false,
     "start_time": "2025-06-30T22:45:08.626104",
     "status": "completed"
    },
    "tags": []
   },
   "outputs": [
    {
     "name": "stdout",
     "output_type": "stream",
     "text": [
      "# tests/unit/test_transactions.yml\r\n",
      "\r\n",
      "version: 2\r\n",
      "unit_tests:\r\n",
      "  - name: test_currency_usd\r\n",
      "    model: transactions\r\n",
      "    given:\r\n",
      "      - input: ref('raw__transactions')\r\n",
      "        rows:\r\n",
      "          - {id: 1, amount: 100, currency: 'USD', status: 'ACTIVE'}\r\n",
      "    expect:\r\n",
      "      rows:\r\n",
      "        - {id: 1, amount_usd: 100, currency: 'USD', branch_marker: \"USD_BRANCH\"}\r\n",
      "\r\n",
      "  - name: test_currency_sgd\r\n",
      "    model: transactions\r\n",
      "    given:\r\n",
      "      - input: ref('raw__transactions')\r\n",
      "        rows:\r\n",
      "          - {id: 2, amount: 100, currency: 'SGD', status: 'ACTIVE'}\r\n",
      "    expect:\r\n",
      "      rows:\r\n",
      "        - {id: 2, amount_usd: 74, branch_marker: \"SGD_BRANCH\"}\r\n",
      "\r\n",
      "  - name: test_inactive\r\n",
      "    model: transactions\r\n",
      "    given:\r\n",
      "      - input: ref('raw__transactions')\r\n",
      "        rows:\r\n",
      "          - {id: 2, amount: 100, currency: 'SGD', status: 'INACTIVE'}\r\n",
      "    expect: \r\n",
      "      rows: []"
     ]
    }
   ],
   "source": [
    "!cat dbt_spark_demo_prj/tests/unit/test_transactions.yml"
   ]
  },
  {
   "cell_type": "markdown",
   "id": "31610ca8",
   "metadata": {
    "papermill": {
     "duration": 0.020821,
     "end_time": "2025-06-30T22:45:09.368019",
     "exception": false,
     "start_time": "2025-06-30T22:45:09.347198",
     "status": "completed"
    },
    "tags": []
   },
   "source": [
    "#### run test"
   ]
  },
  {
   "cell_type": "code",
   "execution_count": 21,
   "id": "c0c0834d",
   "metadata": {
    "execution": {
     "iopub.execute_input": "2025-06-30T22:45:09.410928Z",
     "iopub.status.busy": "2025-06-30T22:45:09.410091Z",
     "iopub.status.idle": "2025-06-30T22:45:19.184909Z",
     "shell.execute_reply": "2025-06-30T22:45:19.183122Z"
    },
    "papermill": {
     "duration": 9.799309,
     "end_time": "2025-06-30T22:45:19.187480",
     "exception": false,
     "start_time": "2025-06-30T22:45:09.388171",
     "status": "completed"
    },
    "tags": []
   },
   "outputs": [
    {
     "name": "stdout",
     "output_type": "stream",
     "text": [
      "\u001b[0m22:45:12  Running with dbt=1.10.2\n"
     ]
    },
    {
     "name": "stdout",
     "output_type": "stream",
     "text": [
      "\u001b[0m22:45:12  Registered adapter: spark=1.9.2\n"
     ]
    },
    {
     "name": "stdout",
     "output_type": "stream",
     "text": [
      "\u001b[0m22:45:13  Found 1 model, 1 test, 1 seed, 476 macros, 3 unit tests\n"
     ]
    },
    {
     "name": "stdout",
     "output_type": "stream",
     "text": [
      "\u001b[0m22:45:13  \n"
     ]
    },
    {
     "name": "stdout",
     "output_type": "stream",
     "text": [
      "\u001b[0m22:45:13  Concurrency: 1 threads (target='spark')\n"
     ]
    },
    {
     "name": "stdout",
     "output_type": "stream",
     "text": [
      "\u001b[0m22:45:13  \n"
     ]
    },
    {
     "name": "stdout",
     "output_type": "stream",
     "text": [
      "\u001b[0m22:45:13  1 of 4 START test test_currency_coverage ....................................... [RUN]"
     ]
    },
    {
     "name": "stdout",
     "output_type": "stream",
     "text": [
      "\n"
     ]
    },
    {
     "name": "stdout",
     "output_type": "stream",
     "text": [
      "\u001b[0m22:45:15  1 of 4 PASS test_currency_coverage ............................................. [\u001b[32"
     ]
    },
    {
     "name": "stdout",
     "output_type": "stream",
     "text": [
      "mPASS\u001b[0m in 1.53s]\n"
     ]
    },
    {
     "name": "stdout",
     "output_type": "stream",
     "text": [
      "\u001b[0m22:45:15  2 of 4 START unit_test transactions::test_currency_sgd ......................... [RUN]"
     ]
    },
    {
     "name": "stdout",
     "output_type": "stream",
     "text": [
      "\n"
     ]
    },
    {
     "name": "stdout",
     "output_type": "stream",
     "text": [
      "\u001b[0m22:45:16  2 of 4 PASS transactions::test_currency_sgd .................................... [\u001b[32"
     ]
    },
    {
     "name": "stdout",
     "output_type": "stream",
     "text": [
      "mPASS\u001b[0m in 1.05s]\n"
     ]
    },
    {
     "name": "stdout",
     "output_type": "stream",
     "text": [
      "\u001b[0m22:45:16  3 of 4 START unit_test transactions::test_currency_usd ......................... [RUN]"
     ]
    },
    {
     "name": "stdout",
     "output_type": "stream",
     "text": [
      "\n"
     ]
    },
    {
     "name": "stdout",
     "output_type": "stream",
     "text": [
      "\u001b[0m22:45:16  3 of 4 PASS transactions::test_currency_usd .................................... [\u001b[32"
     ]
    },
    {
     "name": "stdout",
     "output_type": "stream",
     "text": [
      "mPASS\u001b[0m in 0.63s]\n"
     ]
    },
    {
     "name": "stdout",
     "output_type": "stream",
     "text": [
      "\u001b[0m22:45:16  4 of 4 START unit_test transactions::test_inactive ............................. [RUN]"
     ]
    },
    {
     "name": "stdout",
     "output_type": "stream",
     "text": [
      "\n"
     ]
    },
    {
     "name": "stdout",
     "output_type": "stream",
     "text": [
      "\u001b[0m22:45:17  4 of 4 PASS transactions::test_inactive ........................................ [\u001b[32"
     ]
    },
    {
     "name": "stdout",
     "output_type": "stream",
     "text": [
      "mPASS\u001b[0m in 0.60s]\n"
     ]
    },
    {
     "name": "stdout",
     "output_type": "stream",
     "text": [
      "\u001b[0m22:45:17  \n"
     ]
    },
    {
     "name": "stdout",
     "output_type": "stream",
     "text": [
      "\u001b[0m22:45:17  Finished running 1 test, 3 unit tests in 0 hours 0 minutes and 4.13 seconds (4.13s).\n"
     ]
    },
    {
     "name": "stdout",
     "output_type": "stream",
     "text": [
      "\u001b[0m22:45:17  \n"
     ]
    },
    {
     "name": "stdout",
     "output_type": "stream",
     "text": [
      "\u001b[0m22:45:17  \u001b[32mCompleted successfully\u001b[0m\n",
      "\u001b[0m22:45:17  \n"
     ]
    },
    {
     "name": "stdout",
     "output_type": "stream",
     "text": [
      "\u001b[0m22:45:17  Done. PASS=4 WARN=0 ERROR=0 SKIP=0 NO-OP=0 TOTAL=4\n"
     ]
    }
   ],
   "source": [
    "%%bash\n",
    "export DBT_PROJECT_DIR=/usr/app/dbt/dbt_spark_demo_prj\n",
    "dbt test --log-level info"
   ]
  },
  {
   "cell_type": "code",
   "execution_count": 22,
   "id": "2321bb74",
   "metadata": {
    "execution": {
     "iopub.execute_input": "2025-06-30T22:45:19.237715Z",
     "iopub.status.busy": "2025-06-30T22:45:19.236889Z",
     "iopub.status.idle": "2025-06-30T22:45:19.912996Z",
     "shell.execute_reply": "2025-06-30T22:45:19.911056Z"
    },
    "papermill": {
     "duration": 0.704513,
     "end_time": "2025-06-30T22:45:19.915480",
     "exception": false,
     "start_time": "2025-06-30T22:45:19.210967",
     "status": "completed"
    },
    "tags": []
   },
   "outputs": [],
   "source": [
    "!chmod -R a+rw /usr/app"
   ]
  },
  {
   "cell_type": "code",
   "execution_count": 23,
   "id": "c28d80c5",
   "metadata": {
    "execution": {
     "iopub.execute_input": "2025-06-30T22:45:19.972078Z",
     "iopub.status.busy": "2025-06-30T22:45:19.971124Z",
     "iopub.status.idle": "2025-06-30T22:45:21.180006Z",
     "shell.execute_reply": "2025-06-30T22:45:21.177707Z"
    },
    "papermill": {
     "duration": 1.241862,
     "end_time": "2025-06-30T22:45:21.182691",
     "exception": false,
     "start_time": "2025-06-30T22:45:19.940829",
     "status": "completed"
    },
    "tags": []
   },
   "outputs": [
    {
     "name": "stdout",
     "output_type": "stream",
     "text": [
      "Mon Jun 30 22:45:20 UTC 2025\r\n"
     ]
    }
   ],
   "source": [
    "filepath=\"/usr/app/demo/results/test_end.txt\"\n",
    "!date; echo end test at > $filepath \n",
    "!export TZ='Asia/Singapore'; date >> $filepath;"
   ]
  },
  {
   "cell_type": "code",
   "execution_count": 24,
   "id": "9b840cc5",
   "metadata": {
    "execution": {
     "iopub.execute_input": "2025-06-30T22:45:21.230691Z",
     "iopub.status.busy": "2025-06-30T22:45:21.229814Z",
     "iopub.status.idle": "2025-06-30T22:45:21.237042Z",
     "shell.execute_reply": "2025-06-30T22:45:21.235518Z"
    },
    "papermill": {
     "duration": 0.03281,
     "end_time": "2025-06-30T22:45:21.239091",
     "exception": false,
     "start_time": "2025-06-30T22:45:21.206281",
     "status": "completed"
    },
    "tags": []
   },
   "outputs": [],
   "source": [
    "# assert False, \"Stop execution here!\""
   ]
  },
  {
   "cell_type": "markdown",
   "id": "6ebe7ae3",
   "metadata": {
    "papermill": {
     "duration": 0.021542,
     "end_time": "2025-06-30T22:45:21.282367",
     "exception": false,
     "start_time": "2025-06-30T22:45:21.260825",
     "status": "completed"
    },
    "tags": []
   },
   "source": [
    "# Apendix"
   ]
  },
  {
   "cell_type": "markdown",
   "id": "91f84536",
   "metadata": {
    "papermill": {
     "duration": 0.021981,
     "end_time": "2025-06-30T22:45:21.326764",
     "exception": false,
     "start_time": "2025-06-30T22:45:21.304783",
     "status": "completed"
    },
    "tags": []
   },
   "source": [
    "## check the model built "
   ]
  },
  {
   "cell_type": "markdown",
   "id": "f57448e7",
   "metadata": {
    "papermill": {
     "duration": 0.021326,
     "end_time": "2025-06-30T22:45:21.371627",
     "exception": false,
     "start_time": "2025-06-30T22:45:21.350301",
     "status": "completed"
    },
    "tags": []
   },
   "source": [
    "### Check the model built using Pyspark (In progress)"
   ]
  },
  {
   "cell_type": "code",
   "execution_count": 25,
   "id": "32863689",
   "metadata": {
    "execution": {
     "iopub.execute_input": "2025-06-30T22:45:21.417246Z",
     "iopub.status.busy": "2025-06-30T22:45:21.416458Z",
     "iopub.status.idle": "2025-06-30T22:45:21.423268Z",
     "shell.execute_reply": "2025-06-30T22:45:21.421812Z"
    },
    "papermill": {
     "duration": 0.031875,
     "end_time": "2025-06-30T22:45:21.425234",
     "exception": false,
     "start_time": "2025-06-30T22:45:21.393359",
     "status": "completed"
    },
    "tags": []
   },
   "outputs": [],
   "source": [
    "# !pip install pyspark==3.3.2"
   ]
  },
  {
   "cell_type": "code",
   "execution_count": 26,
   "id": "87f91e66",
   "metadata": {
    "execution": {
     "iopub.execute_input": "2025-06-30T22:45:21.472505Z",
     "iopub.status.busy": "2025-06-30T22:45:21.471632Z",
     "iopub.status.idle": "2025-06-30T22:45:21.477862Z",
     "shell.execute_reply": "2025-06-30T22:45:21.476439Z"
    },
    "papermill": {
     "duration": 0.032671,
     "end_time": "2025-06-30T22:45:21.479920",
     "exception": false,
     "start_time": "2025-06-30T22:45:21.447249",
     "status": "completed"
    },
    "tags": []
   },
   "outputs": [],
   "source": [
    "# %%bash\n",
    "# # For Debian/Ubuntu-based containers:\n",
    "# apt-get update && apt-get install -y openjdk-11-jdk\n",
    "\n",
    "# # For Alpine-based containers:\n",
    "# apk add openjdk11"
   ]
  },
  {
   "cell_type": "code",
   "execution_count": 27,
   "id": "67c39001",
   "metadata": {
    "execution": {
     "iopub.execute_input": "2025-06-30T22:45:21.529340Z",
     "iopub.status.busy": "2025-06-30T22:45:21.528810Z",
     "iopub.status.idle": "2025-06-30T22:45:21.535179Z",
     "shell.execute_reply": "2025-06-30T22:45:21.533584Z"
    },
    "papermill": {
     "duration": 0.034047,
     "end_time": "2025-06-30T22:45:21.537298",
     "exception": false,
     "start_time": "2025-06-30T22:45:21.503251",
     "status": "completed"
    },
    "tags": []
   },
   "outputs": [],
   "source": [
    "# !ls /usr/lib/jvm/java-11-openjdk-amd64"
   ]
  },
  {
   "cell_type": "code",
   "execution_count": 28,
   "id": "ff2863d3",
   "metadata": {
    "execution": {
     "iopub.execute_input": "2025-06-30T22:45:21.584628Z",
     "iopub.status.busy": "2025-06-30T22:45:21.583690Z",
     "iopub.status.idle": "2025-06-30T22:45:21.591130Z",
     "shell.execute_reply": "2025-06-30T22:45:21.589636Z"
    },
    "papermill": {
     "duration": 0.033152,
     "end_time": "2025-06-30T22:45:21.593179",
     "exception": false,
     "start_time": "2025-06-30T22:45:21.560027",
     "status": "completed"
    },
    "tags": []
   },
   "outputs": [],
   "source": [
    "# # !. /usr/spark/bin/load-spark-env.sh\n",
    "\n",
    "# # Typically in Debian/Ubuntu:\n",
    "# !export JAVA_HOME=$(dirname $(dirname $(readlink -f $(which java))))\n",
    "\n",
    "# # Or set it explicitly:\n",
    "# !export JAVA_HOME=/usr/lib/jvm/java-11-openjdk-amd64\n",
    "# from pyspark.sql import SparkSession\n",
    "\n",
    "# spark = SparkSession.builder \\\n",
    "#     .appName(\"dbt_clean\") \\\n",
    "#     .config(\"spark.hadoop.hive.metastore.schema.verification\", \"true\") \\\n",
    "#     .config(\"spark.sql.catalogImplementation\", \"hive\") \\\n",
    "#     .enableHiveSupport() \\\n",
    "#     .getOrCreate()\n",
    "\n",
    "# # spark = SparkSession.builder \\\n",
    "# #     .config(\"hive.metastore.uris\", \"thrift://dbt-hive-metastore:10000\") \\\n",
    "# #     .config(\"spark.sql.catalogImplementation\", \"hive\") \\\n",
    "# #     .enableHiveSupport() \\\n",
    "# #     .getOrCreate()\n",
    "\n",
    "# spark.sql(\"USE default\")  # Or your specific database\n",
    "# spark.sql(\"SHOW DATABASES\").show()\n",
    "# # spark.sql(\"select * from transactions\").show()\n",
    "# # # df.toPandas()"
   ]
  },
  {
   "cell_type": "code",
   "execution_count": 29,
   "id": "b054f4f4",
   "metadata": {
    "execution": {
     "iopub.execute_input": "2025-06-30T22:45:21.640619Z",
     "iopub.status.busy": "2025-06-30T22:45:21.639283Z",
     "iopub.status.idle": "2025-06-30T22:45:21.645610Z",
     "shell.execute_reply": "2025-06-30T22:45:21.644091Z"
    },
    "papermill": {
     "duration": 0.032577,
     "end_time": "2025-06-30T22:45:21.647880",
     "exception": false,
     "start_time": "2025-06-30T22:45:21.615303",
     "status": "completed"
    },
    "tags": []
   },
   "outputs": [],
   "source": [
    "# spark.sql(\"SHOW TABLES IN default\").show(truncate=False)"
   ]
  },
  {
   "cell_type": "code",
   "execution_count": 30,
   "id": "d2477376",
   "metadata": {
    "execution": {
     "iopub.execute_input": "2025-06-30T22:45:21.707227Z",
     "iopub.status.busy": "2025-06-30T22:45:21.706465Z",
     "iopub.status.idle": "2025-06-30T22:45:21.712935Z",
     "shell.execute_reply": "2025-06-30T22:45:21.711418Z"
    },
    "papermill": {
     "duration": 0.033152,
     "end_time": "2025-06-30T22:45:21.715585",
     "exception": false,
     "start_time": "2025-06-30T22:45:21.682433",
     "status": "completed"
    },
    "tags": []
   },
   "outputs": [],
   "source": [
    "# # Query metastore system tables\n",
    "# spark.sql(\"\"\"\n",
    "#   SELECT TBL_NAME, TBL_TYPE \n",
    "#   FROM default.TBLS \n",
    "#   JOIN default.DBS ON TBLS.DB_ID = DBS.DB_ID \n",
    "#   WHERE DBS.NAME = 'default'\n",
    "# \"\"\").show(truncate=False)"
   ]
  },
  {
   "cell_type": "code",
   "execution_count": 31,
   "id": "04c7f91a",
   "metadata": {
    "execution": {
     "iopub.execute_input": "2025-06-30T22:45:21.768639Z",
     "iopub.status.busy": "2025-06-30T22:45:21.767156Z",
     "iopub.status.idle": "2025-06-30T22:45:21.774980Z",
     "shell.execute_reply": "2025-06-30T22:45:21.773376Z"
    },
    "papermill": {
     "duration": 0.038151,
     "end_time": "2025-06-30T22:45:21.777640",
     "exception": false,
     "start_time": "2025-06-30T22:45:21.739489",
     "status": "completed"
    },
    "tags": []
   },
   "outputs": [],
   "source": [
    "# spark.conf.get(\"hive.metastore.uris\")  # Should return your URI"
   ]
  },
  {
   "cell_type": "code",
   "execution_count": 32,
   "id": "30ef3800",
   "metadata": {
    "execution": {
     "iopub.execute_input": "2025-06-30T22:45:21.827897Z",
     "iopub.status.busy": "2025-06-30T22:45:21.826906Z",
     "iopub.status.idle": "2025-06-30T22:45:21.835306Z",
     "shell.execute_reply": "2025-06-30T22:45:21.833472Z"
    },
    "papermill": {
     "duration": 0.035542,
     "end_time": "2025-06-30T22:45:21.838017",
     "exception": false,
     "start_time": "2025-06-30T22:45:21.802475",
     "status": "completed"
    },
    "tags": []
   },
   "outputs": [],
   "source": [
    "# spark.conf.get(\"spark.sql.catalogImplementation\")  # Should return \"hive\""
   ]
  },
  {
   "cell_type": "code",
   "execution_count": 33,
   "id": "91926ec3",
   "metadata": {
    "execution": {
     "iopub.execute_input": "2025-06-30T22:45:21.900895Z",
     "iopub.status.busy": "2025-06-30T22:45:21.900312Z",
     "iopub.status.idle": "2025-06-30T22:45:21.906977Z",
     "shell.execute_reply": "2025-06-30T22:45:21.905437Z"
    },
    "papermill": {
     "duration": 0.037444,
     "end_time": "2025-06-30T22:45:21.908952",
     "exception": false,
     "start_time": "2025-06-30T22:45:21.871508",
     "status": "completed"
    },
    "tags": []
   },
   "outputs": [],
   "source": [
    "# from pyspark.sql import SparkSession\n",
    "\n",
    "# spark.stop()\n",
    "# spark = SparkSession.builder \\\n",
    "#     .appName(\"DBTIntegration\") \\\n",
    "#     .config(\"hive.metastore.uris\", \"thrift://dbt-hive-metastore:9083\") \\\n",
    "#     .config(\"spark.sql.catalogImplementation\", \"hive\") \\\n",
    "#     .config(\"javax.jdo.option.ConnectionUserName\", \"dbt\") \\\n",
    "#     .config(\"javax.jdo.option.ConnectionPassword\", \"dbt\") \\\n",
    "#     .enableHiveSupport() \\\n",
    "#     .getOrCreate()\n",
    "# spark.sql(\"SHOW TABLES IN default\")"
   ]
  },
  {
   "cell_type": "code",
   "execution_count": 34,
   "id": "a34760ee",
   "metadata": {
    "execution": {
     "iopub.execute_input": "2025-06-30T22:45:21.956601Z",
     "iopub.status.busy": "2025-06-30T22:45:21.956054Z",
     "iopub.status.idle": "2025-06-30T22:45:21.961964Z",
     "shell.execute_reply": "2025-06-30T22:45:21.960564Z"
    },
    "papermill": {
     "duration": 0.031976,
     "end_time": "2025-06-30T22:45:21.963991",
     "exception": false,
     "start_time": "2025-06-30T22:45:21.932015",
     "status": "completed"
    },
    "tags": []
   },
   "outputs": [],
   "source": [
    "# from pyhive import hive\n",
    "# conn = hive.connect(host=spark_thrift_service_name, port=10000)\n",
    "# cursor = conn.cursor()\n",
    "# cursor.execute(\"SELECT * FROM default.transactions LIMIT 1\")\n",
    "# print(cursor.fetchall())"
   ]
  },
  {
   "cell_type": "markdown",
   "id": "ab2d2bd4",
   "metadata": {
    "papermill": {
     "duration": 0.024022,
     "end_time": "2025-06-30T22:45:22.010216",
     "exception": false,
     "start_time": "2025-06-30T22:45:21.986194",
     "status": "completed"
    },
    "tags": []
   },
   "source": [
    "### Test the built model (using the test model) "
   ]
  },
  {
   "cell_type": "markdown",
   "id": "0d6db6bf",
   "metadata": {
    "papermill": {
     "duration": 0.02283,
     "end_time": "2025-06-30T22:45:22.056840",
     "exception": false,
     "start_time": "2025-06-30T22:45:22.034010",
     "status": "completed"
    },
    "tags": []
   },
   "source": [
    "### dbt test"
   ]
  },
  {
   "cell_type": "code",
   "execution_count": 35,
   "id": "d95bbbdd",
   "metadata": {
    "execution": {
     "iopub.execute_input": "2025-06-30T22:45:22.129100Z",
     "iopub.status.busy": "2025-06-30T22:45:22.127717Z",
     "iopub.status.idle": "2025-06-30T22:45:33.518336Z",
     "shell.execute_reply": "2025-06-30T22:45:33.516668Z"
    },
    "papermill": {
     "duration": 11.436285,
     "end_time": "2025-06-30T22:45:33.521276",
     "exception": false,
     "start_time": "2025-06-30T22:45:22.084991",
     "status": "completed"
    },
    "tags": []
   },
   "outputs": [
    {
     "name": "stdout",
     "output_type": "stream",
     "text": [
      "\u001b[0m22:45:26  Running with dbt=1.10.2\r\n"
     ]
    },
    {
     "name": "stdout",
     "output_type": "stream",
     "text": [
      "\u001b[0m22:45:26  Registered adapter: spark=1.9.2\r\n"
     ]
    },
    {
     "name": "stdout",
     "output_type": "stream",
     "text": [
      "\u001b[0m22:45:27  Found 1 model, 1 test, 1 seed, 476 macros, 3 unit tests\r\n",
      "\u001b[0m22:45:27  \r\n",
      "\u001b[0m22:45:27  Concurrency: 1 threads (target='spark')\r\n",
      "\u001b[0m22:45:27  \r\n"
     ]
    },
    {
     "name": "stdout",
     "output_type": "stream",
     "text": [
      "\u001b[0m22:45:28  1 of 4 START test test_currency_coverage ....................................... [RUN]\r\n"
     ]
    },
    {
     "name": "stdout",
     "output_type": "stream",
     "text": [
      "\u001b[0m22:45:28  1 of 4 PASS test_currency_coverage ............................................. [\u001b[32mPASS\u001b[0m in 0.61s]\r\n",
      "\u001b[0m22:45:28  2 of 4 START unit_test transactions::test_currency_sgd ......................... [RUN]\r\n"
     ]
    },
    {
     "name": "stdout",
     "output_type": "stream",
     "text": [
      "\u001b[0m22:45:29  2 of 4 PASS transactions::test_currency_sgd .................................... [\u001b[32mPASS\u001b[0m in 1.20s]\r\n",
      "\u001b[0m22:45:29  3 of 4 START unit_test transactions::test_currency_usd ......................... [RUN]\r\n"
     ]
    },
    {
     "name": "stdout",
     "output_type": "stream",
     "text": [
      "\u001b[0m22:45:30  3 of 4 PASS transactions::test_currency_usd .................................... [\u001b[32mPASS\u001b[0m in 0.81s]\r\n",
      "\u001b[0m22:45:30  4 of 4 START unit_test transactions::test_inactive ............................. [RUN]\r\n"
     ]
    },
    {
     "name": "stdout",
     "output_type": "stream",
     "text": [
      "\u001b[0m22:45:31  4 of 4 PASS transactions::test_inactive ........................................ [\u001b[32mPASS\u001b[0m in 0.83s]\r\n"
     ]
    },
    {
     "name": "stdout",
     "output_type": "stream",
     "text": [
      "\u001b[0m22:45:31  \r\n",
      "\u001b[0m22:45:31  Finished running 1 test, 3 unit tests in 0 hours 0 minutes and 3.88 seconds (3.88s).\r\n"
     ]
    },
    {
     "name": "stdout",
     "output_type": "stream",
     "text": [
      "\u001b[0m22:45:31  \r\n",
      "\u001b[0m22:45:31  \u001b[32mCompleted successfully\u001b[0m\r\n",
      "\u001b[0m22:45:31  \r\n",
      "\u001b[0m22:45:31  Done. PASS=4 WARN=0 ERROR=0 SKIP=0 NO-OP=0 TOTAL=4\r\n"
     ]
    }
   ],
   "source": [
    "!dbt test --log-level info"
   ]
  },
  {
   "cell_type": "code",
   "execution_count": 36,
   "id": "7cff9e94",
   "metadata": {
    "execution": {
     "iopub.execute_input": "2025-06-30T22:45:33.578780Z",
     "iopub.status.busy": "2025-06-30T22:45:33.577266Z",
     "iopub.status.idle": "2025-06-30T22:45:33.583977Z",
     "shell.execute_reply": "2025-06-30T22:45:33.582464Z"
    },
    "papermill": {
     "duration": 0.039145,
     "end_time": "2025-06-30T22:45:33.586052",
     "exception": false,
     "start_time": "2025-06-30T22:45:33.546907",
     "status": "completed"
    },
    "tags": []
   },
   "outputs": [],
   "source": [
    "# !cat /home/vin/01-prj/stripe/sql-formal-verification/formal_verification_prj_name/tests/unit/test_transactions.yml"
   ]
  },
  {
   "cell_type": "code",
   "execution_count": 37,
   "id": "60c204c0",
   "metadata": {
    "execution": {
     "iopub.execute_input": "2025-06-30T22:45:33.636522Z",
     "iopub.status.busy": "2025-06-30T22:45:33.635850Z",
     "iopub.status.idle": "2025-06-30T22:45:33.642877Z",
     "shell.execute_reply": "2025-06-30T22:45:33.641109Z"
    },
    "papermill": {
     "duration": 0.03428,
     "end_time": "2025-06-30T22:45:33.645181",
     "exception": false,
     "start_time": "2025-06-30T22:45:33.610901",
     "status": "completed"
    },
    "tags": []
   },
   "outputs": [],
   "source": [
    "# %%bash\n",
    "# cd /usr/app/dbt\n",
    "# dbt compile --profiles-dir /usr/app/dbt  --project-dir /usr/app/dbt/dbt_spark_demo_prj\n",
    "# # dbt run-operation drop_table --args '{\"table_name\": \"default.transactions\"}'\n",
    "# dbt run-operation drop_view --args '{\"view_name\": \"default.my_first_dbt_model\"}' --profiles-dir /usr/app/dbt  --project-dir /usr/app/dbt/dbt_spark_demo_prj\n",
    "# dbt run-operation drop_view --args '{\"view_name\": \"default.my_second_dbt_model\"}' --profiles-dir /usr/app/dbt  --project-dir /usr/app/dbt/dbt_spark_demo_prj"
   ]
  },
  {
   "cell_type": "markdown",
   "id": "c5dcb3be",
   "metadata": {
    "papermill": {
     "duration": 0.025356,
     "end_time": "2025-06-30T22:45:33.694692",
     "exception": false,
     "start_time": "2025-06-30T22:45:33.669336",
     "status": "completed"
    },
    "tags": []
   },
   "source": [
    "<!-- # Todo\n",
    "## Audit compliance \n",
    "### time tracing with time-stamping\n",
    "1. Add timestamp for loaded data using dbt model\n",
    "```jinja\n",
    "SELECT\n",
    "    *,\n",
    "    '{{ run_started_at }}'::timestamp AS added_at\n",
    "FROM {{ ref('my_seed_table') }}\n",
    "```\n",
    "### File tracing with source and targets file path, tablename -->\n"
   ]
  },
  {
   "cell_type": "markdown",
   "id": "5c25bb33",
   "metadata": {
    "papermill": {
     "duration": 0.024102,
     "end_time": "2025-06-30T22:45:33.745524",
     "exception": false,
     "start_time": "2025-06-30T22:45:33.721422",
     "status": "completed"
    },
    "tags": []
   },
   "source": [
    "# End of notebook"
   ]
  }
 ],
 "metadata": {
  "kernelspec": {
   "display_name": "venv",
   "language": "python",
   "name": "python3"
  },
  "language_info": {
   "codemirror_mode": {
    "name": "ipython",
    "version": 3
   },
   "file_extension": ".py",
   "mimetype": "text/x-python",
   "name": "python",
   "nbconvert_exporter": "python",
   "pygments_lexer": "ipython3",
   "version": "3.11.2"
  },
  "papermill": {
   "default_parameters": {},
   "duration": 118.866383,
   "end_time": "2025-06-30T22:45:34.814325",
   "environment_variables": {},
   "exception": null,
   "input_path": "/usr/app/demo/dbt-spark-demo.ipynb",
   "output_path": "/usr/app/demo/dbt-spark-demo.ipynb",
   "parameters": {},
   "start_time": "2025-06-30T22:43:35.947942",
   "version": "2.6.0"
  }
 },
 "nbformat": 4,
 "nbformat_minor": 5
}