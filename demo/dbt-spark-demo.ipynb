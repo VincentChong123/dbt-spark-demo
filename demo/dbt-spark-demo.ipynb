{
 "cells": [
  {
   "cell_type": "raw",
   "id": "b257ecab",
   "metadata": {
    "papermill": {
     "duration": 0.017108,
     "end_time": "2025-07-02T14:52:57.913083",
     "exception": false,
     "start_time": "2025-07-02T14:52:57.895975",
     "status": "completed"
    },
    "tags": [],
    "vscode": {
     "languageId": "raw"
    }
   },
   "source": [
    "---\n",
    "title: \"Demo of testing ETL pipeline using DBT and spark\"\n",
    "date: last-modified\n",
    "format:\n",
    "  html:\n",
    "    toc: true\n",
    "    toc-depth: 4\n",
    "    toc-location: left    \n",
    "    code-fold: true\n",
    "    css: styles.css  \n",
    "    number-sections: true       \n",
    "    other-links:\n",
    "      - text: github.com project repo\n",
    "        href: https://github.com/VincentChong123/dbt-spark-demo.git\n",
    "---"
   ]
  },
  {
   "cell_type": "markdown",
   "id": "5888a439",
   "metadata": {
    "papermill": {
     "duration": 0.021166,
     "end_time": "2025-07-02T14:52:57.959955",
     "exception": false,
     "start_time": "2025-07-02T14:52:57.938789",
     "status": "completed"
    },
    "tags": [],
    "vscode": {
     "languageId": "raw"
    }
   },
   "source": [
    "# Introduction\n",
    "This project is a demo of a dbt workflow for data ingestion, using a finance data ETL pipeline as an example. It emphasizes the importance of performing sanity checks on input data to prevent errors or invalid data from propagating through downstream stages of the data pipeline."
   ]
  },
  {
   "cell_type": "code",
   "execution_count": 1,
   "id": "e897f7e7",
   "metadata": {
    "execution": {
     "iopub.execute_input": "2025-07-02T14:52:57.988217Z",
     "iopub.status.busy": "2025-07-02T14:52:57.987652Z",
     "iopub.status.idle": "2025-07-02T14:52:57.995229Z",
     "shell.execute_reply": "2025-07-02T14:52:57.993811Z"
    },
    "papermill": {
     "duration": 0.02426,
     "end_time": "2025-07-02T14:52:57.997469",
     "exception": false,
     "start_time": "2025-07-02T14:52:57.973209",
     "status": "completed"
    },
    "tags": [
     "skip"
    ]
   },
   "outputs": [],
   "source": [
    "# ```{mermaid}\n",
    "# flowchart LR\n",
    "#    empty[\".\"] --> DBT[\"Container: dbt-core \n",
    "#        plugin: dbt-\n",
    "#   DBT-pyspark[Hive]\"] --> |Generate SQL with 'dbt seed', 'dbt compile'| T(Container: Spark-Thrift)\n",
    "#   T -->|Query using the generated SQL| Storage[(Container: Postgre Hive metadata store)]\n",
    "\n",
    "# ```"
   ]
  },
  {
   "cell_type": "code",
   "execution_count": 2,
   "id": "ae9c7095",
   "metadata": {
    "execution": {
     "iopub.execute_input": "2025-07-02T14:52:58.026154Z",
     "iopub.status.busy": "2025-07-02T14:52:58.025297Z",
     "iopub.status.idle": "2025-07-02T14:52:58.993285Z",
     "shell.execute_reply": "2025-07-02T14:52:58.991297Z"
    },
    "papermill": {
     "duration": 0.984943,
     "end_time": "2025-07-02T14:52:58.995845",
     "exception": false,
     "start_time": "2025-07-02T14:52:58.010902",
     "status": "completed"
    },
    "tags": []
   },
   "outputs": [
    {
     "data": {
      "text/html": [
       "<div>\n",
       "<style scoped>\n",
       "    .dataframe tbody tr th:only-of-type {\n",
       "        vertical-align: middle;\n",
       "    }\n",
       "\n",
       "    .dataframe tbody tr th {\n",
       "        vertical-align: top;\n",
       "    }\n",
       "\n",
       "    .dataframe thead th {\n",
       "        text-align: right;\n",
       "    }\n",
       "</style>\n",
       "<table border=\"1\" class=\"dataframe\">\n",
       "  <thead>\n",
       "    <tr style=\"text-align: right;\">\n",
       "      <th></th>\n",
       "      <th>id</th>\n",
       "      <th>amount</th>\n",
       "      <th>currency</th>\n",
       "      <th>status</th>\n",
       "    </tr>\n",
       "  </thead>\n",
       "  <tbody>\n",
       "    <tr>\n",
       "      <th>0</th>\n",
       "      <td>1</td>\n",
       "      <td>100.00</td>\n",
       "      <td>USD</td>\n",
       "      <td>ACTIVE</td>\n",
       "    </tr>\n",
       "    <tr>\n",
       "      <th>1</th>\n",
       "      <td>2</td>\n",
       "      <td>200.01</td>\n",
       "      <td>SGD</td>\n",
       "      <td>ACTIVE</td>\n",
       "    </tr>\n",
       "    <tr>\n",
       "      <th>2</th>\n",
       "      <td>3</td>\n",
       "      <td>150.02</td>\n",
       "      <td>EUR</td>\n",
       "      <td>ACTIVE</td>\n",
       "    </tr>\n",
       "    <tr>\n",
       "      <th>3</th>\n",
       "      <td>4</td>\n",
       "      <td>120.03</td>\n",
       "      <td>USD</td>\n",
       "      <td>INACTIVE</td>\n",
       "    </tr>\n",
       "    <tr>\n",
       "      <th>4</th>\n",
       "      <td>5</td>\n",
       "      <td>180.04</td>\n",
       "      <td>SGD</td>\n",
       "      <td>INACTIVE</td>\n",
       "    </tr>\n",
       "    <tr>\n",
       "      <th>5</th>\n",
       "      <td>6</td>\n",
       "      <td>-300.05</td>\n",
       "      <td>JPY</td>\n",
       "      <td>ACTIVE</td>\n",
       "    </tr>\n",
       "    <tr>\n",
       "      <th>6</th>\n",
       "      <td>7</td>\n",
       "      <td>300.99</td>\n",
       "      <td>SUD</td>\n",
       "      <td>ACTIVE</td>\n",
       "    </tr>\n",
       "  </tbody>\n",
       "</table>\n",
       "</div>"
      ],
      "text/plain": [
       "   id  amount currency    status\n",
       "0   1  100.00      USD    ACTIVE\n",
       "1   2  200.01      SGD    ACTIVE\n",
       "2   3  150.02      EUR    ACTIVE\n",
       "3   4  120.03      USD  INACTIVE\n",
       "4   5  180.04      SGD  INACTIVE\n",
       "5   6 -300.05      JPY    ACTIVE\n",
       "6   7  300.99      SUD    ACTIVE"
      ]
     },
     "execution_count": 2,
     "metadata": {},
     "output_type": "execute_result"
    }
   ],
   "source": [
    "import pandas as pd\n",
    "pd.read_csv(\"/usr/app/demo/dbt_spark_demo_prj/seeds/transactions/raw__transactions.csv\")\n"
   ]
  },
  {
   "cell_type": "markdown",
   "id": "d8640c45",
   "metadata": {
    "papermill": {
     "duration": 0.021309,
     "end_time": "2025-07-02T14:52:59.036444",
     "exception": false,
     "start_time": "2025-07-02T14:52:59.015135",
     "status": "completed"
    },
    "tags": [],
    "vscode": {
     "languageId": "raw"
    }
   },
   "source": [
    "## Project file structure"
   ]
  },
  {
   "cell_type": "code",
   "execution_count": 3,
   "id": "b28d4077",
   "metadata": {
    "execution": {
     "iopub.execute_input": "2025-07-02T14:52:59.080608Z",
     "iopub.status.busy": "2025-07-02T14:52:59.078935Z",
     "iopub.status.idle": "2025-07-02T14:53:00.018640Z",
     "shell.execute_reply": "2025-07-02T14:53:00.016494Z"
    },
    "papermill": {
     "duration": 0.960487,
     "end_time": "2025-07-02T14:53:00.021812",
     "exception": false,
     "start_time": "2025-07-02T14:52:59.061325",
     "status": "completed"
    },
    "tags": []
   },
   "outputs": [
    {
     "name": "stdout",
     "output_type": "stream",
     "text": [
      "\u001b[01;34m/usr/app\u001b[00m\r\n",
      "├── \u001b[01;34mdbt\u001b[00m\r\n",
      "│   ├── dbt.Dockerfile\r\n",
      "│   ├── \u001b[01;34mdbt_spark_demo_prj\u001b[00m\r\n",
      "│   ├── docker-compose.yml\r\n",
      "│   ├── \u001b[01;34mlogs\u001b[00m\r\n",
      "│   └── requirements.txt\r\n",
      "├── \u001b[01;34mdbt-spark\u001b[00m\r\n",
      "│   ├── \u001b[01;34mdagger\u001b[00m\r\n",
      "│   ├── \u001b[01;34mdbt\u001b[00m\r\n",
      "│   ├── \u001b[01;34mdocker\u001b[00m\r\n",
      "│   ├── docker-compose.yml\r\n",
      "│   ├── \u001b[01;34mscripts\u001b[00m\r\n",
      "│   ├── test.env.example\r\n",
      "│   └── \u001b[01;34mtests\u001b[00m\r\n",
      "├── \u001b[01;34mdemo\u001b[00m\r\n",
      "│   ├── dbt-spark-demo.html\r\n",
      "│   ├── dbt-spark-demo.ipynb\r\n",
      "│   ├── \u001b[01;34mdbt-spark-demo_files\u001b[00m\r\n",
      "│   ├── \u001b[01;34mdbt_spark_demo_prj\u001b[00m\r\n",
      "│   ├── generate-documentation.sh\r\n",
      "│   ├── profiles.yml\r\n",
      "│   └── \u001b[01;34mresults\u001b[00m\r\n",
      "├── \u001b[01;34mdocs\u001b[00m\r\n",
      "│   └── index.html\r\n",
      "├── index.html\r\n",
      "└── run-demo.sh\r\n",
      "\r\n"
     ]
    }
   ],
   "source": [
    "!tree -L 2 --sort=\"name\" /usr/app | grep -v \".*\\.toml$\" | grep -v \".*\\.md$\" | grep -v \".*files$\""
   ]
  },
  {
   "cell_type": "markdown",
   "id": "be13bae7",
   "metadata": {
    "papermill": {
     "duration": 0.018373,
     "end_time": "2025-07-02T14:53:00.059042",
     "exception": false,
     "start_time": "2025-07-02T14:53:00.040669",
     "status": "completed"
    },
    "tags": []
   },
   "source": [
    "# Environment setup"
   ]
  },
  {
   "cell_type": "markdown",
   "id": "c0152385",
   "metadata": {
    "papermill": {
     "duration": 0.022135,
     "end_time": "2025-07-02T14:53:00.106656",
     "exception": false,
     "start_time": "2025-07-02T14:53:00.084521",
     "status": "completed"
    },
    "tags": [],
    "vscode": {
     "languageId": "raw"
    }
   },
   "source": [
    "## Docker\n",
    "### Shared network for docker containers\n",
    "```bash\n",
    "source ./docker-common.sh\n",
    "```"
   ]
  },
  {
   "cell_type": "markdown",
   "id": "0de346d1",
   "metadata": {
    "papermill": {
     "duration": 0.025935,
     "end_time": "2025-07-02T14:53:00.168619",
     "exception": false,
     "start_time": "2025-07-02T14:53:00.142684",
     "status": "completed"
    },
    "tags": [],
    "vscode": {
     "languageId": "raw"
    }
   },
   "source": [
    "## Install jupyter notebook for running this demo in notebook \n",
    "This notebook is executed using jupyer-notebook kernel (http://127.0.0.1:8888) of the loaded custom-dbt container. The container is loaded using command below\n",
    "```bash\n",
    "jupyter notebook --NotebookApp.token='' --NotebookApp.password='' --NotebookApp.disable_check_xsrf=True --allow-root --ip=0.0.0.0 --port=8888 --no-browser\n",
    "```\n",
    "use allow-root for demo purpose only, not for production due to cyber security\n"
   ]
  },
  {
   "cell_type": "code",
   "execution_count": 4,
   "id": "8a58c3eb",
   "metadata": {
    "execution": {
     "iopub.execute_input": "2025-07-02T14:53:00.232772Z",
     "iopub.status.busy": "2025-07-02T14:53:00.231406Z",
     "iopub.status.idle": "2025-07-02T14:53:00.273142Z",
     "shell.execute_reply": "2025-07-02T14:53:00.270896Z"
    },
    "papermill": {
     "duration": 0.079607,
     "end_time": "2025-07-02T14:53:00.275932",
     "exception": false,
     "start_time": "2025-07-02T14:53:00.196325",
     "status": "completed"
    },
    "tags": []
   },
   "outputs": [
    {
     "name": "stdout",
     "output_type": "stream",
     "text": [
      "Wed Jul  2 22:53:00 +08 2025\n"
     ]
    },
    {
     "name": "stdout",
     "output_type": "stream",
     "text": [
      "/usr/local/bin/python\n"
     ]
    },
    {
     "name": "stdout",
     "output_type": "stream",
     "text": [
      "/usr/app/dbt\n"
     ]
    }
   ],
   "source": [
    "%%bash\n",
    "export TZ='Asia/Singapore'\n",
    "date\n",
    "which python\n",
    "pwd"
   ]
  },
  {
   "cell_type": "markdown",
   "id": "b1e7c606",
   "metadata": {
    "papermill": {
     "duration": 0.022941,
     "end_time": "2025-07-02T14:53:00.319830",
     "exception": false,
     "start_time": "2025-07-02T14:53:00.296889",
     "status": "completed"
    },
    "tags": []
   },
   "source": [
    "### Connection to read table in Hive meta-data store"
   ]
  },
  {
   "cell_type": "markdown",
   "id": "d6b175ae",
   "metadata": {
    "papermill": {
     "duration": 0.024285,
     "end_time": "2025-07-02T14:53:00.374811",
     "exception": false,
     "start_time": "2025-07-02T14:53:00.350526",
     "status": "completed"
    },
    "tags": []
   },
   "source": [
    "## Variables"
   ]
  },
  {
   "cell_type": "code",
   "execution_count": 5,
   "id": "f86badf3",
   "metadata": {
    "execution": {
     "iopub.execute_input": "2025-07-02T14:53:00.434916Z",
     "iopub.status.busy": "2025-07-02T14:53:00.433445Z",
     "iopub.status.idle": "2025-07-02T14:53:02.289687Z",
     "shell.execute_reply": "2025-07-02T14:53:02.287843Z"
    },
    "papermill": {
     "duration": 1.893955,
     "end_time": "2025-07-02T14:53:02.292199",
     "exception": false,
     "start_time": "2025-07-02T14:53:00.398244",
     "status": "completed"
    },
    "tags": []
   },
   "outputs": [
    {
     "name": "stdout",
     "output_type": "stream",
     "text": [
      "/usr/app/dbt\r\n"
     ]
    },
    {
     "name": "stdout",
     "output_type": "stream",
     "text": [
      "/usr/app/dbt\r\n"
     ]
    },
    {
     "name": "stdout",
     "output_type": "stream",
     "text": [
      "dbt-spark3-thrift\n",
      "/usr/app/dbt/dbt_spark_demo_prj\n",
      "dbt_spark_demo_prj\n"
     ]
    }
   ],
   "source": [
    "from dotenv import load_dotenv\n",
    "import os\n",
    "!pwd\n",
    "\n",
    "!cd ../\n",
    "!pwd\n",
    "\n",
    "load_dotenv()\n",
    "spark_thrift_service_name=os.getenv('SPARK_CONTAINER_SERVICE_NAME')\n",
    "dbt_project_dir=os.getenv('DBT_PROJECT_DIR')\n",
    "dbt_project_name=os.getenv('DBT_PROJECT_NAME')\n",
    "print(spark_thrift_service_name)\n",
    "print(dbt_project_dir)\n",
    "print(dbt_project_name)"
   ]
  },
  {
   "cell_type": "markdown",
   "id": "aec4f6d3",
   "metadata": {
    "papermill": {
     "duration": 0.013307,
     "end_time": "2025-07-02T14:53:02.320227",
     "exception": false,
     "start_time": "2025-07-02T14:53:02.306920",
     "status": "completed"
    },
    "tags": []
   },
   "source": [
    "# Start demo"
   ]
  },
  {
   "cell_type": "code",
   "execution_count": 6,
   "id": "34c662e5",
   "metadata": {
    "execution": {
     "iopub.execute_input": "2025-07-02T14:53:02.350039Z",
     "iopub.status.busy": "2025-07-02T14:53:02.349477Z",
     "iopub.status.idle": "2025-07-02T14:53:03.542115Z",
     "shell.execute_reply": "2025-07-02T14:53:03.539952Z"
    },
    "papermill": {
     "duration": 1.210444,
     "end_time": "2025-07-02T14:53:03.544683",
     "exception": false,
     "start_time": "2025-07-02T14:53:02.334239",
     "status": "completed"
    },
    "tags": []
   },
   "outputs": [],
   "source": [
    "filepath=\"/usr/app/demo/results/test_start.txt\"\n",
    "!echo start test at > $filepath \n",
    "!export TZ='Asia/Singapore'; date >> $filepath"
   ]
  },
  {
   "cell_type": "markdown",
   "id": "e7f0f26b",
   "metadata": {
    "papermill": {
     "duration": 0.014686,
     "end_time": "2025-07-02T14:53:03.573442",
     "exception": false,
     "start_time": "2025-07-02T14:53:03.558756",
     "status": "completed"
    },
    "tags": []
   },
   "source": [
    "## Helper codes"
   ]
  },
  {
   "cell_type": "code",
   "execution_count": 7,
   "id": "b9f4df75",
   "metadata": {
    "execution": {
     "iopub.execute_input": "2025-07-02T14:53:03.604551Z",
     "iopub.status.busy": "2025-07-02T14:53:03.603950Z",
     "iopub.status.idle": "2025-07-02T14:53:04.080497Z",
     "shell.execute_reply": "2025-07-02T14:53:04.078958Z"
    },
    "papermill": {
     "duration": 0.494439,
     "end_time": "2025-07-02T14:53:04.082464",
     "exception": false,
     "start_time": "2025-07-02T14:53:03.588025",
     "status": "completed"
    },
    "tags": []
   },
   "outputs": [
    {
     "name": "stdout",
     "output_type": "stream",
     "text": [
      "\n"
     ]
    },
    {
     "data": {
      "text/html": [
       "<div>\n",
       "<style scoped>\n",
       "    .dataframe tbody tr th:only-of-type {\n",
       "        vertical-align: middle;\n",
       "    }\n",
       "\n",
       "    .dataframe tbody tr th {\n",
       "        vertical-align: top;\n",
       "    }\n",
       "\n",
       "    .dataframe thead th {\n",
       "        text-align: right;\n",
       "    }\n",
       "</style>\n",
       "<table border=\"1\" class=\"dataframe\">\n",
       "  <thead>\n",
       "    <tr style=\"text-align: right;\">\n",
       "      <th></th>\n",
       "      <th>namespace</th>\n",
       "      <th>tableName</th>\n",
       "      <th>isTemporary</th>\n",
       "    </tr>\n",
       "  </thead>\n",
       "  <tbody>\n",
       "    <tr>\n",
       "      <th>0</th>\n",
       "      <td>default</td>\n",
       "      <td>raw__transactions</td>\n",
       "      <td>False</td>\n",
       "    </tr>\n",
       "    <tr>\n",
       "      <th>1</th>\n",
       "      <td>default</td>\n",
       "      <td>transactions</td>\n",
       "      <td>False</td>\n",
       "    </tr>\n",
       "  </tbody>\n",
       "</table>\n",
       "</div>"
      ],
      "text/plain": [
       "  namespace          tableName  isTemporary\n",
       "0   default  raw__transactions        False\n",
       "1   default       transactions        False"
      ]
     },
     "metadata": {},
     "output_type": "display_data"
    },
    {
     "name": "stdout",
     "output_type": "stream",
     "text": [
      "------------\n"
     ]
    }
   ],
   "source": [
    "from pyhive import hive\n",
    "import pandas as pd\n",
    "from sqlalchemy.engine import create_engine\n",
    "\n",
    "def check_table(host=spark_thrift_service_name, message_to_be_printed=\"\"):\n",
    "    # with hive.Connection(host=spark_thrift_service_name, port=10000, \n",
    "    #                     #    username='', \n",
    "    #                     database='default') as conn:\n",
    "\n",
    "    #     # Query all tables in the default database\n",
    "    #     df = pd.read_sql(\"SHOW TABLES\", conn)\n",
    "\n",
    "    #     # Display tables\n",
    "    #     display(df)\n",
    "    print(message_to_be_printed)\n",
    "    engine = create_engine(f'hive://{spark_thrift_service_name}:10000/default')\n",
    "    df = pd.read_sql(\"SHOW TABLES;\", engine)\n",
    "    # display(df)\n",
    "    display(df)\n",
    "\n",
    "def show_table_details(table_name, database_name='default',\n",
    "                        # host=spark_thrift_service_name,\n",
    "                        port=10000):\n",
    "    # sqlAlchemy api fail here due to \"sqlAlchemy relection\": TODO investigate root cause\n",
    "    # engine = create_engine(f'hive://{spark_thrift_service_name}:10000/default')\n",
    "    # df = pd.read_sql(f\"select * from {table_name} limit 10\", engine)\n",
    "\n",
    "    with hive.Connection(host=spark_thrift_service_name, port=port, database=database_name) as conn:\n",
    "        df = pd.read_sql(f\"select * from {database_name}.{table_name}\", conn)\n",
    "\n",
    "        display(df)\n",
    "\n",
    "    \n",
    "check_table()\n",
    "print(\"------------\")\n",
    "# show_table_details(\"transactions\")\n"
   ]
  },
  {
   "cell_type": "markdown",
   "id": "04ca1b42",
   "metadata": {
    "papermill": {
     "duration": 0.01467,
     "end_time": "2025-07-02T14:53:04.111736",
     "exception": false,
     "start_time": "2025-07-02T14:53:04.097066",
     "status": "completed"
    },
    "tags": []
   },
   "source": [
    "## DBT "
   ]
  },
  {
   "cell_type": "code",
   "execution_count": 8,
   "id": "fdf3c236",
   "metadata": {
    "execution": {
     "iopub.execute_input": "2025-07-02T14:53:04.144125Z",
     "iopub.status.busy": "2025-07-02T14:53:04.143439Z",
     "iopub.status.idle": "2025-07-02T14:53:07.687291Z",
     "shell.execute_reply": "2025-07-02T14:53:07.684953Z"
    },
    "papermill": {
     "duration": 3.563104,
     "end_time": "2025-07-02T14:53:07.689905",
     "exception": false,
     "start_time": "2025-07-02T14:53:04.126801",
     "status": "completed"
    },
    "tags": []
   },
   "outputs": [
    {
     "name": "stdout",
     "output_type": "stream",
     "text": [
      "Core:\r\n",
      "  - installed: 1.10.2\r\n",
      "  - latest:    1.10.2 - \u001b[32mUp to date!\u001b[0m\r\n",
      "\r\n",
      "Plugins:\r\n",
      "  - spark: 1.9.2 - \u001b[32mUp to date!\u001b[0m\r\n",
      "\r\n",
      "\r\n"
     ]
    }
   ],
   "source": [
    "!dbt --version"
   ]
  },
  {
   "cell_type": "markdown",
   "id": "bfe04595",
   "metadata": {
    "papermill": {
     "duration": 0.014792,
     "end_time": "2025-07-02T14:53:07.756218",
     "exception": false,
     "start_time": "2025-07-02T14:53:07.741426",
     "status": "completed"
    },
    "tags": []
   },
   "source": [
    "## Verify DBT setup"
   ]
  },
  {
   "cell_type": "markdown",
   "id": "ee90d22f",
   "metadata": {
    "papermill": {
     "duration": 0.014481,
     "end_time": "2025-07-02T14:53:07.785129",
     "exception": false,
     "start_time": "2025-07-02T14:53:07.770648",
     "status": "completed"
    },
    "tags": []
   },
   "source": [
    "### profiles.yml\n",
    "```yml\n",
    "formal_verification_prj_name:\n",
    "  outputs:\n",
    "    spark:\n",
    "      type: spark\n",
    "      method: thrift\n",
    "      host: dbt-spark3-thrift\n",
    "      schema: default\n",
    "      connect_timeout: 30\n",
    "      authentication: NONE\n",
    "  target: spark\n",
    "\n",
    "```"
   ]
  },
  {
   "cell_type": "code",
   "execution_count": 9,
   "id": "70bfe66e",
   "metadata": {
    "execution": {
     "iopub.execute_input": "2025-07-02T14:53:07.815968Z",
     "iopub.status.busy": "2025-07-02T14:53:07.815149Z",
     "iopub.status.idle": "2025-07-02T14:53:08.425840Z",
     "shell.execute_reply": "2025-07-02T14:53:08.423518Z"
    },
    "papermill": {
     "duration": 0.629708,
     "end_time": "2025-07-02T14:53:08.428457",
     "exception": false,
     "start_time": "2025-07-02T14:53:07.798749",
     "status": "completed"
    },
    "tags": []
   },
   "outputs": [
    {
     "name": "stdout",
     "output_type": "stream",
     "text": [
      "send_anonymous_usage_stats: false\r\n",
      "\r\n",
      "dbt_spark_demo_prj:\r\n",
      "  outputs:\r\n",
      "    spark:\r\n",
      "      type: spark\r\n",
      "      method: thrift\r\n",
      "      host: dbt-spark3-thrift\r\n",
      "      port: 10000\r\n",
      "      schema: default\r\n",
      "      connect_timeout: 30\r\n",
      "      authentication: NONE\r\n",
      "  target: spark\r\n"
     ]
    }
   ],
   "source": [
    "!cat ~/.dbt/profiles.yml"
   ]
  },
  {
   "cell_type": "markdown",
   "id": "b7c21787",
   "metadata": {
    "papermill": {
     "duration": 0.015231,
     "end_time": "2025-07-02T14:53:08.458544",
     "exception": false,
     "start_time": "2025-07-02T14:53:08.443313",
     "status": "completed"
    },
    "tags": []
   },
   "source": [
    "### dbt_project.yml\n",
    "```yml\n",
    "name: 'formal_verification_prj_name'\n",
    "version: '1.0.0'\n",
    "\n",
    "# This setting configures which \"profile\" dbt uses for this project.\n",
    "profile: 'formal_verification_prj_name'\n",
    "\n",
    "# These configurations specify where dbt should look for different types of files.\n",
    "# The `model-paths` config, for example, states that models in this project can be\n",
    "# found in the \"models/\" directory. You probably won't need to change these!\n",
    "model-paths: [\"models\"]\n",
    "analysis-paths: [\"analyses\"]\n",
    "test-paths: [\"tests\"]\n",
    "seed-paths: [\"seeds\"]\n",
    "macro-paths: [\"macros\"]\n",
    "snapshot-paths: [\"snapshots\"]\n",
    "\n",
    "clean-targets:         # directories to be removed by `dbt clean`\n",
    "  - \"target\"\n",
    "  - \"dbt_packages\"\n",
    "\n",
    "models:\n",
    "  formal_verification_prj_name:\n",
    "    # +write_json: false\n",
    "    +materialized: incremental\n",
    "    +file_format: parquet    \n",
    "\n",
    "```"
   ]
  },
  {
   "cell_type": "code",
   "execution_count": 10,
   "id": "089c0b95",
   "metadata": {
    "execution": {
     "iopub.execute_input": "2025-07-02T14:53:08.489951Z",
     "iopub.status.busy": "2025-07-02T14:53:08.489057Z",
     "iopub.status.idle": "2025-07-02T14:53:09.093130Z",
     "shell.execute_reply": "2025-07-02T14:53:09.090754Z"
    },
    "papermill": {
     "duration": 0.62305,
     "end_time": "2025-07-02T14:53:09.096133",
     "exception": false,
     "start_time": "2025-07-02T14:53:08.473083",
     "status": "completed"
    },
    "tags": []
   },
   "outputs": [
    {
     "name": "stdout",
     "output_type": "stream",
     "text": [
      "\r\n",
      "# Name your project! Project names should contain only lowercase characters\r\n",
      "# and underscores. A good package name should reflect your organization's\r\n",
      "# name or the intended use of these models\r\n",
      "name: 'dbt_spark_demo_prj'\r\n",
      "version: '1.0.0'\r\n",
      "\r\n",
      "# This setting configures which \"profile\" dbt uses for this project.\r\n",
      "profile: 'dbt_spark_demo_prj'\r\n",
      "\r\n",
      "# These configurations specify where dbt should look for different types of files.\r\n",
      "# The `model-paths` config, for example, states that models in this project can be\r\n",
      "# found in the \"models/\" directory. You probably won't need to change these!\r\n",
      "model-paths: [\"models\"]\r\n",
      "analysis-paths: [\"analyses\"]\r\n",
      "test-paths: [\"tests\"]\r\n",
      "seed-paths: [\"seeds\"]\r\n",
      "macro-paths: [\"macros\"]\r\n",
      "snapshot-paths: [\"snapshots\"]\r\n",
      "\r\n",
      "clean-targets:         # directories to be removed by `dbt clean`\r\n",
      "  - \"target\"\r\n",
      "  - \"dbt_packages\"\r\n",
      "\r\n",
      "\r\n",
      "# Configuring models\r\n",
      "# Full documentation: https://docs.getdbt.com/docs/configuring-models\r\n",
      "\r\n",
      "# In this example config, we tell dbt to build all models in the example/\r\n",
      "# directory as views. These settings can be overridden in the individual model\r\n",
      "# files using the `{{ config(...) }}` macro.\r\n",
      "models:\r\n",
      "  dbt_spark_demo_prj:\r\n",
      "    +materialized: incremental\r\n",
      "    +file_format: parquet\r\n",
      "  # example:\r\n",
      "  #   +enabled: false\r\n",
      "    \r\n"
     ]
    }
   ],
   "source": [
    "!cat /usr/app/dbt/dbt_spark_demo_prj/dbt_project.yml"
   ]
  },
  {
   "cell_type": "markdown",
   "id": "5fa3d336",
   "metadata": {
    "papermill": {
     "duration": 0.01508,
     "end_time": "2025-07-02T14:53:09.125935",
     "exception": false,
     "start_time": "2025-07-02T14:53:09.110855",
     "status": "completed"
    },
    "tags": []
   },
   "source": [
    "### dbt debug"
   ]
  },
  {
   "cell_type": "code",
   "execution_count": 11,
   "id": "463ce0e5",
   "metadata": {
    "execution": {
     "iopub.execute_input": "2025-07-02T14:53:09.157351Z",
     "iopub.status.busy": "2025-07-02T14:53:09.156437Z",
     "iopub.status.idle": "2025-07-02T14:53:14.417622Z",
     "shell.execute_reply": "2025-07-02T14:53:14.415378Z"
    },
    "papermill": {
     "duration": 5.280073,
     "end_time": "2025-07-02T14:53:14.420329",
     "exception": false,
     "start_time": "2025-07-02T14:53:09.140256",
     "status": "completed"
    },
    "tags": []
   },
   "outputs": [
    {
     "name": "stdout",
     "output_type": "stream",
     "text": [
      "\u001b[0m14:53:12  Running with dbt=1.10.2\r\n"
     ]
    },
    {
     "name": "stdout",
     "output_type": "stream",
     "text": [
      "\u001b[0m14:53:12  dbt version: 1.10.2\r\n",
      "\u001b[0m14:53:12  python version: 3.11.2\r\n",
      "\u001b[0m14:53:12  python path: /usr/local/bin/python3\r\n",
      "\u001b[0m14:53:12  os info: Linux-5.15.167.4-microsoft-standard-WSL2-x86_64-with-glibc2.31\r\n"
     ]
    },
    {
     "name": "stdout",
     "output_type": "stream",
     "text": [
      "\u001b[0m14:53:12  Using profiles dir at /root/.dbt\r\n",
      "\u001b[0m14:53:12  Using profiles.yml file at /root/.dbt/profiles.yml\r\n",
      "\u001b[0m14:53:12  Using dbt_project.yml file at /usr/app/dbt/dbt_spark_demo_prj/dbt_project.yml\r\n",
      "\u001b[0m14:53:12  adapter type: spark\r\n",
      "\u001b[0m14:53:12  adapter version: 1.9.2\r\n"
     ]
    },
    {
     "name": "stdout",
     "output_type": "stream",
     "text": [
      "\u001b[0m14:53:12  Configuration:\r\n",
      "\u001b[0m14:53:12    profiles.yml file [\u001b[32mOK found and valid\u001b[0m]\r\n",
      "\u001b[0m14:53:12    dbt_project.yml file [\u001b[32mOK found and valid\u001b[0m]\r\n",
      "\u001b[0m14:53:12  Required dependencies:\r\n"
     ]
    },
    {
     "name": "stdout",
     "output_type": "stream",
     "text": [
      "\u001b[0m14:53:12   - git [\u001b[32mOK found\u001b[0m]\r\n",
      "\r\n",
      "\u001b[0m14:53:12  Connection:\r\n",
      "\u001b[0m14:53:12    host: dbt-spark3-thrift\r\n",
      "\u001b[0m14:53:12    port: 10000\r\n",
      "\u001b[0m14:53:12    cluster: None\r\n",
      "\u001b[0m14:53:12    endpoint: None\r\n",
      "\u001b[0m14:53:12    schema: default\r\n",
      "\u001b[0m14:53:12    organization: 0\r\n",
      "\u001b[0m14:53:12  Registered adapter: spark=1.9.2\r\n"
     ]
    },
    {
     "name": "stdout",
     "output_type": "stream",
     "text": [
      "\u001b[0m14:53:12    Connection test: [\u001b[32mOK connection ok\u001b[0m]\r\n",
      "\r\n",
      "\u001b[0m14:53:12  \u001b[32mAll checks passed!\u001b[0m\r\n"
     ]
    }
   ],
   "source": [
    "!dbt debug --project-dir /usr/app/dbt/dbt_spark_demo_prj\n",
    "\n",
    "#to print detailed messages for debugging \n",
    "#!dbt debug --debug --project-dir /usr/app/dbt/dbt_spark_demo_prj"
   ]
  },
  {
   "cell_type": "markdown",
   "id": "6788bb54",
   "metadata": {
    "papermill": {
     "duration": 0.018288,
     "end_time": "2025-07-02T14:53:14.455001",
     "exception": false,
     "start_time": "2025-07-02T14:53:14.436713",
     "status": "completed"
    },
    "tags": []
   },
   "source": [
    "## dbt command comparisons\n",
    "| Command           | Purpose                                  | What it does                                                             | Output                                    |\n",
    "| ----------------- | ---------------------------------------- | ------------------------------------------------------------------------ | ----------------------------------------- |\n",
    "| **`dbt compile`** | Prepares SQL code for execution          | Converts Jinja + macros into raw SQL; writes compiled files to `target/` | Compiled SQL files (no warehouse changes) |\n",
    "| **`dbt run`**     | Builds models (tables/views)             | Executes compiled SQL to materialize models in the data warehouse        | Tables/views in the warehouse             |\n",
    "| **`dbt test`**    | Validates data quality assumptions       | Runs data tests (e.g., `not_null`, `unique`, custom) on warehouse data   | Test pass/fail results                    |\n",
    "| **`dbt seed`**    | Loads static CSV data into the warehouse | Uploads CSV files from the `seeds/` directory into tables                 | Tables containing seed data               |\n"
   ]
  },
  {
   "cell_type": "markdown",
   "id": "46c7b25b",
   "metadata": {
    "papermill": {
     "duration": 0.014962,
     "end_time": "2025-07-02T14:53:14.486123",
     "exception": false,
     "start_time": "2025-07-02T14:53:14.471161",
     "status": "completed"
    },
    "tags": []
   },
   "source": [
    "# Prepare SQL"
   ]
  },
  {
   "cell_type": "markdown",
   "id": "328b5522",
   "metadata": {
    "papermill": {
     "duration": 0.015122,
     "end_time": "2025-07-02T14:53:14.519796",
     "exception": false,
     "start_time": "2025-07-02T14:53:14.504674",
     "status": "completed"
    },
    "tags": []
   },
   "source": [
    "## Read dbt input csv \n",
    "\n",
    "* read seeds/transactions.csv, \n",
    "* dbt generate raw__transaction.csv\n",
    "* dbt create table default.raw_transaction at the database "
   ]
  },
  {
   "cell_type": "markdown",
   "id": "331b109e",
   "metadata": {
    "papermill": {
     "duration": 0.015239,
     "end_time": "2025-07-02T14:53:14.550107",
     "exception": false,
     "start_time": "2025-07-02T14:53:14.534868",
     "status": "completed"
    },
    "tags": []
   },
   "source": [
    "### Verify database before the operation"
   ]
  },
  {
   "cell_type": "code",
   "execution_count": 12,
   "id": "6c4e3091",
   "metadata": {
    "execution": {
     "iopub.execute_input": "2025-07-02T14:53:14.583439Z",
     "iopub.status.busy": "2025-07-02T14:53:14.582499Z",
     "iopub.status.idle": "2025-07-02T14:53:28.285123Z",
     "shell.execute_reply": "2025-07-02T14:53:28.283093Z"
    },
    "papermill": {
     "duration": 13.721983,
     "end_time": "2025-07-02T14:53:28.287631",
     "exception": false,
     "start_time": "2025-07-02T14:53:14.565648",
     "status": "completed"
    },
    "tags": []
   },
   "outputs": [
    {
     "name": "stdout",
     "output_type": "stream",
     "text": [
      "\u001b[0m14:53:17  Running with dbt=1.10.2\r\n"
     ]
    },
    {
     "name": "stdout",
     "output_type": "stream",
     "text": [
      "\u001b[0m14:53:18  Registered adapter: spark=1.9.2\r\n"
     ]
    },
    {
     "name": "stdout",
     "output_type": "stream",
     "text": [
      "\u001b[0m14:53:19  Found 1 seed, 1 model, 1 test, 478 macros, 3 unit tests\r\n"
     ]
    },
    {
     "name": "stdout",
     "output_type": "stream",
     "text": [
      "\u001b[0m14:53:25  Running with dbt=1.10.2\r\n"
     ]
    },
    {
     "name": "stdout",
     "output_type": "stream",
     "text": [
      "\u001b[0m14:53:25  Registered adapter: spark=1.9.2\r\n"
     ]
    },
    {
     "name": "stdout",
     "output_type": "stream",
     "text": [
      "\u001b[0m14:53:26  Found 1 seed, 1 model, 1 test, 478 macros, 3 unit tests\r\n"
     ]
    }
   ],
   "source": [
    "!dbt run-operation drop_table --args '{\"table_name\": \"default.raw__transactions\"}'  \n",
    "!dbt run-operation drop_table --args '{\"table_name\": \"default.transactions\"}' "
   ]
  },
  {
   "cell_type": "code",
   "execution_count": 13,
   "id": "ff9ca4df",
   "metadata": {
    "execution": {
     "iopub.execute_input": "2025-07-02T14:53:28.325206Z",
     "iopub.status.busy": "2025-07-02T14:53:28.324268Z",
     "iopub.status.idle": "2025-07-02T14:53:36.480880Z",
     "shell.execute_reply": "2025-07-02T14:53:36.479092Z"
    },
    "papermill": {
     "duration": 8.178656,
     "end_time": "2025-07-02T14:53:36.482959",
     "exception": false,
     "start_time": "2025-07-02T14:53:28.304303",
     "status": "completed"
    },
    "tags": []
   },
   "outputs": [
    {
     "name": "stdout",
     "output_type": "stream",
     "text": [
      "Database table before the operation\n"
     ]
    },
    {
     "data": {
      "text/html": [
       "<div>\n",
       "<style scoped>\n",
       "    .dataframe tbody tr th:only-of-type {\n",
       "        vertical-align: middle;\n",
       "    }\n",
       "\n",
       "    .dataframe tbody tr th {\n",
       "        vertical-align: top;\n",
       "    }\n",
       "\n",
       "    .dataframe thead th {\n",
       "        text-align: right;\n",
       "    }\n",
       "</style>\n",
       "<table border=\"1\" class=\"dataframe\">\n",
       "  <thead>\n",
       "    <tr style=\"text-align: right;\">\n",
       "      <th></th>\n",
       "      <th>namespace</th>\n",
       "      <th>tableName</th>\n",
       "      <th>isTemporary</th>\n",
       "    </tr>\n",
       "  </thead>\n",
       "  <tbody>\n",
       "  </tbody>\n",
       "</table>\n",
       "</div>"
      ],
      "text/plain": [
       "Empty DataFrame\n",
       "Columns: [namespace, tableName, isTemporary]\n",
       "Index: []"
      ]
     },
     "metadata": {},
     "output_type": "display_data"
    },
    {
     "name": "stdout",
     "output_type": "stream",
     "text": [
      "\u001b[0m14:53:31  Running with dbt=1.10.2\r\n"
     ]
    },
    {
     "name": "stdout",
     "output_type": "stream",
     "text": [
      "\u001b[0m14:53:31  Registered adapter: spark=1.9.2\r\n"
     ]
    },
    {
     "name": "stdout",
     "output_type": "stream",
     "text": [
      "\u001b[0m14:53:32  Found 1 seed, 1 model, 1 test, 478 macros, 3 unit tests\r\n",
      "\u001b[0m14:53:32  \r\n",
      "\u001b[0m14:53:32  Concurrency: 1 threads (target='spark')\r\n",
      "\u001b[0m14:53:32  \r\n"
     ]
    },
    {
     "name": "stdout",
     "output_type": "stream",
     "text": [
      "\u001b[0m14:53:33  1 of 1 START seed file default.raw__transactions ............................... [RUN]\r\n"
     ]
    },
    {
     "name": "stdout",
     "output_type": "stream",
     "text": [
      "\u001b[0m14:53:34  1 of 1 OK loaded seed file default.raw__transactions ........................... [\u001b[32mINSERT 7\u001b[0m in 1.07s]\r\n"
     ]
    },
    {
     "name": "stdout",
     "output_type": "stream",
     "text": [
      "\u001b[0m14:53:34  \r\n",
      "\u001b[0m14:53:34  Finished running 1 seed in 0 hours 0 minutes and 1.68 seconds (1.68s).\r\n"
     ]
    },
    {
     "name": "stdout",
     "output_type": "stream",
     "text": [
      "\u001b[0m14:53:34  \r\n",
      "\u001b[0m14:53:34  \u001b[32mCompleted successfully\u001b[0m\r\n"
     ]
    },
    {
     "name": "stdout",
     "output_type": "stream",
     "text": [
      "\u001b[0m14:53:34  \r\n",
      "\u001b[0m14:53:34  Done. PASS=1 WARN=0 ERROR=0 SKIP=0 NO-OP=0 TOTAL=1\r\n"
     ]
    },
    {
     "name": "stdout",
     "output_type": "stream",
     "text": [
      "\n",
      "Database table after the operation\n"
     ]
    },
    {
     "data": {
      "text/html": [
       "<div>\n",
       "<style scoped>\n",
       "    .dataframe tbody tr th:only-of-type {\n",
       "        vertical-align: middle;\n",
       "    }\n",
       "\n",
       "    .dataframe tbody tr th {\n",
       "        vertical-align: top;\n",
       "    }\n",
       "\n",
       "    .dataframe thead th {\n",
       "        text-align: right;\n",
       "    }\n",
       "</style>\n",
       "<table border=\"1\" class=\"dataframe\">\n",
       "  <thead>\n",
       "    <tr style=\"text-align: right;\">\n",
       "      <th></th>\n",
       "      <th>namespace</th>\n",
       "      <th>tableName</th>\n",
       "      <th>isTemporary</th>\n",
       "    </tr>\n",
       "  </thead>\n",
       "  <tbody>\n",
       "    <tr>\n",
       "      <th>0</th>\n",
       "      <td>default</td>\n",
       "      <td>raw__transactions</td>\n",
       "      <td>False</td>\n",
       "    </tr>\n",
       "  </tbody>\n",
       "</table>\n",
       "</div>"
      ],
      "text/plain": [
       "  namespace          tableName  isTemporary\n",
       "0   default  raw__transactions        False"
      ]
     },
     "metadata": {},
     "output_type": "display_data"
    }
   ],
   "source": [
    "check_table(message_to_be_printed=\"Database table before the operation\")\n",
    "!dbt seed --log-level info --project-dir $dbt_project_dir\n",
    "check_table(message_to_be_printed=\"\\nDatabase table after the operation\")"
   ]
  },
  {
   "cell_type": "markdown",
   "id": "99518976",
   "metadata": {
    "papermill": {
     "duration": 0.027551,
     "end_time": "2025-07-02T14:53:36.529966",
     "exception": false,
     "start_time": "2025-07-02T14:53:36.502415",
     "status": "completed"
    },
    "tags": []
   },
   "source": [
    "## dbt compile"
   ]
  },
  {
   "cell_type": "markdown",
   "id": "299472eb",
   "metadata": {
    "papermill": {
     "duration": 0.025409,
     "end_time": "2025-07-02T14:53:36.577812",
     "exception": false,
     "start_time": "2025-07-02T14:53:36.552403",
     "status": "completed"
    },
    "tags": []
   },
   "source": [
    "#### removed target/compiled/"
   ]
  },
  {
   "cell_type": "code",
   "execution_count": 14,
   "id": "be2451a9",
   "metadata": {
    "execution": {
     "iopub.execute_input": "2025-07-02T14:53:36.627747Z",
     "iopub.status.busy": "2025-07-02T14:53:36.626950Z",
     "iopub.status.idle": "2025-07-02T14:53:37.960426Z",
     "shell.execute_reply": "2025-07-02T14:53:37.958614Z"
    },
    "papermill": {
     "duration": 1.361325,
     "end_time": "2025-07-02T14:53:37.963409",
     "exception": false,
     "start_time": "2025-07-02T14:53:36.602084",
     "status": "completed"
    },
    "tags": []
   },
   "outputs": [
    {
     "name": "stdout",
     "output_type": "stream",
     "text": [
      "ls: cannot access 'dbt_spark_demo_prj/target/compile': No such file or directory\r\n"
     ]
    }
   ],
   "source": [
    "!rm -rf dbt_spark_demo_prj/target/compiled/\n",
    "!ls dbt_spark_demo_prj/target/compile"
   ]
  },
  {
   "cell_type": "code",
   "execution_count": 15,
   "id": "e6d17db8",
   "metadata": {
    "execution": {
     "iopub.execute_input": "2025-07-02T14:53:37.999834Z",
     "iopub.status.busy": "2025-07-02T14:53:37.998929Z",
     "iopub.status.idle": "2025-07-02T14:53:38.631378Z",
     "shell.execute_reply": "2025-07-02T14:53:38.629585Z"
    },
    "papermill": {
     "duration": 0.653624,
     "end_time": "2025-07-02T14:53:38.633956",
     "exception": false,
     "start_time": "2025-07-02T14:53:37.980332",
     "status": "completed"
    },
    "tags": []
   },
   "outputs": [
    {
     "name": "stdout",
     "output_type": "stream",
     "text": [
      "dbt_project.yml  logs  macros  models  seeds  target  tests\r\n"
     ]
    }
   ],
   "source": [
    "!ls $dbt_project_dir"
   ]
  },
  {
   "cell_type": "code",
   "execution_count": 16,
   "id": "7789867d",
   "metadata": {
    "execution": {
     "iopub.execute_input": "2025-07-02T14:53:38.673354Z",
     "iopub.status.busy": "2025-07-02T14:53:38.672534Z",
     "iopub.status.idle": "2025-07-02T14:53:44.956057Z",
     "shell.execute_reply": "2025-07-02T14:53:44.954376Z"
    },
    "papermill": {
     "duration": 6.30697,
     "end_time": "2025-07-02T14:53:44.958413",
     "exception": false,
     "start_time": "2025-07-02T14:53:38.651443",
     "status": "completed"
    },
    "tags": []
   },
   "outputs": [
    {
     "name": "stdout",
     "output_type": "stream",
     "text": [
      "\u001b[0m14:53:41  Running with dbt=1.10.2\r\n"
     ]
    },
    {
     "name": "stdout",
     "output_type": "stream",
     "text": [
      "\u001b[0m14:53:42  Registered adapter: spark=1.9.2\r\n"
     ]
    },
    {
     "name": "stdout",
     "output_type": "stream",
     "text": [
      "\u001b[0m14:53:42  Found 1 seed, 1 model, 1 test, 478 macros, 3 unit tests\r\n",
      "\u001b[0m14:53:42  \r\n",
      "\u001b[0m14:53:42  Concurrency: 1 threads (target='spark')\r\n",
      "\u001b[0m14:53:42  \r\n"
     ]
    }
   ],
   "source": [
    "!dbt compile --log-level info --project-dir $dbt_project_dir"
   ]
  },
  {
   "cell_type": "code",
   "execution_count": 17,
   "id": "2075b987",
   "metadata": {
    "execution": {
     "iopub.execute_input": "2025-07-02T14:53:44.996775Z",
     "iopub.status.busy": "2025-07-02T14:53:44.995989Z",
     "iopub.status.idle": "2025-07-02T14:53:45.606470Z",
     "shell.execute_reply": "2025-07-02T14:53:45.604504Z"
    },
    "papermill": {
     "duration": 0.63227,
     "end_time": "2025-07-02T14:53:45.608701",
     "exception": false,
     "start_time": "2025-07-02T14:53:44.976431",
     "status": "completed"
    },
    "tags": []
   },
   "outputs": [
    {
     "name": "stdout",
     "output_type": "stream",
     "text": [
      "models\r\n"
     ]
    }
   ],
   "source": [
    "!ls /usr/app/dbt/dbt_spark_demo_prj/target/compiled/dbt_spark_demo_prj"
   ]
  },
  {
   "cell_type": "markdown",
   "id": "285c8f3a",
   "metadata": {
    "papermill": {
     "duration": 0.018203,
     "end_time": "2025-07-02T14:53:45.644967",
     "exception": false,
     "start_time": "2025-07-02T14:53:45.626764",
     "status": "completed"
    },
    "tags": []
   },
   "source": [
    "## Build your models (dbt run)"
   ]
  },
  {
   "cell_type": "markdown",
   "id": "82e5d338",
   "metadata": {
    "papermill": {
     "duration": 0.017861,
     "end_time": "2025-07-02T14:53:45.681022",
     "exception": false,
     "start_time": "2025-07-02T14:53:45.663161",
     "status": "completed"
    },
    "tags": []
   },
   "source": [
    "## Delete database table prior dbt run that will create the table"
   ]
  },
  {
   "cell_type": "code",
   "execution_count": 18,
   "id": "49dad449",
   "metadata": {
    "execution": {
     "iopub.execute_input": "2025-07-02T14:53:45.719526Z",
     "iopub.status.busy": "2025-07-02T14:53:45.718664Z",
     "iopub.status.idle": "2025-07-02T14:53:52.258919Z",
     "shell.execute_reply": "2025-07-02T14:53:52.256704Z"
    },
    "papermill": {
     "duration": 6.563947,
     "end_time": "2025-07-02T14:53:52.262411",
     "exception": false,
     "start_time": "2025-07-02T14:53:45.698464",
     "status": "completed"
    },
    "tags": []
   },
   "outputs": [
    {
     "name": "stdout",
     "output_type": "stream",
     "text": [
      "before\n"
     ]
    },
    {
     "data": {
      "text/html": [
       "<div>\n",
       "<style scoped>\n",
       "    .dataframe tbody tr th:only-of-type {\n",
       "        vertical-align: middle;\n",
       "    }\n",
       "\n",
       "    .dataframe tbody tr th {\n",
       "        vertical-align: top;\n",
       "    }\n",
       "\n",
       "    .dataframe thead th {\n",
       "        text-align: right;\n",
       "    }\n",
       "</style>\n",
       "<table border=\"1\" class=\"dataframe\">\n",
       "  <thead>\n",
       "    <tr style=\"text-align: right;\">\n",
       "      <th></th>\n",
       "      <th>namespace</th>\n",
       "      <th>tableName</th>\n",
       "      <th>isTemporary</th>\n",
       "    </tr>\n",
       "  </thead>\n",
       "  <tbody>\n",
       "    <tr>\n",
       "      <th>0</th>\n",
       "      <td>default</td>\n",
       "      <td>raw__transactions</td>\n",
       "      <td>False</td>\n",
       "    </tr>\n",
       "  </tbody>\n",
       "</table>\n",
       "</div>"
      ],
      "text/plain": [
       "  namespace          tableName  isTemporary\n",
       "0   default  raw__transactions        False"
      ]
     },
     "metadata": {},
     "output_type": "display_data"
    },
    {
     "name": "stdout",
     "output_type": "stream",
     "text": [
      "\u001b[0m14:53:48  Running with dbt=1.10.2\r\n"
     ]
    },
    {
     "name": "stdout",
     "output_type": "stream",
     "text": [
      "\u001b[0m14:53:49  Registered adapter: spark=1.9.2\r\n"
     ]
    },
    {
     "name": "stdout",
     "output_type": "stream",
     "text": [
      "\u001b[0m14:53:50  Found 1 seed, 1 model, 1 test, 478 macros, 3 unit tests\r\n"
     ]
    },
    {
     "name": "stdout",
     "output_type": "stream",
     "text": [
      "\n",
      "after\n"
     ]
    },
    {
     "data": {
      "text/html": [
       "<div>\n",
       "<style scoped>\n",
       "    .dataframe tbody tr th:only-of-type {\n",
       "        vertical-align: middle;\n",
       "    }\n",
       "\n",
       "    .dataframe tbody tr th {\n",
       "        vertical-align: top;\n",
       "    }\n",
       "\n",
       "    .dataframe thead th {\n",
       "        text-align: right;\n",
       "    }\n",
       "</style>\n",
       "<table border=\"1\" class=\"dataframe\">\n",
       "  <thead>\n",
       "    <tr style=\"text-align: right;\">\n",
       "      <th></th>\n",
       "      <th>namespace</th>\n",
       "      <th>tableName</th>\n",
       "      <th>isTemporary</th>\n",
       "    </tr>\n",
       "  </thead>\n",
       "  <tbody>\n",
       "    <tr>\n",
       "      <th>0</th>\n",
       "      <td>default</td>\n",
       "      <td>raw__transactions</td>\n",
       "      <td>False</td>\n",
       "    </tr>\n",
       "  </tbody>\n",
       "</table>\n",
       "</div>"
      ],
      "text/plain": [
       "  namespace          tableName  isTemporary\n",
       "0   default  raw__transactions        False"
      ]
     },
     "metadata": {},
     "output_type": "display_data"
    }
   ],
   "source": [
    "check_table(message_to_be_printed=\"before\")\n",
    "!dbt run-operation drop_table --args '{\"table_name\": \"default.transactions\"}'\n",
    "check_table(message_to_be_printed=\"\\nafter\")"
   ]
  },
  {
   "cell_type": "code",
   "execution_count": 19,
   "id": "bdf648b1",
   "metadata": {
    "execution": {
     "iopub.execute_input": "2025-07-02T14:53:52.322171Z",
     "iopub.status.busy": "2025-07-02T14:53:52.321204Z",
     "iopub.status.idle": "2025-07-02T14:54:07.335712Z",
     "shell.execute_reply": "2025-07-02T14:54:07.334119Z"
    },
    "papermill": {
     "duration": 15.047156,
     "end_time": "2025-07-02T14:54:07.338142",
     "exception": false,
     "start_time": "2025-07-02T14:53:52.290986",
     "status": "completed"
    },
    "tags": []
   },
   "outputs": [
    {
     "name": "stdout",
     "output_type": "stream",
     "text": [
      "\u001b[0m14:53:55  Running with dbt=1.10.2\r\n"
     ]
    },
    {
     "name": "stdout",
     "output_type": "stream",
     "text": [
      "\u001b[0m14:53:56  Registered adapter: spark=1.9.2\r\n"
     ]
    },
    {
     "name": "stdout",
     "output_type": "stream",
     "text": [
      "\u001b[0m14:53:57  Found 1 seed, 1 model, 1 test, 478 macros, 3 unit tests\r\n"
     ]
    },
    {
     "name": "stdout",
     "output_type": "stream",
     "text": [
      "before\n"
     ]
    },
    {
     "data": {
      "text/html": [
       "<div>\n",
       "<style scoped>\n",
       "    .dataframe tbody tr th:only-of-type {\n",
       "        vertical-align: middle;\n",
       "    }\n",
       "\n",
       "    .dataframe tbody tr th {\n",
       "        vertical-align: top;\n",
       "    }\n",
       "\n",
       "    .dataframe thead th {\n",
       "        text-align: right;\n",
       "    }\n",
       "</style>\n",
       "<table border=\"1\" class=\"dataframe\">\n",
       "  <thead>\n",
       "    <tr style=\"text-align: right;\">\n",
       "      <th></th>\n",
       "      <th>namespace</th>\n",
       "      <th>tableName</th>\n",
       "      <th>isTemporary</th>\n",
       "    </tr>\n",
       "  </thead>\n",
       "  <tbody>\n",
       "    <tr>\n",
       "      <th>0</th>\n",
       "      <td>default</td>\n",
       "      <td>raw__transactions</td>\n",
       "      <td>False</td>\n",
       "    </tr>\n",
       "  </tbody>\n",
       "</table>\n",
       "</div>"
      ],
      "text/plain": [
       "  namespace          tableName  isTemporary\n",
       "0   default  raw__transactions        False"
      ]
     },
     "metadata": {},
     "output_type": "display_data"
    },
    {
     "name": "stdout",
     "output_type": "stream",
     "text": [
      "\u001b[0m14:54:02  Running with dbt=1.10.2\r\n"
     ]
    },
    {
     "name": "stdout",
     "output_type": "stream",
     "text": [
      "\u001b[0m14:54:02  Registered adapter: spark=1.9.2\r\n"
     ]
    },
    {
     "name": "stdout",
     "output_type": "stream",
     "text": [
      "\u001b[0m14:54:03  Found 1 seed, 1 model, 1 test, 478 macros, 3 unit tests\r\n",
      "\u001b[0m14:54:03  \r\n",
      "\u001b[0m14:54:03  Concurrency: 1 threads (target='spark')\r\n",
      "\u001b[0m14:54:03  \r\n"
     ]
    },
    {
     "name": "stdout",
     "output_type": "stream",
     "text": [
      "\u001b[0m14:54:04  1 of 1 START sql table model default.transactions .............................. [RUN]\r\n"
     ]
    },
    {
     "name": "stdout",
     "output_type": "stream",
     "text": [
      "\u001b[0m14:54:04  1 of 1 OK created sql table model default.transactions ......................... [\u001b[32mOK\u001b[0m in 0.74s]\r\n"
     ]
    },
    {
     "name": "stdout",
     "output_type": "stream",
     "text": [
      "\u001b[0m14:54:04  \r\n",
      "\u001b[0m14:54:04  Finished running 1 table model in 0 hours 0 minutes and 1.26 seconds (1.26s).\r\n"
     ]
    },
    {
     "name": "stdout",
     "output_type": "stream",
     "text": [
      "\u001b[0m14:54:05  \r\n",
      "\u001b[0m14:54:05  \u001b[32mCompleted successfully\u001b[0m\r\n",
      "\u001b[0m14:54:05  \r\n",
      "\u001b[0m14:54:05  Done. PASS=1 WARN=0 ERROR=0 SKIP=0 NO-OP=0 TOTAL=1\r\n"
     ]
    },
    {
     "name": "stdout",
     "output_type": "stream",
     "text": [
      "\n",
      "After\n"
     ]
    },
    {
     "name": "stdout",
     "output_type": "stream",
     "text": [
      "\u001b[01;34m/usr/app/dbt/dbt_spark_demo_prj/target/run\u001b[00m\r\n",
      "└── \u001b[01;34mdbt_spark_demo_prj\u001b[00m\r\n",
      "    └── \u001b[01;34mmodels\u001b[00m\r\n",
      "        └── \u001b[01;34mtransactions\u001b[00m\r\n",
      "            └── transactions.sql\r\n",
      "\r\n",
      "3 directories, 1 file\r\n"
     ]
    },
    {
     "name": "stdout",
     "output_type": "stream",
     "text": [
      "after\n"
     ]
    },
    {
     "data": {
      "text/html": [
       "<div>\n",
       "<style scoped>\n",
       "    .dataframe tbody tr th:only-of-type {\n",
       "        vertical-align: middle;\n",
       "    }\n",
       "\n",
       "    .dataframe tbody tr th {\n",
       "        vertical-align: top;\n",
       "    }\n",
       "\n",
       "    .dataframe thead th {\n",
       "        text-align: right;\n",
       "    }\n",
       "</style>\n",
       "<table border=\"1\" class=\"dataframe\">\n",
       "  <thead>\n",
       "    <tr style=\"text-align: right;\">\n",
       "      <th></th>\n",
       "      <th>namespace</th>\n",
       "      <th>tableName</th>\n",
       "      <th>isTemporary</th>\n",
       "    </tr>\n",
       "  </thead>\n",
       "  <tbody>\n",
       "    <tr>\n",
       "      <th>0</th>\n",
       "      <td>default</td>\n",
       "      <td>raw__transactions</td>\n",
       "      <td>False</td>\n",
       "    </tr>\n",
       "    <tr>\n",
       "      <th>1</th>\n",
       "      <td>default</td>\n",
       "      <td>transactions</td>\n",
       "      <td>False</td>\n",
       "    </tr>\n",
       "  </tbody>\n",
       "</table>\n",
       "</div>"
      ],
      "text/plain": [
       "  namespace          tableName  isTemporary\n",
       "0   default  raw__transactions        False\n",
       "1   default       transactions        False"
      ]
     },
     "metadata": {},
     "output_type": "display_data"
    }
   ],
   "source": [
    "!rm -r $dbt_project_dir/target/run\n",
    "!dbt run-operation drop_table --args '{\"table_name\": \"default.transactions\"}' \n",
    "check_table(message_to_be_printed=\"before\")\n",
    "\n",
    "!dbt run --log-level info --project-dir $dbt_project_dir\n",
    "\n",
    "print(\"\\nAfter\")\n",
    "!tree $dbt_project_dir/target/run\n",
    "check_table(message_to_be_printed=\"after\")"
   ]
  },
  {
   "cell_type": "markdown",
   "id": "b5cf4b24",
   "metadata": {
    "papermill": {
     "duration": 0.020789,
     "end_time": "2025-07-02T14:54:07.380324",
     "exception": false,
     "start_time": "2025-07-02T14:54:07.359535",
     "status": "completed"
    },
    "tags": []
   },
   "source": [
    "## test model using dbt"
   ]
  },
  {
   "cell_type": "markdown",
   "id": "ebc3baeb",
   "metadata": {
    "papermill": {
     "duration": 0.020522,
     "end_time": "2025-07-02T14:54:07.421170",
     "exception": false,
     "start_time": "2025-07-02T14:54:07.400648",
     "status": "completed"
    },
    "tags": []
   },
   "source": [
    "#### test name and its test vectors"
   ]
  },
  {
   "cell_type": "code",
   "execution_count": 20,
   "id": "06dfaae6",
   "metadata": {
    "execution": {
     "iopub.execute_input": "2025-07-02T14:54:07.467785Z",
     "iopub.status.busy": "2025-07-02T14:54:07.466937Z",
     "iopub.status.idle": "2025-07-02T14:54:08.113181Z",
     "shell.execute_reply": "2025-07-02T14:54:08.111316Z"
    },
    "papermill": {
     "duration": 0.671083,
     "end_time": "2025-07-02T14:54:08.115986",
     "exception": false,
     "start_time": "2025-07-02T14:54:07.444903",
     "status": "completed"
    },
    "tags": []
   },
   "outputs": [
    {
     "name": "stdout",
     "output_type": "stream",
     "text": [
      "# tests/unit/test_transactions.yml\r\n",
      "\r\n",
      "version: 2\r\n",
      "unit_tests:\r\n",
      "  - name: test_currency_usd\r\n",
      "    model: transactions\r\n",
      "    given:\r\n",
      "      - input: ref('raw__transactions')\r\n",
      "        rows:\r\n",
      "          - {id: 1, amount: 100, currency: 'USD', status: 'ACTIVE'}\r\n",
      "    expect:\r\n",
      "      rows:\r\n",
      "        - {id: 1, amount_usd: 100, currency: 'USD', branch_marker: \"USD_BRANCH\"}\r\n",
      "\r\n",
      "  - name: test_currency_sgd\r\n",
      "    model: transactions\r\n",
      "    given:\r\n",
      "      - input: ref('raw__transactions')\r\n",
      "        rows:\r\n",
      "          - {id: 2, amount: 100, currency: 'SGD', status: 'ACTIVE'}\r\n",
      "    expect:\r\n",
      "      rows:\r\n",
      "        - {id: 2, amount_usd: 74, branch_marker: \"SGD_BRANCH\"}\r\n",
      "\r\n",
      "  - name: test_inactive\r\n",
      "    model: transactions\r\n",
      "    given:\r\n",
      "      - input: ref('raw__transactions')\r\n",
      "        rows:\r\n",
      "          - {id: 2, amount: 100, currency: 'SGD', status: 'INACTIVE'}\r\n",
      "    expect: \r\n",
      "      rows: []\r\n",
      "\r\n",
      "  # - name: test_decimal_point\r\n",
      "  #   model: transactions\r\n",
      "  #   given:\r\n",
      "  #     - input: ref('raw__transactions')\r\n",
      "  #       rows:\r\n",
      "  #         - {id: 2, amount: 100, currency: 'SGD', status: 'INACTIVE'}\r\n",
      "  #         - {id: 3, amount: 123.45, currency: 'SGD', status: 'ACTIVE'}\r\n",
      "  #         - {id: 4, amount: 123.456, currency: 'SGD', status: 'ACTIVE'}          \r\n",
      "  #         - {id: 5, amount: 0, currency: 'SGD', status: 'ACTIVE'}\r\n",
      "  #         - {id: 6, amount: -0.1, currency: 'SGD', status: 'ACTIVE'}\r\n",
      "  #   expect:\r\n",
      "  #     rows:\r\n",
      "  #         - {id: 2, amount: 100, currency: 'SGD', status: 'INACTIVE'}\r\n",
      "  #         - {id: 4, amount: 123.456, currency: 'SGD', status: 'ACTIVE'} \r\n",
      "  #         - {id: 5, amount: 0, currency: 'SGD', status: 'ACTIVE'}\r\n",
      "  #         - {id: 6, amount: -0.1, currency: 'SGD', status: 'ACTIVE'}\r\n"
     ]
    }
   ],
   "source": [
    "!cat dbt_spark_demo_prj/tests/unit/test_transactions.yml"
   ]
  },
  {
   "cell_type": "markdown",
   "id": "31610ca8",
   "metadata": {
    "papermill": {
     "duration": 0.025321,
     "end_time": "2025-07-02T14:54:08.165481",
     "exception": false,
     "start_time": "2025-07-02T14:54:08.140160",
     "status": "completed"
    },
    "tags": []
   },
   "source": [
    "#### run test"
   ]
  },
  {
   "cell_type": "code",
   "execution_count": 21,
   "id": "c0c0834d",
   "metadata": {
    "execution": {
     "iopub.execute_input": "2025-07-02T14:54:08.215556Z",
     "iopub.status.busy": "2025-07-02T14:54:08.214514Z",
     "iopub.status.idle": "2025-07-02T14:54:18.693337Z",
     "shell.execute_reply": "2025-07-02T14:54:18.691502Z"
    },
    "papermill": {
     "duration": 10.508693,
     "end_time": "2025-07-02T14:54:18.695939",
     "exception": false,
     "start_time": "2025-07-02T14:54:08.187246",
     "status": "completed"
    },
    "tags": []
   },
   "outputs": [
    {
     "name": "stdout",
     "output_type": "stream",
     "text": [
      "\u001b[0m14:54:10  Running with dbt=1.10.2\n"
     ]
    },
    {
     "name": "stdout",
     "output_type": "stream",
     "text": [
      "\u001b[0m14:54:11  Registered adapter: spark=1.9.2\n"
     ]
    },
    {
     "name": "stdout",
     "output_type": "stream",
     "text": [
      "\u001b[0m14:54:12  Found 1 seed, 1 model, 1 test, 478 macros, 3 unit tests\n"
     ]
    },
    {
     "name": "stdout",
     "output_type": "stream",
     "text": [
      "\u001b[0m14:54:12  \n"
     ]
    },
    {
     "name": "stdout",
     "output_type": "stream",
     "text": [
      "\u001b[0m14:54:12  Concurrency: 1 threads (target='spark')\n"
     ]
    },
    {
     "name": "stdout",
     "output_type": "stream",
     "text": [
      "\u001b[0m14:54:12  \n"
     ]
    },
    {
     "name": "stdout",
     "output_type": "stream",
     "text": [
      "\u001b[0m14:54:12  1 of 4 START test not_null_transactions_amount ................................. [RUN]"
     ]
    },
    {
     "name": "stdout",
     "output_type": "stream",
     "text": [
      "\n"
     ]
    },
    {
     "name": "stdout",
     "output_type": "stream",
     "text": [
      "\u001b[0m14:54:14  1 of 4 PASS not_null_transactions_amount ....................................... [\u001b[32"
     ]
    },
    {
     "name": "stdout",
     "output_type": "stream",
     "text": [
      "mPASS\u001b[0m in 1.95s]\n"
     ]
    },
    {
     "name": "stdout",
     "output_type": "stream",
     "text": [
      "\u001b[0m14:54:14  2 of 4 START unit_test transactions::test_currency_sgd ......................... [RUN]"
     ]
    },
    {
     "name": "stdout",
     "output_type": "stream",
     "text": [
      "\n"
     ]
    },
    {
     "name": "stdout",
     "output_type": "stream",
     "text": [
      "\u001b[0m14:54:15  2 of 4 PASS transactions::test_currency_sgd .................................... [\u001b[32"
     ]
    },
    {
     "name": "stdout",
     "output_type": "stream",
     "text": [
      "mPASS\u001b[0m in 1.13s]\n"
     ]
    },
    {
     "name": "stdout",
     "output_type": "stream",
     "text": [
      "\u001b[0m14:54:15  3 of 4 START unit_test transactions::test_currency_usd ......................... [RUN]"
     ]
    },
    {
     "name": "stdout",
     "output_type": "stream",
     "text": [
      "\n"
     ]
    },
    {
     "name": "stdout",
     "output_type": "stream",
     "text": [
      "\u001b[0m14:54:16  3 of 4 PASS transactions::test_currency_usd .................................... [\u001b[32"
     ]
    },
    {
     "name": "stdout",
     "output_type": "stream",
     "text": [
      "mPASS\u001b[0m in 0.91s]\n"
     ]
    },
    {
     "name": "stdout",
     "output_type": "stream",
     "text": [
      "\u001b[0m14:54:16  4 of 4 START unit_test transactions::test_inactive ............................. [RUN]"
     ]
    },
    {
     "name": "stdout",
     "output_type": "stream",
     "text": [
      "\n"
     ]
    },
    {
     "name": "stdout",
     "output_type": "stream",
     "text": [
      "\u001b[0m14:54:17  4 of 4 PASS transactions::test_inactive ........................................ [\u001b[32"
     ]
    },
    {
     "name": "stdout",
     "output_type": "stream",
     "text": [
      "mPASS\u001b[0m in 0.48s]\n"
     ]
    },
    {
     "name": "stdout",
     "output_type": "stream",
     "text": [
      "\u001b[0m14:54:17  \n"
     ]
    },
    {
     "name": "stdout",
     "output_type": "stream",
     "text": [
      "\u001b[0m14:54:17  Finished running 1 test, 3 unit tests in 0 hours 0 minutes and 5.02 seconds (5.02s).\n"
     ]
    },
    {
     "name": "stdout",
     "output_type": "stream",
     "text": [
      "\u001b[0m14:54:17  \n"
     ]
    },
    {
     "name": "stdout",
     "output_type": "stream",
     "text": [
      "\u001b[0m14:54:17  \u001b[32mCompleted successfully\u001b[0m\n",
      "\u001b[0m14:54:17  \n"
     ]
    },
    {
     "name": "stdout",
     "output_type": "stream",
     "text": [
      "\u001b[0m14:54:17  Done. PASS=4 WARN=0 ERROR=0 SKIP=0 NO-OP=0 TOTAL=4\n"
     ]
    }
   ],
   "source": [
    "%%bash\n",
    "export DBT_PROJECT_DIR=/usr/app/dbt/dbt_spark_demo_prj\n",
    "dbt test --log-level info"
   ]
  },
  {
   "cell_type": "code",
   "execution_count": 22,
   "id": "2321bb74",
   "metadata": {
    "execution": {
     "iopub.execute_input": "2025-07-02T14:54:18.745016Z",
     "iopub.status.busy": "2025-07-02T14:54:18.744256Z",
     "iopub.status.idle": "2025-07-02T14:54:19.641370Z",
     "shell.execute_reply": "2025-07-02T14:54:19.639273Z"
    },
    "papermill": {
     "duration": 0.92522,
     "end_time": "2025-07-02T14:54:19.643662",
     "exception": false,
     "start_time": "2025-07-02T14:54:18.718442",
     "status": "completed"
    },
    "tags": []
   },
   "outputs": [],
   "source": [
    "!chmod -R a+rw /usr/app"
   ]
  },
  {
   "cell_type": "code",
   "execution_count": 23,
   "id": "c28d80c5",
   "metadata": {
    "execution": {
     "iopub.execute_input": "2025-07-02T14:54:19.696072Z",
     "iopub.status.busy": "2025-07-02T14:54:19.695247Z",
     "iopub.status.idle": "2025-07-02T14:54:21.055396Z",
     "shell.execute_reply": "2025-07-02T14:54:21.052609Z"
    },
    "papermill": {
     "duration": 1.389764,
     "end_time": "2025-07-02T14:54:21.059074",
     "exception": false,
     "start_time": "2025-07-02T14:54:19.669310",
     "status": "completed"
    },
    "tags": []
   },
   "outputs": [
    {
     "name": "stdout",
     "output_type": "stream",
     "text": [
      "Wed Jul  2 14:54:20 UTC 2025\r\n"
     ]
    }
   ],
   "source": [
    "filepath=\"/usr/app/demo/results/test_end.txt\"\n",
    "!date; echo end test at > $filepath \n",
    "!export TZ='Asia/Singapore'; date >> $filepath;"
   ]
  },
  {
   "cell_type": "code",
   "execution_count": 24,
   "id": "9b840cc5",
   "metadata": {
    "execution": {
     "iopub.execute_input": "2025-07-02T14:54:21.129208Z",
     "iopub.status.busy": "2025-07-02T14:54:21.127118Z",
     "iopub.status.idle": "2025-07-02T14:54:21.135284Z",
     "shell.execute_reply": "2025-07-02T14:54:21.133603Z"
    },
    "papermill": {
     "duration": 0.04548,
     "end_time": "2025-07-02T14:54:21.137776",
     "exception": false,
     "start_time": "2025-07-02T14:54:21.092296",
     "status": "completed"
    },
    "tags": []
   },
   "outputs": [],
   "source": [
    "# assert False, \"Stop execution here!\""
   ]
  },
  {
   "cell_type": "markdown",
   "id": "6ebe7ae3",
   "metadata": {
    "papermill": {
     "duration": 0.025954,
     "end_time": "2025-07-02T14:54:21.191634",
     "exception": false,
     "start_time": "2025-07-02T14:54:21.165680",
     "status": "completed"
    },
    "tags": []
   },
   "source": [
    "# Apendix"
   ]
  },
  {
   "cell_type": "markdown",
   "id": "91f84536",
   "metadata": {
    "papermill": {
     "duration": 0.022809,
     "end_time": "2025-07-02T14:54:21.236989",
     "exception": false,
     "start_time": "2025-07-02T14:54:21.214180",
     "status": "completed"
    },
    "tags": []
   },
   "source": [
    "## check the model built "
   ]
  },
  {
   "cell_type": "markdown",
   "id": "f57448e7",
   "metadata": {
    "papermill": {
     "duration": 0.024977,
     "end_time": "2025-07-02T14:54:21.286809",
     "exception": false,
     "start_time": "2025-07-02T14:54:21.261832",
     "status": "completed"
    },
    "tags": []
   },
   "source": [
    "### Check the model built using Pyspark (In progress)"
   ]
  },
  {
   "cell_type": "code",
   "execution_count": 25,
   "id": "32863689",
   "metadata": {
    "execution": {
     "iopub.execute_input": "2025-07-02T14:54:21.337877Z",
     "iopub.status.busy": "2025-07-02T14:54:21.337219Z",
     "iopub.status.idle": "2025-07-02T14:54:21.344586Z",
     "shell.execute_reply": "2025-07-02T14:54:21.342476Z"
    },
    "papermill": {
     "duration": 0.03554,
     "end_time": "2025-07-02T14:54:21.346918",
     "exception": false,
     "start_time": "2025-07-02T14:54:21.311378",
     "status": "completed"
    },
    "tags": []
   },
   "outputs": [],
   "source": [
    "# !pip install pyspark==3.3.2"
   ]
  },
  {
   "cell_type": "code",
   "execution_count": 26,
   "id": "87f91e66",
   "metadata": {
    "execution": {
     "iopub.execute_input": "2025-07-02T14:54:21.414452Z",
     "iopub.status.busy": "2025-07-02T14:54:21.413579Z",
     "iopub.status.idle": "2025-07-02T14:54:21.420314Z",
     "shell.execute_reply": "2025-07-02T14:54:21.418782Z"
    },
    "papermill": {
     "duration": 0.05023,
     "end_time": "2025-07-02T14:54:21.422770",
     "exception": false,
     "start_time": "2025-07-02T14:54:21.372540",
     "status": "completed"
    },
    "tags": []
   },
   "outputs": [],
   "source": [
    "# %%bash\n",
    "# # For Debian/Ubuntu-based containers:\n",
    "# apt-get update && apt-get install -y openjdk-11-jdk\n",
    "\n",
    "# # For Alpine-based containers:\n",
    "# apk add openjdk11"
   ]
  },
  {
   "cell_type": "code",
   "execution_count": 27,
   "id": "67c39001",
   "metadata": {
    "execution": {
     "iopub.execute_input": "2025-07-02T14:54:21.476233Z",
     "iopub.status.busy": "2025-07-02T14:54:21.475396Z",
     "iopub.status.idle": "2025-07-02T14:54:21.481812Z",
     "shell.execute_reply": "2025-07-02T14:54:21.480422Z"
    },
    "papermill": {
     "duration": 0.034349,
     "end_time": "2025-07-02T14:54:21.484025",
     "exception": false,
     "start_time": "2025-07-02T14:54:21.449676",
     "status": "completed"
    },
    "tags": []
   },
   "outputs": [],
   "source": [
    "# !ls /usr/lib/jvm/java-11-openjdk-amd64"
   ]
  },
  {
   "cell_type": "code",
   "execution_count": 28,
   "id": "ff2863d3",
   "metadata": {
    "execution": {
     "iopub.execute_input": "2025-07-02T14:54:21.557554Z",
     "iopub.status.busy": "2025-07-02T14:54:21.555931Z",
     "iopub.status.idle": "2025-07-02T14:54:21.563240Z",
     "shell.execute_reply": "2025-07-02T14:54:21.561680Z"
    },
    "papermill": {
     "duration": 0.056452,
     "end_time": "2025-07-02T14:54:21.565373",
     "exception": false,
     "start_time": "2025-07-02T14:54:21.508921",
     "status": "completed"
    },
    "tags": []
   },
   "outputs": [],
   "source": [
    "# # !. /usr/spark/bin/load-spark-env.sh\n",
    "\n",
    "# # Typically in Debian/Ubuntu:\n",
    "# !export JAVA_HOME=$(dirname $(dirname $(readlink -f $(which java))))\n",
    "\n",
    "# # Or set it explicitly:\n",
    "# !export JAVA_HOME=/usr/lib/jvm/java-11-openjdk-amd64\n",
    "# from pyspark.sql import SparkSession\n",
    "\n",
    "# spark = SparkSession.builder \\\n",
    "#     .appName(\"dbt_clean\") \\\n",
    "#     .config(\"spark.hadoop.hive.metastore.schema.verification\", \"true\") \\\n",
    "#     .config(\"spark.sql.catalogImplementation\", \"hive\") \\\n",
    "#     .enableHiveSupport() \\\n",
    "#     .getOrCreate()\n",
    "\n",
    "# # spark = SparkSession.builder \\\n",
    "# #     .config(\"hive.metastore.uris\", \"thrift://dbt-hive-metastore:10000\") \\\n",
    "# #     .config(\"spark.sql.catalogImplementation\", \"hive\") \\\n",
    "# #     .enableHiveSupport() \\\n",
    "# #     .getOrCreate()\n",
    "\n",
    "# spark.sql(\"USE default\")  # Or your specific database\n",
    "# spark.sql(\"SHOW DATABASES\").show()\n",
    "# # spark.sql(\"select * from transactions\").show()\n",
    "# # # df.toPandas()"
   ]
  },
  {
   "cell_type": "code",
   "execution_count": 29,
   "id": "b054f4f4",
   "metadata": {
    "execution": {
     "iopub.execute_input": "2025-07-02T14:54:21.617909Z",
     "iopub.status.busy": "2025-07-02T14:54:21.617085Z",
     "iopub.status.idle": "2025-07-02T14:54:21.623837Z",
     "shell.execute_reply": "2025-07-02T14:54:21.621995Z"
    },
    "papermill": {
     "duration": 0.035885,
     "end_time": "2025-07-02T14:54:21.626282",
     "exception": false,
     "start_time": "2025-07-02T14:54:21.590397",
     "status": "completed"
    },
    "tags": []
   },
   "outputs": [],
   "source": [
    "# spark.sql(\"SHOW TABLES IN default\").show(truncate=False)"
   ]
  },
  {
   "cell_type": "code",
   "execution_count": 30,
   "id": "d2477376",
   "metadata": {
    "execution": {
     "iopub.execute_input": "2025-07-02T14:54:21.688320Z",
     "iopub.status.busy": "2025-07-02T14:54:21.687637Z",
     "iopub.status.idle": "2025-07-02T14:54:21.695597Z",
     "shell.execute_reply": "2025-07-02T14:54:21.693785Z"
    },
    "papermill": {
     "duration": 0.041983,
     "end_time": "2025-07-02T14:54:21.697758",
     "exception": false,
     "start_time": "2025-07-02T14:54:21.655775",
     "status": "completed"
    },
    "tags": []
   },
   "outputs": [],
   "source": [
    "# # Query metastore system tables\n",
    "# spark.sql(\"\"\"\n",
    "#   SELECT TBL_NAME, TBL_TYPE \n",
    "#   FROM default.TBLS \n",
    "#   JOIN default.DBS ON TBLS.DB_ID = DBS.DB_ID \n",
    "#   WHERE DBS.NAME = 'default'\n",
    "# \"\"\").show(truncate=False)"
   ]
  },
  {
   "cell_type": "code",
   "execution_count": 31,
   "id": "04c7f91a",
   "metadata": {
    "execution": {
     "iopub.execute_input": "2025-07-02T14:54:21.752408Z",
     "iopub.status.busy": "2025-07-02T14:54:21.751808Z",
     "iopub.status.idle": "2025-07-02T14:54:21.758784Z",
     "shell.execute_reply": "2025-07-02T14:54:21.757038Z"
    },
    "papermill": {
     "duration": 0.03609,
     "end_time": "2025-07-02T14:54:21.761025",
     "exception": false,
     "start_time": "2025-07-02T14:54:21.724935",
     "status": "completed"
    },
    "tags": []
   },
   "outputs": [],
   "source": [
    "# spark.conf.get(\"hive.metastore.uris\")  # Should return your URI"
   ]
  },
  {
   "cell_type": "code",
   "execution_count": 32,
   "id": "30ef3800",
   "metadata": {
    "execution": {
     "iopub.execute_input": "2025-07-02T14:54:21.816178Z",
     "iopub.status.busy": "2025-07-02T14:54:21.815051Z",
     "iopub.status.idle": "2025-07-02T14:54:21.822949Z",
     "shell.execute_reply": "2025-07-02T14:54:21.820827Z"
    },
    "papermill": {
     "duration": 0.04056,
     "end_time": "2025-07-02T14:54:21.825961",
     "exception": false,
     "start_time": "2025-07-02T14:54:21.785401",
     "status": "completed"
    },
    "tags": []
   },
   "outputs": [],
   "source": [
    "# spark.conf.get(\"spark.sql.catalogImplementation\")  # Should return \"hive\""
   ]
  },
  {
   "cell_type": "code",
   "execution_count": 33,
   "id": "91926ec3",
   "metadata": {
    "execution": {
     "iopub.execute_input": "2025-07-02T14:54:21.882507Z",
     "iopub.status.busy": "2025-07-02T14:54:21.881920Z",
     "iopub.status.idle": "2025-07-02T14:54:21.888827Z",
     "shell.execute_reply": "2025-07-02T14:54:21.887167Z"
    },
    "papermill": {
     "duration": 0.037426,
     "end_time": "2025-07-02T14:54:21.891421",
     "exception": false,
     "start_time": "2025-07-02T14:54:21.853995",
     "status": "completed"
    },
    "tags": []
   },
   "outputs": [],
   "source": [
    "# from pyspark.sql import SparkSession\n",
    "\n",
    "# spark.stop()\n",
    "# spark = SparkSession.builder \\\n",
    "#     .appName(\"DBTIntegration\") \\\n",
    "#     .config(\"hive.metastore.uris\", \"thrift://dbt-hive-metastore:9083\") \\\n",
    "#     .config(\"spark.sql.catalogImplementation\", \"hive\") \\\n",
    "#     .config(\"javax.jdo.option.ConnectionUserName\", \"dbt\") \\\n",
    "#     .config(\"javax.jdo.option.ConnectionPassword\", \"dbt\") \\\n",
    "#     .enableHiveSupport() \\\n",
    "#     .getOrCreate()\n",
    "# spark.sql(\"SHOW TABLES IN default\")"
   ]
  },
  {
   "cell_type": "code",
   "execution_count": 34,
   "id": "a34760ee",
   "metadata": {
    "execution": {
     "iopub.execute_input": "2025-07-02T14:54:21.945868Z",
     "iopub.status.busy": "2025-07-02T14:54:21.944817Z",
     "iopub.status.idle": "2025-07-02T14:54:21.952492Z",
     "shell.execute_reply": "2025-07-02T14:54:21.950761Z"
    },
    "papermill": {
     "duration": 0.038429,
     "end_time": "2025-07-02T14:54:21.954925",
     "exception": false,
     "start_time": "2025-07-02T14:54:21.916496",
     "status": "completed"
    },
    "tags": []
   },
   "outputs": [],
   "source": [
    "# from pyhive import hive\n",
    "# conn = hive.connect(host=spark_thrift_service_name, port=10000)\n",
    "# cursor = conn.cursor()\n",
    "# cursor.execute(\"SELECT * FROM default.transactions LIMIT 1\")\n",
    "# print(cursor.fetchall())"
   ]
  },
  {
   "cell_type": "markdown",
   "id": "ab2d2bd4",
   "metadata": {
    "papermill": {
     "duration": 0.026448,
     "end_time": "2025-07-02T14:54:22.009362",
     "exception": false,
     "start_time": "2025-07-02T14:54:21.982914",
     "status": "completed"
    },
    "tags": []
   },
   "source": [
    "### Test the built model (using the test model) "
   ]
  },
  {
   "cell_type": "markdown",
   "id": "0d6db6bf",
   "metadata": {
    "papermill": {
     "duration": 0.028127,
     "end_time": "2025-07-02T14:54:22.063841",
     "exception": false,
     "start_time": "2025-07-02T14:54:22.035714",
     "status": "completed"
    },
    "tags": []
   },
   "source": [
    "### dbt test"
   ]
  },
  {
   "cell_type": "code",
   "execution_count": 35,
   "id": "d95bbbdd",
   "metadata": {
    "execution": {
     "iopub.execute_input": "2025-07-02T14:54:22.125080Z",
     "iopub.status.busy": "2025-07-02T14:54:22.124378Z",
     "iopub.status.idle": "2025-07-02T14:54:35.534586Z",
     "shell.execute_reply": "2025-07-02T14:54:35.531907Z"
    },
    "papermill": {
     "duration": 13.44609,
     "end_time": "2025-07-02T14:54:35.539334",
     "exception": false,
     "start_time": "2025-07-02T14:54:22.093244",
     "status": "completed"
    },
    "tags": []
   },
   "outputs": [
    {
     "name": "stdout",
     "output_type": "stream",
     "text": [
      "\u001b[0m14:54:26  Running with dbt=1.10.2\r\n"
     ]
    },
    {
     "name": "stdout",
     "output_type": "stream",
     "text": [
      "\u001b[0m14:54:27  Registered adapter: spark=1.9.2\r\n"
     ]
    },
    {
     "name": "stdout",
     "output_type": "stream",
     "text": [
      "\u001b[0m14:54:28  Found 1 seed, 1 model, 1 test, 478 macros, 3 unit tests\r\n",
      "\u001b[0m14:54:28  \r\n",
      "\u001b[0m14:54:28  Concurrency: 1 threads (target='spark')\r\n",
      "\u001b[0m14:54:28  \r\n"
     ]
    },
    {
     "name": "stdout",
     "output_type": "stream",
     "text": [
      "\u001b[0m14:54:29  1 of 4 START test not_null_transactions_amount ................................. [RUN]\r\n"
     ]
    },
    {
     "name": "stdout",
     "output_type": "stream",
     "text": [
      "\u001b[0m14:54:31  1 of 4 PASS not_null_transactions_amount ....................................... [\u001b[32mPASS\u001b[0m in 1.69s]\r\n",
      "\u001b[0m14:54:31  2 of 4 START unit_test transactions::test_currency_sgd ......................... [RUN]\r\n"
     ]
    },
    {
     "name": "stdout",
     "output_type": "stream",
     "text": [
      "\u001b[0m14:54:32  2 of 4 PASS transactions::test_currency_sgd .................................... [\u001b[32mPASS\u001b[0m in 0.62s]\r\n",
      "\u001b[0m14:54:32  3 of 4 START unit_test transactions::test_currency_usd ......................... [RUN]\r\n"
     ]
    },
    {
     "name": "stdout",
     "output_type": "stream",
     "text": [
      "\u001b[0m14:54:32  3 of 4 PASS transactions::test_currency_usd .................................... [\u001b[32mPASS\u001b[0m in 0.51s]\r\n",
      "\u001b[0m14:54:32  4 of 4 START unit_test transactions::test_inactive ............................. [RUN]\r\n"
     ]
    },
    {
     "name": "stdout",
     "output_type": "stream",
     "text": [
      "\u001b[0m14:54:33  4 of 4 PASS transactions::test_inactive ........................................ [\u001b[32mPASS\u001b[0m in 0.75s]\r\n"
     ]
    },
    {
     "name": "stdout",
     "output_type": "stream",
     "text": [
      "\u001b[0m14:54:33  \r\n",
      "\u001b[0m14:54:33  Finished running 1 test, 3 unit tests in 0 hours 0 minutes and 4.64 seconds (4.64s).\r\n"
     ]
    },
    {
     "name": "stdout",
     "output_type": "stream",
     "text": [
      "\u001b[0m14:54:33  \r\n",
      "\u001b[0m14:54:33  \u001b[32mCompleted successfully\u001b[0m\r\n",
      "\u001b[0m14:54:33  \r\n",
      "\u001b[0m14:54:33  Done. PASS=4 WARN=0 ERROR=0 SKIP=0 NO-OP=0 TOTAL=4\r\n"
     ]
    }
   ],
   "source": [
    "!dbt test --log-level info"
   ]
  },
  {
   "cell_type": "code",
   "execution_count": 36,
   "id": "7cff9e94",
   "metadata": {
    "execution": {
     "iopub.execute_input": "2025-07-02T14:54:35.648166Z",
     "iopub.status.busy": "2025-07-02T14:54:35.646871Z",
     "iopub.status.idle": "2025-07-02T14:54:35.656672Z",
     "shell.execute_reply": "2025-07-02T14:54:35.654151Z"
    },
    "papermill": {
     "duration": 0.064196,
     "end_time": "2025-07-02T14:54:35.659830",
     "exception": false,
     "start_time": "2025-07-02T14:54:35.595634",
     "status": "completed"
    },
    "tags": []
   },
   "outputs": [],
   "source": [
    "# !cat /home/vin/01-prj/stripe/sql-formal-verification/formal_verification_prj_name/tests/unit/test_transactions.yml"
   ]
  },
  {
   "cell_type": "code",
   "execution_count": 37,
   "id": "60c204c0",
   "metadata": {
    "execution": {
     "iopub.execute_input": "2025-07-02T14:54:35.750056Z",
     "iopub.status.busy": "2025-07-02T14:54:35.749291Z",
     "iopub.status.idle": "2025-07-02T14:54:35.759556Z",
     "shell.execute_reply": "2025-07-02T14:54:35.757080Z"
    },
    "papermill": {
     "duration": 0.066662,
     "end_time": "2025-07-02T14:54:35.762762",
     "exception": false,
     "start_time": "2025-07-02T14:54:35.696100",
     "status": "completed"
    },
    "tags": []
   },
   "outputs": [],
   "source": [
    "# %%bash\n",
    "# cd /usr/app/dbt\n",
    "# dbt compile --profiles-dir /usr/app/dbt  --project-dir /usr/app/dbt/dbt_spark_demo_prj\n",
    "# # dbt run-operation drop_table --args '{\"table_name\": \"default.transactions\"}'\n",
    "# dbt run-operation drop_view --args '{\"view_name\": \"default.my_first_dbt_model\"}' --profiles-dir /usr/app/dbt  --project-dir /usr/app/dbt/dbt_spark_demo_prj\n",
    "# dbt run-operation drop_view --args '{\"view_name\": \"default.my_second_dbt_model\"}' --profiles-dir /usr/app/dbt  --project-dir /usr/app/dbt/dbt_spark_demo_prj"
   ]
  },
  {
   "cell_type": "markdown",
   "id": "c5dcb3be",
   "metadata": {
    "papermill": {
     "duration": 0.059951,
     "end_time": "2025-07-02T14:54:35.861936",
     "exception": false,
     "start_time": "2025-07-02T14:54:35.801985",
     "status": "completed"
    },
    "tags": []
   },
   "source": [
    "<!-- # Todo\n",
    "## Audit compliance \n",
    "### time tracing with time-stamping\n",
    "1. Add timestamp for loaded data using dbt model\n",
    "```jinja\n",
    "SELECT\n",
    "    *,\n",
    "    '{{ run_started_at }}'::timestamp AS added_at\n",
    "FROM {{ ref('my_seed_table') }}\n",
    "```\n",
    "### File tracing with source and targets file path, tablename -->\n"
   ]
  },
  {
   "cell_type": "markdown",
   "id": "5c25bb33",
   "metadata": {
    "papermill": {
     "duration": 0.042001,
     "end_time": "2025-07-02T14:54:35.959300",
     "exception": false,
     "start_time": "2025-07-02T14:54:35.917299",
     "status": "completed"
    },
    "tags": []
   },
   "source": [
    "# End of notebook"
   ]
  }
 ],
 "metadata": {
  "kernelspec": {
   "display_name": "venv",
   "language": "python",
   "name": "python3"
  },
  "language_info": {
   "codemirror_mode": {
    "name": "ipython",
    "version": 3
   },
   "file_extension": ".py",
   "mimetype": "text/x-python",
   "name": "python",
   "nbconvert_exporter": "python",
   "pygments_lexer": "ipython3",
   "version": "3.11.2"
  },
  "papermill": {
   "default_parameters": {},
   "duration": 100.344706,
   "end_time": "2025-07-02T14:54:36.624617",
   "environment_variables": {},
   "exception": null,
   "input_path": "/usr/app/demo/dbt-spark-demo.ipynb",
   "output_path": "/usr/app/demo/dbt-spark-demo.ipynb",
   "parameters": {},
   "start_time": "2025-07-02T14:52:56.279911",
   "version": "2.6.0"
  }
 },
 "nbformat": 4,
 "nbformat_minor": 5
}