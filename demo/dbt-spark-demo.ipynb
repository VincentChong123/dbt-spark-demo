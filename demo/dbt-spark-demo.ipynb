{
 "cells": [
  {
   "cell_type": "raw",
   "id": "b257ecab",
   "metadata": {
    "papermill": {
     "duration": 0.014208,
     "end_time": "2025-06-30T21:39:12.094504",
     "exception": false,
     "start_time": "2025-06-30T21:39:12.080296",
     "status": "completed"
    },
    "tags": [],
    "vscode": {
     "languageId": "raw"
    }
   },
   "source": [
    "---\n",
    "title: \"Demo of testing ETL pipeline using DBT and spark\"\n",
    "date: last-modified\n",
    "format:\n",
    "  html:\n",
    "    toc: true\n",
    "    toc-depth: 4\n",
    "    toc-location: left    \n",
    "    code-fold: true\n",
    "    css: styles.css  \n",
    "    number-sections: true       \n",
    "    other-links:\n",
    "      - text: github.com project repo\n",
    "        href: https://github.com/VincentChong123/dbt-spark-demo.git\n",
    "---"
   ]
  },
  {
   "cell_type": "markdown",
   "id": "5888a439",
   "metadata": {
    "papermill": {
     "duration": 0.013917,
     "end_time": "2025-06-30T21:39:12.122550",
     "exception": false,
     "start_time": "2025-06-30T21:39:12.108633",
     "status": "completed"
    },
    "tags": [],
    "vscode": {
     "languageId": "raw"
    }
   },
   "source": [
    "# Introduction\n",
    "This is a demo of dbt work flow using an data ingestion as an example. In finance data ETL (Extract, Transform, Load)\n",
    "important to have sanitity check of input data, to avoid the ingesting invalid data...."
   ]
  },
  {
   "cell_type": "code",
   "execution_count": 1,
   "id": "e897f7e7",
   "metadata": {
    "execution": {
     "iopub.execute_input": "2025-06-30T21:39:12.156429Z",
     "iopub.status.busy": "2025-06-30T21:39:12.155593Z",
     "iopub.status.idle": "2025-06-30T21:39:12.162880Z",
     "shell.execute_reply": "2025-06-30T21:39:12.161252Z"
    },
    "papermill": {
     "duration": 0.025521,
     "end_time": "2025-06-30T21:39:12.165026",
     "exception": false,
     "start_time": "2025-06-30T21:39:12.139505",
     "status": "completed"
    },
    "tags": [
     "skip"
    ]
   },
   "outputs": [],
   "source": [
    "# ```{mermaid}\n",
    "# flowchart LR\n",
    "#    empty[\".\"] --> DBT[\"Container: dbt-core \n",
    "#        plugin: dbt-\n",
    "#   DBT-pyspark[Hive]\"] --> |Generate SQL with 'dbt seed', 'dbt compile'| T(Container: Spark-Thrift)\n",
    "#   T -->|Query using the generated SQL| Storage[(Container: Postgre Hive metadata store)]\n",
    "\n",
    "# ```"
   ]
  },
  {
   "cell_type": "code",
   "execution_count": 2,
   "id": "ae9c7095",
   "metadata": {
    "execution": {
     "iopub.execute_input": "2025-06-30T21:39:12.196286Z",
     "iopub.status.busy": "2025-06-30T21:39:12.195771Z",
     "iopub.status.idle": "2025-06-30T21:39:14.454025Z",
     "shell.execute_reply": "2025-06-30T21:39:14.452552Z"
    },
    "papermill": {
     "duration": 2.276046,
     "end_time": "2025-06-30T21:39:14.456750",
     "exception": false,
     "start_time": "2025-06-30T21:39:12.180704",
     "status": "completed"
    },
    "tags": []
   },
   "outputs": [
    {
     "data": {
      "text/html": [
       "<div>\n",
       "<style scoped>\n",
       "    .dataframe tbody tr th:only-of-type {\n",
       "        vertical-align: middle;\n",
       "    }\n",
       "\n",
       "    .dataframe tbody tr th {\n",
       "        vertical-align: top;\n",
       "    }\n",
       "\n",
       "    .dataframe thead th {\n",
       "        text-align: right;\n",
       "    }\n",
       "</style>\n",
       "<table border=\"1\" class=\"dataframe\">\n",
       "  <thead>\n",
       "    <tr style=\"text-align: right;\">\n",
       "      <th></th>\n",
       "      <th>id</th>\n",
       "      <th>amount</th>\n",
       "      <th>currency</th>\n",
       "      <th>status</th>\n",
       "    </tr>\n",
       "  </thead>\n",
       "  <tbody>\n",
       "    <tr>\n",
       "      <th>0</th>\n",
       "      <td>1</td>\n",
       "      <td>100</td>\n",
       "      <td>USD</td>\n",
       "      <td>ACTIVE</td>\n",
       "    </tr>\n",
       "    <tr>\n",
       "      <th>1</th>\n",
       "      <td>2</td>\n",
       "      <td>200</td>\n",
       "      <td>SGD</td>\n",
       "      <td>ACTIVE</td>\n",
       "    </tr>\n",
       "    <tr>\n",
       "      <th>2</th>\n",
       "      <td>3</td>\n",
       "      <td>150</td>\n",
       "      <td>EUR</td>\n",
       "      <td>ACTIVE</td>\n",
       "    </tr>\n",
       "    <tr>\n",
       "      <th>3</th>\n",
       "      <td>4</td>\n",
       "      <td>120</td>\n",
       "      <td>USD</td>\n",
       "      <td>INACTIVE</td>\n",
       "    </tr>\n",
       "    <tr>\n",
       "      <th>4</th>\n",
       "      <td>5</td>\n",
       "      <td>180</td>\n",
       "      <td>SGD</td>\n",
       "      <td>INACTIVE</td>\n",
       "    </tr>\n",
       "    <tr>\n",
       "      <th>5</th>\n",
       "      <td>6</td>\n",
       "      <td>300</td>\n",
       "      <td>JPY</td>\n",
       "      <td>ACTIVE</td>\n",
       "    </tr>\n",
       "  </tbody>\n",
       "</table>\n",
       "</div>"
      ],
      "text/plain": [
       "   id  amount currency    status\n",
       "0   1     100      USD    ACTIVE\n",
       "1   2     200      SGD    ACTIVE\n",
       "2   3     150      EUR    ACTIVE\n",
       "3   4     120      USD  INACTIVE\n",
       "4   5     180      SGD  INACTIVE\n",
       "5   6     300      JPY    ACTIVE"
      ]
     },
     "execution_count": 2,
     "metadata": {},
     "output_type": "execute_result"
    }
   ],
   "source": [
    "import pandas as pd\n",
    "pd.read_csv(\"/usr/app/demo/dbt_spark_demo_prj/seeds/transactions/raw__transactions.csv\")\n"
   ]
  },
  {
   "cell_type": "markdown",
   "id": "d8640c45",
   "metadata": {
    "papermill": {
     "duration": 0.014793,
     "end_time": "2025-06-30T21:39:14.496767",
     "exception": false,
     "start_time": "2025-06-30T21:39:14.481974",
     "status": "completed"
    },
    "tags": [],
    "vscode": {
     "languageId": "raw"
    }
   },
   "source": [
    "## Project file structure"
   ]
  },
  {
   "cell_type": "code",
   "execution_count": 3,
   "id": "b28d4077",
   "metadata": {
    "execution": {
     "iopub.execute_input": "2025-06-30T21:39:14.528435Z",
     "iopub.status.busy": "2025-06-30T21:39:14.527142Z",
     "iopub.status.idle": "2025-06-30T21:39:15.231558Z",
     "shell.execute_reply": "2025-06-30T21:39:15.229801Z"
    },
    "papermill": {
     "duration": 0.722848,
     "end_time": "2025-06-30T21:39:15.233912",
     "exception": false,
     "start_time": "2025-06-30T21:39:14.511064",
     "status": "completed"
    },
    "tags": []
   },
   "outputs": [
    {
     "name": "stdout",
     "output_type": "stream",
     "text": [
      "\u001b[01;34m/usr/app\u001b[00m\r\n",
      "├── \u001b[01;34mdbt\u001b[00m\r\n",
      "│   ├── dbt.Dockerfile\r\n",
      "│   ├── \u001b[01;34mdbt_spark_demo_prj\u001b[00m\r\n",
      "│   ├── docker-compose.yml\r\n",
      "│   └── requirements.txt\r\n",
      "├── \u001b[01;34mdbt-spark\u001b[00m\r\n",
      "│   ├── \u001b[01;34mdagger\u001b[00m\r\n",
      "│   ├── \u001b[01;34mdbt\u001b[00m\r\n",
      "│   ├── \u001b[01;34mdocker\u001b[00m\r\n",
      "│   ├── docker-compose.yml\r\n",
      "│   ├── \u001b[01;34mscripts\u001b[00m\r\n",
      "│   ├── test.env.example\r\n",
      "│   └── \u001b[01;34mtests\u001b[00m\r\n",
      "├── \u001b[01;34mdemo\u001b[00m\r\n",
      "│   ├── dbt-spark-demo.html\r\n",
      "│   ├── dbt-spark-demo.ipynb\r\n",
      "│   ├── \u001b[01;34mdbt-spark-demo_files\u001b[00m\r\n",
      "│   ├── \u001b[01;34mdbt_spark_demo_prj\u001b[00m\r\n",
      "│   ├── generate-documentation.sh\r\n",
      "│   ├── profiles.yml\r\n",
      "│   └── \u001b[01;34mresults\u001b[00m\r\n",
      "├── \u001b[01;34mdocs\u001b[00m\r\n",
      "│   └── index.html\r\n",
      "├── index.html\r\n",
      "└── run-demo.sh\r\n",
      "\r\n"
     ]
    }
   ],
   "source": [
    "!tree -L 2 --sort=\"name\" /usr/app | grep -v \".*\\.toml$\" | grep -v \".*\\.md$\" | grep -v \".*files$\""
   ]
  },
  {
   "cell_type": "markdown",
   "id": "be13bae7",
   "metadata": {
    "papermill": {
     "duration": 0.014592,
     "end_time": "2025-06-30T21:39:15.263259",
     "exception": false,
     "start_time": "2025-06-30T21:39:15.248667",
     "status": "completed"
    },
    "tags": []
   },
   "source": [
    "# Environment setup"
   ]
  },
  {
   "cell_type": "markdown",
   "id": "c0152385",
   "metadata": {
    "papermill": {
     "duration": 0.014462,
     "end_time": "2025-06-30T21:39:15.295321",
     "exception": false,
     "start_time": "2025-06-30T21:39:15.280859",
     "status": "completed"
    },
    "tags": [],
    "vscode": {
     "languageId": "raw"
    }
   },
   "source": [
    "## Docker\n",
    "### Shared network for docker containers\n",
    "```bash\n",
    "source ./docker-common.sh\n",
    "```"
   ]
  },
  {
   "cell_type": "markdown",
   "id": "0de346d1",
   "metadata": {
    "papermill": {
     "duration": 0.014401,
     "end_time": "2025-06-30T21:39:15.323926",
     "exception": false,
     "start_time": "2025-06-30T21:39:15.309525",
     "status": "completed"
    },
    "tags": [],
    "vscode": {
     "languageId": "raw"
    }
   },
   "source": [
    "## Install jupyter notebook for running this demo in notebook \n",
    "This notebook is executed using jupyer-notebook kernel (http://127.0.0.1:8888) of the loaded custom-dbt container. The container is loaded using command below\n",
    "```bash\n",
    "jupyter notebook --NotebookApp.token='' --NotebookApp.password='' --NotebookApp.disable_check_xsrf=True --allow-root --ip=0.0.0.0 --port=8888 --no-browser\n",
    "```\n",
    "use allow-root for demo purpose only, not for production due to cyber security\n"
   ]
  },
  {
   "cell_type": "code",
   "execution_count": 4,
   "id": "8a58c3eb",
   "metadata": {
    "execution": {
     "iopub.execute_input": "2025-06-30T21:39:15.356125Z",
     "iopub.status.busy": "2025-06-30T21:39:15.355319Z",
     "iopub.status.idle": "2025-06-30T21:39:15.382569Z",
     "shell.execute_reply": "2025-06-30T21:39:15.380339Z"
    },
    "papermill": {
     "duration": 0.047591,
     "end_time": "2025-06-30T21:39:15.387207",
     "exception": false,
     "start_time": "2025-06-30T21:39:15.339616",
     "status": "completed"
    },
    "tags": []
   },
   "outputs": [
    {
     "name": "stdout",
     "output_type": "stream",
     "text": [
      "Tue Jul  1 05:39:15 +08 2025\n"
     ]
    },
    {
     "name": "stdout",
     "output_type": "stream",
     "text": [
      "/usr/local/bin/python\n"
     ]
    },
    {
     "name": "stdout",
     "output_type": "stream",
     "text": [
      "/usr/app/dbt\n"
     ]
    }
   ],
   "source": [
    "%%bash\n",
    "export TZ='Asia/Singapore'\n",
    "date\n",
    "which python\n",
    "pwd"
   ]
  },
  {
   "cell_type": "markdown",
   "id": "b1e7c606",
   "metadata": {
    "papermill": {
     "duration": 0.014854,
     "end_time": "2025-06-30T21:39:15.417092",
     "exception": false,
     "start_time": "2025-06-30T21:39:15.402238",
     "status": "completed"
    },
    "tags": []
   },
   "source": [
    "### Connection to read table in Hive meta-data store"
   ]
  },
  {
   "cell_type": "markdown",
   "id": "d6b175ae",
   "metadata": {
    "papermill": {
     "duration": 0.017257,
     "end_time": "2025-06-30T21:39:15.451992",
     "exception": false,
     "start_time": "2025-06-30T21:39:15.434735",
     "status": "completed"
    },
    "tags": []
   },
   "source": [
    "## Variables"
   ]
  },
  {
   "cell_type": "code",
   "execution_count": 5,
   "id": "f86badf3",
   "metadata": {
    "execution": {
     "iopub.execute_input": "2025-06-30T21:39:15.493022Z",
     "iopub.status.busy": "2025-06-30T21:39:15.491887Z",
     "iopub.status.idle": "2025-06-30T21:39:17.318139Z",
     "shell.execute_reply": "2025-06-30T21:39:17.316316Z"
    },
    "papermill": {
     "duration": 1.851514,
     "end_time": "2025-06-30T21:39:17.320411",
     "exception": false,
     "start_time": "2025-06-30T21:39:15.468897",
     "status": "completed"
    },
    "tags": []
   },
   "outputs": [
    {
     "name": "stdout",
     "output_type": "stream",
     "text": [
      "/usr/app/dbt\r\n"
     ]
    },
    {
     "name": "stdout",
     "output_type": "stream",
     "text": [
      "/usr/app/dbt\r\n"
     ]
    },
    {
     "name": "stdout",
     "output_type": "stream",
     "text": [
      "dbt-spark3-thrift\n",
      "/usr/app/dbt/dbt_spark_demo_prj\n",
      "dbt_spark_demo_prj\n"
     ]
    }
   ],
   "source": [
    "from dotenv import load_dotenv\n",
    "import os\n",
    "!pwd\n",
    "\n",
    "!cd ../\n",
    "!pwd\n",
    "\n",
    "load_dotenv()\n",
    "spark_thrift_service_name=os.getenv('SPARK_CONTAINER_SERVICE_NAME')\n",
    "dbt_project_dir=os.getenv('DBT_PROJECT_DIR')\n",
    "dbt_project_name=os.getenv('DBT_PROJECT_NAME')\n",
    "print(spark_thrift_service_name)\n",
    "print(dbt_project_dir)\n",
    "print(dbt_project_name)"
   ]
  },
  {
   "cell_type": "markdown",
   "id": "aec4f6d3",
   "metadata": {
    "papermill": {
     "duration": 0.015441,
     "end_time": "2025-06-30T21:39:17.351360",
     "exception": false,
     "start_time": "2025-06-30T21:39:17.335919",
     "status": "completed"
    },
    "tags": []
   },
   "source": [
    "# Start demo"
   ]
  },
  {
   "cell_type": "code",
   "execution_count": 6,
   "id": "34c662e5",
   "metadata": {
    "execution": {
     "iopub.execute_input": "2025-06-30T21:39:17.383465Z",
     "iopub.status.busy": "2025-06-30T21:39:17.382659Z",
     "iopub.status.idle": "2025-06-30T21:39:18.573634Z",
     "shell.execute_reply": "2025-06-30T21:39:18.571921Z"
    },
    "papermill": {
     "duration": 1.210322,
     "end_time": "2025-06-30T21:39:18.576258",
     "exception": false,
     "start_time": "2025-06-30T21:39:17.365936",
     "status": "completed"
    },
    "tags": []
   },
   "outputs": [],
   "source": [
    "filepath=\"/usr/app/demo/results/test_start.txt\"\n",
    "!echo start test at > $filepath \n",
    "!export TZ='Asia/Singapore'; date >> $filepath"
   ]
  },
  {
   "cell_type": "markdown",
   "id": "e7f0f26b",
   "metadata": {
    "papermill": {
     "duration": 0.014548,
     "end_time": "2025-06-30T21:39:18.605592",
     "exception": false,
     "start_time": "2025-06-30T21:39:18.591044",
     "status": "completed"
    },
    "tags": []
   },
   "source": [
    "## Helper codes"
   ]
  },
  {
   "cell_type": "code",
   "execution_count": 7,
   "id": "b9f4df75",
   "metadata": {
    "execution": {
     "iopub.execute_input": "2025-06-30T21:39:18.636802Z",
     "iopub.status.busy": "2025-06-30T21:39:18.635966Z",
     "iopub.status.idle": "2025-06-30T21:39:29.136935Z",
     "shell.execute_reply": "2025-06-30T21:39:29.135471Z"
    },
    "papermill": {
     "duration": 10.519374,
     "end_time": "2025-06-30T21:39:29.139225",
     "exception": false,
     "start_time": "2025-06-30T21:39:18.619851",
     "status": "completed"
    },
    "tags": []
   },
   "outputs": [
    {
     "name": "stdout",
     "output_type": "stream",
     "text": [
      "\n"
     ]
    },
    {
     "data": {
      "text/html": [
       "<div>\n",
       "<style scoped>\n",
       "    .dataframe tbody tr th:only-of-type {\n",
       "        vertical-align: middle;\n",
       "    }\n",
       "\n",
       "    .dataframe tbody tr th {\n",
       "        vertical-align: top;\n",
       "    }\n",
       "\n",
       "    .dataframe thead th {\n",
       "        text-align: right;\n",
       "    }\n",
       "</style>\n",
       "<table border=\"1\" class=\"dataframe\">\n",
       "  <thead>\n",
       "    <tr style=\"text-align: right;\">\n",
       "      <th></th>\n",
       "      <th>namespace</th>\n",
       "      <th>tableName</th>\n",
       "      <th>isTemporary</th>\n",
       "    </tr>\n",
       "  </thead>\n",
       "  <tbody>\n",
       "    <tr>\n",
       "      <th>0</th>\n",
       "      <td>default</td>\n",
       "      <td>raw__transactions</td>\n",
       "      <td>False</td>\n",
       "    </tr>\n",
       "    <tr>\n",
       "      <th>1</th>\n",
       "      <td>default</td>\n",
       "      <td>transactions</td>\n",
       "      <td>False</td>\n",
       "    </tr>\n",
       "  </tbody>\n",
       "</table>\n",
       "</div>"
      ],
      "text/plain": [
       "  namespace          tableName  isTemporary\n",
       "0   default  raw__transactions        False\n",
       "1   default       transactions        False"
      ]
     },
     "metadata": {},
     "output_type": "display_data"
    },
    {
     "name": "stdout",
     "output_type": "stream",
     "text": [
      "------------\n"
     ]
    }
   ],
   "source": [
    "from pyhive import hive\n",
    "import pandas as pd\n",
    "from sqlalchemy.engine import create_engine\n",
    "\n",
    "def check_table(host=spark_thrift_service_name, message_to_be_printed=\"\"):\n",
    "    # with hive.Connection(host=spark_thrift_service_name, port=10000, \n",
    "    #                     #    username='', \n",
    "    #                     database='default') as conn:\n",
    "\n",
    "    #     # Query all tables in the default database\n",
    "    #     df = pd.read_sql(\"SHOW TABLES\", conn)\n",
    "\n",
    "    #     # Display tables\n",
    "    #     display(df)\n",
    "    print(message_to_be_printed)\n",
    "    engine = create_engine(f'hive://{spark_thrift_service_name}:10000/default')\n",
    "    df = pd.read_sql(\"SHOW TABLES;\", engine)\n",
    "    # display(df)\n",
    "    display(df)\n",
    "\n",
    "def show_table_details(table_name, database_name='default',\n",
    "                        # host=spark_thrift_service_name,\n",
    "                        port=10000):\n",
    "    # sqlAlchemy api fail here due to \"sqlAlchemy relection\": TODO investigate root cause\n",
    "    # engine = create_engine(f'hive://{spark_thrift_service_name}:10000/default')\n",
    "    # df = pd.read_sql(f\"select * from {table_name} limit 10\", engine)\n",
    "\n",
    "    with hive.Connection(host=spark_thrift_service_name, port=port, database=database_name) as conn:\n",
    "        df = pd.read_sql(f\"select * from {database_name}.{table_name}\", conn)\n",
    "\n",
    "        display(df)\n",
    "\n",
    "    \n",
    "check_table()\n",
    "print(\"------------\")\n",
    "# show_table_details(\"transactions\")\n"
   ]
  },
  {
   "cell_type": "markdown",
   "id": "04ca1b42",
   "metadata": {
    "papermill": {
     "duration": 0.015785,
     "end_time": "2025-06-30T21:39:29.170544",
     "exception": false,
     "start_time": "2025-06-30T21:39:29.154759",
     "status": "completed"
    },
    "tags": []
   },
   "source": [
    "## DBT "
   ]
  },
  {
   "cell_type": "code",
   "execution_count": 8,
   "id": "fdf3c236",
   "metadata": {
    "execution": {
     "iopub.execute_input": "2025-06-30T21:39:29.203429Z",
     "iopub.status.busy": "2025-06-30T21:39:29.202641Z",
     "iopub.status.idle": "2025-06-30T21:39:35.298264Z",
     "shell.execute_reply": "2025-06-30T21:39:35.296203Z"
    },
    "papermill": {
     "duration": 6.114698,
     "end_time": "2025-06-30T21:39:35.300639",
     "exception": false,
     "start_time": "2025-06-30T21:39:29.185941",
     "status": "completed"
    },
    "tags": []
   },
   "outputs": [
    {
     "name": "stdout",
     "output_type": "stream",
     "text": [
      "Core:\r\n",
      "  - installed: 1.10.2\r\n",
      "  - latest:    1.10.2 - \u001b[32mUp to date!\u001b[0m\r\n",
      "\r\n",
      "Plugins:\r\n",
      "  - spark: 1.9.2 - \u001b[32mUp to date!\u001b[0m\r\n",
      "\r\n",
      "\r\n"
     ]
    }
   ],
   "source": [
    "!dbt --version"
   ]
  },
  {
   "cell_type": "markdown",
   "id": "bfe04595",
   "metadata": {
    "papermill": {
     "duration": 0.01547,
     "end_time": "2025-06-30T21:39:35.331239",
     "exception": false,
     "start_time": "2025-06-30T21:39:35.315769",
     "status": "completed"
    },
    "tags": []
   },
   "source": [
    "## Verify DBT setup"
   ]
  },
  {
   "cell_type": "markdown",
   "id": "ee90d22f",
   "metadata": {
    "papermill": {
     "duration": 0.01454,
     "end_time": "2025-06-30T21:39:35.360359",
     "exception": false,
     "start_time": "2025-06-30T21:39:35.345819",
     "status": "completed"
    },
    "tags": []
   },
   "source": [
    "### profiles.yml\n",
    "```yml\n",
    "formal_verification_prj_name:\n",
    "  outputs:\n",
    "    spark:\n",
    "      type: spark\n",
    "      method: thrift\n",
    "      host: dbt-spark3-thrift\n",
    "      schema: default\n",
    "      connect_timeout: 30\n",
    "      authentication: NONE\n",
    "  target: spark\n",
    "\n",
    "```"
   ]
  },
  {
   "cell_type": "code",
   "execution_count": 9,
   "id": "70bfe66e",
   "metadata": {
    "execution": {
     "iopub.execute_input": "2025-06-30T21:39:35.393278Z",
     "iopub.status.busy": "2025-06-30T21:39:35.392317Z",
     "iopub.status.idle": "2025-06-30T21:39:36.001428Z",
     "shell.execute_reply": "2025-06-30T21:39:35.999713Z"
    },
    "papermill": {
     "duration": 0.629217,
     "end_time": "2025-06-30T21:39:36.003929",
     "exception": false,
     "start_time": "2025-06-30T21:39:35.374712",
     "status": "completed"
    },
    "tags": []
   },
   "outputs": [
    {
     "name": "stdout",
     "output_type": "stream",
     "text": [
      "send_anonymous_usage_stats: false\r\n",
      "\r\n",
      "dbt_spark_demo_prj:\r\n",
      "  outputs:\r\n",
      "    spark:\r\n",
      "      type: spark\r\n",
      "      method: thrift\r\n",
      "      host: dbt-spark3-thrift\r\n",
      "      port: 10000\r\n",
      "      schema: default\r\n",
      "      connect_timeout: 30\r\n",
      "      authentication: NONE\r\n",
      "  target: spark\r\n"
     ]
    }
   ],
   "source": [
    "!cat ~/.dbt/profiles.yml"
   ]
  },
  {
   "cell_type": "markdown",
   "id": "b7c21787",
   "metadata": {
    "papermill": {
     "duration": 0.015355,
     "end_time": "2025-06-30T21:39:36.034767",
     "exception": false,
     "start_time": "2025-06-30T21:39:36.019412",
     "status": "completed"
    },
    "tags": []
   },
   "source": [
    "### dbt_project.yml\n",
    "```yml\n",
    "name: 'formal_verification_prj_name'\n",
    "version: '1.0.0'\n",
    "\n",
    "# This setting configures which \"profile\" dbt uses for this project.\n",
    "profile: 'formal_verification_prj_name'\n",
    "\n",
    "# These configurations specify where dbt should look for different types of files.\n",
    "# The `model-paths` config, for example, states that models in this project can be\n",
    "# found in the \"models/\" directory. You probably won't need to change these!\n",
    "model-paths: [\"models\"]\n",
    "analysis-paths: [\"analyses\"]\n",
    "test-paths: [\"tests\"]\n",
    "seed-paths: [\"seeds\"]\n",
    "macro-paths: [\"macros\"]\n",
    "snapshot-paths: [\"snapshots\"]\n",
    "\n",
    "clean-targets:         # directories to be removed by `dbt clean`\n",
    "  - \"target\"\n",
    "  - \"dbt_packages\"\n",
    "\n",
    "models:\n",
    "  formal_verification_prj_name:\n",
    "    # +write_json: false\n",
    "    +materialized: incremental\n",
    "    +file_format: parquet    \n",
    "\n",
    "```"
   ]
  },
  {
   "cell_type": "code",
   "execution_count": 10,
   "id": "089c0b95",
   "metadata": {
    "execution": {
     "iopub.execute_input": "2025-06-30T21:39:36.067532Z",
     "iopub.status.busy": "2025-06-30T21:39:36.066677Z",
     "iopub.status.idle": "2025-06-30T21:39:36.673482Z",
     "shell.execute_reply": "2025-06-30T21:39:36.671510Z"
    },
    "papermill": {
     "duration": 0.62636,
     "end_time": "2025-06-30T21:39:36.676361",
     "exception": false,
     "start_time": "2025-06-30T21:39:36.050001",
     "status": "completed"
    },
    "tags": []
   },
   "outputs": [
    {
     "name": "stdout",
     "output_type": "stream",
     "text": [
      "\r\n",
      "# Name your project! Project names should contain only lowercase characters\r\n",
      "# and underscores. A good package name should reflect your organization's\r\n",
      "# name or the intended use of these models\r\n",
      "name: 'dbt_spark_demo_prj'\r\n",
      "version: '1.0.0'\r\n",
      "\r\n",
      "# This setting configures which \"profile\" dbt uses for this project.\r\n",
      "profile: 'dbt_spark_demo_prj'\r\n",
      "\r\n",
      "# These configurations specify where dbt should look for different types of files.\r\n",
      "# The `model-paths` config, for example, states that models in this project can be\r\n",
      "# found in the \"models/\" directory. You probably won't need to change these!\r\n",
      "model-paths: [\"models\"]\r\n",
      "analysis-paths: [\"analyses\"]\r\n",
      "test-paths: [\"tests\"]\r\n",
      "seed-paths: [\"seeds\"]\r\n",
      "macro-paths: [\"macros\"]\r\n",
      "snapshot-paths: [\"snapshots\"]\r\n",
      "\r\n",
      "clean-targets:         # directories to be removed by `dbt clean`\r\n",
      "  - \"target\"\r\n",
      "  - \"dbt_packages\"\r\n",
      "\r\n",
      "\r\n",
      "# Configuring models\r\n",
      "# Full documentation: https://docs.getdbt.com/docs/configuring-models\r\n",
      "\r\n",
      "# In this example config, we tell dbt to build all models in the example/\r\n",
      "# directory as views. These settings can be overridden in the individual model\r\n",
      "# files using the `{{ config(...) }}` macro.\r\n",
      "models:\r\n",
      "  dbt_spark_demo_prj:\r\n",
      "    +materialized: incremental\r\n",
      "    +file_format: parquet\r\n",
      "  # example:\r\n",
      "  #   +enabled: false\r\n",
      "    \r\n"
     ]
    }
   ],
   "source": [
    "!cat /usr/app/dbt/dbt_spark_demo_prj/dbt_project.yml"
   ]
  },
  {
   "cell_type": "markdown",
   "id": "5fa3d336",
   "metadata": {
    "papermill": {
     "duration": 0.015301,
     "end_time": "2025-06-30T21:39:36.707609",
     "exception": false,
     "start_time": "2025-06-30T21:39:36.692308",
     "status": "completed"
    },
    "tags": []
   },
   "source": [
    "### dbt debug"
   ]
  },
  {
   "cell_type": "code",
   "execution_count": 11,
   "id": "463ce0e5",
   "metadata": {
    "execution": {
     "iopub.execute_input": "2025-06-30T21:39:36.741854Z",
     "iopub.status.busy": "2025-06-30T21:39:36.741017Z",
     "iopub.status.idle": "2025-06-30T21:39:43.866607Z",
     "shell.execute_reply": "2025-06-30T21:39:43.864728Z"
    },
    "papermill": {
     "duration": 7.145947,
     "end_time": "2025-06-30T21:39:43.869226",
     "exception": false,
     "start_time": "2025-06-30T21:39:36.723279",
     "status": "completed"
    },
    "tags": []
   },
   "outputs": [
    {
     "name": "stdout",
     "output_type": "stream",
     "text": [
      "\u001b[0m21:39:39  Running with dbt=1.10.2\r\n"
     ]
    },
    {
     "name": "stdout",
     "output_type": "stream",
     "text": [
      "\u001b[0m21:39:39  dbt version: 1.10.2\r\n",
      "\u001b[0m21:39:39  python version: 3.11.2\r\n",
      "\u001b[0m21:39:39  python path: /usr/local/bin/python3\r\n",
      "\u001b[0m21:39:39  os info: Linux-5.15.167.4-microsoft-standard-WSL2-x86_64-with-glibc2.31\r\n"
     ]
    },
    {
     "name": "stdout",
     "output_type": "stream",
     "text": [
      "\u001b[0m21:39:40  Using profiles dir at /root/.dbt\r\n",
      "\u001b[0m21:39:40  Using profiles.yml file at /root/.dbt/profiles.yml\r\n",
      "\u001b[0m21:39:40  Using dbt_project.yml file at /usr/app/dbt/dbt_spark_demo_prj/dbt_project.yml\r\n",
      "\u001b[0m21:39:40  adapter type: spark\r\n",
      "\u001b[0m21:39:40  adapter version: 1.9.2\r\n"
     ]
    },
    {
     "name": "stdout",
     "output_type": "stream",
     "text": [
      "\u001b[0m21:39:40  Configuration:\r\n",
      "\u001b[0m21:39:40    profiles.yml file [\u001b[32mOK found and valid\u001b[0m]\r\n",
      "\u001b[0m21:39:40    dbt_project.yml file [\u001b[32mOK found and valid\u001b[0m]\r\n",
      "\u001b[0m21:39:40  Required dependencies:\r\n",
      "\u001b[0m21:39:40   - git [\u001b[32mOK found\u001b[0m]\r\n",
      "\r\n",
      "\u001b[0m21:39:40  Connection:\r\n",
      "\u001b[0m21:39:40    host: dbt-spark3-thrift\r\n",
      "\u001b[0m21:39:40    port: 10000\r\n",
      "\u001b[0m21:39:40    cluster: None\r\n",
      "\u001b[0m21:39:40    endpoint: None\r\n",
      "\u001b[0m21:39:40    schema: default\r\n",
      "\u001b[0m21:39:40    organization: 0\r\n",
      "\u001b[0m21:39:40  Registered adapter: spark=1.9.2\r\n"
     ]
    },
    {
     "name": "stdout",
     "output_type": "stream",
     "text": [
      "\u001b[0m21:39:42    Connection test: [\u001b[32mOK connection ok\u001b[0m]\r\n",
      "\r\n",
      "\u001b[0m21:39:42  \u001b[32mAll checks passed!\u001b[0m\r\n"
     ]
    }
   ],
   "source": [
    "!dbt debug --project-dir /usr/app/dbt/dbt_spark_demo_prj\n",
    "\n",
    "#to print detailed messages for debugging \n",
    "#!dbt debug --debug --project-dir /usr/app/dbt/dbt_spark_demo_prj"
   ]
  },
  {
   "cell_type": "markdown",
   "id": "6788bb54",
   "metadata": {
    "papermill": {
     "duration": 0.01549,
     "end_time": "2025-06-30T21:39:43.900701",
     "exception": false,
     "start_time": "2025-06-30T21:39:43.885211",
     "status": "completed"
    },
    "tags": []
   },
   "source": [
    "## dbt command comparisons\n",
    "| Command           | Purpose                                  | What it does                                                             | Output                                    |\n",
    "| ----------------- | ---------------------------------------- | ------------------------------------------------------------------------ | ----------------------------------------- |\n",
    "| **`dbt compile`** | Prepares SQL code for execution          | Converts Jinja + macros into raw SQL; writes compiled files to `target/` | Compiled SQL files (no warehouse changes) |\n",
    "| **`dbt run`**     | Builds models (tables/views)             | Executes compiled SQL to materialize models in the data warehouse        | Tables/views in the warehouse             |\n",
    "| **`dbt test`**    | Validates data quality assumptions       | Runs data tests (e.g., `not_null`, `unique`, custom) on warehouse data   | Test pass/fail results                    |\n",
    "| **`dbt seed`**    | Loads static CSV data into the warehouse | Uploads CSV files from the `seeds/` directory into tables                 | Tables containing seed data               |\n"
   ]
  },
  {
   "cell_type": "markdown",
   "id": "46c7b25b",
   "metadata": {
    "papermill": {
     "duration": 0.015954,
     "end_time": "2025-06-30T21:39:43.932493",
     "exception": false,
     "start_time": "2025-06-30T21:39:43.916539",
     "status": "completed"
    },
    "tags": []
   },
   "source": [
    "# Prepare SQL"
   ]
  },
  {
   "cell_type": "markdown",
   "id": "328b5522",
   "metadata": {
    "papermill": {
     "duration": 0.01547,
     "end_time": "2025-06-30T21:39:43.963252",
     "exception": false,
     "start_time": "2025-06-30T21:39:43.947782",
     "status": "completed"
    },
    "tags": []
   },
   "source": [
    "## Read dbt input csv \n",
    "\n",
    "* read seeds/transactions.csv, \n",
    "* dbt generate raw__transaction.csv\n",
    "* dbt create table default.raw_transaction at the database "
   ]
  },
  {
   "cell_type": "markdown",
   "id": "331b109e",
   "metadata": {
    "papermill": {
     "duration": 0.015259,
     "end_time": "2025-06-30T21:39:43.993756",
     "exception": false,
     "start_time": "2025-06-30T21:39:43.978497",
     "status": "completed"
    },
    "tags": []
   },
   "source": [
    "### Verify database before the operation"
   ]
  },
  {
   "cell_type": "code",
   "execution_count": 12,
   "id": "6c4e3091",
   "metadata": {
    "execution": {
     "iopub.execute_input": "2025-06-30T21:39:44.028194Z",
     "iopub.status.busy": "2025-06-30T21:39:44.027602Z",
     "iopub.status.idle": "2025-06-30T21:39:57.182297Z",
     "shell.execute_reply": "2025-06-30T21:39:57.180538Z"
    },
    "papermill": {
     "duration": 13.175169,
     "end_time": "2025-06-30T21:39:57.184716",
     "exception": false,
     "start_time": "2025-06-30T21:39:44.009547",
     "status": "completed"
    },
    "tags": []
   },
   "outputs": [
    {
     "name": "stdout",
     "output_type": "stream",
     "text": [
      "\u001b[0m21:39:46  Running with dbt=1.10.2\r\n"
     ]
    },
    {
     "name": "stdout",
     "output_type": "stream",
     "text": [
      "\u001b[0m21:39:47  Registered adapter: spark=1.9.2\r\n"
     ]
    },
    {
     "name": "stdout",
     "output_type": "stream",
     "text": [
      "\u001b[0m21:39:48  Found 1 model, 1 test, 1 seed, 476 macros, 3 unit tests\r\n"
     ]
    },
    {
     "name": "stdout",
     "output_type": "stream",
     "text": [
      "\u001b[0m21:39:53  Running with dbt=1.10.2\r\n"
     ]
    },
    {
     "name": "stdout",
     "output_type": "stream",
     "text": [
      "\u001b[0m21:39:54  Registered adapter: spark=1.9.2\r\n"
     ]
    },
    {
     "name": "stdout",
     "output_type": "stream",
     "text": [
      "\u001b[0m21:39:54  Found 1 model, 1 test, 1 seed, 476 macros, 3 unit tests\r\n"
     ]
    }
   ],
   "source": [
    "!dbt run-operation drop_table --args '{\"table_name\": \"default.raw__transactions\"}'  \n",
    "!dbt run-operation drop_table --args '{\"table_name\": \"default.transactions\"}' "
   ]
  },
  {
   "cell_type": "code",
   "execution_count": 13,
   "id": "ff9ca4df",
   "metadata": {
    "execution": {
     "iopub.execute_input": "2025-06-30T21:39:57.219510Z",
     "iopub.status.busy": "2025-06-30T21:39:57.218520Z",
     "iopub.status.idle": "2025-06-30T21:40:06.687318Z",
     "shell.execute_reply": "2025-06-30T21:40:06.685626Z"
    },
    "papermill": {
     "duration": 9.48855,
     "end_time": "2025-06-30T21:40:06.689398",
     "exception": false,
     "start_time": "2025-06-30T21:39:57.200848",
     "status": "completed"
    },
    "tags": []
   },
   "outputs": [
    {
     "name": "stdout",
     "output_type": "stream",
     "text": [
      "Database table before the operation\n"
     ]
    },
    {
     "data": {
      "text/html": [
       "<div>\n",
       "<style scoped>\n",
       "    .dataframe tbody tr th:only-of-type {\n",
       "        vertical-align: middle;\n",
       "    }\n",
       "\n",
       "    .dataframe tbody tr th {\n",
       "        vertical-align: top;\n",
       "    }\n",
       "\n",
       "    .dataframe thead th {\n",
       "        text-align: right;\n",
       "    }\n",
       "</style>\n",
       "<table border=\"1\" class=\"dataframe\">\n",
       "  <thead>\n",
       "    <tr style=\"text-align: right;\">\n",
       "      <th></th>\n",
       "      <th>namespace</th>\n",
       "      <th>tableName</th>\n",
       "      <th>isTemporary</th>\n",
       "    </tr>\n",
       "  </thead>\n",
       "  <tbody>\n",
       "  </tbody>\n",
       "</table>\n",
       "</div>"
      ],
      "text/plain": [
       "Empty DataFrame\n",
       "Columns: [namespace, tableName, isTemporary]\n",
       "Index: []"
      ]
     },
     "metadata": {},
     "output_type": "display_data"
    },
    {
     "name": "stdout",
     "output_type": "stream",
     "text": [
      "\u001b[0m21:40:00  Running with dbt=1.10.2\r\n"
     ]
    },
    {
     "name": "stdout",
     "output_type": "stream",
     "text": [
      "\u001b[0m21:40:00  Registered adapter: spark=1.9.2\r\n"
     ]
    },
    {
     "name": "stdout",
     "output_type": "stream",
     "text": [
      "\u001b[0m21:40:01  Found 1 model, 1 test, 1 seed, 476 macros, 3 unit tests\r\n",
      "\u001b[0m21:40:01  \r\n",
      "\u001b[0m21:40:01  Concurrency: 1 threads (target='spark')\r\n",
      "\u001b[0m21:40:01  \r\n"
     ]
    },
    {
     "name": "stdout",
     "output_type": "stream",
     "text": [
      "\u001b[0m21:40:02  1 of 1 START seed file default.raw__transactions ............................... [RUN]\r\n"
     ]
    },
    {
     "name": "stdout",
     "output_type": "stream",
     "text": [
      "\u001b[0m21:40:04  1 of 1 OK loaded seed file default.raw__transactions ........................... [\u001b[32mINSERT 6\u001b[0m in 2.67s]\r\n"
     ]
    },
    {
     "name": "stdout",
     "output_type": "stream",
     "text": [
      "\u001b[0m21:40:04  \r\n",
      "\u001b[0m21:40:04  Finished running 1 seed in 0 hours 0 minutes and 3.23 seconds (3.23s).\r\n"
     ]
    },
    {
     "name": "stdout",
     "output_type": "stream",
     "text": [
      "\u001b[0m21:40:04  \r\n",
      "\u001b[0m21:40:04  \u001b[32mCompleted successfully\u001b[0m\r\n",
      "\u001b[0m21:40:04  \r\n",
      "\u001b[0m21:40:04  Done. PASS=1 WARN=0 ERROR=0 SKIP=0 NO-OP=0 TOTAL=1\r\n"
     ]
    },
    {
     "name": "stdout",
     "output_type": "stream",
     "text": [
      "\n",
      "Database table after the operation\n"
     ]
    },
    {
     "data": {
      "text/html": [
       "<div>\n",
       "<style scoped>\n",
       "    .dataframe tbody tr th:only-of-type {\n",
       "        vertical-align: middle;\n",
       "    }\n",
       "\n",
       "    .dataframe tbody tr th {\n",
       "        vertical-align: top;\n",
       "    }\n",
       "\n",
       "    .dataframe thead th {\n",
       "        text-align: right;\n",
       "    }\n",
       "</style>\n",
       "<table border=\"1\" class=\"dataframe\">\n",
       "  <thead>\n",
       "    <tr style=\"text-align: right;\">\n",
       "      <th></th>\n",
       "      <th>namespace</th>\n",
       "      <th>tableName</th>\n",
       "      <th>isTemporary</th>\n",
       "    </tr>\n",
       "  </thead>\n",
       "  <tbody>\n",
       "    <tr>\n",
       "      <th>0</th>\n",
       "      <td>default</td>\n",
       "      <td>raw__transactions</td>\n",
       "      <td>False</td>\n",
       "    </tr>\n",
       "  </tbody>\n",
       "</table>\n",
       "</div>"
      ],
      "text/plain": [
       "  namespace          tableName  isTemporary\n",
       "0   default  raw__transactions        False"
      ]
     },
     "metadata": {},
     "output_type": "display_data"
    }
   ],
   "source": [
    "check_table(message_to_be_printed=\"Database table before the operation\")\n",
    "!dbt seed --log-level info --project-dir $dbt_project_dir\n",
    "check_table(message_to_be_printed=\"\\nDatabase table after the operation\")"
   ]
  },
  {
   "cell_type": "markdown",
   "id": "99518976",
   "metadata": {
    "papermill": {
     "duration": 0.017679,
     "end_time": "2025-06-30T21:40:06.724459",
     "exception": false,
     "start_time": "2025-06-30T21:40:06.706780",
     "status": "completed"
    },
    "tags": []
   },
   "source": [
    "## dbt compile"
   ]
  },
  {
   "cell_type": "markdown",
   "id": "299472eb",
   "metadata": {
    "papermill": {
     "duration": 0.017173,
     "end_time": "2025-06-30T21:40:06.758795",
     "exception": false,
     "start_time": "2025-06-30T21:40:06.741622",
     "status": "completed"
    },
    "tags": []
   },
   "source": [
    "#### removed target/compiled/"
   ]
  },
  {
   "cell_type": "code",
   "execution_count": 14,
   "id": "be2451a9",
   "metadata": {
    "execution": {
     "iopub.execute_input": "2025-06-30T21:40:06.796731Z",
     "iopub.status.busy": "2025-06-30T21:40:06.795900Z",
     "iopub.status.idle": "2025-06-30T21:40:08.061443Z",
     "shell.execute_reply": "2025-06-30T21:40:08.059592Z"
    },
    "papermill": {
     "duration": 1.287379,
     "end_time": "2025-06-30T21:40:08.063818",
     "exception": false,
     "start_time": "2025-06-30T21:40:06.776439",
     "status": "completed"
    },
    "tags": []
   },
   "outputs": [
    {
     "name": "stdout",
     "output_type": "stream",
     "text": [
      "ls: cannot access 'dbt_spark_demo_prj/target/compile': No such file or directory\r\n"
     ]
    }
   ],
   "source": [
    "!rm -rf dbt_spark_demo_prj/target/compiled/\n",
    "!ls dbt_spark_demo_prj/target/compile"
   ]
  },
  {
   "cell_type": "code",
   "execution_count": 15,
   "id": "e6d17db8",
   "metadata": {
    "execution": {
     "iopub.execute_input": "2025-06-30T21:40:08.104311Z",
     "iopub.status.busy": "2025-06-30T21:40:08.103507Z",
     "iopub.status.idle": "2025-06-30T21:40:08.711594Z",
     "shell.execute_reply": "2025-06-30T21:40:08.709781Z"
    },
    "papermill": {
     "duration": 0.631617,
     "end_time": "2025-06-30T21:40:08.714271",
     "exception": false,
     "start_time": "2025-06-30T21:40:08.082654",
     "status": "completed"
    },
    "tags": []
   },
   "outputs": [
    {
     "name": "stdout",
     "output_type": "stream",
     "text": [
      "dbt_project.yml  logs  macros  models  seeds  target  tests\r\n"
     ]
    }
   ],
   "source": [
    "!ls $dbt_project_dir"
   ]
  },
  {
   "cell_type": "code",
   "execution_count": 16,
   "id": "7789867d",
   "metadata": {
    "execution": {
     "iopub.execute_input": "2025-06-30T21:40:08.754770Z",
     "iopub.status.busy": "2025-06-30T21:40:08.753528Z",
     "iopub.status.idle": "2025-06-30T21:40:15.748799Z",
     "shell.execute_reply": "2025-06-30T21:40:15.746557Z"
    },
    "papermill": {
     "duration": 7.018614,
     "end_time": "2025-06-30T21:40:15.751359",
     "exception": false,
     "start_time": "2025-06-30T21:40:08.732745",
     "status": "completed"
    },
    "tags": []
   },
   "outputs": [
    {
     "name": "stdout",
     "output_type": "stream",
     "text": [
      "\u001b[0m21:40:11  Running with dbt=1.10.2\r\n"
     ]
    },
    {
     "name": "stdout",
     "output_type": "stream",
     "text": [
      "\u001b[0m21:40:12  Registered adapter: spark=1.9.2\r\n"
     ]
    },
    {
     "name": "stdout",
     "output_type": "stream",
     "text": [
      "\u001b[0m21:40:12  Found 1 model, 1 test, 1 seed, 476 macros, 3 unit tests\r\n",
      "\u001b[0m21:40:12  \r\n",
      "\u001b[0m21:40:12  Concurrency: 1 threads (target='spark')\r\n",
      "\u001b[0m21:40:12  \r\n"
     ]
    }
   ],
   "source": [
    "!dbt compile --log-level info --project-dir $dbt_project_dir"
   ]
  },
  {
   "cell_type": "code",
   "execution_count": 17,
   "id": "2075b987",
   "metadata": {
    "execution": {
     "iopub.execute_input": "2025-06-30T21:40:15.790571Z",
     "iopub.status.busy": "2025-06-30T21:40:15.789664Z",
     "iopub.status.idle": "2025-06-30T21:40:16.392479Z",
     "shell.execute_reply": "2025-06-30T21:40:16.390406Z"
    },
    "papermill": {
     "duration": 0.625361,
     "end_time": "2025-06-30T21:40:16.395107",
     "exception": false,
     "start_time": "2025-06-30T21:40:15.769746",
     "status": "completed"
    },
    "tags": []
   },
   "outputs": [
    {
     "name": "stdout",
     "output_type": "stream",
     "text": [
      "models\ttests\r\n"
     ]
    }
   ],
   "source": [
    "!ls /usr/app/dbt/dbt_spark_demo_prj/target/compiled/dbt_spark_demo_prj"
   ]
  },
  {
   "cell_type": "markdown",
   "id": "285c8f3a",
   "metadata": {
    "papermill": {
     "duration": 0.017902,
     "end_time": "2025-06-30T21:40:16.431037",
     "exception": false,
     "start_time": "2025-06-30T21:40:16.413135",
     "status": "completed"
    },
    "tags": []
   },
   "source": [
    "## Build your models (dbt run)"
   ]
  },
  {
   "cell_type": "markdown",
   "id": "82e5d338",
   "metadata": {
    "papermill": {
     "duration": 0.017503,
     "end_time": "2025-06-30T21:40:16.466380",
     "exception": false,
     "start_time": "2025-06-30T21:40:16.448877",
     "status": "completed"
    },
    "tags": []
   },
   "source": [
    "## Delete database table prior dbt run that will create the table"
   ]
  },
  {
   "cell_type": "code",
   "execution_count": 18,
   "id": "49dad449",
   "metadata": {
    "execution": {
     "iopub.execute_input": "2025-06-30T21:40:16.504075Z",
     "iopub.status.busy": "2025-06-30T21:40:16.503243Z",
     "iopub.status.idle": "2025-06-30T21:40:22.612202Z",
     "shell.execute_reply": "2025-06-30T21:40:22.610689Z"
    },
    "papermill": {
     "duration": 6.130641,
     "end_time": "2025-06-30T21:40:22.614459",
     "exception": false,
     "start_time": "2025-06-30T21:40:16.483818",
     "status": "completed"
    },
    "tags": []
   },
   "outputs": [
    {
     "name": "stdout",
     "output_type": "stream",
     "text": [
      "before\n"
     ]
    },
    {
     "data": {
      "text/html": [
       "<div>\n",
       "<style scoped>\n",
       "    .dataframe tbody tr th:only-of-type {\n",
       "        vertical-align: middle;\n",
       "    }\n",
       "\n",
       "    .dataframe tbody tr th {\n",
       "        vertical-align: top;\n",
       "    }\n",
       "\n",
       "    .dataframe thead th {\n",
       "        text-align: right;\n",
       "    }\n",
       "</style>\n",
       "<table border=\"1\" class=\"dataframe\">\n",
       "  <thead>\n",
       "    <tr style=\"text-align: right;\">\n",
       "      <th></th>\n",
       "      <th>namespace</th>\n",
       "      <th>tableName</th>\n",
       "      <th>isTemporary</th>\n",
       "    </tr>\n",
       "  </thead>\n",
       "  <tbody>\n",
       "    <tr>\n",
       "      <th>0</th>\n",
       "      <td>default</td>\n",
       "      <td>raw__transactions</td>\n",
       "      <td>False</td>\n",
       "    </tr>\n",
       "  </tbody>\n",
       "</table>\n",
       "</div>"
      ],
      "text/plain": [
       "  namespace          tableName  isTemporary\n",
       "0   default  raw__transactions        False"
      ]
     },
     "metadata": {},
     "output_type": "display_data"
    },
    {
     "name": "stdout",
     "output_type": "stream",
     "text": [
      "\u001b[0m21:40:19  Running with dbt=1.10.2\r\n"
     ]
    },
    {
     "name": "stdout",
     "output_type": "stream",
     "text": [
      "\u001b[0m21:40:20  Registered adapter: spark=1.9.2\r\n"
     ]
    },
    {
     "name": "stdout",
     "output_type": "stream",
     "text": [
      "\u001b[0m21:40:20  Found 1 model, 1 test, 1 seed, 476 macros, 3 unit tests\r\n"
     ]
    },
    {
     "name": "stdout",
     "output_type": "stream",
     "text": [
      "\n",
      "after\n"
     ]
    },
    {
     "data": {
      "text/html": [
       "<div>\n",
       "<style scoped>\n",
       "    .dataframe tbody tr th:only-of-type {\n",
       "        vertical-align: middle;\n",
       "    }\n",
       "\n",
       "    .dataframe tbody tr th {\n",
       "        vertical-align: top;\n",
       "    }\n",
       "\n",
       "    .dataframe thead th {\n",
       "        text-align: right;\n",
       "    }\n",
       "</style>\n",
       "<table border=\"1\" class=\"dataframe\">\n",
       "  <thead>\n",
       "    <tr style=\"text-align: right;\">\n",
       "      <th></th>\n",
       "      <th>namespace</th>\n",
       "      <th>tableName</th>\n",
       "      <th>isTemporary</th>\n",
       "    </tr>\n",
       "  </thead>\n",
       "  <tbody>\n",
       "    <tr>\n",
       "      <th>0</th>\n",
       "      <td>default</td>\n",
       "      <td>raw__transactions</td>\n",
       "      <td>False</td>\n",
       "    </tr>\n",
       "  </tbody>\n",
       "</table>\n",
       "</div>"
      ],
      "text/plain": [
       "  namespace          tableName  isTemporary\n",
       "0   default  raw__transactions        False"
      ]
     },
     "metadata": {},
     "output_type": "display_data"
    }
   ],
   "source": [
    "check_table(message_to_be_printed=\"before\")\n",
    "!dbt run-operation drop_table --args '{\"table_name\": \"default.transactions\"}'\n",
    "check_table(message_to_be_printed=\"\\nafter\")"
   ]
  },
  {
   "cell_type": "code",
   "execution_count": 19,
   "id": "bdf648b1",
   "metadata": {
    "execution": {
     "iopub.execute_input": "2025-06-30T21:40:22.656045Z",
     "iopub.status.busy": "2025-06-30T21:40:22.655163Z",
     "iopub.status.idle": "2025-06-30T21:40:39.082327Z",
     "shell.execute_reply": "2025-06-30T21:40:39.080839Z"
    },
    "papermill": {
     "duration": 16.450225,
     "end_time": "2025-06-30T21:40:39.084414",
     "exception": false,
     "start_time": "2025-06-30T21:40:22.634189",
     "status": "completed"
    },
    "tags": []
   },
   "outputs": [
    {
     "name": "stdout",
     "output_type": "stream",
     "text": [
      "\u001b[0m21:40:26  Running with dbt=1.10.2\r\n"
     ]
    },
    {
     "name": "stdout",
     "output_type": "stream",
     "text": [
      "\u001b[0m21:40:26  Registered adapter: spark=1.9.2\r\n"
     ]
    },
    {
     "name": "stdout",
     "output_type": "stream",
     "text": [
      "\u001b[0m21:40:27  Found 1 model, 1 test, 1 seed, 476 macros, 3 unit tests\r\n"
     ]
    },
    {
     "name": "stdout",
     "output_type": "stream",
     "text": [
      "before\n"
     ]
    },
    {
     "data": {
      "text/html": [
       "<div>\n",
       "<style scoped>\n",
       "    .dataframe tbody tr th:only-of-type {\n",
       "        vertical-align: middle;\n",
       "    }\n",
       "\n",
       "    .dataframe tbody tr th {\n",
       "        vertical-align: top;\n",
       "    }\n",
       "\n",
       "    .dataframe thead th {\n",
       "        text-align: right;\n",
       "    }\n",
       "</style>\n",
       "<table border=\"1\" class=\"dataframe\">\n",
       "  <thead>\n",
       "    <tr style=\"text-align: right;\">\n",
       "      <th></th>\n",
       "      <th>namespace</th>\n",
       "      <th>tableName</th>\n",
       "      <th>isTemporary</th>\n",
       "    </tr>\n",
       "  </thead>\n",
       "  <tbody>\n",
       "    <tr>\n",
       "      <th>0</th>\n",
       "      <td>default</td>\n",
       "      <td>raw__transactions</td>\n",
       "      <td>False</td>\n",
       "    </tr>\n",
       "  </tbody>\n",
       "</table>\n",
       "</div>"
      ],
      "text/plain": [
       "  namespace          tableName  isTemporary\n",
       "0   default  raw__transactions        False"
      ]
     },
     "metadata": {},
     "output_type": "display_data"
    },
    {
     "name": "stdout",
     "output_type": "stream",
     "text": [
      "\u001b[0m21:40:32  Running with dbt=1.10.2\r\n"
     ]
    },
    {
     "name": "stdout",
     "output_type": "stream",
     "text": [
      "\u001b[0m21:40:33  Registered adapter: spark=1.9.2\r\n"
     ]
    },
    {
     "name": "stdout",
     "output_type": "stream",
     "text": [
      "\u001b[0m21:40:34  Found 1 model, 1 test, 1 seed, 476 macros, 3 unit tests\r\n",
      "\u001b[0m21:40:34  \r\n",
      "\u001b[0m21:40:34  Concurrency: 1 threads (target='spark')\r\n",
      "\u001b[0m21:40:34  \r\n"
     ]
    },
    {
     "name": "stdout",
     "output_type": "stream",
     "text": [
      "\u001b[0m21:40:34  1 of 1 START sql table model default.transactions .............................. [RUN]\r\n"
     ]
    },
    {
     "name": "stdout",
     "output_type": "stream",
     "text": [
      "\u001b[0m21:40:36  1 of 1 OK created sql table model default.transactions ......................... [\u001b[32mOK\u001b[0m in 2.23s]\r\n"
     ]
    },
    {
     "name": "stdout",
     "output_type": "stream",
     "text": [
      "\u001b[0m21:40:36  \r\n",
      "\u001b[0m21:40:36  Finished running 1 table model in 0 hours 0 minutes and 2.65 seconds (2.65s).\r\n"
     ]
    },
    {
     "name": "stdout",
     "output_type": "stream",
     "text": [
      "\u001b[0m21:40:36  \r\n",
      "\u001b[0m21:40:36  \u001b[32mCompleted successfully\u001b[0m\r\n",
      "\u001b[0m21:40:36  \r\n",
      "\u001b[0m21:40:36  Done. PASS=1 WARN=0 ERROR=0 SKIP=0 NO-OP=0 TOTAL=1\r\n"
     ]
    },
    {
     "name": "stdout",
     "output_type": "stream",
     "text": [
      "\n",
      "After\n"
     ]
    },
    {
     "name": "stdout",
     "output_type": "stream",
     "text": [
      "\u001b[01;34m/usr/app/dbt/dbt_spark_demo_prj/target/run\u001b[00m\r\n",
      "└── \u001b[01;34mdbt_spark_demo_prj\u001b[00m\r\n",
      "    └── \u001b[01;34mmodels\u001b[00m\r\n",
      "        └── \u001b[01;34mtransactions\u001b[00m\r\n",
      "            └── transactions.sql\r\n",
      "\r\n",
      "3 directories, 1 file\r\n"
     ]
    },
    {
     "name": "stdout",
     "output_type": "stream",
     "text": [
      "after\n"
     ]
    },
    {
     "data": {
      "text/html": [
       "<div>\n",
       "<style scoped>\n",
       "    .dataframe tbody tr th:only-of-type {\n",
       "        vertical-align: middle;\n",
       "    }\n",
       "\n",
       "    .dataframe tbody tr th {\n",
       "        vertical-align: top;\n",
       "    }\n",
       "\n",
       "    .dataframe thead th {\n",
       "        text-align: right;\n",
       "    }\n",
       "</style>\n",
       "<table border=\"1\" class=\"dataframe\">\n",
       "  <thead>\n",
       "    <tr style=\"text-align: right;\">\n",
       "      <th></th>\n",
       "      <th>namespace</th>\n",
       "      <th>tableName</th>\n",
       "      <th>isTemporary</th>\n",
       "    </tr>\n",
       "  </thead>\n",
       "  <tbody>\n",
       "    <tr>\n",
       "      <th>0</th>\n",
       "      <td>default</td>\n",
       "      <td>raw__transactions</td>\n",
       "      <td>False</td>\n",
       "    </tr>\n",
       "    <tr>\n",
       "      <th>1</th>\n",
       "      <td>default</td>\n",
       "      <td>transactions</td>\n",
       "      <td>False</td>\n",
       "    </tr>\n",
       "  </tbody>\n",
       "</table>\n",
       "</div>"
      ],
      "text/plain": [
       "  namespace          tableName  isTemporary\n",
       "0   default  raw__transactions        False\n",
       "1   default       transactions        False"
      ]
     },
     "metadata": {},
     "output_type": "display_data"
    }
   ],
   "source": [
    "!rm -r $dbt_project_dir/target/run\n",
    "!dbt run-operation drop_table --args '{\"table_name\": \"default.transactions\"}' \n",
    "check_table(message_to_be_printed=\"before\")\n",
    "\n",
    "!dbt run --log-level info --project-dir $dbt_project_dir\n",
    "\n",
    "print(\"\\nAfter\")\n",
    "!tree $dbt_project_dir/target/run\n",
    "check_table(message_to_be_printed=\"after\")"
   ]
  },
  {
   "cell_type": "markdown",
   "id": "b5cf4b24",
   "metadata": {
    "papermill": {
     "duration": 0.021931,
     "end_time": "2025-06-30T21:40:39.126961",
     "exception": false,
     "start_time": "2025-06-30T21:40:39.105030",
     "status": "completed"
    },
    "tags": []
   },
   "source": [
    "## test model using dbt"
   ]
  },
  {
   "cell_type": "markdown",
   "id": "ebc3baeb",
   "metadata": {
    "papermill": {
     "duration": 0.01976,
     "end_time": "2025-06-30T21:40:39.167234",
     "exception": false,
     "start_time": "2025-06-30T21:40:39.147474",
     "status": "completed"
    },
    "tags": []
   },
   "source": [
    "#### test name and its test vectors"
   ]
  },
  {
   "cell_type": "code",
   "execution_count": 20,
   "id": "06dfaae6",
   "metadata": {
    "execution": {
     "iopub.execute_input": "2025-06-30T21:40:39.210335Z",
     "iopub.status.busy": "2025-06-30T21:40:39.209724Z",
     "iopub.status.idle": "2025-06-30T21:40:39.809881Z",
     "shell.execute_reply": "2025-06-30T21:40:39.808029Z"
    },
    "papermill": {
     "duration": 0.624712,
     "end_time": "2025-06-30T21:40:39.812311",
     "exception": false,
     "start_time": "2025-06-30T21:40:39.187599",
     "status": "completed"
    },
    "tags": []
   },
   "outputs": [
    {
     "name": "stdout",
     "output_type": "stream",
     "text": [
      "# tests/unit/test_transactions.yml\r\n",
      "\r\n",
      "version: 2\r\n",
      "unit_tests:\r\n",
      "  - name: test_currency_usd\r\n",
      "    model: transactions\r\n",
      "    given:\r\n",
      "      - input: ref('raw__transactions')\r\n",
      "        rows:\r\n",
      "          - {id: 1, amount: 100, currency: 'USD', status: 'ACTIVE'}\r\n",
      "    expect:\r\n",
      "      rows:\r\n",
      "        - {id: 1, amount_usd: 100, currency: 'USD', branch_marker: \"USD_BRANCH\"}\r\n",
      "\r\n",
      "  - name: test_currency_sgd\r\n",
      "    model: transactions\r\n",
      "    given:\r\n",
      "      - input: ref('raw__transactions')\r\n",
      "        rows:\r\n",
      "          - {id: 2, amount: 100, currency: 'SGD', status: 'ACTIVE'}\r\n",
      "    expect:\r\n",
      "      rows:\r\n",
      "        - {id: 2, amount_usd: 74, branch_marker: \"SGD_BRANCH\"}\r\n",
      "\r\n",
      "  - name: test_inactive\r\n",
      "    model: transactions\r\n",
      "    given:\r\n",
      "      - input: ref('raw__transactions')\r\n",
      "        rows:\r\n",
      "          - {id: 2, amount: 100, currency: 'SGD', status: 'INACTIVE'}\r\n",
      "    expect: \r\n",
      "      rows: []"
     ]
    }
   ],
   "source": [
    "!cat dbt_spark_demo_prj/tests/unit/test_transactions.yml"
   ]
  },
  {
   "cell_type": "markdown",
   "id": "31610ca8",
   "metadata": {
    "papermill": {
     "duration": 0.022437,
     "end_time": "2025-06-30T21:40:39.857216",
     "exception": false,
     "start_time": "2025-06-30T21:40:39.834779",
     "status": "completed"
    },
    "tags": []
   },
   "source": [
    "#### run test"
   ]
  },
  {
   "cell_type": "code",
   "execution_count": 21,
   "id": "c0c0834d",
   "metadata": {
    "execution": {
     "iopub.execute_input": "2025-06-30T21:40:39.902882Z",
     "iopub.status.busy": "2025-06-30T21:40:39.902044Z",
     "iopub.status.idle": "2025-06-30T21:40:49.398708Z",
     "shell.execute_reply": "2025-06-30T21:40:49.396877Z"
    },
    "papermill": {
     "duration": 9.522669,
     "end_time": "2025-06-30T21:40:49.401162",
     "exception": false,
     "start_time": "2025-06-30T21:40:39.878493",
     "status": "completed"
    },
    "tags": []
   },
   "outputs": [
    {
     "name": "stdout",
     "output_type": "stream",
     "text": [
      "\u001b[0m21:40:42  Running with dbt=1.10.2\n"
     ]
    },
    {
     "name": "stdout",
     "output_type": "stream",
     "text": [
      "\u001b[0m21:40:42  Registered adapter: spark=1.9.2\n"
     ]
    },
    {
     "name": "stdout",
     "output_type": "stream",
     "text": [
      "\u001b[0m21:40:43  Found 1 model, 1 test, 1 seed, 476 macros, 3 unit tests\n"
     ]
    },
    {
     "name": "stdout",
     "output_type": "stream",
     "text": [
      "\u001b[0m21:40:43  \n"
     ]
    },
    {
     "name": "stdout",
     "output_type": "stream",
     "text": [
      "\u001b[0m21:40:43  Concurrency: 1 threads (target='spark')\n",
      "\u001b[0m21:40:43  \n"
     ]
    },
    {
     "name": "stdout",
     "output_type": "stream",
     "text": [
      "\u001b[0m21:40:44  1 of 4 START test test_currency_coverage ....................................... [RUN]"
     ]
    },
    {
     "name": "stdout",
     "output_type": "stream",
     "text": [
      "\n"
     ]
    },
    {
     "name": "stdout",
     "output_type": "stream",
     "text": [
      "\u001b[0m21:40:45  1 of 4 PASS test_currency_coverage ............................................. [\u001b[32"
     ]
    },
    {
     "name": "stdout",
     "output_type": "stream",
     "text": [
      "mPASS\u001b[0m in 1.44s]\n"
     ]
    },
    {
     "name": "stdout",
     "output_type": "stream",
     "text": [
      "\u001b[0m21:40:45  2 of 4 START unit_test transactions::test_currency_sgd ......................... [RUN]"
     ]
    },
    {
     "name": "stdout",
     "output_type": "stream",
     "text": [
      "\n"
     ]
    },
    {
     "name": "stdout",
     "output_type": "stream",
     "text": [
      "\u001b[0m21:40:46  2 of 4 PASS transactions::test_currency_sgd .................................... [\u001b[32"
     ]
    },
    {
     "name": "stdout",
     "output_type": "stream",
     "text": [
      "mPASS\u001b[0m in 1.02s]\n"
     ]
    },
    {
     "name": "stdout",
     "output_type": "stream",
     "text": [
      "\u001b[0m21:40:46  3 of 4 START unit_test transactions::test_currency_usd ......................... [RUN]"
     ]
    },
    {
     "name": "stdout",
     "output_type": "stream",
     "text": [
      "\n"
     ]
    },
    {
     "name": "stdout",
     "output_type": "stream",
     "text": [
      "\u001b[0m21:40:47  3 of 4 PASS transactions::test_currency_usd .................................... [\u001b[32"
     ]
    },
    {
     "name": "stdout",
     "output_type": "stream",
     "text": [
      "mPASS\u001b[0m in 0.62s]\n"
     ]
    },
    {
     "name": "stdout",
     "output_type": "stream",
     "text": [
      "\u001b[0m21:40:47  4 of 4 START unit_test transactions::test_inactive ............................. [RUN]"
     ]
    },
    {
     "name": "stdout",
     "output_type": "stream",
     "text": [
      "\n"
     ]
    },
    {
     "name": "stdout",
     "output_type": "stream",
     "text": [
      "\u001b[0m21:40:47  4 of 4 PASS transactions::test_inactive ........................................ [\u001b[32"
     ]
    },
    {
     "name": "stdout",
     "output_type": "stream",
     "text": [
      "mPASS\u001b[0m in 0.57s]\n"
     ]
    },
    {
     "name": "stdout",
     "output_type": "stream",
     "text": [
      "\u001b[0m21:40:47  \n"
     ]
    },
    {
     "name": "stdout",
     "output_type": "stream",
     "text": [
      "\u001b[0m21:40:47  Finished running 1 test, 3 unit tests in 0 hours 0 minutes and 3.97 seconds (3.97s).\n"
     ]
    },
    {
     "name": "stdout",
     "output_type": "stream",
     "text": [
      "\u001b[0m21:40:47  \n"
     ]
    },
    {
     "name": "stdout",
     "output_type": "stream",
     "text": [
      "\u001b[0m21:40:47  \u001b[32mCompleted successfully\u001b[0m\n"
     ]
    },
    {
     "name": "stdout",
     "output_type": "stream",
     "text": [
      "\u001b[0m21:40:47  \n",
      "\u001b[0m21:40:47  Done. PASS=4 WARN=0 ERROR=0 SKIP=0 NO-OP=0 TOTAL=4\n"
     ]
    }
   ],
   "source": [
    "%%bash\n",
    "export DBT_PROJECT_DIR=/usr/app/dbt/dbt_spark_demo_prj\n",
    "dbt test --log-level info"
   ]
  },
  {
   "cell_type": "code",
   "execution_count": 22,
   "id": "2321bb74",
   "metadata": {
    "execution": {
     "iopub.execute_input": "2025-06-30T21:40:49.451576Z",
     "iopub.status.busy": "2025-06-30T21:40:49.450811Z",
     "iopub.status.idle": "2025-06-30T21:40:50.084566Z",
     "shell.execute_reply": "2025-06-30T21:40:50.082546Z"
    },
    "papermill": {
     "duration": 0.661397,
     "end_time": "2025-06-30T21:40:50.086844",
     "exception": false,
     "start_time": "2025-06-30T21:40:49.425447",
     "status": "completed"
    },
    "tags": []
   },
   "outputs": [],
   "source": [
    "!chmod -R a+rw /usr/app"
   ]
  },
  {
   "cell_type": "code",
   "execution_count": 23,
   "id": "c28d80c5",
   "metadata": {
    "execution": {
     "iopub.execute_input": "2025-06-30T21:40:50.135298Z",
     "iopub.status.busy": "2025-06-30T21:40:50.134420Z",
     "iopub.status.idle": "2025-06-30T21:40:51.356648Z",
     "shell.execute_reply": "2025-06-30T21:40:51.353858Z"
    },
    "papermill": {
     "duration": 1.250471,
     "end_time": "2025-06-30T21:40:51.360237",
     "exception": false,
     "start_time": "2025-06-30T21:40:50.109766",
     "status": "completed"
    },
    "tags": []
   },
   "outputs": [
    {
     "name": "stdout",
     "output_type": "stream",
     "text": [
      "Mon Jun 30 21:40:50 UTC 2025\r\n"
     ]
    }
   ],
   "source": [
    "filepath=\"/usr/app/demo/results/test_end.txt\"\n",
    "!date; echo end test at > $filepath \n",
    "!export TZ='Asia/Singapore'; date >> $filepath;"
   ]
  },
  {
   "cell_type": "code",
   "execution_count": 24,
   "id": "9b840cc5",
   "metadata": {
    "execution": {
     "iopub.execute_input": "2025-06-30T21:40:51.418378Z",
     "iopub.status.busy": "2025-06-30T21:40:51.417501Z",
     "iopub.status.idle": "2025-06-30T21:40:51.425697Z",
     "shell.execute_reply": "2025-06-30T21:40:51.423707Z"
    },
    "papermill": {
     "duration": 0.04072,
     "end_time": "2025-06-30T21:40:51.427686",
     "exception": false,
     "start_time": "2025-06-30T21:40:51.386966",
     "status": "completed"
    },
    "tags": []
   },
   "outputs": [],
   "source": [
    "# assert False, \"Stop execution here!\""
   ]
  },
  {
   "cell_type": "markdown",
   "id": "6ebe7ae3",
   "metadata": {
    "papermill": {
     "duration": 0.027735,
     "end_time": "2025-06-30T21:40:51.482802",
     "exception": false,
     "start_time": "2025-06-30T21:40:51.455067",
     "status": "completed"
    },
    "tags": []
   },
   "source": [
    "# Apendix"
   ]
  },
  {
   "cell_type": "markdown",
   "id": "91f84536",
   "metadata": {
    "papermill": {
     "duration": 0.029856,
     "end_time": "2025-06-30T21:40:51.540314",
     "exception": false,
     "start_time": "2025-06-30T21:40:51.510458",
     "status": "completed"
    },
    "tags": []
   },
   "source": [
    "## check the model built "
   ]
  },
  {
   "cell_type": "markdown",
   "id": "f57448e7",
   "metadata": {
    "papermill": {
     "duration": 0.028794,
     "end_time": "2025-06-30T21:40:51.596284",
     "exception": false,
     "start_time": "2025-06-30T21:40:51.567490",
     "status": "completed"
    },
    "tags": []
   },
   "source": [
    "### Check the model built using Pyspark (In progress)"
   ]
  },
  {
   "cell_type": "code",
   "execution_count": 25,
   "id": "32863689",
   "metadata": {
    "execution": {
     "iopub.execute_input": "2025-06-30T21:40:51.659459Z",
     "iopub.status.busy": "2025-06-30T21:40:51.658200Z",
     "iopub.status.idle": "2025-06-30T21:40:51.666016Z",
     "shell.execute_reply": "2025-06-30T21:40:51.664303Z"
    },
    "papermill": {
     "duration": 0.041861,
     "end_time": "2025-06-30T21:40:51.668763",
     "exception": false,
     "start_time": "2025-06-30T21:40:51.626902",
     "status": "completed"
    },
    "tags": []
   },
   "outputs": [],
   "source": [
    "# !pip install pyspark==3.3.2"
   ]
  },
  {
   "cell_type": "code",
   "execution_count": 26,
   "id": "87f91e66",
   "metadata": {
    "execution": {
     "iopub.execute_input": "2025-06-30T21:40:51.727635Z",
     "iopub.status.busy": "2025-06-30T21:40:51.726990Z",
     "iopub.status.idle": "2025-06-30T21:40:51.734608Z",
     "shell.execute_reply": "2025-06-30T21:40:51.732840Z"
    },
    "papermill": {
     "duration": 0.040274,
     "end_time": "2025-06-30T21:40:51.737171",
     "exception": false,
     "start_time": "2025-06-30T21:40:51.696897",
     "status": "completed"
    },
    "tags": []
   },
   "outputs": [],
   "source": [
    "# %%bash\n",
    "# # For Debian/Ubuntu-based containers:\n",
    "# apt-get update && apt-get install -y openjdk-11-jdk\n",
    "\n",
    "# # For Alpine-based containers:\n",
    "# apk add openjdk11"
   ]
  },
  {
   "cell_type": "code",
   "execution_count": 27,
   "id": "67c39001",
   "metadata": {
    "execution": {
     "iopub.execute_input": "2025-06-30T21:40:51.799872Z",
     "iopub.status.busy": "2025-06-30T21:40:51.798362Z",
     "iopub.status.idle": "2025-06-30T21:40:51.806496Z",
     "shell.execute_reply": "2025-06-30T21:40:51.804536Z"
    },
    "papermill": {
     "duration": 0.042627,
     "end_time": "2025-06-30T21:40:51.809072",
     "exception": false,
     "start_time": "2025-06-30T21:40:51.766445",
     "status": "completed"
    },
    "tags": []
   },
   "outputs": [],
   "source": [
    "# !ls /usr/lib/jvm/java-11-openjdk-amd64"
   ]
  },
  {
   "cell_type": "code",
   "execution_count": 28,
   "id": "ff2863d3",
   "metadata": {
    "execution": {
     "iopub.execute_input": "2025-06-30T21:40:51.869890Z",
     "iopub.status.busy": "2025-06-30T21:40:51.869220Z",
     "iopub.status.idle": "2025-06-30T21:40:51.877261Z",
     "shell.execute_reply": "2025-06-30T21:40:51.875407Z"
    },
    "papermill": {
     "duration": 0.041321,
     "end_time": "2025-06-30T21:40:51.879485",
     "exception": false,
     "start_time": "2025-06-30T21:40:51.838164",
     "status": "completed"
    },
    "tags": []
   },
   "outputs": [],
   "source": [
    "# # !. /usr/spark/bin/load-spark-env.sh\n",
    "\n",
    "# # Typically in Debian/Ubuntu:\n",
    "# !export JAVA_HOME=$(dirname $(dirname $(readlink -f $(which java))))\n",
    "\n",
    "# # Or set it explicitly:\n",
    "# !export JAVA_HOME=/usr/lib/jvm/java-11-openjdk-amd64\n",
    "# from pyspark.sql import SparkSession\n",
    "\n",
    "# spark = SparkSession.builder \\\n",
    "#     .appName(\"dbt_clean\") \\\n",
    "#     .config(\"spark.hadoop.hive.metastore.schema.verification\", \"true\") \\\n",
    "#     .config(\"spark.sql.catalogImplementation\", \"hive\") \\\n",
    "#     .enableHiveSupport() \\\n",
    "#     .getOrCreate()\n",
    "\n",
    "# # spark = SparkSession.builder \\\n",
    "# #     .config(\"hive.metastore.uris\", \"thrift://dbt-hive-metastore:10000\") \\\n",
    "# #     .config(\"spark.sql.catalogImplementation\", \"hive\") \\\n",
    "# #     .enableHiveSupport() \\\n",
    "# #     .getOrCreate()\n",
    "\n",
    "# spark.sql(\"USE default\")  # Or your specific database\n",
    "# spark.sql(\"SHOW DATABASES\").show()\n",
    "# # spark.sql(\"select * from transactions\").show()\n",
    "# # # df.toPandas()"
   ]
  },
  {
   "cell_type": "code",
   "execution_count": 29,
   "id": "b054f4f4",
   "metadata": {
    "execution": {
     "iopub.execute_input": "2025-06-30T21:40:51.941641Z",
     "iopub.status.busy": "2025-06-30T21:40:51.940539Z",
     "iopub.status.idle": "2025-06-30T21:40:51.948802Z",
     "shell.execute_reply": "2025-06-30T21:40:51.946889Z"
    },
    "papermill": {
     "duration": 0.044378,
     "end_time": "2025-06-30T21:40:51.951416",
     "exception": false,
     "start_time": "2025-06-30T21:40:51.907038",
     "status": "completed"
    },
    "tags": []
   },
   "outputs": [],
   "source": [
    "# spark.sql(\"SHOW TABLES IN default\").show(truncate=False)"
   ]
  },
  {
   "cell_type": "code",
   "execution_count": 30,
   "id": "d2477376",
   "metadata": {
    "execution": {
     "iopub.execute_input": "2025-06-30T21:40:52.014235Z",
     "iopub.status.busy": "2025-06-30T21:40:52.013023Z",
     "iopub.status.idle": "2025-06-30T21:40:52.020938Z",
     "shell.execute_reply": "2025-06-30T21:40:52.019107Z"
    },
    "papermill": {
     "duration": 0.041329,
     "end_time": "2025-06-30T21:40:52.023694",
     "exception": false,
     "start_time": "2025-06-30T21:40:51.982365",
     "status": "completed"
    },
    "tags": []
   },
   "outputs": [],
   "source": [
    "# # Query metastore system tables\n",
    "# spark.sql(\"\"\"\n",
    "#   SELECT TBL_NAME, TBL_TYPE \n",
    "#   FROM default.TBLS \n",
    "#   JOIN default.DBS ON TBLS.DB_ID = DBS.DB_ID \n",
    "#   WHERE DBS.NAME = 'default'\n",
    "# \"\"\").show(truncate=False)"
   ]
  },
  {
   "cell_type": "code",
   "execution_count": 31,
   "id": "04c7f91a",
   "metadata": {
    "execution": {
     "iopub.execute_input": "2025-06-30T21:40:52.091409Z",
     "iopub.status.busy": "2025-06-30T21:40:52.090517Z",
     "iopub.status.idle": "2025-06-30T21:40:52.097610Z",
     "shell.execute_reply": "2025-06-30T21:40:52.095776Z"
    },
    "papermill": {
     "duration": 0.043108,
     "end_time": "2025-06-30T21:40:52.099673",
     "exception": false,
     "start_time": "2025-06-30T21:40:52.056565",
     "status": "completed"
    },
    "tags": []
   },
   "outputs": [],
   "source": [
    "# spark.conf.get(\"hive.metastore.uris\")  # Should return your URI"
   ]
  },
  {
   "cell_type": "code",
   "execution_count": 32,
   "id": "30ef3800",
   "metadata": {
    "execution": {
     "iopub.execute_input": "2025-06-30T21:40:52.154262Z",
     "iopub.status.busy": "2025-06-30T21:40:52.153571Z",
     "iopub.status.idle": "2025-06-30T21:40:52.161404Z",
     "shell.execute_reply": "2025-06-30T21:40:52.159536Z"
    },
    "papermill": {
     "duration": 0.038523,
     "end_time": "2025-06-30T21:40:52.163842",
     "exception": false,
     "start_time": "2025-06-30T21:40:52.125319",
     "status": "completed"
    },
    "tags": []
   },
   "outputs": [],
   "source": [
    "# spark.conf.get(\"spark.sql.catalogImplementation\")  # Should return \"hive\""
   ]
  },
  {
   "cell_type": "code",
   "execution_count": 33,
   "id": "91926ec3",
   "metadata": {
    "execution": {
     "iopub.execute_input": "2025-06-30T21:40:52.239038Z",
     "iopub.status.busy": "2025-06-30T21:40:52.237783Z",
     "iopub.status.idle": "2025-06-30T21:40:52.248065Z",
     "shell.execute_reply": "2025-06-30T21:40:52.245574Z"
    },
    "papermill": {
     "duration": 0.057123,
     "end_time": "2025-06-30T21:40:52.251038",
     "exception": false,
     "start_time": "2025-06-30T21:40:52.193915",
     "status": "completed"
    },
    "tags": []
   },
   "outputs": [],
   "source": [
    "# from pyspark.sql import SparkSession\n",
    "\n",
    "# spark.stop()\n",
    "# spark = SparkSession.builder \\\n",
    "#     .appName(\"DBTIntegration\") \\\n",
    "#     .config(\"hive.metastore.uris\", \"thrift://dbt-hive-metastore:9083\") \\\n",
    "#     .config(\"spark.sql.catalogImplementation\", \"hive\") \\\n",
    "#     .config(\"javax.jdo.option.ConnectionUserName\", \"dbt\") \\\n",
    "#     .config(\"javax.jdo.option.ConnectionPassword\", \"dbt\") \\\n",
    "#     .enableHiveSupport() \\\n",
    "#     .getOrCreate()\n",
    "# spark.sql(\"SHOW TABLES IN default\")"
   ]
  },
  {
   "cell_type": "code",
   "execution_count": 34,
   "id": "a34760ee",
   "metadata": {
    "execution": {
     "iopub.execute_input": "2025-06-30T21:40:52.329399Z",
     "iopub.status.busy": "2025-06-30T21:40:52.328452Z",
     "iopub.status.idle": "2025-06-30T21:40:52.339517Z",
     "shell.execute_reply": "2025-06-30T21:40:52.336574Z"
    },
    "papermill": {
     "duration": 0.054514,
     "end_time": "2025-06-30T21:40:52.343009",
     "exception": false,
     "start_time": "2025-06-30T21:40:52.288495",
     "status": "completed"
    },
    "tags": []
   },
   "outputs": [],
   "source": [
    "# from pyhive import hive\n",
    "# conn = hive.connect(host=spark_thrift_service_name, port=10000)\n",
    "# cursor = conn.cursor()\n",
    "# cursor.execute(\"SELECT * FROM default.transactions LIMIT 1\")\n",
    "# print(cursor.fetchall())"
   ]
  },
  {
   "cell_type": "markdown",
   "id": "ab2d2bd4",
   "metadata": {
    "papermill": {
     "duration": 0.045445,
     "end_time": "2025-06-30T21:40:52.429185",
     "exception": false,
     "start_time": "2025-06-30T21:40:52.383740",
     "status": "completed"
    },
    "tags": []
   },
   "source": [
    "### Test the built model (using the test model) "
   ]
  },
  {
   "cell_type": "markdown",
   "id": "0d6db6bf",
   "metadata": {
    "papermill": {
     "duration": 0.034454,
     "end_time": "2025-06-30T21:40:52.527091",
     "exception": false,
     "start_time": "2025-06-30T21:40:52.492637",
     "status": "completed"
    },
    "tags": []
   },
   "source": [
    "### dbt test"
   ]
  },
  {
   "cell_type": "code",
   "execution_count": 35,
   "id": "d95bbbdd",
   "metadata": {
    "execution": {
     "iopub.execute_input": "2025-06-30T21:40:52.595503Z",
     "iopub.status.busy": "2025-06-30T21:40:52.594856Z",
     "iopub.status.idle": "2025-06-30T21:41:01.278974Z",
     "shell.execute_reply": "2025-06-30T21:41:01.276830Z"
    },
    "papermill": {
     "duration": 8.725455,
     "end_time": "2025-06-30T21:41:01.281488",
     "exception": false,
     "start_time": "2025-06-30T21:40:52.556033",
     "status": "completed"
    },
    "tags": []
   },
   "outputs": [
    {
     "name": "stdout",
     "output_type": "stream",
     "text": [
      "\u001b[0m21:40:55  Running with dbt=1.10.2\r\n"
     ]
    },
    {
     "name": "stdout",
     "output_type": "stream",
     "text": [
      "\u001b[0m21:40:56  Registered adapter: spark=1.9.2\r\n"
     ]
    },
    {
     "name": "stdout",
     "output_type": "stream",
     "text": [
      "\u001b[0m21:40:56  Found 1 model, 1 test, 1 seed, 476 macros, 3 unit tests\r\n",
      "\u001b[0m21:40:56  \r\n",
      "\u001b[0m21:40:56  Concurrency: 1 threads (target='spark')\r\n",
      "\u001b[0m21:40:56  \r\n"
     ]
    },
    {
     "name": "stdout",
     "output_type": "stream",
     "text": [
      "\u001b[0m21:40:57  1 of 4 START test test_currency_coverage ....................................... [RUN]\r\n"
     ]
    },
    {
     "name": "stdout",
     "output_type": "stream",
     "text": [
      "\u001b[0m21:40:57  1 of 4 PASS test_currency_coverage ............................................. [\u001b[32mPASS\u001b[0m in 0.39s]\r\n",
      "\u001b[0m21:40:57  2 of 4 START unit_test transactions::test_currency_sgd ......................... [RUN]\r\n"
     ]
    },
    {
     "name": "stdout",
     "output_type": "stream",
     "text": [
      "\u001b[0m21:40:58  2 of 4 PASS transactions::test_currency_sgd .................................... [\u001b[32mPASS\u001b[0m in 0.75s]\r\n",
      "\u001b[0m21:40:58  3 of 4 START unit_test transactions::test_currency_usd ......................... [RUN]\r\n"
     ]
    },
    {
     "name": "stdout",
     "output_type": "stream",
     "text": [
      "\u001b[0m21:40:58  3 of 4 PASS transactions::test_currency_usd .................................... [\u001b[32mPASS\u001b[0m in 0.55s]\r\n",
      "\u001b[0m21:40:58  4 of 4 START unit_test transactions::test_inactive ............................. [RUN]\r\n"
     ]
    },
    {
     "name": "stdout",
     "output_type": "stream",
     "text": [
      "\u001b[0m21:40:59  4 of 4 PASS transactions::test_inactive ........................................ [\u001b[32mPASS\u001b[0m in 0.59s]\r\n"
     ]
    },
    {
     "name": "stdout",
     "output_type": "stream",
     "text": [
      "\u001b[0m21:40:59  \r\n",
      "\u001b[0m21:40:59  Finished running 1 test, 3 unit tests in 0 hours 0 minutes and 2.62 seconds (2.62s).\r\n"
     ]
    },
    {
     "name": "stdout",
     "output_type": "stream",
     "text": [
      "\u001b[0m21:40:59  \r\n",
      "\u001b[0m21:40:59  \u001b[32mCompleted successfully\u001b[0m\r\n",
      "\u001b[0m21:40:59  \r\n",
      "\u001b[0m21:40:59  Done. PASS=4 WARN=0 ERROR=0 SKIP=0 NO-OP=0 TOTAL=4\r\n"
     ]
    }
   ],
   "source": [
    "!dbt test --log-level info"
   ]
  },
  {
   "cell_type": "code",
   "execution_count": 36,
   "id": "7cff9e94",
   "metadata": {
    "execution": {
     "iopub.execute_input": "2025-06-30T21:41:01.331496Z",
     "iopub.status.busy": "2025-06-30T21:41:01.330643Z",
     "iopub.status.idle": "2025-06-30T21:41:01.337362Z",
     "shell.execute_reply": "2025-06-30T21:41:01.336029Z"
    },
    "papermill": {
     "duration": 0.03424,
     "end_time": "2025-06-30T21:41:01.339206",
     "exception": false,
     "start_time": "2025-06-30T21:41:01.304966",
     "status": "completed"
    },
    "tags": []
   },
   "outputs": [],
   "source": [
    "# !cat /home/vin/01-prj/stripe/sql-formal-verification/formal_verification_prj_name/tests/unit/test_transactions.yml"
   ]
  },
  {
   "cell_type": "code",
   "execution_count": 37,
   "id": "60c204c0",
   "metadata": {
    "execution": {
     "iopub.execute_input": "2025-06-30T21:41:01.390663Z",
     "iopub.status.busy": "2025-06-30T21:41:01.389184Z",
     "iopub.status.idle": "2025-06-30T21:41:01.396125Z",
     "shell.execute_reply": "2025-06-30T21:41:01.394670Z"
    },
    "papermill": {
     "duration": 0.034606,
     "end_time": "2025-06-30T21:41:01.397950",
     "exception": false,
     "start_time": "2025-06-30T21:41:01.363344",
     "status": "completed"
    },
    "tags": []
   },
   "outputs": [],
   "source": [
    "# %%bash\n",
    "# cd /usr/app/dbt\n",
    "# dbt compile --profiles-dir /usr/app/dbt  --project-dir /usr/app/dbt/dbt_spark_demo_prj\n",
    "# # dbt run-operation drop_table --args '{\"table_name\": \"default.transactions\"}'\n",
    "# dbt run-operation drop_view --args '{\"view_name\": \"default.my_first_dbt_model\"}' --profiles-dir /usr/app/dbt  --project-dir /usr/app/dbt/dbt_spark_demo_prj\n",
    "# dbt run-operation drop_view --args '{\"view_name\": \"default.my_second_dbt_model\"}' --profiles-dir /usr/app/dbt  --project-dir /usr/app/dbt/dbt_spark_demo_prj"
   ]
  },
  {
   "cell_type": "markdown",
   "id": "c5dcb3be",
   "metadata": {
    "papermill": {
     "duration": 0.024325,
     "end_time": "2025-06-30T21:41:01.445892",
     "exception": false,
     "start_time": "2025-06-30T21:41:01.421567",
     "status": "completed"
    },
    "tags": []
   },
   "source": [
    "<!-- # Todo\n",
    "## Audit compliance \n",
    "### time tracing with time-stamping\n",
    "1. Add timestamp for loaded data using dbt model\n",
    "```jinja\n",
    "SELECT\n",
    "    *,\n",
    "    '{{ run_started_at }}'::timestamp AS added_at\n",
    "FROM {{ ref('my_seed_table') }}\n",
    "```\n",
    "### File tracing with source and targets file path, tablename -->\n"
   ]
  },
  {
   "cell_type": "markdown",
   "id": "5c25bb33",
   "metadata": {
    "papermill": {
     "duration": 0.023899,
     "end_time": "2025-06-30T21:41:01.493271",
     "exception": false,
     "start_time": "2025-06-30T21:41:01.469372",
     "status": "completed"
    },
    "tags": []
   },
   "source": [
    "# End of notebook"
   ]
  }
 ],
 "metadata": {
  "kernelspec": {
   "display_name": "venv",
   "language": "python",
   "name": "python3"
  },
  "language_info": {
   "codemirror_mode": {
    "name": "ipython",
    "version": 3
   },
   "file_extension": ".py",
   "mimetype": "text/x-python",
   "name": "python",
   "nbconvert_exporter": "python",
   "pygments_lexer": "ipython3",
   "version": "3.11.2"
  },
  "papermill": {
   "default_parameters": {},
   "duration": 113.303669,
   "end_time": "2025-06-30T21:41:02.044309",
   "environment_variables": {},
   "exception": null,
   "input_path": "/usr/app/demo/dbt-spark-demo.ipynb",
   "output_path": "/usr/app/demo/dbt-spark-demo.ipynb",
   "parameters": {},
   "start_time": "2025-06-30T21:39:08.740640",
   "version": "2.6.0"
  }
 },
 "nbformat": 4,
 "nbformat_minor": 5
}