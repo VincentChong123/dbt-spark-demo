{
 "cells": [
  {
   "cell_type": "raw",
   "id": "b257ecab",
   "metadata": {
    "papermill": {
     "duration": 0.015481,
     "end_time": "2025-06-30T06:25:49.679870",
     "exception": false,
     "start_time": "2025-06-30T06:25:49.664389",
     "status": "completed"
    },
    "tags": [],
    "vscode": {
     "languageId": "raw"
    }
   },
   "source": [
    "---\n",
    "title: \"Demo of testing ETL pipeline using DBT and spark\"\n",
    "date: last-modified\n",
    "format:\n",
    "  html:\n",
    "    toc: true\n",
    "    toc-depth: 4\n",
    "    toc-location: left    \n",
    "    code-fold: true\n",
    "    css: styles.css  \n",
    "    number-sections: true       \n",
    "    other-links:\n",
    "      - text: github.com project repo\n",
    "        href: https://github.com/VincentChong123/dbt-spark-demo.git\n",
    "---"
   ]
  },
  {
   "cell_type": "markdown",
   "id": "5888a439",
   "metadata": {
    "papermill": {
     "duration": 0.013991,
     "end_time": "2025-06-30T06:25:49.708402",
     "exception": false,
     "start_time": "2025-06-30T06:25:49.694411",
     "status": "completed"
    },
    "tags": [],
    "vscode": {
     "languageId": "raw"
    }
   },
   "source": [
    "# Introduction\n",
    "This is a demo of dbt work flow using an data ingestion as an example. In finance data ETL (Extract, Transform, Load)\n",
    "important to have sanitity check of input data, to avoid the ingesting invalid data...."
   ]
  },
  {
   "cell_type": "code",
   "execution_count": 1,
   "id": "e897f7e7",
   "metadata": {
    "execution": {
     "iopub.execute_input": "2025-06-30T06:25:49.738584Z",
     "iopub.status.busy": "2025-06-30T06:25:49.738054Z",
     "iopub.status.idle": "2025-06-30T06:25:49.745270Z",
     "shell.execute_reply": "2025-06-30T06:25:49.743878Z"
    },
    "papermill": {
     "duration": 0.026445,
     "end_time": "2025-06-30T06:25:49.748083",
     "exception": false,
     "start_time": "2025-06-30T06:25:49.721638",
     "status": "completed"
    },
    "tags": [
     "skip"
    ]
   },
   "outputs": [],
   "source": [
    "# ```{mermaid}\n",
    "# flowchart LR\n",
    "#    empty[\".\"] --> DBT[\"Container: dbt-core \n",
    "#        plugin: dbt-\n",
    "#   DBT-pyspark[Hive]\"] --> |Generate SQL with 'dbt seed', 'dbt compile'| T(Container: Spark-Thrift)\n",
    "#   T -->|Query using the generated SQL| Storage[(Container: Postgre Hive metadata store)]\n",
    "\n",
    "# ```"
   ]
  },
  {
   "cell_type": "code",
   "execution_count": 2,
   "id": "ae9c7095",
   "metadata": {
    "execution": {
     "iopub.execute_input": "2025-06-30T06:25:49.779464Z",
     "iopub.status.busy": "2025-06-30T06:25:49.778622Z",
     "iopub.status.idle": "2025-06-30T06:25:50.403952Z",
     "shell.execute_reply": "2025-06-30T06:25:50.401826Z"
    },
    "papermill": {
     "duration": 0.643908,
     "end_time": "2025-06-30T06:25:50.406298",
     "exception": false,
     "start_time": "2025-06-30T06:25:49.762390",
     "status": "completed"
    },
    "tags": []
   },
   "outputs": [
    {
     "data": {
      "text/html": [
       "<div>\n",
       "<style scoped>\n",
       "    .dataframe tbody tr th:only-of-type {\n",
       "        vertical-align: middle;\n",
       "    }\n",
       "\n",
       "    .dataframe tbody tr th {\n",
       "        vertical-align: top;\n",
       "    }\n",
       "\n",
       "    .dataframe thead th {\n",
       "        text-align: right;\n",
       "    }\n",
       "</style>\n",
       "<table border=\"1\" class=\"dataframe\">\n",
       "  <thead>\n",
       "    <tr style=\"text-align: right;\">\n",
       "      <th></th>\n",
       "      <th>id</th>\n",
       "      <th>amount</th>\n",
       "      <th>currency</th>\n",
       "      <th>status</th>\n",
       "    </tr>\n",
       "  </thead>\n",
       "  <tbody>\n",
       "    <tr>\n",
       "      <th>0</th>\n",
       "      <td>1</td>\n",
       "      <td>100</td>\n",
       "      <td>USD</td>\n",
       "      <td>ACTIVE</td>\n",
       "    </tr>\n",
       "    <tr>\n",
       "      <th>1</th>\n",
       "      <td>2</td>\n",
       "      <td>200</td>\n",
       "      <td>SGD</td>\n",
       "      <td>ACTIVE</td>\n",
       "    </tr>\n",
       "    <tr>\n",
       "      <th>2</th>\n",
       "      <td>3</td>\n",
       "      <td>150</td>\n",
       "      <td>EUR</td>\n",
       "      <td>ACTIVE</td>\n",
       "    </tr>\n",
       "    <tr>\n",
       "      <th>3</th>\n",
       "      <td>4</td>\n",
       "      <td>120</td>\n",
       "      <td>USD</td>\n",
       "      <td>INACTIVE</td>\n",
       "    </tr>\n",
       "    <tr>\n",
       "      <th>4</th>\n",
       "      <td>5</td>\n",
       "      <td>180</td>\n",
       "      <td>SGD</td>\n",
       "      <td>INACTIVE</td>\n",
       "    </tr>\n",
       "    <tr>\n",
       "      <th>5</th>\n",
       "      <td>6</td>\n",
       "      <td>300</td>\n",
       "      <td>JPY</td>\n",
       "      <td>ACTIVE</td>\n",
       "    </tr>\n",
       "  </tbody>\n",
       "</table>\n",
       "</div>"
      ],
      "text/plain": [
       "   id  amount currency    status\n",
       "0   1     100      USD    ACTIVE\n",
       "1   2     200      SGD    ACTIVE\n",
       "2   3     150      EUR    ACTIVE\n",
       "3   4     120      USD  INACTIVE\n",
       "4   5     180      SGD  INACTIVE\n",
       "5   6     300      JPY    ACTIVE"
      ]
     },
     "execution_count": 2,
     "metadata": {},
     "output_type": "execute_result"
    }
   ],
   "source": [
    "import pandas as pd\n",
    "pd.read_csv(\"/usr/app/demo/dbt_spark_demo_prj/seeds/transactions/raw__transactions.csv\")"
   ]
  },
  {
   "cell_type": "markdown",
   "id": "d8640c45",
   "metadata": {
    "papermill": {
     "duration": 0.017912,
     "end_time": "2025-06-30T06:25:50.440382",
     "exception": false,
     "start_time": "2025-06-30T06:25:50.422470",
     "status": "completed"
    },
    "tags": [],
    "vscode": {
     "languageId": "raw"
    }
   },
   "source": [
    "## Project file structure"
   ]
  },
  {
   "cell_type": "code",
   "execution_count": 3,
   "id": "b28d4077",
   "metadata": {
    "execution": {
     "iopub.execute_input": "2025-06-30T06:25:50.478370Z",
     "iopub.status.busy": "2025-06-30T06:25:50.477245Z",
     "iopub.status.idle": "2025-06-30T06:25:51.165180Z",
     "shell.execute_reply": "2025-06-30T06:25:51.163056Z"
    },
    "papermill": {
     "duration": 0.710048,
     "end_time": "2025-06-30T06:25:51.167811",
     "exception": false,
     "start_time": "2025-06-30T06:25:50.457763",
     "status": "completed"
    },
    "tags": []
   },
   "outputs": [
    {
     "name": "stdout",
     "output_type": "stream",
     "text": [
      "\u001b[01;34m/usr/app\u001b[00m\r\n",
      "├── \u001b[01;34mdbt\u001b[00m\r\n",
      "│   ├── dbt.Dockerfile\r\n",
      "│   ├── \u001b[01;34mdbt_spark_demo_prj\u001b[00m\r\n",
      "│   ├── docker-compose.yml\r\n",
      "│   └── requirements.txt\r\n",
      "├── \u001b[01;34mdbt-spark\u001b[00m\r\n",
      "│   ├── \u001b[01;34mbin\u001b[00m\r\n",
      "│   ├── \u001b[01;34mdagger\u001b[00m\r\n",
      "│   ├── \u001b[01;34mdbt\u001b[00m\r\n",
      "│   ├── \u001b[01;34mdocker\u001b[00m\r\n",
      "│   ├── docker-compose.yml\r\n",
      "│   ├── \u001b[01;34mscripts\u001b[00m\r\n",
      "│   ├── test.env.example\r\n",
      "│   └── \u001b[01;34mtests\u001b[00m\r\n",
      "├── \u001b[01;34mdemo\u001b[00m\r\n",
      "│   ├── dbt-spark-demo.html\r\n",
      "│   ├── dbt-spark-demo.ipynb\r\n",
      "│   ├── \u001b[01;34mdbt-spark-demo_files\u001b[00m\r\n",
      "│   ├── \u001b[01;34mdbt_spark_demo_prj\u001b[00m\r\n",
      "│   ├── generate-documentation.sh\r\n",
      "│   ├── profiles.yml\r\n",
      "│   └── \u001b[01;34mresults\u001b[00m\r\n",
      "├── index.html\r\n",
      "└── run-demo.sh\r\n",
      "\r\n"
     ]
    }
   ],
   "source": [
    "!tree -L 2 --sort=\"name\" /usr/app | grep -v \".*\\.toml$\" | grep -v \".*\\.md$\" | grep -v \".*files$\""
   ]
  },
  {
   "cell_type": "markdown",
   "id": "be13bae7",
   "metadata": {
    "papermill": {
     "duration": 0.013854,
     "end_time": "2025-06-30T06:25:51.196118",
     "exception": false,
     "start_time": "2025-06-30T06:25:51.182264",
     "status": "completed"
    },
    "tags": []
   },
   "source": [
    "# Environment setup"
   ]
  },
  {
   "cell_type": "markdown",
   "id": "c0152385",
   "metadata": {
    "papermill": {
     "duration": 0.013537,
     "end_time": "2025-06-30T06:25:51.223753",
     "exception": false,
     "start_time": "2025-06-30T06:25:51.210216",
     "status": "completed"
    },
    "tags": [],
    "vscode": {
     "languageId": "raw"
    }
   },
   "source": [
    "## Docker\n",
    "### Shared network for docker containers\n",
    "```bash\n",
    "source ./docker-common.sh\n",
    "```"
   ]
  },
  {
   "cell_type": "markdown",
   "id": "0de346d1",
   "metadata": {
    "papermill": {
     "duration": 0.013425,
     "end_time": "2025-06-30T06:25:51.250784",
     "exception": false,
     "start_time": "2025-06-30T06:25:51.237359",
     "status": "completed"
    },
    "tags": [],
    "vscode": {
     "languageId": "raw"
    }
   },
   "source": [
    "## Install jupyter notebook for running this demo in notebook \n",
    "This notebook is executed using jupyer-notebook kernel (http://127.0.0.1:8888) of the loaded custom-dbt container. The container is loaded using command below\n",
    "```bash\n",
    "jupyter notebook --NotebookApp.token='' --NotebookApp.password='' --NotebookApp.disable_check_xsrf=True --allow-root --ip=0.0.0.0 --port=8888 --no-browser\n",
    "```\n",
    "use allow-root for demo purpose only, not for production due to cyber security\n"
   ]
  },
  {
   "cell_type": "code",
   "execution_count": 4,
   "id": "8a58c3eb",
   "metadata": {
    "execution": {
     "iopub.execute_input": "2025-06-30T06:25:51.282489Z",
     "iopub.status.busy": "2025-06-30T06:25:51.281522Z",
     "iopub.status.idle": "2025-06-30T06:25:51.302211Z",
     "shell.execute_reply": "2025-06-30T06:25:51.300212Z"
    },
    "papermill": {
     "duration": 0.038941,
     "end_time": "2025-06-30T06:25:51.304456",
     "exception": false,
     "start_time": "2025-06-30T06:25:51.265515",
     "status": "completed"
    },
    "tags": []
   },
   "outputs": [
    {
     "name": "stdout",
     "output_type": "stream",
     "text": [
      "Mon Jun 30 14:25:51 +08 2025\n"
     ]
    },
    {
     "name": "stdout",
     "output_type": "stream",
     "text": [
      "/usr/local/bin/python\n",
      "/usr/app/dbt\n"
     ]
    }
   ],
   "source": [
    "%%bash\n",
    "export TZ='Asia/Singapore'\n",
    "date\n",
    "which python\n",
    "pwd"
   ]
  },
  {
   "cell_type": "markdown",
   "id": "b1e7c606",
   "metadata": {
    "papermill": {
     "duration": 0.014924,
     "end_time": "2025-06-30T06:25:51.333689",
     "exception": false,
     "start_time": "2025-06-30T06:25:51.318765",
     "status": "completed"
    },
    "tags": []
   },
   "source": [
    "### Connection to read table in Hive meta-data store"
   ]
  },
  {
   "cell_type": "markdown",
   "id": "d6b175ae",
   "metadata": {
    "papermill": {
     "duration": 0.018102,
     "end_time": "2025-06-30T06:25:51.366962",
     "exception": false,
     "start_time": "2025-06-30T06:25:51.348860",
     "status": "completed"
    },
    "tags": []
   },
   "source": [
    "## Variables"
   ]
  },
  {
   "cell_type": "code",
   "execution_count": 5,
   "id": "f86badf3",
   "metadata": {
    "execution": {
     "iopub.execute_input": "2025-06-30T06:25:51.399700Z",
     "iopub.status.busy": "2025-06-30T06:25:51.397909Z",
     "iopub.status.idle": "2025-06-30T06:25:53.240967Z",
     "shell.execute_reply": "2025-06-30T06:25:53.239180Z"
    },
    "papermill": {
     "duration": 1.861172,
     "end_time": "2025-06-30T06:25:53.243460",
     "exception": false,
     "start_time": "2025-06-30T06:25:51.382288",
     "status": "completed"
    },
    "tags": []
   },
   "outputs": [
    {
     "name": "stdout",
     "output_type": "stream",
     "text": [
      "/usr/app/dbt\r\n"
     ]
    },
    {
     "name": "stdout",
     "output_type": "stream",
     "text": [
      "/usr/app/dbt\r\n"
     ]
    },
    {
     "name": "stdout",
     "output_type": "stream",
     "text": [
      "dbt-spark3-thrift\n",
      "/usr/app/dbt/dbt_spark_demo_prj\n",
      "dbt_spark_demo_prj\n"
     ]
    }
   ],
   "source": [
    "from dotenv import load_dotenv\n",
    "import os\n",
    "!pwd\n",
    "\n",
    "!cd ../\n",
    "!pwd\n",
    "\n",
    "load_dotenv()\n",
    "spark_thrift_service_name=os.getenv('SPARK_CONTAINER_SERVICE_NAME')\n",
    "dbt_project_dir=os.getenv('DBT_PROJECT_DIR')\n",
    "dbt_project_name=os.getenv('DBT_PROJECT_NAME')\n",
    "print(spark_thrift_service_name)\n",
    "print(dbt_project_dir)\n",
    "print(dbt_project_name)"
   ]
  },
  {
   "cell_type": "markdown",
   "id": "aec4f6d3",
   "metadata": {
    "papermill": {
     "duration": 0.014396,
     "end_time": "2025-06-30T06:25:53.273764",
     "exception": false,
     "start_time": "2025-06-30T06:25:53.259368",
     "status": "completed"
    },
    "tags": []
   },
   "source": [
    "# Start demo"
   ]
  },
  {
   "cell_type": "code",
   "execution_count": null,
   "id": "34c662e5",
   "metadata": {
    "execution": {
     "iopub.execute_input": "2025-06-30T06:25:53.303738Z",
     "iopub.status.busy": "2025-06-30T06:25:53.302797Z",
     "iopub.status.idle": "2025-06-30T06:25:54.547633Z",
     "shell.execute_reply": "2025-06-30T06:25:54.545750Z"
    },
    "papermill": {
     "duration": 1.2642,
     "end_time": "2025-06-30T06:25:54.551396",
     "exception": false,
     "start_time": "2025-06-30T06:25:53.287196",
     "status": "completed"
    },
    "tags": []
   },
   "outputs": [],
   "source": [
    "filepath=\"/usr/app/demo/results/test_start.txt\"\n",
    "!echo start test at > $filepath \n",
    "!export TZ='Asia/Singapore'; date >> $filepath"
   ]
  },
  {
   "cell_type": "markdown",
   "id": "e7f0f26b",
   "metadata": {
    "papermill": {
     "duration": 0.014962,
     "end_time": "2025-06-30T06:25:54.583292",
     "exception": false,
     "start_time": "2025-06-30T06:25:54.568330",
     "status": "completed"
    },
    "tags": []
   },
   "source": [
    "## Helper codes"
   ]
  },
  {
   "cell_type": "code",
   "execution_count": 7,
   "id": "b9f4df75",
   "metadata": {
    "execution": {
     "iopub.execute_input": "2025-06-30T06:25:54.616953Z",
     "iopub.status.busy": "2025-06-30T06:25:54.616121Z",
     "iopub.status.idle": "2025-06-30T06:25:55.082314Z",
     "shell.execute_reply": "2025-06-30T06:25:55.080564Z"
    },
    "papermill": {
     "duration": 0.487077,
     "end_time": "2025-06-30T06:25:55.085306",
     "exception": false,
     "start_time": "2025-06-30T06:25:54.598229",
     "status": "completed"
    },
    "tags": []
   },
   "outputs": [
    {
     "name": "stdout",
     "output_type": "stream",
     "text": [
      "\n"
     ]
    },
    {
     "data": {
      "text/html": [
       "<div>\n",
       "<style scoped>\n",
       "    .dataframe tbody tr th:only-of-type {\n",
       "        vertical-align: middle;\n",
       "    }\n",
       "\n",
       "    .dataframe tbody tr th {\n",
       "        vertical-align: top;\n",
       "    }\n",
       "\n",
       "    .dataframe thead th {\n",
       "        text-align: right;\n",
       "    }\n",
       "</style>\n",
       "<table border=\"1\" class=\"dataframe\">\n",
       "  <thead>\n",
       "    <tr style=\"text-align: right;\">\n",
       "      <th></th>\n",
       "      <th>namespace</th>\n",
       "      <th>tableName</th>\n",
       "      <th>isTemporary</th>\n",
       "    </tr>\n",
       "  </thead>\n",
       "  <tbody>\n",
       "    <tr>\n",
       "      <th>0</th>\n",
       "      <td>default</td>\n",
       "      <td>raw__transactions</td>\n",
       "      <td>False</td>\n",
       "    </tr>\n",
       "    <tr>\n",
       "      <th>1</th>\n",
       "      <td>default</td>\n",
       "      <td>transactions</td>\n",
       "      <td>False</td>\n",
       "    </tr>\n",
       "  </tbody>\n",
       "</table>\n",
       "</div>"
      ],
      "text/plain": [
       "  namespace          tableName  isTemporary\n",
       "0   default  raw__transactions        False\n",
       "1   default       transactions        False"
      ]
     },
     "metadata": {},
     "output_type": "display_data"
    },
    {
     "name": "stdout",
     "output_type": "stream",
     "text": [
      "------------\n"
     ]
    }
   ],
   "source": [
    "from pyhive import hive\n",
    "import pandas as pd\n",
    "from sqlalchemy.engine import create_engine\n",
    "\n",
    "def check_table(host=spark_thrift_service_name, message_to_be_printed=\"\"):\n",
    "    # with hive.Connection(host=spark_thrift_service_name, port=10000, \n",
    "    #                     #    username='', \n",
    "    #                     database='default') as conn:\n",
    "\n",
    "    #     # Query all tables in the default database\n",
    "    #     df = pd.read_sql(\"SHOW TABLES\", conn)\n",
    "\n",
    "    #     # Display tables\n",
    "    #     display(df)\n",
    "    print(message_to_be_printed)\n",
    "    engine = create_engine(f'hive://{spark_thrift_service_name}:10000/default')\n",
    "    df = pd.read_sql(\"SHOW TABLES;\", engine)\n",
    "    # display(df)\n",
    "    display(df)\n",
    "\n",
    "def show_table_details(table_name, database_name='default',\n",
    "                        # host=spark_thrift_service_name,\n",
    "                        port=10000):\n",
    "    # sqlAlchemy api fail here due to \"sqlAlchemy relection\": TODO investigate root cause\n",
    "    # engine = create_engine(f'hive://{spark_thrift_service_name}:10000/default')\n",
    "    # df = pd.read_sql(f\"select * from {table_name} limit 10\", engine)\n",
    "\n",
    "    with hive.Connection(host=spark_thrift_service_name, port=port, database=database_name) as conn:\n",
    "        df = pd.read_sql(f\"select * from {database_name}.{table_name}\", conn)\n",
    "\n",
    "        display(df)\n",
    "\n",
    "    \n",
    "check_table()\n",
    "print(\"------------\")\n",
    "# show_table_details(\"transactions\")\n"
   ]
  },
  {
   "cell_type": "markdown",
   "id": "04ca1b42",
   "metadata": {
    "papermill": {
     "duration": 0.016159,
     "end_time": "2025-06-30T06:25:55.117967",
     "exception": false,
     "start_time": "2025-06-30T06:25:55.101808",
     "status": "completed"
    },
    "tags": []
   },
   "source": [
    "## DBT "
   ]
  },
  {
   "cell_type": "code",
   "execution_count": 8,
   "id": "fdf3c236",
   "metadata": {
    "execution": {
     "iopub.execute_input": "2025-06-30T06:25:55.152087Z",
     "iopub.status.busy": "2025-06-30T06:25:55.151416Z",
     "iopub.status.idle": "2025-06-30T06:25:59.388352Z",
     "shell.execute_reply": "2025-06-30T06:25:59.386239Z"
    },
    "papermill": {
     "duration": 4.257302,
     "end_time": "2025-06-30T06:25:59.390897",
     "exception": false,
     "start_time": "2025-06-30T06:25:55.133595",
     "status": "completed"
    },
    "tags": []
   },
   "outputs": [
    {
     "name": "stdout",
     "output_type": "stream",
     "text": [
      "Core:\r\n",
      "  - installed: 1.10.2\r\n",
      "  - latest:    1.10.2 - \u001b[32mUp to date!\u001b[0m\r\n",
      "\r\n",
      "Plugins:\r\n",
      "  - spark: 1.9.2 - \u001b[32mUp to date!\u001b[0m\r\n",
      "\r\n",
      "\r\n"
     ]
    }
   ],
   "source": [
    "!dbt --version"
   ]
  },
  {
   "cell_type": "markdown",
   "id": "bfe04595",
   "metadata": {
    "papermill": {
     "duration": 0.019351,
     "end_time": "2025-06-30T06:25:59.470361",
     "exception": false,
     "start_time": "2025-06-30T06:25:59.451010",
     "status": "completed"
    },
    "tags": []
   },
   "source": [
    "## Verify DBT setup"
   ]
  },
  {
   "cell_type": "markdown",
   "id": "ee90d22f",
   "metadata": {
    "papermill": {
     "duration": 0.022032,
     "end_time": "2025-06-30T06:25:59.507697",
     "exception": false,
     "start_time": "2025-06-30T06:25:59.485665",
     "status": "completed"
    },
    "tags": []
   },
   "source": [
    "### profiles.yml\n",
    "```yml\n",
    "formal_verification_prj_name:\n",
    "  outputs:\n",
    "    spark:\n",
    "      type: spark\n",
    "      method: thrift\n",
    "      host: dbt-spark3-thrift\n",
    "      schema: default\n",
    "      connect_timeout: 30\n",
    "      authentication: NONE\n",
    "  target: spark\n",
    "\n",
    "```"
   ]
  },
  {
   "cell_type": "code",
   "execution_count": 9,
   "id": "70bfe66e",
   "metadata": {
    "execution": {
     "iopub.execute_input": "2025-06-30T06:25:59.540398Z",
     "iopub.status.busy": "2025-06-30T06:25:59.539275Z",
     "iopub.status.idle": "2025-06-30T06:26:00.153587Z",
     "shell.execute_reply": "2025-06-30T06:26:00.151852Z"
    },
    "papermill": {
     "duration": 0.633554,
     "end_time": "2025-06-30T06:26:00.156059",
     "exception": false,
     "start_time": "2025-06-30T06:25:59.522505",
     "status": "completed"
    },
    "tags": []
   },
   "outputs": [
    {
     "name": "stdout",
     "output_type": "stream",
     "text": [
      "send_anonymous_usage_stats: false\r\n",
      "\r\n",
      "dbt_spark_demo_prj:\r\n",
      "  outputs:\r\n",
      "    spark:\r\n",
      "      type: spark\r\n",
      "      method: thrift\r\n",
      "      host: dbt-spark3-thrift\r\n",
      "      port: 10000\r\n",
      "      schema: default\r\n",
      "      connect_timeout: 30\r\n",
      "      authentication: NONE\r\n",
      "  target: spark\r\n"
     ]
    }
   ],
   "source": [
    "!cat ~/.dbt/profiles.yml"
   ]
  },
  {
   "cell_type": "markdown",
   "id": "b7c21787",
   "metadata": {
    "papermill": {
     "duration": 0.021062,
     "end_time": "2025-06-30T06:26:00.191936",
     "exception": false,
     "start_time": "2025-06-30T06:26:00.170874",
     "status": "completed"
    },
    "tags": []
   },
   "source": [
    "### dbt_project.yml\n",
    "```yml\n",
    "name: 'formal_verification_prj_name'\n",
    "version: '1.0.0'\n",
    "\n",
    "# This setting configures which \"profile\" dbt uses for this project.\n",
    "profile: 'formal_verification_prj_name'\n",
    "\n",
    "# These configurations specify where dbt should look for different types of files.\n",
    "# The `model-paths` config, for example, states that models in this project can be\n",
    "# found in the \"models/\" directory. You probably won't need to change these!\n",
    "model-paths: [\"models\"]\n",
    "analysis-paths: [\"analyses\"]\n",
    "test-paths: [\"tests\"]\n",
    "seed-paths: [\"seeds\"]\n",
    "macro-paths: [\"macros\"]\n",
    "snapshot-paths: [\"snapshots\"]\n",
    "\n",
    "clean-targets:         # directories to be removed by `dbt clean`\n",
    "  - \"target\"\n",
    "  - \"dbt_packages\"\n",
    "\n",
    "models:\n",
    "  formal_verification_prj_name:\n",
    "    # +write_json: false\n",
    "    +materialized: incremental\n",
    "    +file_format: parquet    \n",
    "\n",
    "```"
   ]
  },
  {
   "cell_type": "code",
   "execution_count": 10,
   "id": "089c0b95",
   "metadata": {
    "execution": {
     "iopub.execute_input": "2025-06-30T06:26:00.225848Z",
     "iopub.status.busy": "2025-06-30T06:26:00.224988Z",
     "iopub.status.idle": "2025-06-30T06:26:00.835525Z",
     "shell.execute_reply": "2025-06-30T06:26:00.833729Z"
    },
    "papermill": {
     "duration": 0.630142,
     "end_time": "2025-06-30T06:26:00.838575",
     "exception": false,
     "start_time": "2025-06-30T06:26:00.208433",
     "status": "completed"
    },
    "tags": []
   },
   "outputs": [
    {
     "name": "stdout",
     "output_type": "stream",
     "text": [
      "\r\n",
      "# Name your project! Project names should contain only lowercase characters\r\n",
      "# and underscores. A good package name should reflect your organization's\r\n",
      "# name or the intended use of these models\r\n",
      "name: 'dbt_spark_demo_prj'\r\n",
      "version: '1.0.0'\r\n",
      "\r\n",
      "# This setting configures which \"profile\" dbt uses for this project.\r\n",
      "profile: 'dbt_spark_demo_prj'\r\n",
      "\r\n",
      "# These configurations specify where dbt should look for different types of files.\r\n",
      "# The `model-paths` config, for example, states that models in this project can be\r\n",
      "# found in the \"models/\" directory. You probably won't need to change these!\r\n",
      "model-paths: [\"models\"]\r\n",
      "analysis-paths: [\"analyses\"]\r\n",
      "test-paths: [\"tests\"]\r\n",
      "seed-paths: [\"seeds\"]\r\n",
      "macro-paths: [\"macros\"]\r\n",
      "snapshot-paths: [\"snapshots\"]\r\n",
      "\r\n",
      "clean-targets:         # directories to be removed by `dbt clean`\r\n",
      "  - \"target\"\r\n",
      "  - \"dbt_packages\"\r\n",
      "\r\n",
      "\r\n",
      "# Configuring models\r\n",
      "# Full documentation: https://docs.getdbt.com/docs/configuring-models\r\n",
      "\r\n",
      "# In this example config, we tell dbt to build all models in the example/\r\n",
      "# directory as views. These settings can be overridden in the individual model\r\n",
      "# files using the `{{ config(...) }}` macro.\r\n",
      "models:\r\n",
      "  dbt_spark_demo_prj:\r\n",
      "    +materialized: incremental\r\n",
      "    +file_format: parquet\r\n",
      "  # example:\r\n",
      "  #   +enabled: false\r\n",
      "    \r\n"
     ]
    }
   ],
   "source": [
    "!cat /usr/app/dbt/dbt_spark_demo_prj/dbt_project.yml"
   ]
  },
  {
   "cell_type": "markdown",
   "id": "5fa3d336",
   "metadata": {
    "papermill": {
     "duration": 0.015163,
     "end_time": "2025-06-30T06:26:00.870709",
     "exception": false,
     "start_time": "2025-06-30T06:26:00.855546",
     "status": "completed"
    },
    "tags": []
   },
   "source": [
    "### dbt debug"
   ]
  },
  {
   "cell_type": "code",
   "execution_count": 11,
   "id": "463ce0e5",
   "metadata": {
    "execution": {
     "iopub.execute_input": "2025-06-30T06:26:00.903467Z",
     "iopub.status.busy": "2025-06-30T06:26:00.902380Z",
     "iopub.status.idle": "2025-06-30T06:26:06.313073Z",
     "shell.execute_reply": "2025-06-30T06:26:06.311194Z"
    },
    "papermill": {
     "duration": 5.429723,
     "end_time": "2025-06-30T06:26:06.315361",
     "exception": false,
     "start_time": "2025-06-30T06:26:00.885638",
     "status": "completed"
    },
    "tags": []
   },
   "outputs": [
    {
     "name": "stdout",
     "output_type": "stream",
     "text": [
      "\u001b[0m06:26:03  Running with dbt=1.10.2\r\n",
      "\u001b[0m06:26:04  dbt version: 1.10.2\r\n",
      "\u001b[0m06:26:04  python version: 3.11.2\r\n",
      "\u001b[0m06:26:04  python path: /usr/local/bin/python3\r\n",
      "\u001b[0m06:26:04  os info: Linux-5.15.167.4-microsoft-standard-WSL2-x86_64-with-glibc2.31\r\n"
     ]
    },
    {
     "name": "stdout",
     "output_type": "stream",
     "text": [
      "\u001b[0m06:26:04  Using profiles dir at /root/.dbt\r\n",
      "\u001b[0m06:26:04  Using profiles.yml file at /root/.dbt/profiles.yml\r\n",
      "\u001b[0m06:26:04  Using dbt_project.yml file at /usr/app/dbt/dbt_spark_demo_prj/dbt_project.yml\r\n",
      "\u001b[0m06:26:04  adapter type: spark\r\n",
      "\u001b[0m06:26:04  adapter version: 1.9.2\r\n"
     ]
    },
    {
     "name": "stdout",
     "output_type": "stream",
     "text": [
      "\u001b[0m06:26:04  Configuration:\r\n",
      "\u001b[0m06:26:04    profiles.yml file [\u001b[32mOK found and valid\u001b[0m]\r\n",
      "\u001b[0m06:26:04    dbt_project.yml file [\u001b[32mOK found and valid\u001b[0m]\r\n",
      "\u001b[0m06:26:04  Required dependencies:\r\n",
      "\u001b[0m06:26:04   - git [\u001b[32mOK found\u001b[0m]\r\n",
      "\r\n",
      "\u001b[0m06:26:04  Connection:\r\n",
      "\u001b[0m06:26:04    host: dbt-spark3-thrift\r\n",
      "\u001b[0m06:26:04    port: 10000\r\n",
      "\u001b[0m06:26:04    cluster: None\r\n",
      "\u001b[0m06:26:04    endpoint: None\r\n",
      "\u001b[0m06:26:04    schema: default\r\n",
      "\u001b[0m06:26:04    organization: 0\r\n",
      "\u001b[0m06:26:04  Registered adapter: spark=1.9.2\r\n"
     ]
    },
    {
     "name": "stdout",
     "output_type": "stream",
     "text": [
      "\u001b[0m06:26:04    Connection test: [\u001b[32mOK connection ok\u001b[0m]\r\n",
      "\r\n",
      "\u001b[0m06:26:04  \u001b[32mAll checks passed!\u001b[0m\r\n"
     ]
    }
   ],
   "source": [
    "!dbt debug --project-dir /usr/app/dbt/dbt_spark_demo_prj\n",
    "\n",
    "#to print detailed messages for debugging \n",
    "#!dbt debug --debug --project-dir /usr/app/dbt/dbt_spark_demo_prj"
   ]
  },
  {
   "cell_type": "markdown",
   "id": "6788bb54",
   "metadata": {
    "papermill": {
     "duration": 0.015108,
     "end_time": "2025-06-30T06:26:06.345539",
     "exception": false,
     "start_time": "2025-06-30T06:26:06.330431",
     "status": "completed"
    },
    "tags": []
   },
   "source": [
    "## dbt command comparisons\n",
    "| Command           | Purpose                                  | What it does                                                             | Output                                    |\n",
    "| ----------------- | ---------------------------------------- | ------------------------------------------------------------------------ | ----------------------------------------- |\n",
    "| **`dbt compile`** | Prepares SQL code for execution          | Converts Jinja + macros into raw SQL; writes compiled files to `target/` | Compiled SQL files (no warehouse changes) |\n",
    "| **`dbt run`**     | Builds models (tables/views)             | Executes compiled SQL to materialize models in the data warehouse        | Tables/views in the warehouse             |\n",
    "| **`dbt test`**    | Validates data quality assumptions       | Runs data tests (e.g., `not_null`, `unique`, custom) on warehouse data   | Test pass/fail results                    |\n",
    "| **`dbt seed`**    | Loads static CSV data into the warehouse | Uploads CSV files from the `seeds/` directory into tables                 | Tables containing seed data               |\n"
   ]
  },
  {
   "cell_type": "markdown",
   "id": "46c7b25b",
   "metadata": {
    "papermill": {
     "duration": 0.014733,
     "end_time": "2025-06-30T06:26:06.374881",
     "exception": false,
     "start_time": "2025-06-30T06:26:06.360148",
     "status": "completed"
    },
    "tags": []
   },
   "source": [
    "# Prepare SQL"
   ]
  },
  {
   "cell_type": "markdown",
   "id": "328b5522",
   "metadata": {
    "papermill": {
     "duration": 0.014501,
     "end_time": "2025-06-30T06:26:06.404050",
     "exception": false,
     "start_time": "2025-06-30T06:26:06.389549",
     "status": "completed"
    },
    "tags": []
   },
   "source": [
    "## Read dbt input csv \n",
    "\n",
    "* read seeds/transactions.csv, \n",
    "* dbt generate raw__transaction.csv\n",
    "* dbt create table default.raw_transaction at the database "
   ]
  },
  {
   "cell_type": "markdown",
   "id": "331b109e",
   "metadata": {
    "papermill": {
     "duration": 0.014866,
     "end_time": "2025-06-30T06:26:06.433431",
     "exception": false,
     "start_time": "2025-06-30T06:26:06.418565",
     "status": "completed"
    },
    "tags": []
   },
   "source": [
    "### Verify database before the operation"
   ]
  },
  {
   "cell_type": "code",
   "execution_count": 12,
   "id": "6c4e3091",
   "metadata": {
    "execution": {
     "iopub.execute_input": "2025-06-30T06:26:06.466498Z",
     "iopub.status.busy": "2025-06-30T06:26:06.465666Z",
     "iopub.status.idle": "2025-06-30T06:26:19.392059Z",
     "shell.execute_reply": "2025-06-30T06:26:19.390321Z"
    },
    "papermill": {
     "duration": 12.945877,
     "end_time": "2025-06-30T06:26:19.394581",
     "exception": false,
     "start_time": "2025-06-30T06:26:06.448704",
     "status": "completed"
    },
    "tags": []
   },
   "outputs": [
    {
     "name": "stdout",
     "output_type": "stream",
     "text": [
      "\u001b[0m06:26:09  Running with dbt=1.10.2\r\n"
     ]
    },
    {
     "name": "stdout",
     "output_type": "stream",
     "text": [
      "\u001b[0m06:26:10  Registered adapter: spark=1.9.2\r\n"
     ]
    },
    {
     "name": "stdout",
     "output_type": "stream",
     "text": [
      "\u001b[0m06:26:10  Found 1 model, 1 test, 1 seed, 476 macros, 3 unit tests\r\n"
     ]
    },
    {
     "name": "stdout",
     "output_type": "stream",
     "text": [
      "\u001b[0m06:26:16  Running with dbt=1.10.2\r\n"
     ]
    },
    {
     "name": "stdout",
     "output_type": "stream",
     "text": [
      "\u001b[0m06:26:16  Registered adapter: spark=1.9.2\r\n"
     ]
    },
    {
     "name": "stdout",
     "output_type": "stream",
     "text": [
      "\u001b[0m06:26:17  Found 1 model, 1 test, 1 seed, 476 macros, 3 unit tests\r\n"
     ]
    }
   ],
   "source": [
    "!dbt run-operation drop_table --args '{\"table_name\": \"default.raw__transactions\"}'  \n",
    "!dbt run-operation drop_table --args '{\"table_name\": \"default.transactions\"}' "
   ]
  },
  {
   "cell_type": "code",
   "execution_count": 13,
   "id": "ff9ca4df",
   "metadata": {
    "execution": {
     "iopub.execute_input": "2025-06-30T06:26:19.427761Z",
     "iopub.status.busy": "2025-06-30T06:26:19.427134Z",
     "iopub.status.idle": "2025-06-30T06:26:27.010083Z",
     "shell.execute_reply": "2025-06-30T06:26:27.008398Z"
    },
    "papermill": {
     "duration": 7.602169,
     "end_time": "2025-06-30T06:26:27.012439",
     "exception": false,
     "start_time": "2025-06-30T06:26:19.410270",
     "status": "completed"
    },
    "tags": []
   },
   "outputs": [
    {
     "name": "stdout",
     "output_type": "stream",
     "text": [
      "Database table before the operation\n"
     ]
    },
    {
     "data": {
      "text/html": [
       "<div>\n",
       "<style scoped>\n",
       "    .dataframe tbody tr th:only-of-type {\n",
       "        vertical-align: middle;\n",
       "    }\n",
       "\n",
       "    .dataframe tbody tr th {\n",
       "        vertical-align: top;\n",
       "    }\n",
       "\n",
       "    .dataframe thead th {\n",
       "        text-align: right;\n",
       "    }\n",
       "</style>\n",
       "<table border=\"1\" class=\"dataframe\">\n",
       "  <thead>\n",
       "    <tr style=\"text-align: right;\">\n",
       "      <th></th>\n",
       "      <th>namespace</th>\n",
       "      <th>tableName</th>\n",
       "      <th>isTemporary</th>\n",
       "    </tr>\n",
       "  </thead>\n",
       "  <tbody>\n",
       "  </tbody>\n",
       "</table>\n",
       "</div>"
      ],
      "text/plain": [
       "Empty DataFrame\n",
       "Columns: [namespace, tableName, isTemporary]\n",
       "Index: []"
      ]
     },
     "metadata": {},
     "output_type": "display_data"
    },
    {
     "name": "stdout",
     "output_type": "stream",
     "text": [
      "\u001b[0m06:26:22  Running with dbt=1.10.2\r\n"
     ]
    },
    {
     "name": "stdout",
     "output_type": "stream",
     "text": [
      "\u001b[0m06:26:23  Registered adapter: spark=1.9.2\r\n"
     ]
    },
    {
     "name": "stdout",
     "output_type": "stream",
     "text": [
      "\u001b[0m06:26:23  Found 1 model, 1 test, 1 seed, 476 macros, 3 unit tests\r\n",
      "\u001b[0m06:26:23  \r\n",
      "\u001b[0m06:26:23  Concurrency: 1 threads (target='spark')\r\n",
      "\u001b[0m06:26:23  \r\n"
     ]
    },
    {
     "name": "stdout",
     "output_type": "stream",
     "text": [
      "\u001b[0m06:26:24  1 of 1 START seed file default.raw__transactions ............................... [RUN]\r\n"
     ]
    },
    {
     "name": "stdout",
     "output_type": "stream",
     "text": [
      "\u001b[0m06:26:24  1 of 1 OK loaded seed file default.raw__transactions ........................... [\u001b[32mINSERT 6\u001b[0m in 0.84s]\r\n"
     ]
    },
    {
     "name": "stdout",
     "output_type": "stream",
     "text": [
      "\u001b[0m06:26:25  \r\n",
      "\u001b[0m06:26:25  Finished running 1 seed in 0 hours 0 minutes and 1.21 seconds (1.21s).\r\n"
     ]
    },
    {
     "name": "stdout",
     "output_type": "stream",
     "text": [
      "\u001b[0m06:26:25  \r\n",
      "\u001b[0m06:26:25  \u001b[32mCompleted successfully\u001b[0m\r\n",
      "\u001b[0m06:26:25  \r\n",
      "\u001b[0m06:26:25  Done. PASS=1 WARN=0 ERROR=0 SKIP=0 NO-OP=0 TOTAL=1\r\n"
     ]
    },
    {
     "name": "stdout",
     "output_type": "stream",
     "text": [
      "\n",
      "Database table after the operation\n"
     ]
    },
    {
     "data": {
      "text/html": [
       "<div>\n",
       "<style scoped>\n",
       "    .dataframe tbody tr th:only-of-type {\n",
       "        vertical-align: middle;\n",
       "    }\n",
       "\n",
       "    .dataframe tbody tr th {\n",
       "        vertical-align: top;\n",
       "    }\n",
       "\n",
       "    .dataframe thead th {\n",
       "        text-align: right;\n",
       "    }\n",
       "</style>\n",
       "<table border=\"1\" class=\"dataframe\">\n",
       "  <thead>\n",
       "    <tr style=\"text-align: right;\">\n",
       "      <th></th>\n",
       "      <th>namespace</th>\n",
       "      <th>tableName</th>\n",
       "      <th>isTemporary</th>\n",
       "    </tr>\n",
       "  </thead>\n",
       "  <tbody>\n",
       "    <tr>\n",
       "      <th>0</th>\n",
       "      <td>default</td>\n",
       "      <td>raw__transactions</td>\n",
       "      <td>False</td>\n",
       "    </tr>\n",
       "  </tbody>\n",
       "</table>\n",
       "</div>"
      ],
      "text/plain": [
       "  namespace          tableName  isTemporary\n",
       "0   default  raw__transactions        False"
      ]
     },
     "metadata": {},
     "output_type": "display_data"
    }
   ],
   "source": [
    "check_table(message_to_be_printed=\"Database table before the operation\")\n",
    "!dbt seed --log-level info --project-dir $dbt_project_dir\n",
    "check_table(message_to_be_printed=\"\\nDatabase table after the operation\")"
   ]
  },
  {
   "cell_type": "markdown",
   "id": "99518976",
   "metadata": {
    "papermill": {
     "duration": 0.021938,
     "end_time": "2025-06-30T06:26:27.054490",
     "exception": false,
     "start_time": "2025-06-30T06:26:27.032552",
     "status": "completed"
    },
    "tags": []
   },
   "source": [
    "## dbt compile"
   ]
  },
  {
   "cell_type": "markdown",
   "id": "299472eb",
   "metadata": {
    "papermill": {
     "duration": 0.018501,
     "end_time": "2025-06-30T06:26:27.091452",
     "exception": false,
     "start_time": "2025-06-30T06:26:27.072951",
     "status": "completed"
    },
    "tags": []
   },
   "source": [
    "#### removed target/compiled/"
   ]
  },
  {
   "cell_type": "code",
   "execution_count": 14,
   "id": "be2451a9",
   "metadata": {
    "execution": {
     "iopub.execute_input": "2025-06-30T06:26:27.133340Z",
     "iopub.status.busy": "2025-06-30T06:26:27.132502Z",
     "iopub.status.idle": "2025-06-30T06:26:28.376538Z",
     "shell.execute_reply": "2025-06-30T06:26:28.374913Z"
    },
    "papermill": {
     "duration": 1.26774,
     "end_time": "2025-06-30T06:26:28.379060",
     "exception": false,
     "start_time": "2025-06-30T06:26:27.111320",
     "status": "completed"
    },
    "tags": []
   },
   "outputs": [
    {
     "name": "stdout",
     "output_type": "stream",
     "text": [
      "ls: cannot access 'dbt_spark_demo_prj/target/compile': No such file or directory\r\n"
     ]
    }
   ],
   "source": [
    "!rm -rf dbt_spark_demo_prj/target/compiled/\n",
    "!ls dbt_spark_demo_prj/target/compile"
   ]
  },
  {
   "cell_type": "code",
   "execution_count": 15,
   "id": "e6d17db8",
   "metadata": {
    "execution": {
     "iopub.execute_input": "2025-06-30T06:26:28.416982Z",
     "iopub.status.busy": "2025-06-30T06:26:28.416094Z",
     "iopub.status.idle": "2025-06-30T06:26:29.042737Z",
     "shell.execute_reply": "2025-06-30T06:26:29.040929Z"
    },
    "papermill": {
     "duration": 0.647591,
     "end_time": "2025-06-30T06:26:29.045041",
     "exception": false,
     "start_time": "2025-06-30T06:26:28.397450",
     "status": "completed"
    },
    "tags": []
   },
   "outputs": [
    {
     "name": "stdout",
     "output_type": "stream",
     "text": [
      "dbt_project.yml  logs  macros  models  seeds  target  tests\r\n"
     ]
    }
   ],
   "source": [
    "!ls $dbt_project_dir"
   ]
  },
  {
   "cell_type": "code",
   "execution_count": 16,
   "id": "7789867d",
   "metadata": {
    "execution": {
     "iopub.execute_input": "2025-06-30T06:26:29.084853Z",
     "iopub.status.busy": "2025-06-30T06:26:29.084014Z",
     "iopub.status.idle": "2025-06-30T06:26:35.368965Z",
     "shell.execute_reply": "2025-06-30T06:26:35.366302Z"
    },
    "papermill": {
     "duration": 6.307402,
     "end_time": "2025-06-30T06:26:35.371687",
     "exception": false,
     "start_time": "2025-06-30T06:26:29.064285",
     "status": "completed"
    },
    "tags": []
   },
   "outputs": [
    {
     "name": "stdout",
     "output_type": "stream",
     "text": [
      "\u001b[0m06:26:32  Running with dbt=1.10.2\r\n"
     ]
    },
    {
     "name": "stdout",
     "output_type": "stream",
     "text": [
      "\u001b[0m06:26:32  Registered adapter: spark=1.9.2\r\n"
     ]
    },
    {
     "name": "stdout",
     "output_type": "stream",
     "text": [
      "\u001b[0m06:26:33  Found 1 model, 1 test, 1 seed, 476 macros, 3 unit tests\r\n",
      "\u001b[0m06:26:33  \r\n",
      "\u001b[0m06:26:33  Concurrency: 1 threads (target='spark')\r\n",
      "\u001b[0m06:26:33  \r\n"
     ]
    }
   ],
   "source": [
    "!dbt compile --log-level info --project-dir $dbt_project_dir"
   ]
  },
  {
   "cell_type": "code",
   "execution_count": 17,
   "id": "2075b987",
   "metadata": {
    "execution": {
     "iopub.execute_input": "2025-06-30T06:26:35.407650Z",
     "iopub.status.busy": "2025-06-30T06:26:35.406815Z",
     "iopub.status.idle": "2025-06-30T06:26:36.052758Z",
     "shell.execute_reply": "2025-06-30T06:26:36.050524Z"
    },
    "papermill": {
     "duration": 0.667478,
     "end_time": "2025-06-30T06:26:36.056049",
     "exception": false,
     "start_time": "2025-06-30T06:26:35.388571",
     "status": "completed"
    },
    "tags": []
   },
   "outputs": [
    {
     "name": "stdout",
     "output_type": "stream",
     "text": [
      "models\ttests\r\n"
     ]
    }
   ],
   "source": [
    "!ls /usr/app/dbt/dbt_spark_demo_prj/target/compiled/dbt_spark_demo_prj"
   ]
  },
  {
   "cell_type": "markdown",
   "id": "285c8f3a",
   "metadata": {
    "papermill": {
     "duration": 0.01794,
     "end_time": "2025-06-30T06:26:36.092253",
     "exception": false,
     "start_time": "2025-06-30T06:26:36.074313",
     "status": "completed"
    },
    "tags": []
   },
   "source": [
    "## Build your models (dbt run)"
   ]
  },
  {
   "cell_type": "markdown",
   "id": "82e5d338",
   "metadata": {
    "papermill": {
     "duration": 0.01769,
     "end_time": "2025-06-30T06:26:36.127987",
     "exception": false,
     "start_time": "2025-06-30T06:26:36.110297",
     "status": "completed"
    },
    "tags": []
   },
   "source": [
    "## Delete database table prior dbt run that will create the table"
   ]
  },
  {
   "cell_type": "code",
   "execution_count": 18,
   "id": "49dad449",
   "metadata": {
    "execution": {
     "iopub.execute_input": "2025-06-30T06:26:36.167647Z",
     "iopub.status.busy": "2025-06-30T06:26:36.166556Z",
     "iopub.status.idle": "2025-06-30T06:26:42.928609Z",
     "shell.execute_reply": "2025-06-30T06:26:42.926820Z"
    },
    "papermill": {
     "duration": 6.785337,
     "end_time": "2025-06-30T06:26:42.930909",
     "exception": false,
     "start_time": "2025-06-30T06:26:36.145572",
     "status": "completed"
    },
    "tags": []
   },
   "outputs": [
    {
     "name": "stdout",
     "output_type": "stream",
     "text": [
      "before\n"
     ]
    },
    {
     "data": {
      "text/html": [
       "<div>\n",
       "<style scoped>\n",
       "    .dataframe tbody tr th:only-of-type {\n",
       "        vertical-align: middle;\n",
       "    }\n",
       "\n",
       "    .dataframe tbody tr th {\n",
       "        vertical-align: top;\n",
       "    }\n",
       "\n",
       "    .dataframe thead th {\n",
       "        text-align: right;\n",
       "    }\n",
       "</style>\n",
       "<table border=\"1\" class=\"dataframe\">\n",
       "  <thead>\n",
       "    <tr style=\"text-align: right;\">\n",
       "      <th></th>\n",
       "      <th>namespace</th>\n",
       "      <th>tableName</th>\n",
       "      <th>isTemporary</th>\n",
       "    </tr>\n",
       "  </thead>\n",
       "  <tbody>\n",
       "    <tr>\n",
       "      <th>0</th>\n",
       "      <td>default</td>\n",
       "      <td>raw__transactions</td>\n",
       "      <td>False</td>\n",
       "    </tr>\n",
       "  </tbody>\n",
       "</table>\n",
       "</div>"
      ],
      "text/plain": [
       "  namespace          tableName  isTemporary\n",
       "0   default  raw__transactions        False"
      ]
     },
     "metadata": {},
     "output_type": "display_data"
    },
    {
     "name": "stdout",
     "output_type": "stream",
     "text": [
      "\u001b[0m06:26:39  Running with dbt=1.10.2\r\n"
     ]
    },
    {
     "name": "stdout",
     "output_type": "stream",
     "text": [
      "\u001b[0m06:26:39  Registered adapter: spark=1.9.2\r\n"
     ]
    },
    {
     "name": "stdout",
     "output_type": "stream",
     "text": [
      "\u001b[0m06:26:40  Found 1 model, 1 test, 1 seed, 476 macros, 3 unit tests\r\n"
     ]
    },
    {
     "name": "stdout",
     "output_type": "stream",
     "text": [
      "\n",
      "after\n"
     ]
    },
    {
     "data": {
      "text/html": [
       "<div>\n",
       "<style scoped>\n",
       "    .dataframe tbody tr th:only-of-type {\n",
       "        vertical-align: middle;\n",
       "    }\n",
       "\n",
       "    .dataframe tbody tr th {\n",
       "        vertical-align: top;\n",
       "    }\n",
       "\n",
       "    .dataframe thead th {\n",
       "        text-align: right;\n",
       "    }\n",
       "</style>\n",
       "<table border=\"1\" class=\"dataframe\">\n",
       "  <thead>\n",
       "    <tr style=\"text-align: right;\">\n",
       "      <th></th>\n",
       "      <th>namespace</th>\n",
       "      <th>tableName</th>\n",
       "      <th>isTemporary</th>\n",
       "    </tr>\n",
       "  </thead>\n",
       "  <tbody>\n",
       "    <tr>\n",
       "      <th>0</th>\n",
       "      <td>default</td>\n",
       "      <td>raw__transactions</td>\n",
       "      <td>False</td>\n",
       "    </tr>\n",
       "  </tbody>\n",
       "</table>\n",
       "</div>"
      ],
      "text/plain": [
       "  namespace          tableName  isTemporary\n",
       "0   default  raw__transactions        False"
      ]
     },
     "metadata": {},
     "output_type": "display_data"
    }
   ],
   "source": [
    "check_table(message_to_be_printed=\"before\")\n",
    "!dbt run-operation drop_table --args '{\"table_name\": \"default.transactions\"}'\n",
    "check_table(message_to_be_printed=\"\\nafter\")"
   ]
  },
  {
   "cell_type": "code",
   "execution_count": 19,
   "id": "bdf648b1",
   "metadata": {
    "execution": {
     "iopub.execute_input": "2025-06-30T06:26:42.969025Z",
     "iopub.status.busy": "2025-06-30T06:26:42.968439Z",
     "iopub.status.idle": "2025-06-30T06:26:57.949954Z",
     "shell.execute_reply": "2025-06-30T06:26:57.948345Z"
    },
    "papermill": {
     "duration": 15.003018,
     "end_time": "2025-06-30T06:26:57.952047",
     "exception": false,
     "start_time": "2025-06-30T06:26:42.949029",
     "status": "completed"
    },
    "tags": []
   },
   "outputs": [
    {
     "name": "stdout",
     "output_type": "stream",
     "text": [
      "\u001b[0m06:26:46  Running with dbt=1.10.2\r\n"
     ]
    },
    {
     "name": "stdout",
     "output_type": "stream",
     "text": [
      "\u001b[0m06:26:47  Registered adapter: spark=1.9.2\r\n"
     ]
    },
    {
     "name": "stdout",
     "output_type": "stream",
     "text": [
      "\u001b[0m06:26:47  Found 1 model, 1 test, 1 seed, 476 macros, 3 unit tests\r\n"
     ]
    },
    {
     "name": "stdout",
     "output_type": "stream",
     "text": [
      "before\n"
     ]
    },
    {
     "data": {
      "text/html": [
       "<div>\n",
       "<style scoped>\n",
       "    .dataframe tbody tr th:only-of-type {\n",
       "        vertical-align: middle;\n",
       "    }\n",
       "\n",
       "    .dataframe tbody tr th {\n",
       "        vertical-align: top;\n",
       "    }\n",
       "\n",
       "    .dataframe thead th {\n",
       "        text-align: right;\n",
       "    }\n",
       "</style>\n",
       "<table border=\"1\" class=\"dataframe\">\n",
       "  <thead>\n",
       "    <tr style=\"text-align: right;\">\n",
       "      <th></th>\n",
       "      <th>namespace</th>\n",
       "      <th>tableName</th>\n",
       "      <th>isTemporary</th>\n",
       "    </tr>\n",
       "  </thead>\n",
       "  <tbody>\n",
       "    <tr>\n",
       "      <th>0</th>\n",
       "      <td>default</td>\n",
       "      <td>raw__transactions</td>\n",
       "      <td>False</td>\n",
       "    </tr>\n",
       "  </tbody>\n",
       "</table>\n",
       "</div>"
      ],
      "text/plain": [
       "  namespace          tableName  isTemporary\n",
       "0   default  raw__transactions        False"
      ]
     },
     "metadata": {},
     "output_type": "display_data"
    },
    {
     "name": "stdout",
     "output_type": "stream",
     "text": [
      "\u001b[0m06:26:52  Running with dbt=1.10.2\r\n"
     ]
    },
    {
     "name": "stdout",
     "output_type": "stream",
     "text": [
      "\u001b[0m06:26:53  Registered adapter: spark=1.9.2\r\n"
     ]
    },
    {
     "name": "stdout",
     "output_type": "stream",
     "text": [
      "\u001b[0m06:26:54  Found 1 model, 1 test, 1 seed, 476 macros, 3 unit tests\r\n",
      "\u001b[0m06:26:54  \r\n",
      "\u001b[0m06:26:54  Concurrency: 1 threads (target='spark')\r\n",
      "\u001b[0m06:26:54  \r\n"
     ]
    },
    {
     "name": "stdout",
     "output_type": "stream",
     "text": [
      "\u001b[0m06:26:54  1 of 1 START sql table model default.transactions .............................. [RUN]\r\n"
     ]
    },
    {
     "name": "stdout",
     "output_type": "stream",
     "text": [
      "\u001b[0m06:26:55  1 of 1 OK created sql table model default.transactions ......................... [\u001b[32mOK\u001b[0m in 0.94s]\r\n"
     ]
    },
    {
     "name": "stdout",
     "output_type": "stream",
     "text": [
      "\u001b[0m06:26:55  \r\n",
      "\u001b[0m06:26:55  Finished running 1 table model in 0 hours 0 minutes and 1.35 seconds (1.35s).\r\n"
     ]
    },
    {
     "name": "stdout",
     "output_type": "stream",
     "text": [
      "\u001b[0m06:26:55  \r\n",
      "\u001b[0m06:26:55  \u001b[32mCompleted successfully\u001b[0m\r\n",
      "\u001b[0m06:26:55  \r\n",
      "\u001b[0m06:26:55  Done. PASS=1 WARN=0 ERROR=0 SKIP=0 NO-OP=0 TOTAL=1\r\n"
     ]
    },
    {
     "name": "stdout",
     "output_type": "stream",
     "text": [
      "\n",
      "After\n"
     ]
    },
    {
     "name": "stdout",
     "output_type": "stream",
     "text": [
      "\u001b[01;34m/usr/app/dbt/dbt_spark_demo_prj/target/run\u001b[00m\r\n",
      "└── \u001b[01;34mdbt_spark_demo_prj\u001b[00m\r\n",
      "    └── \u001b[01;34mmodels\u001b[00m\r\n",
      "        └── \u001b[01;34mtransactions\u001b[00m\r\n",
      "            └── transactions.sql\r\n",
      "\r\n",
      "3 directories, 1 file\r\n"
     ]
    },
    {
     "name": "stdout",
     "output_type": "stream",
     "text": [
      "after\n"
     ]
    },
    {
     "data": {
      "text/html": [
       "<div>\n",
       "<style scoped>\n",
       "    .dataframe tbody tr th:only-of-type {\n",
       "        vertical-align: middle;\n",
       "    }\n",
       "\n",
       "    .dataframe tbody tr th {\n",
       "        vertical-align: top;\n",
       "    }\n",
       "\n",
       "    .dataframe thead th {\n",
       "        text-align: right;\n",
       "    }\n",
       "</style>\n",
       "<table border=\"1\" class=\"dataframe\">\n",
       "  <thead>\n",
       "    <tr style=\"text-align: right;\">\n",
       "      <th></th>\n",
       "      <th>namespace</th>\n",
       "      <th>tableName</th>\n",
       "      <th>isTemporary</th>\n",
       "    </tr>\n",
       "  </thead>\n",
       "  <tbody>\n",
       "    <tr>\n",
       "      <th>0</th>\n",
       "      <td>default</td>\n",
       "      <td>raw__transactions</td>\n",
       "      <td>False</td>\n",
       "    </tr>\n",
       "    <tr>\n",
       "      <th>1</th>\n",
       "      <td>default</td>\n",
       "      <td>transactions</td>\n",
       "      <td>False</td>\n",
       "    </tr>\n",
       "  </tbody>\n",
       "</table>\n",
       "</div>"
      ],
      "text/plain": [
       "  namespace          tableName  isTemporary\n",
       "0   default  raw__transactions        False\n",
       "1   default       transactions        False"
      ]
     },
     "metadata": {},
     "output_type": "display_data"
    }
   ],
   "source": [
    "!rm -r $dbt_project_dir/target/run\n",
    "!dbt run-operation drop_table --args '{\"table_name\": \"default.transactions\"}' \n",
    "check_table(message_to_be_printed=\"before\")\n",
    "\n",
    "!dbt run --log-level info --project-dir $dbt_project_dir\n",
    "\n",
    "print(\"\\nAfter\")\n",
    "!tree $dbt_project_dir/target/run\n",
    "check_table(message_to_be_printed=\"after\")"
   ]
  },
  {
   "cell_type": "markdown",
   "id": "b5cf4b24",
   "metadata": {
    "papermill": {
     "duration": 0.021402,
     "end_time": "2025-06-30T06:26:57.993344",
     "exception": false,
     "start_time": "2025-06-30T06:26:57.971942",
     "status": "completed"
    },
    "tags": []
   },
   "source": [
    "## test model using dbt"
   ]
  },
  {
   "cell_type": "markdown",
   "id": "ebc3baeb",
   "metadata": {
    "papermill": {
     "duration": 0.019673,
     "end_time": "2025-06-30T06:26:58.033421",
     "exception": false,
     "start_time": "2025-06-30T06:26:58.013748",
     "status": "completed"
    },
    "tags": []
   },
   "source": [
    "#### test name and its test vectors"
   ]
  },
  {
   "cell_type": "code",
   "execution_count": 20,
   "id": "06dfaae6",
   "metadata": {
    "execution": {
     "iopub.execute_input": "2025-06-30T06:26:58.075092Z",
     "iopub.status.busy": "2025-06-30T06:26:58.074271Z",
     "iopub.status.idle": "2025-06-30T06:26:58.703924Z",
     "shell.execute_reply": "2025-06-30T06:26:58.702202Z"
    },
    "papermill": {
     "duration": 0.654111,
     "end_time": "2025-06-30T06:26:58.706930",
     "exception": false,
     "start_time": "2025-06-30T06:26:58.052819",
     "status": "completed"
    },
    "tags": []
   },
   "outputs": [
    {
     "name": "stdout",
     "output_type": "stream",
     "text": [
      "# tests/unit/test_transactions.yml\r\n",
      "\r\n",
      "version: 2\r\n",
      "unit_tests:\r\n",
      "  - name: test_currency_usd\r\n",
      "    model: transactions\r\n",
      "    given:\r\n",
      "      - input: ref('raw__transactions')\r\n",
      "        rows:\r\n",
      "          - {id: 1, amount: 100, currency: 'USD', status: 'ACTIVE'}\r\n",
      "    expect:\r\n",
      "      rows:\r\n",
      "        - {id: 1, amount_usd: 100, currency: 'USD', branch_marker: \"USD_BRANCH\"}\r\n",
      "\r\n",
      "  - name: test_currency_sgd\r\n",
      "    model: transactions\r\n",
      "    given:\r\n",
      "      - input: ref('raw__transactions')\r\n",
      "        rows:\r\n",
      "          - {id: 2, amount: 100, currency: 'SGD', status: 'ACTIVE'}\r\n",
      "    expect:\r\n",
      "      rows:\r\n",
      "        - {id: 2, amount_usd: 74, branch_marker: \"SGD_BRANCH\"}\r\n",
      "\r\n",
      "  - name: test_inactive\r\n",
      "    model: transactions\r\n",
      "    given:\r\n",
      "      - input: ref('raw__transactions')\r\n",
      "        rows:\r\n",
      "          - {id: 2, amount: 100, currency: 'SGD', status: 'INACTIVE'}\r\n",
      "    expect: \r\n",
      "      rows: []"
     ]
    }
   ],
   "source": [
    "!cat dbt_spark_demo_prj/tests/unit/test_transactions.yml"
   ]
  },
  {
   "cell_type": "markdown",
   "id": "31610ca8",
   "metadata": {
    "papermill": {
     "duration": 0.021051,
     "end_time": "2025-06-30T06:26:58.751751",
     "exception": false,
     "start_time": "2025-06-30T06:26:58.730700",
     "status": "completed"
    },
    "tags": []
   },
   "source": [
    "#### run test"
   ]
  },
  {
   "cell_type": "code",
   "execution_count": 21,
   "id": "c0c0834d",
   "metadata": {
    "execution": {
     "iopub.execute_input": "2025-06-30T06:26:58.801836Z",
     "iopub.status.busy": "2025-06-30T06:26:58.800820Z",
     "iopub.status.idle": "2025-06-30T06:27:07.154250Z",
     "shell.execute_reply": "2025-06-30T06:27:07.152766Z"
    },
    "papermill": {
     "duration": 8.380198,
     "end_time": "2025-06-30T06:27:07.156371",
     "exception": false,
     "start_time": "2025-06-30T06:26:58.776173",
     "status": "completed"
    },
    "tags": []
   },
   "outputs": [
    {
     "name": "stdout",
     "output_type": "stream",
     "text": [
      "\u001b[0m06:27:01  Running with dbt=1.10.2\n"
     ]
    },
    {
     "name": "stdout",
     "output_type": "stream",
     "text": [
      "\u001b[0m06:27:02  Registered adapter: spark=1.9.2\n"
     ]
    },
    {
     "name": "stdout",
     "output_type": "stream",
     "text": [
      "\u001b[0m06:27:02  Found 1 model, 1 test, 1 seed, 476 macros, 3 unit tests\n"
     ]
    },
    {
     "name": "stdout",
     "output_type": "stream",
     "text": [
      "\u001b[0m06:27:02  \n"
     ]
    },
    {
     "name": "stdout",
     "output_type": "stream",
     "text": [
      "\u001b[0m06:27:02  Concurrency: 1 threads (target='spark')\n"
     ]
    },
    {
     "name": "stdout",
     "output_type": "stream",
     "text": [
      "\u001b[0m06:27:02  \n"
     ]
    },
    {
     "name": "stdout",
     "output_type": "stream",
     "text": [
      "\u001b[0m06:27:03  1 of 4 START test test_currency_coverage ....................................... [RUN]"
     ]
    },
    {
     "name": "stdout",
     "output_type": "stream",
     "text": [
      "\n"
     ]
    },
    {
     "name": "stdout",
     "output_type": "stream",
     "text": [
      "\u001b[0m06:27:03  1 of 4 PASS test_currency_coverage ............................................. [\u001b[32"
     ]
    },
    {
     "name": "stdout",
     "output_type": "stream",
     "text": [
      "mPASS\u001b[0m in 0.41s]\n"
     ]
    },
    {
     "name": "stdout",
     "output_type": "stream",
     "text": [
      "\u001b[0m06:27:03  2 of 4 START unit_test transactions::test_currency_sgd ......................... [RUN]"
     ]
    },
    {
     "name": "stdout",
     "output_type": "stream",
     "text": [
      "\n"
     ]
    },
    {
     "name": "stdout",
     "output_type": "stream",
     "text": [
      "\u001b[0m06:27:04  2 of 4 PASS transactions::test_currency_sgd .................................... [\u001b[32"
     ]
    },
    {
     "name": "stdout",
     "output_type": "stream",
     "text": [
      "mPASS\u001b[0m in 0.71s]\n"
     ]
    },
    {
     "name": "stdout",
     "output_type": "stream",
     "text": [
      "\u001b[0m06:27:04  3 of 4 START unit_test transactions::test_currency_usd ......................... [RUN]"
     ]
    },
    {
     "name": "stdout",
     "output_type": "stream",
     "text": [
      "\n"
     ]
    },
    {
     "name": "stdout",
     "output_type": "stream",
     "text": [
      "\u001b[0m06:27:04  3 of 4 PASS transactions::test_currency_usd .................................... [\u001b[32"
     ]
    },
    {
     "name": "stdout",
     "output_type": "stream",
     "text": [
      "mPASS\u001b[0m in 0.52s]\n"
     ]
    },
    {
     "name": "stdout",
     "output_type": "stream",
     "text": [
      "\u001b[0m06:27:04  4 of 4 START unit_test transactions::test_inactive ............................. [RUN]"
     ]
    },
    {
     "name": "stdout",
     "output_type": "stream",
     "text": [
      "\n"
     ]
    },
    {
     "name": "stdout",
     "output_type": "stream",
     "text": [
      "\u001b[0m06:27:05  4 of 4 PASS transactions::test_inactive ........................................ [\u001b[32"
     ]
    },
    {
     "name": "stdout",
     "output_type": "stream",
     "text": [
      "mPASS\u001b[0m in 0.48s]\n"
     ]
    },
    {
     "name": "stdout",
     "output_type": "stream",
     "text": [
      "\u001b[0m06:27:05  \n"
     ]
    },
    {
     "name": "stdout",
     "output_type": "stream",
     "text": [
      "\u001b[0m06:27:05  Finished running 1 test, 3 unit tests in 0 hours 0 minutes and 2.44 seconds (2.44s).\n"
     ]
    },
    {
     "name": "stdout",
     "output_type": "stream",
     "text": [
      "\u001b[0m06:27:05  \n"
     ]
    },
    {
     "name": "stdout",
     "output_type": "stream",
     "text": [
      "\u001b[0m06:27:05  \u001b[32mCompleted successfully\u001b[0m\n"
     ]
    },
    {
     "name": "stdout",
     "output_type": "stream",
     "text": [
      "\u001b[0m06:27:05  \n"
     ]
    },
    {
     "name": "stdout",
     "output_type": "stream",
     "text": [
      "\u001b[0m06:27:05  Done. PASS=4 WARN=0 ERROR=0 SKIP=0 NO-OP=0 TOTAL=4\n"
     ]
    }
   ],
   "source": [
    "%%bash\n",
    "export DBT_PROJECT_DIR=/usr/app/dbt/dbt_spark_demo_prj\n",
    "dbt test --log-level info"
   ]
  },
  {
   "cell_type": "code",
   "execution_count": 22,
   "id": "2321bb74",
   "metadata": {
    "execution": {
     "iopub.execute_input": "2025-06-30T06:27:07.210980Z",
     "iopub.status.busy": "2025-06-30T06:27:07.210206Z",
     "iopub.status.idle": "2025-06-30T06:27:07.857768Z",
     "shell.execute_reply": "2025-06-30T06:27:07.855971Z"
    },
    "papermill": {
     "duration": 0.681148,
     "end_time": "2025-06-30T06:27:07.860390",
     "exception": false,
     "start_time": "2025-06-30T06:27:07.179242",
     "status": "completed"
    },
    "tags": []
   },
   "outputs": [],
   "source": [
    "!chmod -R a+rw /usr/app"
   ]
  },
  {
   "cell_type": "code",
   "execution_count": 23,
   "id": "c28d80c5",
   "metadata": {
    "execution": {
     "iopub.execute_input": "2025-06-30T06:27:07.908212Z",
     "iopub.status.busy": "2025-06-30T06:27:07.907403Z",
     "iopub.status.idle": "2025-06-30T06:27:09.245209Z",
     "shell.execute_reply": "2025-06-30T06:27:09.243385Z"
    },
    "papermill": {
     "duration": 1.364516,
     "end_time": "2025-06-30T06:27:09.247685",
     "exception": false,
     "start_time": "2025-06-30T06:27:07.883169",
     "status": "completed"
    },
    "tags": []
   },
   "outputs": [
    {
     "name": "stdout",
     "output_type": "stream",
     "text": [
      "Mon Jun 30 06:27:08 UTC 2025\r\n"
     ]
    }
   ],
   "source": [
    "filepath=\"/usr/app/demo/results/test_end.txt\"\n",
    "!date; echo end test at > $filepath \n",
    "!export TZ='Asia/Singapore'; date >> $filepath;"
   ]
  },
  {
   "cell_type": "code",
   "execution_count": 24,
   "id": "9b840cc5",
   "metadata": {
    "execution": {
     "iopub.execute_input": "2025-06-30T06:27:09.294960Z",
     "iopub.status.busy": "2025-06-30T06:27:09.294098Z",
     "iopub.status.idle": "2025-06-30T06:27:09.300926Z",
     "shell.execute_reply": "2025-06-30T06:27:09.299281Z"
    },
    "papermill": {
     "duration": 0.03393,
     "end_time": "2025-06-30T06:27:09.303673",
     "exception": false,
     "start_time": "2025-06-30T06:27:09.269743",
     "status": "completed"
    },
    "tags": []
   },
   "outputs": [],
   "source": [
    "# assert False, \"Stop execution here!\""
   ]
  },
  {
   "cell_type": "markdown",
   "id": "6ebe7ae3",
   "metadata": {
    "papermill": {
     "duration": 0.022351,
     "end_time": "2025-06-30T06:27:09.356354",
     "exception": false,
     "start_time": "2025-06-30T06:27:09.334003",
     "status": "completed"
    },
    "tags": []
   },
   "source": [
    "# Apendix"
   ]
  },
  {
   "cell_type": "markdown",
   "id": "91f84536",
   "metadata": {
    "papermill": {
     "duration": 0.025273,
     "end_time": "2025-06-30T06:27:09.405976",
     "exception": false,
     "start_time": "2025-06-30T06:27:09.380703",
     "status": "completed"
    },
    "tags": []
   },
   "source": [
    "## check the model built "
   ]
  },
  {
   "cell_type": "markdown",
   "id": "f57448e7",
   "metadata": {
    "papermill": {
     "duration": 0.022352,
     "end_time": "2025-06-30T06:27:09.449949",
     "exception": false,
     "start_time": "2025-06-30T06:27:09.427597",
     "status": "completed"
    },
    "tags": []
   },
   "source": [
    "### Check the model built using Pyspark (In progress)"
   ]
  },
  {
   "cell_type": "code",
   "execution_count": 25,
   "id": "32863689",
   "metadata": {
    "execution": {
     "iopub.execute_input": "2025-06-30T06:27:09.496490Z",
     "iopub.status.busy": "2025-06-30T06:27:09.495647Z",
     "iopub.status.idle": "2025-06-30T06:27:09.502107Z",
     "shell.execute_reply": "2025-06-30T06:27:09.500728Z"
    },
    "papermill": {
     "duration": 0.032282,
     "end_time": "2025-06-30T06:27:09.504023",
     "exception": false,
     "start_time": "2025-06-30T06:27:09.471741",
     "status": "completed"
    },
    "tags": []
   },
   "outputs": [],
   "source": [
    "# !pip install pyspark==3.3.2"
   ]
  },
  {
   "cell_type": "code",
   "execution_count": 26,
   "id": "87f91e66",
   "metadata": {
    "execution": {
     "iopub.execute_input": "2025-06-30T06:27:09.550408Z",
     "iopub.status.busy": "2025-06-30T06:27:09.549775Z",
     "iopub.status.idle": "2025-06-30T06:27:09.555942Z",
     "shell.execute_reply": "2025-06-30T06:27:09.554572Z"
    },
    "papermill": {
     "duration": 0.032439,
     "end_time": "2025-06-30T06:27:09.557976",
     "exception": false,
     "start_time": "2025-06-30T06:27:09.525537",
     "status": "completed"
    },
    "tags": []
   },
   "outputs": [],
   "source": [
    "# %%bash\n",
    "# # For Debian/Ubuntu-based containers:\n",
    "# apt-get update && apt-get install -y openjdk-11-jdk\n",
    "\n",
    "# # For Alpine-based containers:\n",
    "# apk add openjdk11"
   ]
  },
  {
   "cell_type": "code",
   "execution_count": 27,
   "id": "67c39001",
   "metadata": {
    "execution": {
     "iopub.execute_input": "2025-06-30T06:27:09.605916Z",
     "iopub.status.busy": "2025-06-30T06:27:09.605389Z",
     "iopub.status.idle": "2025-06-30T06:27:09.611480Z",
     "shell.execute_reply": "2025-06-30T06:27:09.610092Z"
    },
    "papermill": {
     "duration": 0.032175,
     "end_time": "2025-06-30T06:27:09.613616",
     "exception": false,
     "start_time": "2025-06-30T06:27:09.581441",
     "status": "completed"
    },
    "tags": []
   },
   "outputs": [],
   "source": [
    "# !ls /usr/lib/jvm/java-11-openjdk-amd64"
   ]
  },
  {
   "cell_type": "code",
   "execution_count": 28,
   "id": "ff2863d3",
   "metadata": {
    "execution": {
     "iopub.execute_input": "2025-06-30T06:27:09.662559Z",
     "iopub.status.busy": "2025-06-30T06:27:09.661728Z",
     "iopub.status.idle": "2025-06-30T06:27:09.668990Z",
     "shell.execute_reply": "2025-06-30T06:27:09.667549Z"
    },
    "papermill": {
     "duration": 0.034673,
     "end_time": "2025-06-30T06:27:09.670729",
     "exception": false,
     "start_time": "2025-06-30T06:27:09.636056",
     "status": "completed"
    },
    "tags": []
   },
   "outputs": [],
   "source": [
    "# # !. /usr/spark/bin/load-spark-env.sh\n",
    "\n",
    "# # Typically in Debian/Ubuntu:\n",
    "# !export JAVA_HOME=$(dirname $(dirname $(readlink -f $(which java))))\n",
    "\n",
    "# # Or set it explicitly:\n",
    "# !export JAVA_HOME=/usr/lib/jvm/java-11-openjdk-amd64\n",
    "# from pyspark.sql import SparkSession\n",
    "\n",
    "# spark = SparkSession.builder \\\n",
    "#     .appName(\"dbt_clean\") \\\n",
    "#     .config(\"spark.hadoop.hive.metastore.schema.verification\", \"true\") \\\n",
    "#     .config(\"spark.sql.catalogImplementation\", \"hive\") \\\n",
    "#     .enableHiveSupport() \\\n",
    "#     .getOrCreate()\n",
    "\n",
    "# # spark = SparkSession.builder \\\n",
    "# #     .config(\"hive.metastore.uris\", \"thrift://dbt-hive-metastore:10000\") \\\n",
    "# #     .config(\"spark.sql.catalogImplementation\", \"hive\") \\\n",
    "# #     .enableHiveSupport() \\\n",
    "# #     .getOrCreate()\n",
    "\n",
    "# spark.sql(\"USE default\")  # Or your specific database\n",
    "# spark.sql(\"SHOW DATABASES\").show()\n",
    "# # spark.sql(\"select * from transactions\").show()\n",
    "# # # df.toPandas()"
   ]
  },
  {
   "cell_type": "code",
   "execution_count": 29,
   "id": "b054f4f4",
   "metadata": {
    "execution": {
     "iopub.execute_input": "2025-06-30T06:27:09.727194Z",
     "iopub.status.busy": "2025-06-30T06:27:09.726510Z",
     "iopub.status.idle": "2025-06-30T06:27:09.735579Z",
     "shell.execute_reply": "2025-06-30T06:27:09.732701Z"
    },
    "papermill": {
     "duration": 0.045195,
     "end_time": "2025-06-30T06:27:09.738868",
     "exception": false,
     "start_time": "2025-06-30T06:27:09.693673",
     "status": "completed"
    },
    "tags": []
   },
   "outputs": [],
   "source": [
    "# spark.sql(\"SHOW TABLES IN default\").show(truncate=False)"
   ]
  },
  {
   "cell_type": "code",
   "execution_count": 30,
   "id": "d2477376",
   "metadata": {
    "execution": {
     "iopub.execute_input": "2025-06-30T06:27:09.861164Z",
     "iopub.status.busy": "2025-06-30T06:27:09.859699Z",
     "iopub.status.idle": "2025-06-30T06:27:09.869849Z",
     "shell.execute_reply": "2025-06-30T06:27:09.867620Z"
    },
    "papermill": {
     "duration": 0.078566,
     "end_time": "2025-06-30T06:27:09.872805",
     "exception": false,
     "start_time": "2025-06-30T06:27:09.794239",
     "status": "completed"
    },
    "tags": []
   },
   "outputs": [],
   "source": [
    "# # Query metastore system tables\n",
    "# spark.sql(\"\"\"\n",
    "#   SELECT TBL_NAME, TBL_TYPE \n",
    "#   FROM default.TBLS \n",
    "#   JOIN default.DBS ON TBLS.DB_ID = DBS.DB_ID \n",
    "#   WHERE DBS.NAME = 'default'\n",
    "# \"\"\").show(truncate=False)"
   ]
  },
  {
   "cell_type": "code",
   "execution_count": 31,
   "id": "04c7f91a",
   "metadata": {
    "execution": {
     "iopub.execute_input": "2025-06-30T06:27:10.047259Z",
     "iopub.status.busy": "2025-06-30T06:27:10.044970Z",
     "iopub.status.idle": "2025-06-30T06:27:10.058355Z",
     "shell.execute_reply": "2025-06-30T06:27:10.055656Z"
    },
    "papermill": {
     "duration": 0.118119,
     "end_time": "2025-06-30T06:27:10.061891",
     "exception": false,
     "start_time": "2025-06-30T06:27:09.943772",
     "status": "completed"
    },
    "tags": []
   },
   "outputs": [],
   "source": [
    "# spark.conf.get(\"hive.metastore.uris\")  # Should return your URI"
   ]
  },
  {
   "cell_type": "code",
   "execution_count": 32,
   "id": "30ef3800",
   "metadata": {
    "execution": {
     "iopub.execute_input": "2025-06-30T06:27:10.166574Z",
     "iopub.status.busy": "2025-06-30T06:27:10.163870Z",
     "iopub.status.idle": "2025-06-30T06:27:10.179638Z",
     "shell.execute_reply": "2025-06-30T06:27:10.175953Z"
    },
    "papermill": {
     "duration": 0.084695,
     "end_time": "2025-06-30T06:27:10.186956",
     "exception": false,
     "start_time": "2025-06-30T06:27:10.102261",
     "status": "completed"
    },
    "tags": []
   },
   "outputs": [],
   "source": [
    "# spark.conf.get(\"spark.sql.catalogImplementation\")  # Should return \"hive\""
   ]
  },
  {
   "cell_type": "code",
   "execution_count": 33,
   "id": "91926ec3",
   "metadata": {
    "execution": {
     "iopub.execute_input": "2025-06-30T06:27:10.298185Z",
     "iopub.status.busy": "2025-06-30T06:27:10.296956Z",
     "iopub.status.idle": "2025-06-30T06:27:10.308380Z",
     "shell.execute_reply": "2025-06-30T06:27:10.306173Z"
    },
    "papermill": {
     "duration": 0.065297,
     "end_time": "2025-06-30T06:27:10.312182",
     "exception": false,
     "start_time": "2025-06-30T06:27:10.246885",
     "status": "completed"
    },
    "tags": []
   },
   "outputs": [],
   "source": [
    "# from pyspark.sql import SparkSession\n",
    "\n",
    "# spark.stop()\n",
    "# spark = SparkSession.builder \\\n",
    "#     .appName(\"DBTIntegration\") \\\n",
    "#     .config(\"hive.metastore.uris\", \"thrift://dbt-hive-metastore:9083\") \\\n",
    "#     .config(\"spark.sql.catalogImplementation\", \"hive\") \\\n",
    "#     .config(\"javax.jdo.option.ConnectionUserName\", \"dbt\") \\\n",
    "#     .config(\"javax.jdo.option.ConnectionPassword\", \"dbt\") \\\n",
    "#     .enableHiveSupport() \\\n",
    "#     .getOrCreate()\n",
    "# spark.sql(\"SHOW TABLES IN default\")"
   ]
  },
  {
   "cell_type": "code",
   "execution_count": 34,
   "id": "a34760ee",
   "metadata": {
    "execution": {
     "iopub.execute_input": "2025-06-30T06:27:10.445473Z",
     "iopub.status.busy": "2025-06-30T06:27:10.442558Z",
     "iopub.status.idle": "2025-06-30T06:27:10.455137Z",
     "shell.execute_reply": "2025-06-30T06:27:10.452347Z"
    },
    "papermill": {
     "duration": 0.086983,
     "end_time": "2025-06-30T06:27:10.458701",
     "exception": false,
     "start_time": "2025-06-30T06:27:10.371718",
     "status": "completed"
    },
    "tags": []
   },
   "outputs": [],
   "source": [
    "# from pyhive import hive\n",
    "# conn = hive.connect(host=spark_thrift_service_name, port=10000)\n",
    "# cursor = conn.cursor()\n",
    "# cursor.execute(\"SELECT * FROM default.transactions LIMIT 1\")\n",
    "# print(cursor.fetchall())"
   ]
  },
  {
   "cell_type": "markdown",
   "id": "ab2d2bd4",
   "metadata": {
    "papermill": {
     "duration": 0.050339,
     "end_time": "2025-06-30T06:27:10.553800",
     "exception": false,
     "start_time": "2025-06-30T06:27:10.503461",
     "status": "completed"
    },
    "tags": []
   },
   "source": [
    "### Test the built model (using the test model) "
   ]
  },
  {
   "cell_type": "markdown",
   "id": "0d6db6bf",
   "metadata": {
    "papermill": {
     "duration": 0.041398,
     "end_time": "2025-06-30T06:27:10.640533",
     "exception": false,
     "start_time": "2025-06-30T06:27:10.599135",
     "status": "completed"
    },
    "tags": []
   },
   "source": [
    "### dbt test"
   ]
  },
  {
   "cell_type": "code",
   "execution_count": 35,
   "id": "d95bbbdd",
   "metadata": {
    "execution": {
     "iopub.execute_input": "2025-06-30T06:27:10.739306Z",
     "iopub.status.busy": "2025-06-30T06:27:10.738461Z",
     "iopub.status.idle": "2025-06-30T06:27:20.009872Z",
     "shell.execute_reply": "2025-06-30T06:27:20.008048Z"
    },
    "papermill": {
     "duration": 9.329885,
     "end_time": "2025-06-30T06:27:20.012532",
     "exception": false,
     "start_time": "2025-06-30T06:27:10.682647",
     "status": "completed"
    },
    "tags": []
   },
   "outputs": [
    {
     "name": "stdout",
     "output_type": "stream",
     "text": [
      "\u001b[0m06:27:14  Running with dbt=1.10.2\r\n"
     ]
    },
    {
     "name": "stdout",
     "output_type": "stream",
     "text": [
      "\u001b[0m06:27:15  Registered adapter: spark=1.9.2\r\n"
     ]
    },
    {
     "name": "stdout",
     "output_type": "stream",
     "text": [
      "\u001b[0m06:27:15  Found 1 model, 1 test, 1 seed, 476 macros, 3 unit tests\r\n",
      "\u001b[0m06:27:15  \r\n",
      "\u001b[0m06:27:15  Concurrency: 1 threads (target='spark')\r\n",
      "\u001b[0m06:27:15  \r\n"
     ]
    },
    {
     "name": "stdout",
     "output_type": "stream",
     "text": [
      "\u001b[0m06:27:16  1 of 4 START test test_currency_coverage ....................................... [RUN]\r\n"
     ]
    },
    {
     "name": "stdout",
     "output_type": "stream",
     "text": [
      "\u001b[0m06:27:16  1 of 4 PASS test_currency_coverage ............................................. [\u001b[32mPASS\u001b[0m in 0.38s]\r\n"
     ]
    },
    {
     "name": "stdout",
     "output_type": "stream",
     "text": [
      "\u001b[0m06:27:16  2 of 4 START unit_test transactions::test_currency_sgd ......................... [RUN]\r\n"
     ]
    },
    {
     "name": "stdout",
     "output_type": "stream",
     "text": [
      "\u001b[0m06:27:17  2 of 4 PASS transactions::test_currency_sgd .................................... [\u001b[32mPASS\u001b[0m in 0.69s]\r\n",
      "\u001b[0m06:27:17  3 of 4 START unit_test transactions::test_currency_usd ......................... [RUN]\r\n"
     ]
    },
    {
     "name": "stdout",
     "output_type": "stream",
     "text": [
      "\u001b[0m06:27:17  3 of 4 PASS transactions::test_currency_usd .................................... [\u001b[32mPASS\u001b[0m in 0.39s]\r\n",
      "\u001b[0m06:27:17  4 of 4 START unit_test transactions::test_inactive ............................. [RUN]\r\n"
     ]
    },
    {
     "name": "stdout",
     "output_type": "stream",
     "text": [
      "\u001b[0m06:27:18  4 of 4 PASS transactions::test_inactive ........................................ [\u001b[32mPASS\u001b[0m in 0.48s]\r\n"
     ]
    },
    {
     "name": "stdout",
     "output_type": "stream",
     "text": [
      "\u001b[0m06:27:18  \r\n",
      "\u001b[0m06:27:18  Finished running 1 test, 3 unit tests in 0 hours 0 minutes and 2.25 seconds (2.25s).\r\n"
     ]
    },
    {
     "name": "stdout",
     "output_type": "stream",
     "text": [
      "\u001b[0m06:27:18  \r\n",
      "\u001b[0m06:27:18  \u001b[32mCompleted successfully\u001b[0m\r\n",
      "\u001b[0m06:27:18  \r\n",
      "\u001b[0m06:27:18  Done. PASS=4 WARN=0 ERROR=0 SKIP=0 NO-OP=0 TOTAL=4\r\n"
     ]
    }
   ],
   "source": [
    "!dbt test --log-level info"
   ]
  },
  {
   "cell_type": "code",
   "execution_count": 36,
   "id": "7cff9e94",
   "metadata": {
    "execution": {
     "iopub.execute_input": "2025-06-30T06:27:20.067796Z",
     "iopub.status.busy": "2025-06-30T06:27:20.066906Z",
     "iopub.status.idle": "2025-06-30T06:27:20.074194Z",
     "shell.execute_reply": "2025-06-30T06:27:20.072474Z"
    },
    "papermill": {
     "duration": 0.037517,
     "end_time": "2025-06-30T06:27:20.077417",
     "exception": false,
     "start_time": "2025-06-30T06:27:20.039900",
     "status": "completed"
    },
    "tags": []
   },
   "outputs": [],
   "source": [
    "# !cat /home/vin/01-prj/stripe/sql-formal-verification/formal_verification_prj_name/tests/unit/test_transactions.yml"
   ]
  },
  {
   "cell_type": "code",
   "execution_count": 37,
   "id": "60c204c0",
   "metadata": {
    "execution": {
     "iopub.execute_input": "2025-06-30T06:27:20.189389Z",
     "iopub.status.busy": "2025-06-30T06:27:20.188395Z",
     "iopub.status.idle": "2025-06-30T06:27:20.199607Z",
     "shell.execute_reply": "2025-06-30T06:27:20.196676Z"
    },
    "papermill": {
     "duration": 0.07112,
     "end_time": "2025-06-30T06:27:20.203612",
     "exception": false,
     "start_time": "2025-06-30T06:27:20.132492",
     "status": "completed"
    },
    "tags": []
   },
   "outputs": [],
   "source": [
    "# %%bash\n",
    "# cd /usr/app/dbt\n",
    "# dbt compile --profiles-dir /usr/app/dbt  --project-dir /usr/app/dbt/dbt_spark_demo_prj\n",
    "# # dbt run-operation drop_table --args '{\"table_name\": \"default.transactions\"}'\n",
    "# dbt run-operation drop_view --args '{\"view_name\": \"default.my_first_dbt_model\"}' --profiles-dir /usr/app/dbt  --project-dir /usr/app/dbt/dbt_spark_demo_prj\n",
    "# dbt run-operation drop_view --args '{\"view_name\": \"default.my_second_dbt_model\"}' --profiles-dir /usr/app/dbt  --project-dir /usr/app/dbt/dbt_spark_demo_prj"
   ]
  },
  {
   "cell_type": "markdown",
   "id": "c5dcb3be",
   "metadata": {
    "papermill": {
     "duration": 0.06499,
     "end_time": "2025-06-30T06:27:20.327262",
     "exception": false,
     "start_time": "2025-06-30T06:27:20.262272",
     "status": "completed"
    },
    "tags": []
   },
   "source": [
    "<!-- # Todo\n",
    "## Audit compliance \n",
    "### time tracing with time-stamping\n",
    "1. Add timestamp for loaded data using dbt model\n",
    "```jinja\n",
    "SELECT\n",
    "    *,\n",
    "    '{{ run_started_at }}'::timestamp AS added_at\n",
    "FROM {{ ref('my_seed_table') }}\n",
    "```\n",
    "### File tracing with source and targets file path, tablename -->\n"
   ]
  },
  {
   "cell_type": "markdown",
   "id": "5c25bb33",
   "metadata": {
    "papermill": {
     "duration": 0.070776,
     "end_time": "2025-06-30T06:27:20.464495",
     "exception": false,
     "start_time": "2025-06-30T06:27:20.393719",
     "status": "completed"
    },
    "tags": []
   },
   "source": [
    "# End of notebook"
   ]
  }
 ],
 "metadata": {
  "kernelspec": {
   "display_name": "venv",
   "language": "python",
   "name": "python3"
  },
  "language_info": {
   "codemirror_mode": {
    "name": "ipython",
    "version": 3
   },
   "file_extension": ".py",
   "mimetype": "text/x-python",
   "name": "python",
   "nbconvert_exporter": "python",
   "pygments_lexer": "ipython3",
   "version": "3.11.2"
  },
  "papermill": {
   "default_parameters": {},
   "duration": 93.379573,
   "end_time": "2025-06-30T06:27:21.485813",
   "environment_variables": {},
   "exception": null,
   "input_path": "/usr/app/demo/dbt-spark-demo.ipynb",
   "output_path": "/usr/app/demo/dbt-spark-demo.ipynb",
   "parameters": {},
   "start_time": "2025-06-30T06:25:48.106240",
   "version": "2.6.0"
  }
 },
 "nbformat": 4,
 "nbformat_minor": 5
}
