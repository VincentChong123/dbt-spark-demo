{
 "cells": [
  {
   "cell_type": "raw",
   "id": "b257ecab",
   "metadata": {
    "papermill": {
     "duration": 0.020364,
     "end_time": "2025-06-30T07:47:06.222699",
     "exception": false,
     "start_time": "2025-06-30T07:47:06.202335",
     "status": "completed"
    },
    "tags": [],
    "vscode": {
     "languageId": "raw"
    }
   },
   "source": [
    "---\n",
    "title: \"Demo of testing ETL pipeline using DBT and spark\"\n",
    "date: last-modified\n",
    "format:\n",
    "  html:\n",
    "    toc: true\n",
    "    toc-depth: 4\n",
    "    toc-location: left    \n",
    "    code-fold: true\n",
    "    css: styles.css  \n",
    "    number-sections: true       \n",
    "    other-links:\n",
    "      - text: github.com project repo\n",
    "        href: https://github.com/VincentChong123/dbt-spark-demo.git\n",
    "---"
   ]
  },
  {
   "cell_type": "markdown",
   "id": "5888a439",
   "metadata": {
    "papermill": {
     "duration": 0.012679,
     "end_time": "2025-06-30T07:47:06.249673",
     "exception": false,
     "start_time": "2025-06-30T07:47:06.236994",
     "status": "completed"
    },
    "tags": [],
    "vscode": {
     "languageId": "raw"
    }
   },
   "source": [
    "# Introduction\n",
    "This is a demo of dbt work flow using an data ingestion as an example. In finance data ETL (Extract, Transform, Load)\n",
    "important to have sanitity check of input data, to avoid the ingesting invalid data...."
   ]
  },
  {
   "cell_type": "code",
   "execution_count": 1,
   "id": "e897f7e7",
   "metadata": {
    "execution": {
     "iopub.execute_input": "2025-06-30T07:47:06.277278Z",
     "iopub.status.busy": "2025-06-30T07:47:06.276761Z",
     "iopub.status.idle": "2025-06-30T07:47:06.284137Z",
     "shell.execute_reply": "2025-06-30T07:47:06.282449Z"
    },
    "papermill": {
     "duration": 0.024074,
     "end_time": "2025-06-30T07:47:06.286455",
     "exception": false,
     "start_time": "2025-06-30T07:47:06.262381",
     "status": "completed"
    },
    "tags": [
     "skip"
    ]
   },
   "outputs": [],
   "source": [
    "# ```{mermaid}\n",
    "# flowchart LR\n",
    "#    empty[\".\"] --> DBT[\"Container: dbt-core \n",
    "#        plugin: dbt-\n",
    "#   DBT-pyspark[Hive]\"] --> |Generate SQL with 'dbt seed', 'dbt compile'| T(Container: Spark-Thrift)\n",
    "#   T -->|Query using the generated SQL| Storage[(Container: Postgre Hive metadata store)]\n",
    "\n",
    "# ```"
   ]
  },
  {
   "cell_type": "code",
   "execution_count": 2,
   "id": "ae9c7095",
   "metadata": {
    "execution": {
     "iopub.execute_input": "2025-06-30T07:47:06.320919Z",
     "iopub.status.busy": "2025-06-30T07:47:06.320394Z",
     "iopub.status.idle": "2025-06-30T07:47:07.028012Z",
     "shell.execute_reply": "2025-06-30T07:47:07.026278Z"
    },
    "papermill": {
     "duration": 0.728364,
     "end_time": "2025-06-30T07:47:07.030284",
     "exception": false,
     "start_time": "2025-06-30T07:47:06.301920",
     "status": "completed"
    },
    "tags": []
   },
   "outputs": [
    {
     "data": {
      "text/html": [
       "<div>\n",
       "<style scoped>\n",
       "    .dataframe tbody tr th:only-of-type {\n",
       "        vertical-align: middle;\n",
       "    }\n",
       "\n",
       "    .dataframe tbody tr th {\n",
       "        vertical-align: top;\n",
       "    }\n",
       "\n",
       "    .dataframe thead th {\n",
       "        text-align: right;\n",
       "    }\n",
       "</style>\n",
       "<table border=\"1\" class=\"dataframe\">\n",
       "  <thead>\n",
       "    <tr style=\"text-align: right;\">\n",
       "      <th></th>\n",
       "      <th>id</th>\n",
       "      <th>amount</th>\n",
       "      <th>currency</th>\n",
       "      <th>status</th>\n",
       "    </tr>\n",
       "  </thead>\n",
       "  <tbody>\n",
       "    <tr>\n",
       "      <th>0</th>\n",
       "      <td>1</td>\n",
       "      <td>100</td>\n",
       "      <td>USD</td>\n",
       "      <td>ACTIVE</td>\n",
       "    </tr>\n",
       "    <tr>\n",
       "      <th>1</th>\n",
       "      <td>2</td>\n",
       "      <td>200</td>\n",
       "      <td>SGD</td>\n",
       "      <td>ACTIVE</td>\n",
       "    </tr>\n",
       "    <tr>\n",
       "      <th>2</th>\n",
       "      <td>3</td>\n",
       "      <td>150</td>\n",
       "      <td>EUR</td>\n",
       "      <td>ACTIVE</td>\n",
       "    </tr>\n",
       "    <tr>\n",
       "      <th>3</th>\n",
       "      <td>4</td>\n",
       "      <td>120</td>\n",
       "      <td>USD</td>\n",
       "      <td>INACTIVE</td>\n",
       "    </tr>\n",
       "    <tr>\n",
       "      <th>4</th>\n",
       "      <td>5</td>\n",
       "      <td>180</td>\n",
       "      <td>SGD</td>\n",
       "      <td>INACTIVE</td>\n",
       "    </tr>\n",
       "    <tr>\n",
       "      <th>5</th>\n",
       "      <td>6</td>\n",
       "      <td>300</td>\n",
       "      <td>JPY</td>\n",
       "      <td>ACTIVE</td>\n",
       "    </tr>\n",
       "  </tbody>\n",
       "</table>\n",
       "</div>"
      ],
      "text/plain": [
       "   id  amount currency    status\n",
       "0   1     100      USD    ACTIVE\n",
       "1   2     200      SGD    ACTIVE\n",
       "2   3     150      EUR    ACTIVE\n",
       "3   4     120      USD  INACTIVE\n",
       "4   5     180      SGD  INACTIVE\n",
       "5   6     300      JPY    ACTIVE"
      ]
     },
     "execution_count": 2,
     "metadata": {},
     "output_type": "execute_result"
    }
   ],
   "source": [
    "import pandas as pd\n",
    "pd.read_csv(\"/usr/app/demo/dbt_spark_demo_prj/seeds/transactions/raw__transactions.csv\")\n"
   ]
  },
  {
   "cell_type": "markdown",
   "id": "d8640c45",
   "metadata": {
    "papermill": {
     "duration": 0.016787,
     "end_time": "2025-06-30T07:47:07.062761",
     "exception": false,
     "start_time": "2025-06-30T07:47:07.045974",
     "status": "completed"
    },
    "tags": [],
    "vscode": {
     "languageId": "raw"
    }
   },
   "source": [
    "## Project file structure"
   ]
  },
  {
   "cell_type": "code",
   "execution_count": 3,
   "id": "b28d4077",
   "metadata": {
    "execution": {
     "iopub.execute_input": "2025-06-30T07:47:07.106247Z",
     "iopub.status.busy": "2025-06-30T07:47:07.105602Z",
     "iopub.status.idle": "2025-06-30T07:47:07.838389Z",
     "shell.execute_reply": "2025-06-30T07:47:07.836607Z"
    },
    "papermill": {
     "duration": 0.761481,
     "end_time": "2025-06-30T07:47:07.840855",
     "exception": false,
     "start_time": "2025-06-30T07:47:07.079374",
     "status": "completed"
    },
    "tags": []
   },
   "outputs": [
    {
     "name": "stdout",
     "output_type": "stream",
     "text": [
      "\u001b[01;34m/usr/app\u001b[00m\r\n",
      "├── \u001b[01;34mdbt\u001b[00m\r\n",
      "│   ├── dbt.Dockerfile\r\n",
      "│   ├── \u001b[01;34mdbt_spark_demo_prj\u001b[00m\r\n",
      "│   ├── docker-compose.yml\r\n",
      "│   └── requirements.txt\r\n",
      "├── \u001b[01;34mdbt-spark\u001b[00m\r\n",
      "│   ├── \u001b[01;34mdagger\u001b[00m\r\n",
      "│   ├── \u001b[01;34mdbt\u001b[00m\r\n",
      "│   ├── \u001b[01;34mdocker\u001b[00m\r\n",
      "│   ├── docker-compose.yml\r\n",
      "│   ├── \u001b[01;34mscripts\u001b[00m\r\n",
      "│   ├── test.env.example\r\n",
      "│   └── \u001b[01;34mtests\u001b[00m\r\n",
      "├── \u001b[01;34mdemo\u001b[00m\r\n",
      "│   ├── dbt-spark-demo.html\r\n",
      "│   ├── dbt-spark-demo.ipynb\r\n",
      "│   ├── \u001b[01;34mdbt-spark-demo_files\u001b[00m\r\n",
      "│   ├── \u001b[01;34mdbt_spark_demo_prj\u001b[00m\r\n",
      "│   ├── generate-documentation.sh\r\n",
      "│   ├── profiles.yml\r\n",
      "│   └── \u001b[01;34mresults\u001b[00m\r\n",
      "├── index.html\r\n",
      "└── run-demo.sh\r\n",
      "\r\n"
     ]
    }
   ],
   "source": [
    "!tree -L 2 --sort=\"name\" /usr/app | grep -v \".*\\.toml$\" | grep -v \".*\\.md$\" | grep -v \".*files$\""
   ]
  },
  {
   "cell_type": "markdown",
   "id": "be13bae7",
   "metadata": {
    "papermill": {
     "duration": 0.01371,
     "end_time": "2025-06-30T07:47:07.869226",
     "exception": false,
     "start_time": "2025-06-30T07:47:07.855516",
     "status": "completed"
    },
    "tags": []
   },
   "source": [
    "# Environment setup"
   ]
  },
  {
   "cell_type": "markdown",
   "id": "c0152385",
   "metadata": {
    "papermill": {
     "duration": 0.013068,
     "end_time": "2025-06-30T07:47:07.895719",
     "exception": false,
     "start_time": "2025-06-30T07:47:07.882651",
     "status": "completed"
    },
    "tags": [],
    "vscode": {
     "languageId": "raw"
    }
   },
   "source": [
    "## Docker\n",
    "### Shared network for docker containers\n",
    "```bash\n",
    "source ./docker-common.sh\n",
    "```"
   ]
  },
  {
   "cell_type": "markdown",
   "id": "0de346d1",
   "metadata": {
    "papermill": {
     "duration": 0.013107,
     "end_time": "2025-06-30T07:47:07.922065",
     "exception": false,
     "start_time": "2025-06-30T07:47:07.908958",
     "status": "completed"
    },
    "tags": [],
    "vscode": {
     "languageId": "raw"
    }
   },
   "source": [
    "## Install jupyter notebook for running this demo in notebook \n",
    "This notebook is executed using jupyer-notebook kernel (http://127.0.0.1:8888) of the loaded custom-dbt container. The container is loaded using command below\n",
    "```bash\n",
    "jupyter notebook --NotebookApp.token='' --NotebookApp.password='' --NotebookApp.disable_check_xsrf=True --allow-root --ip=0.0.0.0 --port=8888 --no-browser\n",
    "```\n",
    "use allow-root for demo purpose only, not for production due to cyber security\n"
   ]
  },
  {
   "cell_type": "code",
   "execution_count": 4,
   "id": "8a58c3eb",
   "metadata": {
    "execution": {
     "iopub.execute_input": "2025-06-30T07:47:07.953845Z",
     "iopub.status.busy": "2025-06-30T07:47:07.952986Z",
     "iopub.status.idle": "2025-06-30T07:47:07.974262Z",
     "shell.execute_reply": "2025-06-30T07:47:07.972803Z"
    },
    "papermill": {
     "duration": 0.041009,
     "end_time": "2025-06-30T07:47:07.976296",
     "exception": false,
     "start_time": "2025-06-30T07:47:07.935287",
     "status": "completed"
    },
    "tags": []
   },
   "outputs": [
    {
     "name": "stdout",
     "output_type": "stream",
     "text": [
      "Mon Jun 30 15:47:07 +08 2025\n"
     ]
    },
    {
     "name": "stdout",
     "output_type": "stream",
     "text": [
      "/usr/local/bin/python\n"
     ]
    },
    {
     "name": "stdout",
     "output_type": "stream",
     "text": [
      "/usr/app/dbt\n"
     ]
    }
   ],
   "source": [
    "%%bash\n",
    "export TZ='Asia/Singapore'\n",
    "date\n",
    "which python\n",
    "pwd"
   ]
  },
  {
   "cell_type": "markdown",
   "id": "b1e7c606",
   "metadata": {
    "papermill": {
     "duration": 0.015148,
     "end_time": "2025-06-30T07:47:08.005783",
     "exception": false,
     "start_time": "2025-06-30T07:47:07.990635",
     "status": "completed"
    },
    "tags": []
   },
   "source": [
    "### Connection to read table in Hive meta-data store"
   ]
  },
  {
   "cell_type": "markdown",
   "id": "d6b175ae",
   "metadata": {
    "papermill": {
     "duration": 0.019289,
     "end_time": "2025-06-30T07:47:08.043389",
     "exception": false,
     "start_time": "2025-06-30T07:47:08.024100",
     "status": "completed"
    },
    "tags": []
   },
   "source": [
    "## Variables"
   ]
  },
  {
   "cell_type": "code",
   "execution_count": 5,
   "id": "f86badf3",
   "metadata": {
    "execution": {
     "iopub.execute_input": "2025-06-30T07:47:08.072867Z",
     "iopub.status.busy": "2025-06-30T07:47:08.072454Z",
     "iopub.status.idle": "2025-06-30T07:47:09.915855Z",
     "shell.execute_reply": "2025-06-30T07:47:09.914190Z"
    },
    "papermill": {
     "duration": 1.860631,
     "end_time": "2025-06-30T07:47:09.918084",
     "exception": false,
     "start_time": "2025-06-30T07:47:08.057453",
     "status": "completed"
    },
    "tags": []
   },
   "outputs": [
    {
     "name": "stdout",
     "output_type": "stream",
     "text": [
      "/usr/app/dbt\r\n"
     ]
    },
    {
     "name": "stdout",
     "output_type": "stream",
     "text": [
      "/usr/app/dbt\r\n"
     ]
    },
    {
     "name": "stdout",
     "output_type": "stream",
     "text": [
      "dbt-spark3-thrift\n",
      "/usr/app/dbt/dbt_spark_demo_prj\n",
      "dbt_spark_demo_prj\n"
     ]
    }
   ],
   "source": [
    "from dotenv import load_dotenv\n",
    "import os\n",
    "!pwd\n",
    "\n",
    "!cd ../\n",
    "!pwd\n",
    "\n",
    "load_dotenv()\n",
    "spark_thrift_service_name=os.getenv('SPARK_CONTAINER_SERVICE_NAME')\n",
    "dbt_project_dir=os.getenv('DBT_PROJECT_DIR')\n",
    "dbt_project_name=os.getenv('DBT_PROJECT_NAME')\n",
    "print(spark_thrift_service_name)\n",
    "print(dbt_project_dir)\n",
    "print(dbt_project_name)"
   ]
  },
  {
   "cell_type": "markdown",
   "id": "aec4f6d3",
   "metadata": {
    "papermill": {
     "duration": 0.014198,
     "end_time": "2025-06-30T07:47:09.946503",
     "exception": false,
     "start_time": "2025-06-30T07:47:09.932305",
     "status": "completed"
    },
    "tags": []
   },
   "source": [
    "# Start demo"
   ]
  },
  {
   "cell_type": "code",
   "execution_count": 6,
   "id": "34c662e5",
   "metadata": {
    "execution": {
     "iopub.execute_input": "2025-06-30T07:47:09.976996Z",
     "iopub.status.busy": "2025-06-30T07:47:09.976166Z",
     "iopub.status.idle": "2025-06-30T07:47:11.182507Z",
     "shell.execute_reply": "2025-06-30T07:47:11.180631Z"
    },
    "papermill": {
     "duration": 1.224944,
     "end_time": "2025-06-30T07:47:11.184965",
     "exception": false,
     "start_time": "2025-06-30T07:47:09.960021",
     "status": "completed"
    },
    "tags": []
   },
   "outputs": [],
   "source": [
    "filepath=\"/usr/app/demo/results/test_start.txt\"\n",
    "!echo start test at > $filepath \n",
    "!export TZ='Asia/Singapore'; date >> $filepath"
   ]
  },
  {
   "cell_type": "markdown",
   "id": "e7f0f26b",
   "metadata": {
    "papermill": {
     "duration": 0.013902,
     "end_time": "2025-06-30T07:47:11.213148",
     "exception": false,
     "start_time": "2025-06-30T07:47:11.199246",
     "status": "completed"
    },
    "tags": []
   },
   "source": [
    "## Helper codes"
   ]
  },
  {
   "cell_type": "code",
   "execution_count": 7,
   "id": "b9f4df75",
   "metadata": {
    "execution": {
     "iopub.execute_input": "2025-06-30T07:47:11.242816Z",
     "iopub.status.busy": "2025-06-30T07:47:11.242229Z",
     "iopub.status.idle": "2025-06-30T07:47:11.652669Z",
     "shell.execute_reply": "2025-06-30T07:47:11.651187Z"
    },
    "papermill": {
     "duration": 0.428186,
     "end_time": "2025-06-30T07:47:11.655035",
     "exception": false,
     "start_time": "2025-06-30T07:47:11.226849",
     "status": "completed"
    },
    "tags": []
   },
   "outputs": [
    {
     "name": "stdout",
     "output_type": "stream",
     "text": [
      "\n"
     ]
    },
    {
     "data": {
      "text/html": [
       "<div>\n",
       "<style scoped>\n",
       "    .dataframe tbody tr th:only-of-type {\n",
       "        vertical-align: middle;\n",
       "    }\n",
       "\n",
       "    .dataframe tbody tr th {\n",
       "        vertical-align: top;\n",
       "    }\n",
       "\n",
       "    .dataframe thead th {\n",
       "        text-align: right;\n",
       "    }\n",
       "</style>\n",
       "<table border=\"1\" class=\"dataframe\">\n",
       "  <thead>\n",
       "    <tr style=\"text-align: right;\">\n",
       "      <th></th>\n",
       "      <th>namespace</th>\n",
       "      <th>tableName</th>\n",
       "      <th>isTemporary</th>\n",
       "    </tr>\n",
       "  </thead>\n",
       "  <tbody>\n",
       "    <tr>\n",
       "      <th>0</th>\n",
       "      <td>default</td>\n",
       "      <td>raw__transactions</td>\n",
       "      <td>False</td>\n",
       "    </tr>\n",
       "    <tr>\n",
       "      <th>1</th>\n",
       "      <td>default</td>\n",
       "      <td>transactions</td>\n",
       "      <td>False</td>\n",
       "    </tr>\n",
       "  </tbody>\n",
       "</table>\n",
       "</div>"
      ],
      "text/plain": [
       "  namespace          tableName  isTemporary\n",
       "0   default  raw__transactions        False\n",
       "1   default       transactions        False"
      ]
     },
     "metadata": {},
     "output_type": "display_data"
    },
    {
     "name": "stdout",
     "output_type": "stream",
     "text": [
      "------------\n"
     ]
    }
   ],
   "source": [
    "from pyhive import hive\n",
    "import pandas as pd\n",
    "from sqlalchemy.engine import create_engine\n",
    "\n",
    "def check_table(host=spark_thrift_service_name, message_to_be_printed=\"\"):\n",
    "    # with hive.Connection(host=spark_thrift_service_name, port=10000, \n",
    "    #                     #    username='', \n",
    "    #                     database='default') as conn:\n",
    "\n",
    "    #     # Query all tables in the default database\n",
    "    #     df = pd.read_sql(\"SHOW TABLES\", conn)\n",
    "\n",
    "    #     # Display tables\n",
    "    #     display(df)\n",
    "    print(message_to_be_printed)\n",
    "    engine = create_engine(f'hive://{spark_thrift_service_name}:10000/default')\n",
    "    df = pd.read_sql(\"SHOW TABLES;\", engine)\n",
    "    # display(df)\n",
    "    display(df)\n",
    "\n",
    "def show_table_details(table_name, database_name='default',\n",
    "                        # host=spark_thrift_service_name,\n",
    "                        port=10000):\n",
    "    # sqlAlchemy api fail here due to \"sqlAlchemy relection\": TODO investigate root cause\n",
    "    # engine = create_engine(f'hive://{spark_thrift_service_name}:10000/default')\n",
    "    # df = pd.read_sql(f\"select * from {table_name} limit 10\", engine)\n",
    "\n",
    "    with hive.Connection(host=spark_thrift_service_name, port=port, database=database_name) as conn:\n",
    "        df = pd.read_sql(f\"select * from {database_name}.{table_name}\", conn)\n",
    "\n",
    "        display(df)\n",
    "\n",
    "    \n",
    "check_table()\n",
    "print(\"------------\")\n",
    "# show_table_details(\"transactions\")\n"
   ]
  },
  {
   "cell_type": "markdown",
   "id": "04ca1b42",
   "metadata": {
    "papermill": {
     "duration": 0.020756,
     "end_time": "2025-06-30T07:47:11.690961",
     "exception": false,
     "start_time": "2025-06-30T07:47:11.670205",
     "status": "completed"
    },
    "tags": []
   },
   "source": [
    "## DBT "
   ]
  },
  {
   "cell_type": "code",
   "execution_count": 8,
   "id": "fdf3c236",
   "metadata": {
    "execution": {
     "iopub.execute_input": "2025-06-30T07:47:11.722127Z",
     "iopub.status.busy": "2025-06-30T07:47:11.721269Z",
     "iopub.status.idle": "2025-06-30T07:47:16.090663Z",
     "shell.execute_reply": "2025-06-30T07:47:16.088635Z"
    },
    "papermill": {
     "duration": 4.387631,
     "end_time": "2025-06-30T07:47:16.092941",
     "exception": false,
     "start_time": "2025-06-30T07:47:11.705310",
     "status": "completed"
    },
    "tags": []
   },
   "outputs": [
    {
     "name": "stdout",
     "output_type": "stream",
     "text": [
      "Core:\r\n",
      "  - installed: 1.10.2\r\n",
      "  - latest:    1.10.2 - \u001b[32mUp to date!\u001b[0m\r\n",
      "\r\n",
      "Plugins:\r\n",
      "  - spark: 1.9.2 - \u001b[32mUp to date!\u001b[0m\r\n",
      "\r\n",
      "\r\n"
     ]
    }
   ],
   "source": [
    "!dbt --version"
   ]
  },
  {
   "cell_type": "markdown",
   "id": "bfe04595",
   "metadata": {
    "papermill": {
     "duration": 0.014301,
     "end_time": "2025-06-30T07:47:16.156198",
     "exception": false,
     "start_time": "2025-06-30T07:47:16.141897",
     "status": "completed"
    },
    "tags": []
   },
   "source": [
    "## Verify DBT setup"
   ]
  },
  {
   "cell_type": "markdown",
   "id": "ee90d22f",
   "metadata": {
    "papermill": {
     "duration": 0.014322,
     "end_time": "2025-06-30T07:47:16.185006",
     "exception": false,
     "start_time": "2025-06-30T07:47:16.170684",
     "status": "completed"
    },
    "tags": []
   },
   "source": [
    "### profiles.yml\n",
    "```yml\n",
    "formal_verification_prj_name:\n",
    "  outputs:\n",
    "    spark:\n",
    "      type: spark\n",
    "      method: thrift\n",
    "      host: dbt-spark3-thrift\n",
    "      schema: default\n",
    "      connect_timeout: 30\n",
    "      authentication: NONE\n",
    "  target: spark\n",
    "\n",
    "```"
   ]
  },
  {
   "cell_type": "code",
   "execution_count": 9,
   "id": "70bfe66e",
   "metadata": {
    "execution": {
     "iopub.execute_input": "2025-06-30T07:47:16.215441Z",
     "iopub.status.busy": "2025-06-30T07:47:16.214616Z",
     "iopub.status.idle": "2025-06-30T07:47:16.827470Z",
     "shell.execute_reply": "2025-06-30T07:47:16.825630Z"
    },
    "papermill": {
     "duration": 0.630763,
     "end_time": "2025-06-30T07:47:16.829759",
     "exception": false,
     "start_time": "2025-06-30T07:47:16.198996",
     "status": "completed"
    },
    "tags": []
   },
   "outputs": [
    {
     "name": "stdout",
     "output_type": "stream",
     "text": [
      "send_anonymous_usage_stats: false\r\n",
      "\r\n",
      "dbt_spark_demo_prj:\r\n",
      "  outputs:\r\n",
      "    spark:\r\n",
      "      type: spark\r\n",
      "      method: thrift\r\n",
      "      host: dbt-spark3-thrift\r\n",
      "      port: 10000\r\n",
      "      schema: default\r\n",
      "      connect_timeout: 30\r\n",
      "      authentication: NONE\r\n",
      "  target: spark\r\n"
     ]
    }
   ],
   "source": [
    "!cat ~/.dbt/profiles.yml"
   ]
  },
  {
   "cell_type": "markdown",
   "id": "b7c21787",
   "metadata": {
    "papermill": {
     "duration": 0.015316,
     "end_time": "2025-06-30T07:47:16.860230",
     "exception": false,
     "start_time": "2025-06-30T07:47:16.844914",
     "status": "completed"
    },
    "tags": []
   },
   "source": [
    "### dbt_project.yml\n",
    "```yml\n",
    "name: 'formal_verification_prj_name'\n",
    "version: '1.0.0'\n",
    "\n",
    "# This setting configures which \"profile\" dbt uses for this project.\n",
    "profile: 'formal_verification_prj_name'\n",
    "\n",
    "# These configurations specify where dbt should look for different types of files.\n",
    "# The `model-paths` config, for example, states that models in this project can be\n",
    "# found in the \"models/\" directory. You probably won't need to change these!\n",
    "model-paths: [\"models\"]\n",
    "analysis-paths: [\"analyses\"]\n",
    "test-paths: [\"tests\"]\n",
    "seed-paths: [\"seeds\"]\n",
    "macro-paths: [\"macros\"]\n",
    "snapshot-paths: [\"snapshots\"]\n",
    "\n",
    "clean-targets:         # directories to be removed by `dbt clean`\n",
    "  - \"target\"\n",
    "  - \"dbt_packages\"\n",
    "\n",
    "models:\n",
    "  formal_verification_prj_name:\n",
    "    # +write_json: false\n",
    "    +materialized: incremental\n",
    "    +file_format: parquet    \n",
    "\n",
    "```"
   ]
  },
  {
   "cell_type": "code",
   "execution_count": 10,
   "id": "089c0b95",
   "metadata": {
    "execution": {
     "iopub.execute_input": "2025-06-30T07:47:16.893323Z",
     "iopub.status.busy": "2025-06-30T07:47:16.892519Z",
     "iopub.status.idle": "2025-06-30T07:47:17.499817Z",
     "shell.execute_reply": "2025-06-30T07:47:17.498012Z"
    },
    "papermill": {
     "duration": 0.62599,
     "end_time": "2025-06-30T07:47:17.501986",
     "exception": false,
     "start_time": "2025-06-30T07:47:16.875996",
     "status": "completed"
    },
    "tags": []
   },
   "outputs": [
    {
     "name": "stdout",
     "output_type": "stream",
     "text": [
      "\r\n",
      "# Name your project! Project names should contain only lowercase characters\r\n",
      "# and underscores. A good package name should reflect your organization's\r\n",
      "# name or the intended use of these models\r\n",
      "name: 'dbt_spark_demo_prj'\r\n",
      "version: '1.0.0'\r\n",
      "\r\n",
      "# This setting configures which \"profile\" dbt uses for this project.\r\n",
      "profile: 'dbt_spark_demo_prj'\r\n",
      "\r\n",
      "# These configurations specify where dbt should look for different types of files.\r\n",
      "# The `model-paths` config, for example, states that models in this project can be\r\n",
      "# found in the \"models/\" directory. You probably won't need to change these!\r\n",
      "model-paths: [\"models\"]\r\n",
      "analysis-paths: [\"analyses\"]\r\n",
      "test-paths: [\"tests\"]\r\n",
      "seed-paths: [\"seeds\"]\r\n",
      "macro-paths: [\"macros\"]\r\n",
      "snapshot-paths: [\"snapshots\"]\r\n",
      "\r\n",
      "clean-targets:         # directories to be removed by `dbt clean`\r\n",
      "  - \"target\"\r\n",
      "  - \"dbt_packages\"\r\n",
      "\r\n",
      "\r\n",
      "# Configuring models\r\n",
      "# Full documentation: https://docs.getdbt.com/docs/configuring-models\r\n",
      "\r\n",
      "# In this example config, we tell dbt to build all models in the example/\r\n",
      "# directory as views. These settings can be overridden in the individual model\r\n",
      "# files using the `{{ config(...) }}` macro.\r\n",
      "models:\r\n",
      "  dbt_spark_demo_prj:\r\n",
      "    +materialized: incremental\r\n",
      "    +file_format: parquet\r\n",
      "  # example:\r\n",
      "  #   +enabled: false\r\n",
      "    \r\n"
     ]
    }
   ],
   "source": [
    "!cat /usr/app/dbt/dbt_spark_demo_prj/dbt_project.yml"
   ]
  },
  {
   "cell_type": "markdown",
   "id": "5fa3d336",
   "metadata": {
    "papermill": {
     "duration": 0.016128,
     "end_time": "2025-06-30T07:47:17.533417",
     "exception": false,
     "start_time": "2025-06-30T07:47:17.517289",
     "status": "completed"
    },
    "tags": []
   },
   "source": [
    "### dbt debug"
   ]
  },
  {
   "cell_type": "code",
   "execution_count": 11,
   "id": "463ce0e5",
   "metadata": {
    "execution": {
     "iopub.execute_input": "2025-06-30T07:47:17.566318Z",
     "iopub.status.busy": "2025-06-30T07:47:17.565500Z",
     "iopub.status.idle": "2025-06-30T07:47:23.214042Z",
     "shell.execute_reply": "2025-06-30T07:47:23.211752Z"
    },
    "papermill": {
     "duration": 5.668148,
     "end_time": "2025-06-30T07:47:23.216926",
     "exception": false,
     "start_time": "2025-06-30T07:47:17.548778",
     "status": "completed"
    },
    "tags": []
   },
   "outputs": [
    {
     "name": "stdout",
     "output_type": "stream",
     "text": [
      "\u001b[0m07:47:20  Running with dbt=1.10.2\r\n",
      "\u001b[0m07:47:20  dbt version: 1.10.2\r\n",
      "\u001b[0m07:47:20  python version: 3.11.2\r\n",
      "\u001b[0m07:47:20  python path: /usr/local/bin/python3\r\n",
      "\u001b[0m07:47:20  os info: Linux-5.15.167.4-microsoft-standard-WSL2-x86_64-with-glibc2.31\r\n"
     ]
    },
    {
     "name": "stdout",
     "output_type": "stream",
     "text": [
      "\u001b[0m07:47:20  Using profiles dir at /root/.dbt\r\n",
      "\u001b[0m07:47:20  Using profiles.yml file at /root/.dbt/profiles.yml\r\n",
      "\u001b[0m07:47:20  Using dbt_project.yml file at /usr/app/dbt/dbt_spark_demo_prj/dbt_project.yml\r\n",
      "\u001b[0m07:47:20  adapter type: spark\r\n",
      "\u001b[0m07:47:20  adapter version: 1.9.2\r\n"
     ]
    },
    {
     "name": "stdout",
     "output_type": "stream",
     "text": [
      "\u001b[0m07:47:21  Configuration:\r\n",
      "\u001b[0m07:47:21    profiles.yml file [\u001b[32mOK found and valid\u001b[0m]\r\n",
      "\u001b[0m07:47:21    dbt_project.yml file [\u001b[32mOK found and valid\u001b[0m]\r\n",
      "\u001b[0m07:47:21  Required dependencies:\r\n",
      "\u001b[0m07:47:21   - git [\u001b[32mOK found\u001b[0m]\r\n",
      "\r\n"
     ]
    },
    {
     "name": "stdout",
     "output_type": "stream",
     "text": [
      "\u001b[0m07:47:21  Connection:\r\n",
      "\u001b[0m07:47:21    host: dbt-spark3-thrift\r\n",
      "\u001b[0m07:47:21    port: 10000\r\n",
      "\u001b[0m07:47:21    cluster: None\r\n",
      "\u001b[0m07:47:21    endpoint: None\r\n",
      "\u001b[0m07:47:21    schema: default\r\n",
      "\u001b[0m07:47:21    organization: 0\r\n",
      "\u001b[0m07:47:21  Registered adapter: spark=1.9.2\r\n"
     ]
    },
    {
     "name": "stdout",
     "output_type": "stream",
     "text": [
      "\u001b[0m07:47:21    Connection test: [\u001b[32mOK connection ok\u001b[0m]\r\n",
      "\r\n",
      "\u001b[0m07:47:21  \u001b[32mAll checks passed!\u001b[0m\r\n"
     ]
    }
   ],
   "source": [
    "!dbt debug --project-dir /usr/app/dbt/dbt_spark_demo_prj\n",
    "\n",
    "#to print detailed messages for debugging \n",
    "#!dbt debug --debug --project-dir /usr/app/dbt/dbt_spark_demo_prj"
   ]
  },
  {
   "cell_type": "markdown",
   "id": "6788bb54",
   "metadata": {
    "papermill": {
     "duration": 0.014369,
     "end_time": "2025-06-30T07:47:23.246545",
     "exception": false,
     "start_time": "2025-06-30T07:47:23.232176",
     "status": "completed"
    },
    "tags": []
   },
   "source": [
    "## dbt command comparisons\n",
    "| Command           | Purpose                                  | What it does                                                             | Output                                    |\n",
    "| ----------------- | ---------------------------------------- | ------------------------------------------------------------------------ | ----------------------------------------- |\n",
    "| **`dbt compile`** | Prepares SQL code for execution          | Converts Jinja + macros into raw SQL; writes compiled files to `target/` | Compiled SQL files (no warehouse changes) |\n",
    "| **`dbt run`**     | Builds models (tables/views)             | Executes compiled SQL to materialize models in the data warehouse        | Tables/views in the warehouse             |\n",
    "| **`dbt test`**    | Validates data quality assumptions       | Runs data tests (e.g., `not_null`, `unique`, custom) on warehouse data   | Test pass/fail results                    |\n",
    "| **`dbt seed`**    | Loads static CSV data into the warehouse | Uploads CSV files from the `seeds/` directory into tables                 | Tables containing seed data               |\n"
   ]
  },
  {
   "cell_type": "markdown",
   "id": "46c7b25b",
   "metadata": {
    "papermill": {
     "duration": 0.014458,
     "end_time": "2025-06-30T07:47:23.275699",
     "exception": false,
     "start_time": "2025-06-30T07:47:23.261241",
     "status": "completed"
    },
    "tags": []
   },
   "source": [
    "# Prepare SQL"
   ]
  },
  {
   "cell_type": "markdown",
   "id": "328b5522",
   "metadata": {
    "papermill": {
     "duration": 0.015493,
     "end_time": "2025-06-30T07:47:23.306462",
     "exception": false,
     "start_time": "2025-06-30T07:47:23.290969",
     "status": "completed"
    },
    "tags": []
   },
   "source": [
    "## Read dbt input csv \n",
    "\n",
    "* read seeds/transactions.csv, \n",
    "* dbt generate raw__transaction.csv\n",
    "* dbt create table default.raw_transaction at the database "
   ]
  },
  {
   "cell_type": "markdown",
   "id": "331b109e",
   "metadata": {
    "papermill": {
     "duration": 0.015618,
     "end_time": "2025-06-30T07:47:23.336488",
     "exception": false,
     "start_time": "2025-06-30T07:47:23.320870",
     "status": "completed"
    },
    "tags": []
   },
   "source": [
    "### Verify database before the operation"
   ]
  },
  {
   "cell_type": "code",
   "execution_count": 12,
   "id": "6c4e3091",
   "metadata": {
    "execution": {
     "iopub.execute_input": "2025-06-30T07:47:23.369134Z",
     "iopub.status.busy": "2025-06-30T07:47:23.368325Z",
     "iopub.status.idle": "2025-06-30T07:47:36.011955Z",
     "shell.execute_reply": "2025-06-30T07:47:36.010256Z"
    },
    "papermill": {
     "duration": 12.662422,
     "end_time": "2025-06-30T07:47:36.014260",
     "exception": false,
     "start_time": "2025-06-30T07:47:23.351838",
     "status": "completed"
    },
    "tags": []
   },
   "outputs": [
    {
     "name": "stdout",
     "output_type": "stream",
     "text": [
      "\u001b[0m07:47:26  Running with dbt=1.10.2\r\n"
     ]
    },
    {
     "name": "stdout",
     "output_type": "stream",
     "text": [
      "\u001b[0m07:47:26  Registered adapter: spark=1.9.2\r\n"
     ]
    },
    {
     "name": "stdout",
     "output_type": "stream",
     "text": [
      "\u001b[0m07:47:27  Found 1 model, 1 test, 1 seed, 476 macros, 3 unit tests\r\n"
     ]
    },
    {
     "name": "stdout",
     "output_type": "stream",
     "text": [
      "\u001b[0m07:47:32  Running with dbt=1.10.2\r\n"
     ]
    },
    {
     "name": "stdout",
     "output_type": "stream",
     "text": [
      "\u001b[0m07:47:33  Registered adapter: spark=1.9.2\r\n"
     ]
    },
    {
     "name": "stdout",
     "output_type": "stream",
     "text": [
      "\u001b[0m07:47:33  Found 1 model, 1 test, 1 seed, 476 macros, 3 unit tests\r\n"
     ]
    }
   ],
   "source": [
    "!dbt run-operation drop_table --args '{\"table_name\": \"default.raw__transactions\"}'  \n",
    "!dbt run-operation drop_table --args '{\"table_name\": \"default.transactions\"}' "
   ]
  },
  {
   "cell_type": "code",
   "execution_count": 13,
   "id": "ff9ca4df",
   "metadata": {
    "execution": {
     "iopub.execute_input": "2025-06-30T07:47:36.047164Z",
     "iopub.status.busy": "2025-06-30T07:47:36.046612Z",
     "iopub.status.idle": "2025-06-30T07:47:44.246972Z",
     "shell.execute_reply": "2025-06-30T07:47:44.245339Z"
    },
    "papermill": {
     "duration": 8.219344,
     "end_time": "2025-06-30T07:47:44.249125",
     "exception": false,
     "start_time": "2025-06-30T07:47:36.029781",
     "status": "completed"
    },
    "tags": []
   },
   "outputs": [
    {
     "name": "stdout",
     "output_type": "stream",
     "text": [
      "Database table before the operation\n"
     ]
    },
    {
     "data": {
      "text/html": [
       "<div>\n",
       "<style scoped>\n",
       "    .dataframe tbody tr th:only-of-type {\n",
       "        vertical-align: middle;\n",
       "    }\n",
       "\n",
       "    .dataframe tbody tr th {\n",
       "        vertical-align: top;\n",
       "    }\n",
       "\n",
       "    .dataframe thead th {\n",
       "        text-align: right;\n",
       "    }\n",
       "</style>\n",
       "<table border=\"1\" class=\"dataframe\">\n",
       "  <thead>\n",
       "    <tr style=\"text-align: right;\">\n",
       "      <th></th>\n",
       "      <th>namespace</th>\n",
       "      <th>tableName</th>\n",
       "      <th>isTemporary</th>\n",
       "    </tr>\n",
       "  </thead>\n",
       "  <tbody>\n",
       "  </tbody>\n",
       "</table>\n",
       "</div>"
      ],
      "text/plain": [
       "Empty DataFrame\n",
       "Columns: [namespace, tableName, isTemporary]\n",
       "Index: []"
      ]
     },
     "metadata": {},
     "output_type": "display_data"
    },
    {
     "name": "stdout",
     "output_type": "stream",
     "text": [
      "\u001b[0m07:47:39  Running with dbt=1.10.2\r\n"
     ]
    },
    {
     "name": "stdout",
     "output_type": "stream",
     "text": [
      "\u001b[0m07:47:39  Registered adapter: spark=1.9.2\r\n"
     ]
    },
    {
     "name": "stdout",
     "output_type": "stream",
     "text": [
      "\u001b[0m07:47:40  Found 1 model, 1 test, 1 seed, 476 macros, 3 unit tests\r\n",
      "\u001b[0m07:47:40  \r\n",
      "\u001b[0m07:47:40  Concurrency: 1 threads (target='spark')\r\n",
      "\u001b[0m07:47:40  \r\n"
     ]
    },
    {
     "name": "stdout",
     "output_type": "stream",
     "text": [
      "\u001b[0m07:47:41  1 of 1 START seed file default.raw__transactions ............................... [RUN]\r\n"
     ]
    },
    {
     "name": "stdout",
     "output_type": "stream",
     "text": [
      "\u001b[0m07:47:42  1 of 1 OK loaded seed file default.raw__transactions ........................... [\u001b[32mINSERT 6\u001b[0m in 1.11s]\r\n"
     ]
    },
    {
     "name": "stdout",
     "output_type": "stream",
     "text": [
      "\u001b[0m07:47:42  \r\n",
      "\u001b[0m07:47:42  Finished running 1 seed in 0 hours 0 minutes and 1.56 seconds (1.56s).\r\n"
     ]
    },
    {
     "name": "stdout",
     "output_type": "stream",
     "text": [
      "\u001b[0m07:47:42  \r\n",
      "\u001b[0m07:47:42  \u001b[32mCompleted successfully\u001b[0m\r\n",
      "\u001b[0m07:47:42  \r\n",
      "\u001b[0m07:47:42  Done. PASS=1 WARN=0 ERROR=0 SKIP=0 NO-OP=0 TOTAL=1\r\n"
     ]
    },
    {
     "name": "stdout",
     "output_type": "stream",
     "text": [
      "\n",
      "Database table after the operation\n"
     ]
    },
    {
     "data": {
      "text/html": [
       "<div>\n",
       "<style scoped>\n",
       "    .dataframe tbody tr th:only-of-type {\n",
       "        vertical-align: middle;\n",
       "    }\n",
       "\n",
       "    .dataframe tbody tr th {\n",
       "        vertical-align: top;\n",
       "    }\n",
       "\n",
       "    .dataframe thead th {\n",
       "        text-align: right;\n",
       "    }\n",
       "</style>\n",
       "<table border=\"1\" class=\"dataframe\">\n",
       "  <thead>\n",
       "    <tr style=\"text-align: right;\">\n",
       "      <th></th>\n",
       "      <th>namespace</th>\n",
       "      <th>tableName</th>\n",
       "      <th>isTemporary</th>\n",
       "    </tr>\n",
       "  </thead>\n",
       "  <tbody>\n",
       "    <tr>\n",
       "      <th>0</th>\n",
       "      <td>default</td>\n",
       "      <td>raw__transactions</td>\n",
       "      <td>False</td>\n",
       "    </tr>\n",
       "  </tbody>\n",
       "</table>\n",
       "</div>"
      ],
      "text/plain": [
       "  namespace          tableName  isTemporary\n",
       "0   default  raw__transactions        False"
      ]
     },
     "metadata": {},
     "output_type": "display_data"
    }
   ],
   "source": [
    "check_table(message_to_be_printed=\"Database table before the operation\")\n",
    "!dbt seed --log-level info --project-dir $dbt_project_dir\n",
    "check_table(message_to_be_printed=\"\\nDatabase table after the operation\")"
   ]
  },
  {
   "cell_type": "markdown",
   "id": "99518976",
   "metadata": {
    "papermill": {
     "duration": 0.017484,
     "end_time": "2025-06-30T07:47:44.283650",
     "exception": false,
     "start_time": "2025-06-30T07:47:44.266166",
     "status": "completed"
    },
    "tags": []
   },
   "source": [
    "## dbt compile"
   ]
  },
  {
   "cell_type": "markdown",
   "id": "299472eb",
   "metadata": {
    "papermill": {
     "duration": 0.016248,
     "end_time": "2025-06-30T07:47:44.316636",
     "exception": false,
     "start_time": "2025-06-30T07:47:44.300388",
     "status": "completed"
    },
    "tags": []
   },
   "source": [
    "#### removed target/compiled/"
   ]
  },
  {
   "cell_type": "code",
   "execution_count": 14,
   "id": "be2451a9",
   "metadata": {
    "execution": {
     "iopub.execute_input": "2025-06-30T07:47:44.353138Z",
     "iopub.status.busy": "2025-06-30T07:47:44.352266Z",
     "iopub.status.idle": "2025-06-30T07:47:45.607934Z",
     "shell.execute_reply": "2025-06-30T07:47:45.605884Z"
    },
    "papermill": {
     "duration": 1.277136,
     "end_time": "2025-06-30T07:47:45.610313",
     "exception": false,
     "start_time": "2025-06-30T07:47:44.333177",
     "status": "completed"
    },
    "tags": []
   },
   "outputs": [
    {
     "name": "stdout",
     "output_type": "stream",
     "text": [
      "ls: cannot access 'dbt_spark_demo_prj/target/compile': No such file or directory\r\n"
     ]
    }
   ],
   "source": [
    "!rm -rf dbt_spark_demo_prj/target/compiled/\n",
    "!ls dbt_spark_demo_prj/target/compile"
   ]
  },
  {
   "cell_type": "code",
   "execution_count": 15,
   "id": "e6d17db8",
   "metadata": {
    "execution": {
     "iopub.execute_input": "2025-06-30T07:47:45.646365Z",
     "iopub.status.busy": "2025-06-30T07:47:45.645558Z",
     "iopub.status.idle": "2025-06-30T07:47:46.262115Z",
     "shell.execute_reply": "2025-06-30T07:47:46.259945Z"
    },
    "papermill": {
     "duration": 0.637295,
     "end_time": "2025-06-30T07:47:46.264551",
     "exception": false,
     "start_time": "2025-06-30T07:47:45.627256",
     "status": "completed"
    },
    "tags": []
   },
   "outputs": [
    {
     "name": "stdout",
     "output_type": "stream",
     "text": [
      "dbt_project.yml  logs  macros  models  seeds  target  tests\r\n"
     ]
    }
   ],
   "source": [
    "!ls $dbt_project_dir"
   ]
  },
  {
   "cell_type": "code",
   "execution_count": 16,
   "id": "7789867d",
   "metadata": {
    "execution": {
     "iopub.execute_input": "2025-06-30T07:47:46.318875Z",
     "iopub.status.busy": "2025-06-30T07:47:46.317893Z",
     "iopub.status.idle": "2025-06-30T07:47:53.219407Z",
     "shell.execute_reply": "2025-06-30T07:47:53.217617Z"
    },
    "papermill": {
     "duration": 6.928729,
     "end_time": "2025-06-30T07:47:53.222070",
     "exception": false,
     "start_time": "2025-06-30T07:47:46.293341",
     "status": "completed"
    },
    "tags": []
   },
   "outputs": [
    {
     "name": "stdout",
     "output_type": "stream",
     "text": [
      "\u001b[0m07:47:49  Running with dbt=1.10.2\r\n"
     ]
    },
    {
     "name": "stdout",
     "output_type": "stream",
     "text": [
      "\u001b[0m07:47:50  Registered adapter: spark=1.9.2\r\n"
     ]
    },
    {
     "name": "stdout",
     "output_type": "stream",
     "text": [
      "\u001b[0m07:47:50  Found 1 model, 1 test, 1 seed, 476 macros, 3 unit tests\r\n",
      "\u001b[0m07:47:50  \r\n",
      "\u001b[0m07:47:50  Concurrency: 1 threads (target='spark')\r\n",
      "\u001b[0m07:47:50  \r\n"
     ]
    }
   ],
   "source": [
    "!dbt compile --log-level info --project-dir $dbt_project_dir"
   ]
  },
  {
   "cell_type": "code",
   "execution_count": 17,
   "id": "2075b987",
   "metadata": {
    "execution": {
     "iopub.execute_input": "2025-06-30T07:47:53.259749Z",
     "iopub.status.busy": "2025-06-30T07:47:53.257982Z",
     "iopub.status.idle": "2025-06-30T07:47:53.888832Z",
     "shell.execute_reply": "2025-06-30T07:47:53.887020Z"
    },
    "papermill": {
     "duration": 0.652738,
     "end_time": "2025-06-30T07:47:53.891896",
     "exception": false,
     "start_time": "2025-06-30T07:47:53.239158",
     "status": "completed"
    },
    "tags": []
   },
   "outputs": [
    {
     "name": "stdout",
     "output_type": "stream",
     "text": [
      "models\ttests\r\n"
     ]
    }
   ],
   "source": [
    "!ls /usr/app/dbt/dbt_spark_demo_prj/target/compiled/dbt_spark_demo_prj"
   ]
  },
  {
   "cell_type": "markdown",
   "id": "285c8f3a",
   "metadata": {
    "papermill": {
     "duration": 0.017307,
     "end_time": "2025-06-30T07:47:53.930169",
     "exception": false,
     "start_time": "2025-06-30T07:47:53.912862",
     "status": "completed"
    },
    "tags": []
   },
   "source": [
    "## Build your models (dbt run)"
   ]
  },
  {
   "cell_type": "markdown",
   "id": "82e5d338",
   "metadata": {
    "papermill": {
     "duration": 0.017222,
     "end_time": "2025-06-30T07:47:53.965261",
     "exception": false,
     "start_time": "2025-06-30T07:47:53.948039",
     "status": "completed"
    },
    "tags": []
   },
   "source": [
    "## Delete database table prior dbt run that will create the table"
   ]
  },
  {
   "cell_type": "code",
   "execution_count": 18,
   "id": "49dad449",
   "metadata": {
    "execution": {
     "iopub.execute_input": "2025-06-30T07:47:54.011870Z",
     "iopub.status.busy": "2025-06-30T07:47:54.011030Z",
     "iopub.status.idle": "2025-06-30T07:48:00.462885Z",
     "shell.execute_reply": "2025-06-30T07:48:00.461275Z"
    },
    "papermill": {
     "duration": 6.477644,
     "end_time": "2025-06-30T07:48:00.465306",
     "exception": false,
     "start_time": "2025-06-30T07:47:53.987662",
     "status": "completed"
    },
    "tags": []
   },
   "outputs": [
    {
     "name": "stdout",
     "output_type": "stream",
     "text": [
      "before\n"
     ]
    },
    {
     "data": {
      "text/html": [
       "<div>\n",
       "<style scoped>\n",
       "    .dataframe tbody tr th:only-of-type {\n",
       "        vertical-align: middle;\n",
       "    }\n",
       "\n",
       "    .dataframe tbody tr th {\n",
       "        vertical-align: top;\n",
       "    }\n",
       "\n",
       "    .dataframe thead th {\n",
       "        text-align: right;\n",
       "    }\n",
       "</style>\n",
       "<table border=\"1\" class=\"dataframe\">\n",
       "  <thead>\n",
       "    <tr style=\"text-align: right;\">\n",
       "      <th></th>\n",
       "      <th>namespace</th>\n",
       "      <th>tableName</th>\n",
       "      <th>isTemporary</th>\n",
       "    </tr>\n",
       "  </thead>\n",
       "  <tbody>\n",
       "    <tr>\n",
       "      <th>0</th>\n",
       "      <td>default</td>\n",
       "      <td>raw__transactions</td>\n",
       "      <td>False</td>\n",
       "    </tr>\n",
       "  </tbody>\n",
       "</table>\n",
       "</div>"
      ],
      "text/plain": [
       "  namespace          tableName  isTemporary\n",
       "0   default  raw__transactions        False"
      ]
     },
     "metadata": {},
     "output_type": "display_data"
    },
    {
     "name": "stdout",
     "output_type": "stream",
     "text": [
      "\u001b[0m07:47:57  Running with dbt=1.10.2\r\n"
     ]
    },
    {
     "name": "stdout",
     "output_type": "stream",
     "text": [
      "\u001b[0m07:47:57  Registered adapter: spark=1.9.2\r\n"
     ]
    },
    {
     "name": "stdout",
     "output_type": "stream",
     "text": [
      "\u001b[0m07:47:58  Found 1 model, 1 test, 1 seed, 476 macros, 3 unit tests\r\n"
     ]
    },
    {
     "name": "stdout",
     "output_type": "stream",
     "text": [
      "\n",
      "after\n"
     ]
    },
    {
     "data": {
      "text/html": [
       "<div>\n",
       "<style scoped>\n",
       "    .dataframe tbody tr th:only-of-type {\n",
       "        vertical-align: middle;\n",
       "    }\n",
       "\n",
       "    .dataframe tbody tr th {\n",
       "        vertical-align: top;\n",
       "    }\n",
       "\n",
       "    .dataframe thead th {\n",
       "        text-align: right;\n",
       "    }\n",
       "</style>\n",
       "<table border=\"1\" class=\"dataframe\">\n",
       "  <thead>\n",
       "    <tr style=\"text-align: right;\">\n",
       "      <th></th>\n",
       "      <th>namespace</th>\n",
       "      <th>tableName</th>\n",
       "      <th>isTemporary</th>\n",
       "    </tr>\n",
       "  </thead>\n",
       "  <tbody>\n",
       "    <tr>\n",
       "      <th>0</th>\n",
       "      <td>default</td>\n",
       "      <td>raw__transactions</td>\n",
       "      <td>False</td>\n",
       "    </tr>\n",
       "  </tbody>\n",
       "</table>\n",
       "</div>"
      ],
      "text/plain": [
       "  namespace          tableName  isTemporary\n",
       "0   default  raw__transactions        False"
      ]
     },
     "metadata": {},
     "output_type": "display_data"
    }
   ],
   "source": [
    "check_table(message_to_be_printed=\"before\")\n",
    "!dbt run-operation drop_table --args '{\"table_name\": \"default.transactions\"}'\n",
    "check_table(message_to_be_printed=\"\\nafter\")"
   ]
  },
  {
   "cell_type": "code",
   "execution_count": 19,
   "id": "bdf648b1",
   "metadata": {
    "execution": {
     "iopub.execute_input": "2025-06-30T07:48:00.508054Z",
     "iopub.status.busy": "2025-06-30T07:48:00.507185Z",
     "iopub.status.idle": "2025-06-30T07:48:16.261660Z",
     "shell.execute_reply": "2025-06-30T07:48:16.258966Z"
    },
    "papermill": {
     "duration": 15.779915,
     "end_time": "2025-06-30T07:48:16.266158",
     "exception": false,
     "start_time": "2025-06-30T07:48:00.486243",
     "status": "completed"
    },
    "tags": []
   },
   "outputs": [
    {
     "name": "stdout",
     "output_type": "stream",
     "text": [
      "\u001b[0m07:48:04  Running with dbt=1.10.2\r\n"
     ]
    },
    {
     "name": "stdout",
     "output_type": "stream",
     "text": [
      "\u001b[0m07:48:04  Registered adapter: spark=1.9.2\r\n"
     ]
    },
    {
     "name": "stdout",
     "output_type": "stream",
     "text": [
      "\u001b[0m07:48:05  Found 1 model, 1 test, 1 seed, 476 macros, 3 unit tests\r\n"
     ]
    },
    {
     "name": "stdout",
     "output_type": "stream",
     "text": [
      "before\n"
     ]
    },
    {
     "data": {
      "text/html": [
       "<div>\n",
       "<style scoped>\n",
       "    .dataframe tbody tr th:only-of-type {\n",
       "        vertical-align: middle;\n",
       "    }\n",
       "\n",
       "    .dataframe tbody tr th {\n",
       "        vertical-align: top;\n",
       "    }\n",
       "\n",
       "    .dataframe thead th {\n",
       "        text-align: right;\n",
       "    }\n",
       "</style>\n",
       "<table border=\"1\" class=\"dataframe\">\n",
       "  <thead>\n",
       "    <tr style=\"text-align: right;\">\n",
       "      <th></th>\n",
       "      <th>namespace</th>\n",
       "      <th>tableName</th>\n",
       "      <th>isTemporary</th>\n",
       "    </tr>\n",
       "  </thead>\n",
       "  <tbody>\n",
       "    <tr>\n",
       "      <th>0</th>\n",
       "      <td>default</td>\n",
       "      <td>raw__transactions</td>\n",
       "      <td>False</td>\n",
       "    </tr>\n",
       "  </tbody>\n",
       "</table>\n",
       "</div>"
      ],
      "text/plain": [
       "  namespace          tableName  isTemporary\n",
       "0   default  raw__transactions        False"
      ]
     },
     "metadata": {},
     "output_type": "display_data"
    },
    {
     "name": "stdout",
     "output_type": "stream",
     "text": [
      "\u001b[0m07:48:10  Running with dbt=1.10.2\r\n"
     ]
    },
    {
     "name": "stdout",
     "output_type": "stream",
     "text": [
      "\u001b[0m07:48:11  Registered adapter: spark=1.9.2\r\n"
     ]
    },
    {
     "name": "stdout",
     "output_type": "stream",
     "text": [
      "\u001b[0m07:48:12  Found 1 model, 1 test, 1 seed, 476 macros, 3 unit tests\r\n",
      "\u001b[0m07:48:12  \r\n",
      "\u001b[0m07:48:12  Concurrency: 1 threads (target='spark')\r\n",
      "\u001b[0m07:48:12  \r\n"
     ]
    },
    {
     "name": "stdout",
     "output_type": "stream",
     "text": [
      "\u001b[0m07:48:12  1 of 1 START sql table model default.transactions .............................. [RUN]\r\n"
     ]
    },
    {
     "name": "stdout",
     "output_type": "stream",
     "text": [
      "\u001b[0m07:48:13  1 of 1 OK created sql table model default.transactions ......................... [\u001b[32mOK\u001b[0m in 1.03s]\r\n"
     ]
    },
    {
     "name": "stdout",
     "output_type": "stream",
     "text": [
      "\u001b[0m07:48:13  \r\n",
      "\u001b[0m07:48:13  Finished running 1 table model in 0 hours 0 minutes and 1.46 seconds (1.46s).\r\n"
     ]
    },
    {
     "name": "stdout",
     "output_type": "stream",
     "text": [
      "\u001b[0m07:48:13  \r\n",
      "\u001b[0m07:48:13  \u001b[32mCompleted successfully\u001b[0m\r\n",
      "\u001b[0m07:48:13  \r\n",
      "\u001b[0m07:48:13  Done. PASS=1 WARN=0 ERROR=0 SKIP=0 NO-OP=0 TOTAL=1\r\n"
     ]
    },
    {
     "name": "stdout",
     "output_type": "stream",
     "text": [
      "\n",
      "After\n"
     ]
    },
    {
     "name": "stdout",
     "output_type": "stream",
     "text": [
      "\u001b[01;34m/usr/app/dbt/dbt_spark_demo_prj/target/run\u001b[00m\r\n",
      "└── \u001b[01;34mdbt_spark_demo_prj\u001b[00m\r\n",
      "    └── \u001b[01;34mmodels\u001b[00m\r\n",
      "        └── \u001b[01;34mtransactions\u001b[00m\r\n",
      "            └── transactions.sql\r\n",
      "\r\n",
      "3 directories, 1 file\r\n"
     ]
    },
    {
     "name": "stdout",
     "output_type": "stream",
     "text": [
      "after\n"
     ]
    },
    {
     "data": {
      "text/html": [
       "<div>\n",
       "<style scoped>\n",
       "    .dataframe tbody tr th:only-of-type {\n",
       "        vertical-align: middle;\n",
       "    }\n",
       "\n",
       "    .dataframe tbody tr th {\n",
       "        vertical-align: top;\n",
       "    }\n",
       "\n",
       "    .dataframe thead th {\n",
       "        text-align: right;\n",
       "    }\n",
       "</style>\n",
       "<table border=\"1\" class=\"dataframe\">\n",
       "  <thead>\n",
       "    <tr style=\"text-align: right;\">\n",
       "      <th></th>\n",
       "      <th>namespace</th>\n",
       "      <th>tableName</th>\n",
       "      <th>isTemporary</th>\n",
       "    </tr>\n",
       "  </thead>\n",
       "  <tbody>\n",
       "    <tr>\n",
       "      <th>0</th>\n",
       "      <td>default</td>\n",
       "      <td>raw__transactions</td>\n",
       "      <td>False</td>\n",
       "    </tr>\n",
       "    <tr>\n",
       "      <th>1</th>\n",
       "      <td>default</td>\n",
       "      <td>transactions</td>\n",
       "      <td>False</td>\n",
       "    </tr>\n",
       "  </tbody>\n",
       "</table>\n",
       "</div>"
      ],
      "text/plain": [
       "  namespace          tableName  isTemporary\n",
       "0   default  raw__transactions        False\n",
       "1   default       transactions        False"
      ]
     },
     "metadata": {},
     "output_type": "display_data"
    }
   ],
   "source": [
    "!rm -r $dbt_project_dir/target/run\n",
    "!dbt run-operation drop_table --args '{\"table_name\": \"default.transactions\"}' \n",
    "check_table(message_to_be_printed=\"before\")\n",
    "\n",
    "!dbt run --log-level info --project-dir $dbt_project_dir\n",
    "\n",
    "print(\"\\nAfter\")\n",
    "!tree $dbt_project_dir/target/run\n",
    "check_table(message_to_be_printed=\"after\")"
   ]
  },
  {
   "cell_type": "markdown",
   "id": "b5cf4b24",
   "metadata": {
    "papermill": {
     "duration": 0.042029,
     "end_time": "2025-06-30T07:48:16.343666",
     "exception": false,
     "start_time": "2025-06-30T07:48:16.301637",
     "status": "completed"
    },
    "tags": []
   },
   "source": [
    "## test model using dbt"
   ]
  },
  {
   "cell_type": "markdown",
   "id": "ebc3baeb",
   "metadata": {
    "papermill": {
     "duration": 0.029999,
     "end_time": "2025-06-30T07:48:16.404558",
     "exception": false,
     "start_time": "2025-06-30T07:48:16.374559",
     "status": "completed"
    },
    "tags": []
   },
   "source": [
    "#### test name and its test vectors"
   ]
  },
  {
   "cell_type": "code",
   "execution_count": 20,
   "id": "06dfaae6",
   "metadata": {
    "execution": {
     "iopub.execute_input": "2025-06-30T07:48:16.478875Z",
     "iopub.status.busy": "2025-06-30T07:48:16.477453Z",
     "iopub.status.idle": "2025-06-30T07:48:17.211236Z",
     "shell.execute_reply": "2025-06-30T07:48:17.209412Z"
    },
    "papermill": {
     "duration": 0.769734,
     "end_time": "2025-06-30T07:48:17.213539",
     "exception": false,
     "start_time": "2025-06-30T07:48:16.443805",
     "status": "completed"
    },
    "tags": []
   },
   "outputs": [
    {
     "name": "stdout",
     "output_type": "stream",
     "text": [
      "# tests/unit/test_transactions.yml\r\n",
      "\r\n",
      "version: 2\r\n",
      "unit_tests:\r\n",
      "  - name: test_currency_usd\r\n",
      "    model: transactions\r\n",
      "    given:\r\n",
      "      - input: ref('raw__transactions')\r\n",
      "        rows:\r\n",
      "          - {id: 1, amount: 100, currency: 'USD', status: 'ACTIVE'}\r\n",
      "    expect:\r\n",
      "      rows:\r\n",
      "        - {id: 1, amount_usd: 100, currency: 'USD', branch_marker: \"USD_BRANCH\"}\r\n",
      "\r\n",
      "  - name: test_currency_sgd\r\n",
      "    model: transactions\r\n",
      "    given:\r\n",
      "      - input: ref('raw__transactions')\r\n",
      "        rows:\r\n",
      "          - {id: 2, amount: 100, currency: 'SGD', status: 'ACTIVE'}\r\n",
      "    expect:\r\n",
      "      rows:\r\n",
      "        - {id: 2, amount_usd: 74, branch_marker: \"SGD_BRANCH\"}\r\n",
      "\r\n",
      "  - name: test_inactive\r\n",
      "    model: transactions\r\n",
      "    given:\r\n",
      "      - input: ref('raw__transactions')\r\n",
      "        rows:\r\n",
      "          - {id: 2, amount: 100, currency: 'SGD', status: 'INACTIVE'}\r\n",
      "    expect: \r\n",
      "      rows: []"
     ]
    }
   ],
   "source": [
    "!cat dbt_spark_demo_prj/tests/unit/test_transactions.yml"
   ]
  },
  {
   "cell_type": "markdown",
   "id": "31610ca8",
   "metadata": {
    "papermill": {
     "duration": 0.020015,
     "end_time": "2025-06-30T07:48:17.254735",
     "exception": false,
     "start_time": "2025-06-30T07:48:17.234720",
     "status": "completed"
    },
    "tags": []
   },
   "source": [
    "#### run test"
   ]
  },
  {
   "cell_type": "code",
   "execution_count": 21,
   "id": "c0c0834d",
   "metadata": {
    "execution": {
     "iopub.execute_input": "2025-06-30T07:48:17.303513Z",
     "iopub.status.busy": "2025-06-30T07:48:17.302871Z",
     "iopub.status.idle": "2025-06-30T07:48:26.540509Z",
     "shell.execute_reply": "2025-06-30T07:48:26.538916Z"
    },
    "papermill": {
     "duration": 9.268239,
     "end_time": "2025-06-30T07:48:26.542679",
     "exception": false,
     "start_time": "2025-06-30T07:48:17.274440",
     "status": "completed"
    },
    "tags": []
   },
   "outputs": [
    {
     "name": "stdout",
     "output_type": "stream",
     "text": [
      "\u001b[0m07:48:20  Running with dbt=1.10.2\n"
     ]
    },
    {
     "name": "stdout",
     "output_type": "stream",
     "text": [
      "\u001b[0m07:48:20  Registered adapter: spark=1.9.2\n"
     ]
    },
    {
     "name": "stdout",
     "output_type": "stream",
     "text": [
      "\u001b[0m07:48:21  Found 1 model, 1 test, 1 seed, 476 macros, 3 unit tests\n"
     ]
    },
    {
     "name": "stdout",
     "output_type": "stream",
     "text": [
      "\u001b[0m07:48:21  \n"
     ]
    },
    {
     "name": "stdout",
     "output_type": "stream",
     "text": [
      "\u001b[0m07:48:21  Concurrency: 1 threads (target='spark')\n",
      "\u001b[0m07:48:21  \n"
     ]
    },
    {
     "name": "stdout",
     "output_type": "stream",
     "text": [
      "\u001b[0m07:48:22  1 of 4 START test test_currency_coverage ....................................... [RUN]"
     ]
    },
    {
     "name": "stdout",
     "output_type": "stream",
     "text": [
      "\n"
     ]
    },
    {
     "name": "stdout",
     "output_type": "stream",
     "text": [
      "\u001b[0m07:48:22  1 of 4 PASS test_currency_coverage ............................................. [\u001b[32"
     ]
    },
    {
     "name": "stdout",
     "output_type": "stream",
     "text": [
      "mPASS\u001b[0m in 0.46s]\n"
     ]
    },
    {
     "name": "stdout",
     "output_type": "stream",
     "text": [
      "\u001b[0m07:48:22  2 of 4 START unit_test transactions::test_currency_sgd ......................... [RUN]"
     ]
    },
    {
     "name": "stdout",
     "output_type": "stream",
     "text": [
      "\n"
     ]
    },
    {
     "name": "stdout",
     "output_type": "stream",
     "text": [
      "\u001b[0m07:48:23  2 of 4 PASS transactions::test_currency_sgd .................................... [\u001b[32"
     ]
    },
    {
     "name": "stdout",
     "output_type": "stream",
     "text": [
      "mPASS\u001b[0m in 0.97s]\n"
     ]
    },
    {
     "name": "stdout",
     "output_type": "stream",
     "text": [
      "\u001b[0m07:48:23  3 of 4 START unit_test transactions::test_currency_usd ......................... [RUN]"
     ]
    },
    {
     "name": "stdout",
     "output_type": "stream",
     "text": [
      "\n"
     ]
    },
    {
     "name": "stdout",
     "output_type": "stream",
     "text": [
      "\u001b[0m07:48:24  3 of 4 PASS transactions::test_currency_usd .................................... [\u001b[32"
     ]
    },
    {
     "name": "stdout",
     "output_type": "stream",
     "text": [
      "mPASS\u001b[0m in 0.57s]\n"
     ]
    },
    {
     "name": "stdout",
     "output_type": "stream",
     "text": [
      "\u001b[0m07:48:24  4 of 4 START unit_test transactions::test_inactive ............................. [RUN]"
     ]
    },
    {
     "name": "stdout",
     "output_type": "stream",
     "text": [
      "\n"
     ]
    },
    {
     "name": "stdout",
     "output_type": "stream",
     "text": [
      "\u001b[0m07:48:24  4 of 4 PASS transactions::test_inactive ........................................ [\u001b[32"
     ]
    },
    {
     "name": "stdout",
     "output_type": "stream",
     "text": [
      "mPASS\u001b[0m in 0.60s]\n"
     ]
    },
    {
     "name": "stdout",
     "output_type": "stream",
     "text": [
      "\u001b[0m07:48:24  \n"
     ]
    },
    {
     "name": "stdout",
     "output_type": "stream",
     "text": [
      "\u001b[0m07:48:24  Finished running 1 test, 3 unit tests in 0 hours 0 minutes and 2.95 seconds (2.95s).\n"
     ]
    },
    {
     "name": "stdout",
     "output_type": "stream",
     "text": [
      "\u001b[0m07:48:24  \n"
     ]
    },
    {
     "name": "stdout",
     "output_type": "stream",
     "text": [
      "\u001b[0m07:48:24  \u001b[32mCompleted successfully\u001b[0m\n"
     ]
    },
    {
     "name": "stdout",
     "output_type": "stream",
     "text": [
      "\u001b[0m07:48:24  \n"
     ]
    },
    {
     "name": "stdout",
     "output_type": "stream",
     "text": [
      "\u001b[0m07:48:24  Done. PASS=4 WARN=0 ERROR=0 SKIP=0 NO-OP=0 TOTAL=4\n"
     ]
    }
   ],
   "source": [
    "%%bash\n",
    "export DBT_PROJECT_DIR=/usr/app/dbt/dbt_spark_demo_prj\n",
    "dbt test --log-level info"
   ]
  },
  {
   "cell_type": "code",
   "execution_count": 22,
   "id": "2321bb74",
   "metadata": {
    "execution": {
     "iopub.execute_input": "2025-06-30T07:48:26.592440Z",
     "iopub.status.busy": "2025-06-30T07:48:26.591713Z",
     "iopub.status.idle": "2025-06-30T07:48:27.244422Z",
     "shell.execute_reply": "2025-06-30T07:48:27.242586Z"
    },
    "papermill": {
     "duration": 0.679819,
     "end_time": "2025-06-30T07:48:27.247172",
     "exception": false,
     "start_time": "2025-06-30T07:48:26.567353",
     "status": "completed"
    },
    "tags": []
   },
   "outputs": [],
   "source": [
    "!chmod -R a+rw /usr/app"
   ]
  },
  {
   "cell_type": "code",
   "execution_count": 23,
   "id": "c28d80c5",
   "metadata": {
    "execution": {
     "iopub.execute_input": "2025-06-30T07:48:27.297589Z",
     "iopub.status.busy": "2025-06-30T07:48:27.296689Z",
     "iopub.status.idle": "2025-06-30T07:48:28.828797Z",
     "shell.execute_reply": "2025-06-30T07:48:28.826296Z"
    },
    "papermill": {
     "duration": 1.559159,
     "end_time": "2025-06-30T07:48:28.831909",
     "exception": false,
     "start_time": "2025-06-30T07:48:27.272750",
     "status": "completed"
    },
    "tags": []
   },
   "outputs": [
    {
     "name": "stdout",
     "output_type": "stream",
     "text": [
      "Mon Jun 30 07:48:27 UTC 2025\r\n"
     ]
    }
   ],
   "source": [
    "filepath=\"/usr/app/demo/results/test_end.txt\"\n",
    "!date; echo end test at > $filepath \n",
    "!export TZ='Asia/Singapore'; date >> $filepath;"
   ]
  },
  {
   "cell_type": "code",
   "execution_count": 24,
   "id": "9b840cc5",
   "metadata": {
    "execution": {
     "iopub.execute_input": "2025-06-30T07:48:28.906504Z",
     "iopub.status.busy": "2025-06-30T07:48:28.904437Z",
     "iopub.status.idle": "2025-06-30T07:48:28.914217Z",
     "shell.execute_reply": "2025-06-30T07:48:28.911923Z"
    },
    "papermill": {
     "duration": 0.049052,
     "end_time": "2025-06-30T07:48:28.917037",
     "exception": false,
     "start_time": "2025-06-30T07:48:28.867985",
     "status": "completed"
    },
    "tags": []
   },
   "outputs": [],
   "source": [
    "# assert False, \"Stop execution here!\""
   ]
  },
  {
   "cell_type": "markdown",
   "id": "6ebe7ae3",
   "metadata": {
    "papermill": {
     "duration": 0.026325,
     "end_time": "2025-06-30T07:48:28.974454",
     "exception": false,
     "start_time": "2025-06-30T07:48:28.948129",
     "status": "completed"
    },
    "tags": []
   },
   "source": [
    "# Apendix"
   ]
  },
  {
   "cell_type": "markdown",
   "id": "91f84536",
   "metadata": {
    "papermill": {
     "duration": 0.02886,
     "end_time": "2025-06-30T07:48:29.028201",
     "exception": false,
     "start_time": "2025-06-30T07:48:28.999341",
     "status": "completed"
    },
    "tags": []
   },
   "source": [
    "## check the model built "
   ]
  },
  {
   "cell_type": "markdown",
   "id": "f57448e7",
   "metadata": {
    "papermill": {
     "duration": 0.026997,
     "end_time": "2025-06-30T07:48:29.083194",
     "exception": false,
     "start_time": "2025-06-30T07:48:29.056197",
     "status": "completed"
    },
    "tags": []
   },
   "source": [
    "### Check the model built using Pyspark (In progress)"
   ]
  },
  {
   "cell_type": "code",
   "execution_count": 25,
   "id": "32863689",
   "metadata": {
    "execution": {
     "iopub.execute_input": "2025-06-30T07:48:29.146045Z",
     "iopub.status.busy": "2025-06-30T07:48:29.145416Z",
     "iopub.status.idle": "2025-06-30T07:48:29.152581Z",
     "shell.execute_reply": "2025-06-30T07:48:29.150869Z"
    },
    "papermill": {
     "duration": 0.043805,
     "end_time": "2025-06-30T07:48:29.154822",
     "exception": false,
     "start_time": "2025-06-30T07:48:29.111017",
     "status": "completed"
    },
    "tags": []
   },
   "outputs": [],
   "source": [
    "# !pip install pyspark==3.3.2"
   ]
  },
  {
   "cell_type": "code",
   "execution_count": 26,
   "id": "87f91e66",
   "metadata": {
    "execution": {
     "iopub.execute_input": "2025-06-30T07:48:29.212563Z",
     "iopub.status.busy": "2025-06-30T07:48:29.211510Z",
     "iopub.status.idle": "2025-06-30T07:48:29.219434Z",
     "shell.execute_reply": "2025-06-30T07:48:29.217605Z"
    },
    "papermill": {
     "duration": 0.039178,
     "end_time": "2025-06-30T07:48:29.222051",
     "exception": false,
     "start_time": "2025-06-30T07:48:29.182873",
     "status": "completed"
    },
    "tags": []
   },
   "outputs": [],
   "source": [
    "# %%bash\n",
    "# # For Debian/Ubuntu-based containers:\n",
    "# apt-get update && apt-get install -y openjdk-11-jdk\n",
    "\n",
    "# # For Alpine-based containers:\n",
    "# apk add openjdk11"
   ]
  },
  {
   "cell_type": "code",
   "execution_count": 27,
   "id": "67c39001",
   "metadata": {
    "execution": {
     "iopub.execute_input": "2025-06-30T07:48:29.287117Z",
     "iopub.status.busy": "2025-06-30T07:48:29.285809Z",
     "iopub.status.idle": "2025-06-30T07:48:29.294638Z",
     "shell.execute_reply": "2025-06-30T07:48:29.292554Z"
    },
    "papermill": {
     "duration": 0.045743,
     "end_time": "2025-06-30T07:48:29.297178",
     "exception": false,
     "start_time": "2025-06-30T07:48:29.251435",
     "status": "completed"
    },
    "tags": []
   },
   "outputs": [],
   "source": [
    "# !ls /usr/lib/jvm/java-11-openjdk-amd64"
   ]
  },
  {
   "cell_type": "code",
   "execution_count": 28,
   "id": "ff2863d3",
   "metadata": {
    "execution": {
     "iopub.execute_input": "2025-06-30T07:48:29.372483Z",
     "iopub.status.busy": "2025-06-30T07:48:29.371574Z",
     "iopub.status.idle": "2025-06-30T07:48:29.381186Z",
     "shell.execute_reply": "2025-06-30T07:48:29.378856Z"
    },
    "papermill": {
     "duration": 0.054883,
     "end_time": "2025-06-30T07:48:29.384967",
     "exception": false,
     "start_time": "2025-06-30T07:48:29.330084",
     "status": "completed"
    },
    "tags": []
   },
   "outputs": [],
   "source": [
    "# # !. /usr/spark/bin/load-spark-env.sh\n",
    "\n",
    "# # Typically in Debian/Ubuntu:\n",
    "# !export JAVA_HOME=$(dirname $(dirname $(readlink -f $(which java))))\n",
    "\n",
    "# # Or set it explicitly:\n",
    "# !export JAVA_HOME=/usr/lib/jvm/java-11-openjdk-amd64\n",
    "# from pyspark.sql import SparkSession\n",
    "\n",
    "# spark = SparkSession.builder \\\n",
    "#     .appName(\"dbt_clean\") \\\n",
    "#     .config(\"spark.hadoop.hive.metastore.schema.verification\", \"true\") \\\n",
    "#     .config(\"spark.sql.catalogImplementation\", \"hive\") \\\n",
    "#     .enableHiveSupport() \\\n",
    "#     .getOrCreate()\n",
    "\n",
    "# # spark = SparkSession.builder \\\n",
    "# #     .config(\"hive.metastore.uris\", \"thrift://dbt-hive-metastore:10000\") \\\n",
    "# #     .config(\"spark.sql.catalogImplementation\", \"hive\") \\\n",
    "# #     .enableHiveSupport() \\\n",
    "# #     .getOrCreate()\n",
    "\n",
    "# spark.sql(\"USE default\")  # Or your specific database\n",
    "# spark.sql(\"SHOW DATABASES\").show()\n",
    "# # spark.sql(\"select * from transactions\").show()\n",
    "# # # df.toPandas()"
   ]
  },
  {
   "cell_type": "code",
   "execution_count": 29,
   "id": "b054f4f4",
   "metadata": {
    "execution": {
     "iopub.execute_input": "2025-06-30T07:48:29.468944Z",
     "iopub.status.busy": "2025-06-30T07:48:29.467660Z",
     "iopub.status.idle": "2025-06-30T07:48:29.477052Z",
     "shell.execute_reply": "2025-06-30T07:48:29.474972Z"
    },
    "papermill": {
     "duration": 0.056706,
     "end_time": "2025-06-30T07:48:29.481215",
     "exception": false,
     "start_time": "2025-06-30T07:48:29.424509",
     "status": "completed"
    },
    "tags": []
   },
   "outputs": [],
   "source": [
    "# spark.sql(\"SHOW TABLES IN default\").show(truncate=False)"
   ]
  },
  {
   "cell_type": "code",
   "execution_count": 30,
   "id": "d2477376",
   "metadata": {
    "execution": {
     "iopub.execute_input": "2025-06-30T07:48:29.595264Z",
     "iopub.status.busy": "2025-06-30T07:48:29.593800Z",
     "iopub.status.idle": "2025-06-30T07:48:29.605188Z",
     "shell.execute_reply": "2025-06-30T07:48:29.601992Z"
    },
    "papermill": {
     "duration": 0.073,
     "end_time": "2025-06-30T07:48:29.608730",
     "exception": false,
     "start_time": "2025-06-30T07:48:29.535730",
     "status": "completed"
    },
    "tags": []
   },
   "outputs": [],
   "source": [
    "# # Query metastore system tables\n",
    "# spark.sql(\"\"\"\n",
    "#   SELECT TBL_NAME, TBL_TYPE \n",
    "#   FROM default.TBLS \n",
    "#   JOIN default.DBS ON TBLS.DB_ID = DBS.DB_ID \n",
    "#   WHERE DBS.NAME = 'default'\n",
    "# \"\"\").show(truncate=False)"
   ]
  },
  {
   "cell_type": "code",
   "execution_count": 31,
   "id": "04c7f91a",
   "metadata": {
    "execution": {
     "iopub.execute_input": "2025-06-30T07:48:29.721091Z",
     "iopub.status.busy": "2025-06-30T07:48:29.719913Z",
     "iopub.status.idle": "2025-06-30T07:48:29.732371Z",
     "shell.execute_reply": "2025-06-30T07:48:29.729584Z"
    },
    "papermill": {
     "duration": 0.080349,
     "end_time": "2025-06-30T07:48:29.737077",
     "exception": false,
     "start_time": "2025-06-30T07:48:29.656728",
     "status": "completed"
    },
    "tags": []
   },
   "outputs": [],
   "source": [
    "# spark.conf.get(\"hive.metastore.uris\")  # Should return your URI"
   ]
  },
  {
   "cell_type": "code",
   "execution_count": 32,
   "id": "30ef3800",
   "metadata": {
    "execution": {
     "iopub.execute_input": "2025-06-30T07:48:29.891254Z",
     "iopub.status.busy": "2025-06-30T07:48:29.889644Z",
     "iopub.status.idle": "2025-06-30T07:48:29.903756Z",
     "shell.execute_reply": "2025-06-30T07:48:29.898400Z"
    },
    "papermill": {
     "duration": 0.103247,
     "end_time": "2025-06-30T07:48:29.907987",
     "exception": false,
     "start_time": "2025-06-30T07:48:29.804740",
     "status": "completed"
    },
    "tags": []
   },
   "outputs": [],
   "source": [
    "# spark.conf.get(\"spark.sql.catalogImplementation\")  # Should return \"hive\""
   ]
  },
  {
   "cell_type": "code",
   "execution_count": 33,
   "id": "91926ec3",
   "metadata": {
    "execution": {
     "iopub.execute_input": "2025-06-30T07:48:30.093871Z",
     "iopub.status.busy": "2025-06-30T07:48:30.091221Z",
     "iopub.status.idle": "2025-06-30T07:48:30.111144Z",
     "shell.execute_reply": "2025-06-30T07:48:30.107666Z"
    },
    "papermill": {
     "duration": 0.136097,
     "end_time": "2025-06-30T07:48:30.117926",
     "exception": false,
     "start_time": "2025-06-30T07:48:29.981829",
     "status": "completed"
    },
    "tags": []
   },
   "outputs": [],
   "source": [
    "# from pyspark.sql import SparkSession\n",
    "\n",
    "# spark.stop()\n",
    "# spark = SparkSession.builder \\\n",
    "#     .appName(\"DBTIntegration\") \\\n",
    "#     .config(\"hive.metastore.uris\", \"thrift://dbt-hive-metastore:9083\") \\\n",
    "#     .config(\"spark.sql.catalogImplementation\", \"hive\") \\\n",
    "#     .config(\"javax.jdo.option.ConnectionUserName\", \"dbt\") \\\n",
    "#     .config(\"javax.jdo.option.ConnectionPassword\", \"dbt\") \\\n",
    "#     .enableHiveSupport() \\\n",
    "#     .getOrCreate()\n",
    "# spark.sql(\"SHOW TABLES IN default\")"
   ]
  },
  {
   "cell_type": "code",
   "execution_count": 34,
   "id": "a34760ee",
   "metadata": {
    "execution": {
     "iopub.execute_input": "2025-06-30T07:48:30.308270Z",
     "iopub.status.busy": "2025-06-30T07:48:30.306278Z",
     "iopub.status.idle": "2025-06-30T07:48:30.320158Z",
     "shell.execute_reply": "2025-06-30T07:48:30.316663Z"
    },
    "papermill": {
     "duration": 0.108044,
     "end_time": "2025-06-30T07:48:30.325051",
     "exception": false,
     "start_time": "2025-06-30T07:48:30.217007",
     "status": "completed"
    },
    "tags": []
   },
   "outputs": [],
   "source": [
    "# from pyhive import hive\n",
    "# conn = hive.connect(host=spark_thrift_service_name, port=10000)\n",
    "# cursor = conn.cursor()\n",
    "# cursor.execute(\"SELECT * FROM default.transactions LIMIT 1\")\n",
    "# print(cursor.fetchall())"
   ]
  },
  {
   "cell_type": "markdown",
   "id": "ab2d2bd4",
   "metadata": {
    "papermill": {
     "duration": 0.084459,
     "end_time": "2025-06-30T07:48:30.500708",
     "exception": false,
     "start_time": "2025-06-30T07:48:30.416249",
     "status": "completed"
    },
    "tags": []
   },
   "source": [
    "### Test the built model (using the test model) "
   ]
  },
  {
   "cell_type": "markdown",
   "id": "0d6db6bf",
   "metadata": {
    "papermill": {
     "duration": 0.084446,
     "end_time": "2025-06-30T07:48:30.648920",
     "exception": false,
     "start_time": "2025-06-30T07:48:30.564474",
     "status": "completed"
    },
    "tags": []
   },
   "source": [
    "### dbt test"
   ]
  },
  {
   "cell_type": "code",
   "execution_count": 35,
   "id": "d95bbbdd",
   "metadata": {
    "execution": {
     "iopub.execute_input": "2025-06-30T07:48:30.783264Z",
     "iopub.status.busy": "2025-06-30T07:48:30.781383Z",
     "iopub.status.idle": "2025-06-30T07:48:42.542455Z",
     "shell.execute_reply": "2025-06-30T07:48:42.540173Z"
    },
    "papermill": {
     "duration": 11.822456,
     "end_time": "2025-06-30T07:48:42.545818",
     "exception": false,
     "start_time": "2025-06-30T07:48:30.723362",
     "status": "completed"
    },
    "tags": []
   },
   "outputs": [
    {
     "name": "stdout",
     "output_type": "stream",
     "text": [
      "\u001b[0m07:48:35  Running with dbt=1.10.2\r\n"
     ]
    },
    {
     "name": "stdout",
     "output_type": "stream",
     "text": [
      "\u001b[0m07:48:35  Registered adapter: spark=1.9.2\r\n"
     ]
    },
    {
     "name": "stdout",
     "output_type": "stream",
     "text": [
      "\u001b[0m07:48:36  Found 1 model, 1 test, 1 seed, 476 macros, 3 unit tests\r\n",
      "\u001b[0m07:48:36  \r\n",
      "\u001b[0m07:48:36  Concurrency: 1 threads (target='spark')\r\n",
      "\u001b[0m07:48:36  \r\n"
     ]
    },
    {
     "name": "stdout",
     "output_type": "stream",
     "text": [
      "\u001b[0m07:48:37  1 of 4 START test test_currency_coverage ....................................... [RUN]\r\n"
     ]
    },
    {
     "name": "stdout",
     "output_type": "stream",
     "text": [
      "\u001b[0m07:48:37  1 of 4 PASS test_currency_coverage ............................................. [\u001b[32mPASS\u001b[0m in 0.49s]\r\n",
      "\u001b[0m07:48:37  2 of 4 START unit_test transactions::test_currency_sgd ......................... [RUN]\r\n"
     ]
    },
    {
     "name": "stdout",
     "output_type": "stream",
     "text": [
      "\u001b[0m07:48:38  2 of 4 PASS transactions::test_currency_sgd .................................... [\u001b[32mPASS\u001b[0m in 0.92s]\r\n",
      "\u001b[0m07:48:38  3 of 4 START unit_test transactions::test_currency_usd ......................... [RUN]\r\n"
     ]
    },
    {
     "name": "stdout",
     "output_type": "stream",
     "text": [
      "\u001b[0m07:48:39  3 of 4 PASS transactions::test_currency_usd .................................... [\u001b[32mPASS\u001b[0m in 0.61s]\r\n",
      "\u001b[0m07:48:39  4 of 4 START unit_test transactions::test_inactive ............................. [RUN]\r\n"
     ]
    },
    {
     "name": "stdout",
     "output_type": "stream",
     "text": [
      "\u001b[0m07:48:39  4 of 4 PASS transactions::test_inactive ........................................ [\u001b[32mPASS\u001b[0m in 0.55s]\r\n"
     ]
    },
    {
     "name": "stdout",
     "output_type": "stream",
     "text": [
      "\u001b[0m07:48:39  \r\n",
      "\u001b[0m07:48:39  Finished running 1 test, 3 unit tests in 0 hours 0 minutes and 2.96 seconds (2.96s).\r\n"
     ]
    },
    {
     "name": "stdout",
     "output_type": "stream",
     "text": [
      "\u001b[0m07:48:40  \r\n",
      "\u001b[0m07:48:40  \u001b[32mCompleted successfully\u001b[0m\r\n",
      "\u001b[0m07:48:40  \r\n"
     ]
    },
    {
     "name": "stdout",
     "output_type": "stream",
     "text": [
      "\u001b[0m07:48:40  Done. PASS=4 WARN=0 ERROR=0 SKIP=0 NO-OP=0 TOTAL=4\r\n"
     ]
    }
   ],
   "source": [
    "!dbt test --log-level info"
   ]
  },
  {
   "cell_type": "code",
   "execution_count": 36,
   "id": "7cff9e94",
   "metadata": {
    "execution": {
     "iopub.execute_input": "2025-06-30T07:48:42.622374Z",
     "iopub.status.busy": "2025-06-30T07:48:42.621566Z",
     "iopub.status.idle": "2025-06-30T07:48:42.630630Z",
     "shell.execute_reply": "2025-06-30T07:48:42.628654Z"
    },
    "papermill": {
     "duration": 0.050738,
     "end_time": "2025-06-30T07:48:42.633975",
     "exception": false,
     "start_time": "2025-06-30T07:48:42.583237",
     "status": "completed"
    },
    "tags": []
   },
   "outputs": [],
   "source": [
    "# !cat /home/vin/01-prj/stripe/sql-formal-verification/formal_verification_prj_name/tests/unit/test_transactions.yml"
   ]
  },
  {
   "cell_type": "code",
   "execution_count": 37,
   "id": "60c204c0",
   "metadata": {
    "execution": {
     "iopub.execute_input": "2025-06-30T07:48:42.739394Z",
     "iopub.status.busy": "2025-06-30T07:48:42.738204Z",
     "iopub.status.idle": "2025-06-30T07:48:42.750333Z",
     "shell.execute_reply": "2025-06-30T07:48:42.746568Z"
    },
    "papermill": {
     "duration": 0.069297,
     "end_time": "2025-06-30T07:48:42.755016",
     "exception": false,
     "start_time": "2025-06-30T07:48:42.685719",
     "status": "completed"
    },
    "tags": []
   },
   "outputs": [],
   "source": [
    "# %%bash\n",
    "# cd /usr/app/dbt\n",
    "# dbt compile --profiles-dir /usr/app/dbt  --project-dir /usr/app/dbt/dbt_spark_demo_prj\n",
    "# # dbt run-operation drop_table --args '{\"table_name\": \"default.transactions\"}'\n",
    "# dbt run-operation drop_view --args '{\"view_name\": \"default.my_first_dbt_model\"}' --profiles-dir /usr/app/dbt  --project-dir /usr/app/dbt/dbt_spark_demo_prj\n",
    "# dbt run-operation drop_view --args '{\"view_name\": \"default.my_second_dbt_model\"}' --profiles-dir /usr/app/dbt  --project-dir /usr/app/dbt/dbt_spark_demo_prj"
   ]
  },
  {
   "cell_type": "markdown",
   "id": "c5dcb3be",
   "metadata": {
    "papermill": {
     "duration": 0.069853,
     "end_time": "2025-06-30T07:48:42.882127",
     "exception": false,
     "start_time": "2025-06-30T07:48:42.812274",
     "status": "completed"
    },
    "tags": []
   },
   "source": [
    "<!-- # Todo\n",
    "## Audit compliance \n",
    "### time tracing with time-stamping\n",
    "1. Add timestamp for loaded data using dbt model\n",
    "```jinja\n",
    "SELECT\n",
    "    *,\n",
    "    '{{ run_started_at }}'::timestamp AS added_at\n",
    "FROM {{ ref('my_seed_table') }}\n",
    "```\n",
    "### File tracing with source and targets file path, tablename -->\n"
   ]
  },
  {
   "cell_type": "markdown",
   "id": "5c25bb33",
   "metadata": {
    "papermill": {
     "duration": 0.045365,
     "end_time": "2025-06-30T07:48:42.977086",
     "exception": false,
     "start_time": "2025-06-30T07:48:42.931721",
     "status": "completed"
    },
    "tags": []
   },
   "source": [
    "# End of notebook"
   ]
  }
 ],
 "metadata": {
  "kernelspec": {
   "display_name": "venv",
   "language": "python",
   "name": "python3"
  },
  "language_info": {
   "codemirror_mode": {
    "name": "ipython",
    "version": 3
   },
   "file_extension": ".py",
   "mimetype": "text/x-python",
   "name": "python",
   "nbconvert_exporter": "python",
   "pygments_lexer": "ipython3",
   "version": "3.11.2"
  },
  "papermill": {
   "default_parameters": {},
   "duration": 99.591829,
   "end_time": "2025-06-30T07:48:43.872581",
   "environment_variables": {},
   "exception": null,
   "input_path": "/usr/app/demo/dbt-spark-demo.ipynb",
   "output_path": "/usr/app/demo/dbt-spark-demo.ipynb",
   "parameters": {},
   "start_time": "2025-06-30T07:47:04.280752",
   "version": "2.6.0"
  }
 },
 "nbformat": 4,
 "nbformat_minor": 5
}